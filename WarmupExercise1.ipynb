{
 "cells": [
  {
   "cell_type": "markdown",
   "metadata": {},
   "source": [
    "- Web Scraping and HTML Parsing\n",
    "\n",
    "- Regex & python string functions\n",
    "\n",
    "- Exception Handeling\n",
    "\n",
    "- File Operations\n",
    "\n",
    "- Processing dataframes (pandas) and playing with dataframe\n",
    "\n",
    "- Sentiment Analysis finally (Using textblob library)\n",
    "\n",
    "- Some interesting plots\n",
    "\n",
    "- Taken a small dataset so that everything can be transparent and it would be easy to follow\n",
    "\n",
    "- Experiment what data science cant solve for us and what it can be effective for"
   ]
  },
  {
   "cell_type": "markdown",
   "metadata": {},
   "source": [
    "The reference for web scraping was from following site:\n",
    "    https://www.nicholasrenotte.com/how-to-build-a-sentiment-analyser-for-yelp-reviews-in-python/"
   ]
  },
  {
   "cell_type": "code",
   "execution_count": 1,
   "metadata": {},
   "outputs": [],
   "source": [
    "from bs4 import BeautifulSoup as bs\n",
    "from urllib.request import urlopen  #urlopen is a function"
   ]
  },
  {
   "cell_type": "code",
   "execution_count": 2,
   "metadata": {},
   "outputs": [],
   "source": [
    "#Opening up connection and grabbing the content\n",
    "url = 'https://foursquare.com/explore?mode=url&near=Helsinki&nearGeoId=72057594038586161&q=Ice%20cream'\n",
    "req = urlopen(url)\n",
    "site = req.read()\n",
    "req.close()"
   ]
  },
  {
   "cell_type": "code",
   "execution_count": 3,
   "metadata": {},
   "outputs": [],
   "source": [
    "#HTML parsing\n",
    "page_bs = bs(site, \"html.parser\")"
   ]
  },
  {
   "cell_type": "markdown",
   "metadata": {},
   "source": [
    "Lets play around"
   ]
  },
  {
   "cell_type": "code",
   "execution_count": 4,
   "metadata": {},
   "outputs": [],
   "source": [
    "# page_bs.h1"
   ]
  },
  {
   "cell_type": "code",
   "execution_count": 5,
   "metadata": {},
   "outputs": [],
   "source": [
    "# page_bs.p"
   ]
  },
  {
   "cell_type": "code",
   "execution_count": 6,
   "metadata": {},
   "outputs": [],
   "source": [
    "# page_bs.body.span"
   ]
  },
  {
   "cell_type": "markdown",
   "metadata": {},
   "source": [
    "Now lets grab each product"
   ]
  },
  {
   "cell_type": "code",
   "execution_count": 7,
   "metadata": {},
   "outputs": [],
   "source": [
    "contentHolder = page_bs.findAll(\"div\",{\"class\":\"contentHolder\"})"
   ]
  },
  {
   "cell_type": "code",
   "execution_count": 8,
   "metadata": {},
   "outputs": [],
   "source": [
    "#type(contentHolder)"
   ]
  },
  {
   "cell_type": "code",
   "execution_count": 9,
   "metadata": {},
   "outputs": [],
   "source": [
    "#len(contentHolder)"
   ]
  },
  {
   "cell_type": "code",
   "execution_count": 10,
   "metadata": {},
   "outputs": [],
   "source": [
    "#content = contentHolder[0]"
   ]
  },
  {
   "cell_type": "code",
   "execution_count": 11,
   "metadata": {},
   "outputs": [],
   "source": [
    "#type(content)"
   ]
  },
  {
   "cell_type": "code",
   "execution_count": 12,
   "metadata": {},
   "outputs": [],
   "source": [
    "#content.a #Is actually the title of each div "
   ]
  },
  {
   "cell_type": "code",
   "execution_count": 13,
   "metadata": {},
   "outputs": [],
   "source": [
    "#content.a.text #Lets get the text only and remove all unnecessary tags"
   ]
  },
  {
   "cell_type": "markdown",
   "metadata": {},
   "source": [
    "That was the title now lets get some more stuffs"
   ]
  },
  {
   "cell_type": "code",
   "execution_count": 14,
   "metadata": {},
   "outputs": [],
   "source": [
    "#content.find(\"p\",{\"class\":\"tipText\"}).text"
   ]
  },
  {
   "cell_type": "code",
   "execution_count": 15,
   "metadata": {},
   "outputs": [],
   "source": [
    "# import re\n",
    "# content.find(\"div\", {\"class\":re.compile(r'venueScore')}).text"
   ]
  },
  {
   "cell_type": "code",
   "execution_count": 16,
   "metadata": {},
   "outputs": [
    {
     "name": "stdout",
     "output_type": "stream",
     "text": [
      "Title: Jädelino\n",
      "Reviews: Chili chocolate flavour to burn you and matcha tea flavour to extinguish you? Yes please! The best ice cream in town!\n",
      "Ratings: 9.3\n",
      "Title: Bus Gelato\n",
      "Reviews: Great Service good coffee and excellent artesan icecream\n",
      "Ratings: 8.8\n",
      "Title: Helsingin jäätelötehdas\n",
      "Reviews: One of my \"must go\" places in summer! I've tried every single ice cream they have and love them all. Try it! :)\n",
      "Ratings: 8.0\n",
      "Title: Helsingin Jäätelötehdas\n",
      "Reviews: Great ice cream. Comes at a price though\n",
      "Ratings: 7.9\n",
      "Title: Helsingin jäätelötehtaan kioski\n",
      "Reviews: Best ice cream by the biggest scoops I've tried in this town!\n",
      "Ratings: 7.8\n",
      "Title: Fazer Café\n",
      "Reviews: I have been coming here for many years great coffee food and ice cream.\n",
      "Ratings: 8.0\n",
      "Title: Käpylän Lippakioski\n",
      "Reviews: Good coffee brilliant ice-cream nice hippie-like atmosphere:)!\n",
      "Ratings: 7.8\n",
      "Title: Magnum Helsinki\n",
      "Reviews: Excellent Ice Cream with a speciaö twist\n",
      "Ratings: 7.5\n",
      "Title: Café Vanille\n",
      "Reviews: Cute kind of authentic place. Nice Finnish pastries and sandwiches. Not too expensive with friendly service. Free coffee refills !\n",
      "Ratings: 7.7\n",
      "Title: Robert's Coffee Gelato Factory\n",
      "Reviews: They have fabulous vegan ice cream too. Try pistachio!\n",
      "Ratings: 7.3\n",
      "Title: Jäätelökahvila Paja\n",
      "Reviews: Ice cream pancakes\n",
      "Ratings: 7.1\n",
      "Title: Helsingin Jäätelötehdas\n",
      "Reviews: Maraschinos on rusinoit buu!\n",
      "Ratings: 7.1\n",
      "Title: Ciao! Caffé\n",
      "Reviews: Good coffee and excellent gelato made in the premises !\n",
      "Ratings: 7.1\n",
      "Title: Munkkiniemen lippakioski\n",
      "Reviews: Free wlan and tasty icecream!\n",
      "Ratings: 6.7\n",
      "Title: Chjoko\n",
      "Reviews: Cute chocolate and ice cream place. They have also vegan oat milk ice cream (raspberry is yummy) and sorbet.\n",
      "Ratings: 8.4\n",
      "Title: Robert’s Coffee Gelato Factory\n",
      "Reviews: Worse lunch buffet than in esplanadi. No take your own ice cream on lunch. Boo.\n",
      "Ratings: 6.1\n",
      "Title: Sinisen huvilan kahvila\n",
      "Reviews: Take an ice cream and enjoy the view :)\n",
      "Ratings: 9.2\n",
      "Title: Ciao! Caffé\n",
      "Reviews: Very tasty ice cream with yoghurt :)\n",
      "Ratings: 5.9\n",
      "Title: Kahvila Sävy\n",
      "Reviews: Try the new \"Twitter McFlurry\" #delicious #doubleshot #affogato\n",
      "Ratings: 9.1\n",
      "Title: Sokerileipuri Alenius\n",
      "Reviews: Great portion of ice cream.\n",
      "Ratings: 7.3\n",
      "Title: Ciao! Caffé\n",
      "Reviews: Delicious vegan ice cream. Ask which flavours are vegan.\n",
      "Ratings: 5.8\n",
      "Title: Brooklyn Cafe\n",
      "Reviews: Try the super yummy chocolate brownie with ice cream about 6€.\n",
      "Ratings: 8.6\n",
      "Title: Jäätelökioski Senaatintori\n",
      "Reviews: They sell also Mövenpick ice cream including Maple Walnut and Pistachio flavours.\n",
      "Ratings: \n",
      "Title: Munkkiniemenrannan jäätelökioski\n",
      "Reviews: Summers best ice cream!\n",
      "Ratings: \n",
      "Title: Pingviini Jäätelökahvila\n",
      "Reviews: Mixed vanilla-chocolate soft ice-cream 🍦👍🏼\n",
      "Ratings: \n",
      "Title: Spice Ice\n",
      "Reviews: Local ice cream chain with stalls in many shopping centres. The jet black salmiakki flavour is my particular favourite.\n",
      "Ratings: \n",
      "Title: Pingviini Jäätelökioski\n",
      "Reviews: \n",
      "Ratings: \n",
      "Title: Jäätelökioski\n",
      "Reviews: Beautiful girls. Expensive ice cream like everywhere. Great location.\n",
      "Ratings: \n",
      "Title: Pingviini Jäätelökioski\n",
      "Reviews: \n",
      "Ratings: \n",
      "Title: Pappagallo\n",
      "Reviews: \n",
      "Ratings: \n"
     ]
    }
   ],
   "source": [
    "#Now lets loop through the ResultSet objects\n",
    "import re\n",
    "\n",
    "filename = \"Icecream.csv\"\n",
    "f = open(filename,\"w\", encoding = 'ISO 8859-1', errors = 'ignore')\n",
    "headers = (\"Title ,Reviews, Ratings\\n\")\n",
    "f.write(headers)\n",
    "\n",
    "for elements in contentHolder: \n",
    "    title = elements.a.text\n",
    "    ratings = elements.find(\"div\",{\"class\":re.compile(r'venueScore')}).text \n",
    "    ratings = ratings.replace('?','') #We do this so as to find out the NaNs easily\n",
    "    \n",
    "    \n",
    "    while True:\n",
    "        reviews = elements.find(\"p\",{\"class\":\"tipText\"})\n",
    "        if reviews is not None:\n",
    "            review = reviews.text\n",
    "        else:\n",
    "            review = '--'\n",
    "        break\n",
    "    review = review.replace('•','')  #This character wont be decoded properly\n",
    "    review = review.replace(',','')  #The extra commas in review will create problem while creating csv file, as there are only 3 commas in our csv file\n",
    "    #Lets also remove the name and date as we dont need them\n",
    "    cur = review.find('20')  #Will work for now\n",
    "    review = review[cur+4:]  #is creating load for the compiler though....we can think of other options as well\n",
    "\n",
    "    #reviews = elements.find(\"p\",{\"class\":\"tipText\"}).text\n",
    "    print(\"Title: \" + title)\n",
    "    print(\"Reviews: \"+ review)\n",
    "    print(\"Ratings: \"+ ratings)\n",
    "    \n",
    "    f.write(title+\",\"+review+\",\"+ratings +\"\\n\")\n",
    "    \n",
    "f.close()\n",
    "    \n",
    "    "
   ]
  },
  {
   "cell_type": "code",
   "execution_count": null,
   "metadata": {},
   "outputs": [],
   "source": []
  },
  {
   "cell_type": "markdown",
   "metadata": {},
   "source": [
    "This is how people scrap data from various websites and use it for their personal purposes\n",
    "\n",
    "Now lets load the file that we saved and do some stuffs from it"
   ]
  },
  {
   "cell_type": "code",
   "execution_count": 17,
   "metadata": {},
   "outputs": [],
   "source": [
    "import pandas as pd\n",
    "import numpy as np"
   ]
  },
  {
   "cell_type": "code",
   "execution_count": 18,
   "metadata": {},
   "outputs": [
    {
     "name": "stderr",
     "output_type": "stream",
     "text": [
      "C:\\Users\\tranq\\Anaconda3\\lib\\site-packages\\ipykernel_launcher.py:1: ParserWarning: Falling back to the 'python' engine because the 'c' engine does not support regex separators (separators > 1 char and different from '\\s+' are interpreted as regex); you can avoid this warning by specifying engine='python'.\n",
      "  \"\"\"Entry point for launching an IPython kernel.\n"
     ]
    }
   ],
   "source": [
    "df = pd.read_csv(r\"Icecream.csv\", header = 0, encoding = 'ISO 8859-1',sep=r'\\s*,\\s*')"
   ]
  },
  {
   "cell_type": "code",
   "execution_count": 19,
   "metadata": {},
   "outputs": [
    {
     "data": {
      "text/html": [
       "<div>\n",
       "<style scoped>\n",
       "    .dataframe tbody tr th:only-of-type {\n",
       "        vertical-align: middle;\n",
       "    }\n",
       "\n",
       "    .dataframe tbody tr th {\n",
       "        vertical-align: top;\n",
       "    }\n",
       "\n",
       "    .dataframe thead th {\n",
       "        text-align: right;\n",
       "    }\n",
       "</style>\n",
       "<table border=\"1\" class=\"dataframe\">\n",
       "  <thead>\n",
       "    <tr style=\"text-align: right;\">\n",
       "      <th></th>\n",
       "      <th>Title</th>\n",
       "      <th>Reviews</th>\n",
       "      <th>Ratings</th>\n",
       "    </tr>\n",
       "  </thead>\n",
       "  <tbody>\n",
       "    <tr>\n",
       "      <th>0</th>\n",
       "      <td>Jädelino</td>\n",
       "      <td>Chili chocolate flavour to burn you and matcha...</td>\n",
       "      <td>9.3</td>\n",
       "    </tr>\n",
       "    <tr>\n",
       "      <th>1</th>\n",
       "      <td>Bus Gelato</td>\n",
       "      <td>Great Service good coffee and excellent artesa...</td>\n",
       "      <td>8.8</td>\n",
       "    </tr>\n",
       "    <tr>\n",
       "      <th>2</th>\n",
       "      <td>Helsingin jäätelötehdas</td>\n",
       "      <td>One of my \"must go\" places in summer! I've tri...</td>\n",
       "      <td>8.0</td>\n",
       "    </tr>\n",
       "    <tr>\n",
       "      <th>3</th>\n",
       "      <td>Helsingin Jäätelötehdas</td>\n",
       "      <td>Great ice cream. Comes at a price though</td>\n",
       "      <td>7.9</td>\n",
       "    </tr>\n",
       "    <tr>\n",
       "      <th>4</th>\n",
       "      <td>Helsingin jäätelötehtaan kioski</td>\n",
       "      <td>Best ice cream by the biggest scoops I've trie...</td>\n",
       "      <td>7.8</td>\n",
       "    </tr>\n",
       "  </tbody>\n",
       "</table>\n",
       "</div>"
      ],
      "text/plain": [
       "                             Title  \\\n",
       "0                         Jädelino   \n",
       "1                       Bus Gelato   \n",
       "2          Helsingin jäätelötehdas   \n",
       "3          Helsingin Jäätelötehdas   \n",
       "4  Helsingin jäätelötehtaan kioski   \n",
       "\n",
       "                                             Reviews  Ratings  \n",
       "0  Chili chocolate flavour to burn you and matcha...      9.3  \n",
       "1  Great Service good coffee and excellent artesa...      8.8  \n",
       "2  One of my \"must go\" places in summer! I've tri...      8.0  \n",
       "3           Great ice cream. Comes at a price though      7.9  \n",
       "4  Best ice cream by the biggest scoops I've trie...      7.8  "
      ]
     },
     "execution_count": 19,
     "metadata": {},
     "output_type": "execute_result"
    }
   ],
   "source": [
    "df.head()"
   ]
  },
  {
   "cell_type": "code",
   "execution_count": 20,
   "metadata": {},
   "outputs": [
    {
     "data": {
      "text/plain": [
       "Title      0\n",
       "Reviews    3\n",
       "Ratings    8\n",
       "dtype: int64"
      ]
     },
     "execution_count": 20,
     "metadata": {},
     "output_type": "execute_result"
    }
   ],
   "source": [
    "df.isnull().sum()"
   ]
  },
  {
   "cell_type": "code",
   "execution_count": 21,
   "metadata": {},
   "outputs": [
    {
     "data": {
      "text/plain": [
       "30"
      ]
     },
     "execution_count": 21,
     "metadata": {},
     "output_type": "execute_result"
    }
   ],
   "source": [
    "len(df)"
   ]
  },
  {
   "cell_type": "code",
   "execution_count": 22,
   "metadata": {},
   "outputs": [],
   "source": [
    "df.dropna(inplace = True)"
   ]
  },
  {
   "cell_type": "code",
   "execution_count": 23,
   "metadata": {},
   "outputs": [
    {
     "data": {
      "text/plain": [
       "22"
      ]
     },
     "execution_count": 23,
     "metadata": {},
     "output_type": "execute_result"
    }
   ],
   "source": [
    "len(df)"
   ]
  },
  {
   "cell_type": "code",
   "execution_count": 24,
   "metadata": {},
   "outputs": [],
   "source": [
    "# df['Reviews'] = df['Reviews'].apply(lambda x:x[x.find('20')+4:])\n",
    "\n",
    "# Had we not done it above, we could have done it here too"
   ]
  },
  {
   "cell_type": "code",
   "execution_count": 25,
   "metadata": {},
   "outputs": [
    {
     "data": {
      "text/html": [
       "<div>\n",
       "<style scoped>\n",
       "    .dataframe tbody tr th:only-of-type {\n",
       "        vertical-align: middle;\n",
       "    }\n",
       "\n",
       "    .dataframe tbody tr th {\n",
       "        vertical-align: top;\n",
       "    }\n",
       "\n",
       "    .dataframe thead th {\n",
       "        text-align: right;\n",
       "    }\n",
       "</style>\n",
       "<table border=\"1\" class=\"dataframe\">\n",
       "  <thead>\n",
       "    <tr style=\"text-align: right;\">\n",
       "      <th></th>\n",
       "      <th>Title</th>\n",
       "      <th>Reviews</th>\n",
       "      <th>Ratings</th>\n",
       "    </tr>\n",
       "  </thead>\n",
       "  <tbody>\n",
       "    <tr>\n",
       "      <th>0</th>\n",
       "      <td>Jädelino</td>\n",
       "      <td>Chili chocolate flavour to burn you and matcha...</td>\n",
       "      <td>9.3</td>\n",
       "    </tr>\n",
       "    <tr>\n",
       "      <th>1</th>\n",
       "      <td>Bus Gelato</td>\n",
       "      <td>Great Service good coffee and excellent artesa...</td>\n",
       "      <td>8.8</td>\n",
       "    </tr>\n",
       "    <tr>\n",
       "      <th>2</th>\n",
       "      <td>Helsingin jäätelötehdas</td>\n",
       "      <td>One of my \"must go\" places in summer! I've tri...</td>\n",
       "      <td>8.0</td>\n",
       "    </tr>\n",
       "    <tr>\n",
       "      <th>3</th>\n",
       "      <td>Helsingin Jäätelötehdas</td>\n",
       "      <td>Great ice cream. Comes at a price though</td>\n",
       "      <td>7.9</td>\n",
       "    </tr>\n",
       "    <tr>\n",
       "      <th>4</th>\n",
       "      <td>Helsingin jäätelötehtaan kioski</td>\n",
       "      <td>Best ice cream by the biggest scoops I've trie...</td>\n",
       "      <td>7.8</td>\n",
       "    </tr>\n",
       "  </tbody>\n",
       "</table>\n",
       "</div>"
      ],
      "text/plain": [
       "                             Title  \\\n",
       "0                         Jädelino   \n",
       "1                       Bus Gelato   \n",
       "2          Helsingin jäätelötehdas   \n",
       "3          Helsingin Jäätelötehdas   \n",
       "4  Helsingin jäätelötehtaan kioski   \n",
       "\n",
       "                                             Reviews  Ratings  \n",
       "0  Chili chocolate flavour to burn you and matcha...      9.3  \n",
       "1  Great Service good coffee and excellent artesa...      8.8  \n",
       "2  One of my \"must go\" places in summer! I've tri...      8.0  \n",
       "3           Great ice cream. Comes at a price though      7.9  \n",
       "4  Best ice cream by the biggest scoops I've trie...      7.8  "
      ]
     },
     "execution_count": 25,
     "metadata": {},
     "output_type": "execute_result"
    }
   ],
   "source": [
    "df.head()"
   ]
  },
  {
   "cell_type": "code",
   "execution_count": 26,
   "metadata": {},
   "outputs": [],
   "source": [
    "%matplotlib inline"
   ]
  },
  {
   "cell_type": "code",
   "execution_count": 27,
   "metadata": {},
   "outputs": [
    {
     "data": {
      "image/png": "[encoded data removed]",
      "text/plain": [
       "<Figure size 432x288 with 1 Axes>"
      ]
     },
     "metadata": {
      "needs_background": "light"
     },
     "output_type": "display_data"
    }
   ],
   "source": [
    "import matplotlib.pyplot as plt\n",
    "from numpy.random import normal\n",
    "plt.hist(df['Ratings'])\n",
    "plt.title(\"Review Ratings\")\n",
    "plt.xlabel(\"Value\")\n",
    "plt.ylabel(\"Frequency\")\n",
    "plt.show()"
   ]
  },
  {
   "cell_type": "markdown",
   "metadata": {},
   "source": [
    "We can see there are no negative reviews at all"
   ]
  },
  {
   "cell_type": "markdown",
   "metadata": {},
   "source": [
    "#### Clean up our data"
   ]
  },
  {
   "cell_type": "code",
   "execution_count": 28,
   "metadata": {},
   "outputs": [],
   "source": [
    "# #We can use our own stopwords like this, but since NLTK does that and since we will need NLTK for some other purposes too, we import stopwords from NLTK\n",
    "# stopwords = ['a','an','and','the','of','this','that','which','in','is']"
   ]
  },
  {
   "cell_type": "code",
   "execution_count": 29,
   "metadata": {},
   "outputs": [],
   "source": [
    "df['review_lowercase'] = df['Reviews'].apply(lambda x:\" \".join(word.lower() for word in x.split()))"
   ]
  },
  {
   "cell_type": "code",
   "execution_count": 30,
   "metadata": {},
   "outputs": [],
   "source": [
    "df['review_nopunct'] = df['review_lowercase'].str.replace('[^\\w\\s]','') #Removes non words and letters"
   ]
  },
  {
   "cell_type": "markdown",
   "metadata": {},
   "source": [
    "Why do you think such steps are even necessary ?"
   ]
  },
  {
   "cell_type": "code",
   "execution_count": 31,
   "metadata": {},
   "outputs": [
    {
     "data": {
      "text/html": [
       "<div>\n",
       "<style scoped>\n",
       "    .dataframe tbody tr th:only-of-type {\n",
       "        vertical-align: middle;\n",
       "    }\n",
       "\n",
       "    .dataframe tbody tr th {\n",
       "        vertical-align: top;\n",
       "    }\n",
       "\n",
       "    .dataframe thead th {\n",
       "        text-align: right;\n",
       "    }\n",
       "</style>\n",
       "<table border=\"1\" class=\"dataframe\">\n",
       "  <thead>\n",
       "    <tr style=\"text-align: right;\">\n",
       "      <th></th>\n",
       "      <th>Title</th>\n",
       "      <th>Reviews</th>\n",
       "      <th>Ratings</th>\n",
       "      <th>review_lowercase</th>\n",
       "      <th>review_nopunct</th>\n",
       "    </tr>\n",
       "  </thead>\n",
       "  <tbody>\n",
       "    <tr>\n",
       "      <th>0</th>\n",
       "      <td>Jädelino</td>\n",
       "      <td>Chili chocolate flavour to burn you and matcha...</td>\n",
       "      <td>9.3</td>\n",
       "      <td>chili chocolate flavour to burn you and matcha...</td>\n",
       "      <td>chili chocolate flavour to burn you and matcha...</td>\n",
       "    </tr>\n",
       "    <tr>\n",
       "      <th>1</th>\n",
       "      <td>Bus Gelato</td>\n",
       "      <td>Great Service good coffee and excellent artesa...</td>\n",
       "      <td>8.8</td>\n",
       "      <td>great service good coffee and excellent artesa...</td>\n",
       "      <td>great service good coffee and excellent artesa...</td>\n",
       "    </tr>\n",
       "    <tr>\n",
       "      <th>2</th>\n",
       "      <td>Helsingin jäätelötehdas</td>\n",
       "      <td>One of my \"must go\" places in summer! I've tri...</td>\n",
       "      <td>8.0</td>\n",
       "      <td>one of my \"must go\" places in summer! i've tri...</td>\n",
       "      <td>one of my must go places in summer ive tried e...</td>\n",
       "    </tr>\n",
       "    <tr>\n",
       "      <th>3</th>\n",
       "      <td>Helsingin Jäätelötehdas</td>\n",
       "      <td>Great ice cream. Comes at a price though</td>\n",
       "      <td>7.9</td>\n",
       "      <td>great ice cream. comes at a price though</td>\n",
       "      <td>great ice cream comes at a price though</td>\n",
       "    </tr>\n",
       "    <tr>\n",
       "      <th>4</th>\n",
       "      <td>Helsingin jäätelötehtaan kioski</td>\n",
       "      <td>Best ice cream by the biggest scoops I've trie...</td>\n",
       "      <td>7.8</td>\n",
       "      <td>best ice cream by the biggest scoops i've trie...</td>\n",
       "      <td>best ice cream by the biggest scoops ive tried...</td>\n",
       "    </tr>\n",
       "  </tbody>\n",
       "</table>\n",
       "</div>"
      ],
      "text/plain": [
       "                             Title  \\\n",
       "0                         Jädelino   \n",
       "1                       Bus Gelato   \n",
       "2          Helsingin jäätelötehdas   \n",
       "3          Helsingin Jäätelötehdas   \n",
       "4  Helsingin jäätelötehtaan kioski   \n",
       "\n",
       "                                             Reviews  Ratings  \\\n",
       "0  Chili chocolate flavour to burn you and matcha...      9.3   \n",
       "1  Great Service good coffee and excellent artesa...      8.8   \n",
       "2  One of my \"must go\" places in summer! I've tri...      8.0   \n",
       "3           Great ice cream. Comes at a price though      7.9   \n",
       "4  Best ice cream by the biggest scoops I've trie...      7.8   \n",
       "\n",
       "                                    review_lowercase  \\\n",
       "0  chili chocolate flavour to burn you and matcha...   \n",
       "1  great service good coffee and excellent artesa...   \n",
       "2  one of my \"must go\" places in summer! i've tri...   \n",
       "3           great ice cream. comes at a price though   \n",
       "4  best ice cream by the biggest scoops i've trie...   \n",
       "\n",
       "                                      review_nopunct  \n",
       "0  chili chocolate flavour to burn you and matcha...  \n",
       "1  great service good coffee and excellent artesa...  \n",
       "2  one of my must go places in summer ive tried e...  \n",
       "3            great ice cream comes at a price though  \n",
       "4  best ice cream by the biggest scoops ive tried...  "
      ]
     },
     "execution_count": 31,
     "metadata": {},
     "output_type": "execute_result"
    }
   ],
   "source": [
    "df.head()"
   ]
  },
  {
   "cell_type": "code",
   "execution_count": 32,
   "metadata": {},
   "outputs": [
    {
     "data": {
      "text/plain": [
       "Index(['Title', 'Reviews', 'Ratings', 'review_lowercase', 'review_nopunct'], dtype='object')"
      ]
     },
     "execution_count": 32,
     "metadata": {},
     "output_type": "execute_result"
    }
   ],
   "source": [
    "df.columns"
   ]
  },
  {
   "cell_type": "markdown",
   "metadata": {},
   "source": [
    "Let's take one row for example to see what is happening"
   ]
  },
  {
   "cell_type": "code",
   "execution_count": 33,
   "metadata": {},
   "outputs": [
    {
     "data": {
      "text/html": [
       "<div>\n",
       "<style scoped>\n",
       "    .dataframe tbody tr th:only-of-type {\n",
       "        vertical-align: middle;\n",
       "    }\n",
       "\n",
       "    .dataframe tbody tr th {\n",
       "        vertical-align: top;\n",
       "    }\n",
       "\n",
       "    .dataframe thead th {\n",
       "        text-align: right;\n",
       "    }\n",
       "</style>\n",
       "<table border=\"1\" class=\"dataframe\">\n",
       "  <thead>\n",
       "    <tr style=\"text-align: right;\">\n",
       "      <th></th>\n",
       "      <th>Title</th>\n",
       "      <th>Reviews</th>\n",
       "      <th>Ratings</th>\n",
       "      <th>review_lowercase</th>\n",
       "      <th>review_nopunct</th>\n",
       "    </tr>\n",
       "  </thead>\n",
       "  <tbody>\n",
       "    <tr>\n",
       "      <th>18</th>\n",
       "      <td>Kahvila Sävy</td>\n",
       "      <td>Try the new \"Twitter McFlurry\" #delicious #dou...</td>\n",
       "      <td>9.1</td>\n",
       "      <td>try the new \"twitter mcflurry\" #delicious #dou...</td>\n",
       "      <td>try the new twitter mcflurry delicious doubles...</td>\n",
       "    </tr>\n",
       "  </tbody>\n",
       "</table>\n",
       "</div>"
      ],
      "text/plain": [
       "           Title                                            Reviews  Ratings  \\\n",
       "18  Kahvila Sävy  Try the new \"Twitter McFlurry\" #delicious #dou...      9.1   \n",
       "\n",
       "                                     review_lowercase  \\\n",
       "18  try the new \"twitter mcflurry\" #delicious #dou...   \n",
       "\n",
       "                                       review_nopunct  \n",
       "18  try the new twitter mcflurry delicious doubles...  "
      ]
     },
     "execution_count": 33,
     "metadata": {},
     "output_type": "execute_result"
    }
   ],
   "source": [
    "df.loc[df['Title']=='Kahvila Sävy'] # Without using sep=r'\\s*,\\s*' in the read_csv() , I got keyerror Title. Can you think why it happened and why this solved the issue"
   ]
  },
  {
   "cell_type": "code",
   "execution_count": 34,
   "metadata": {},
   "outputs": [],
   "source": [
    "from nltk.corpus import stopwords"
   ]
  },
  {
   "cell_type": "code",
   "execution_count": 35,
   "metadata": {},
   "outputs": [],
   "source": [
    "stop_words = stopwords.words('english')"
   ]
  },
  {
   "cell_type": "code",
   "execution_count": 36,
   "metadata": {},
   "outputs": [],
   "source": [
    "df['review_nostopword'] = df['review_nopunct'].apply(lambda x: \" \".join(x for x in x.split() if x not in stop_words))"
   ]
  },
  {
   "cell_type": "code",
   "execution_count": 37,
   "metadata": {},
   "outputs": [
    {
     "data": {
      "text/html": [
       "<div>\n",
       "<style scoped>\n",
       "    .dataframe tbody tr th:only-of-type {\n",
       "        vertical-align: middle;\n",
       "    }\n",
       "\n",
       "    .dataframe tbody tr th {\n",
       "        vertical-align: top;\n",
       "    }\n",
       "\n",
       "    .dataframe thead th {\n",
       "        text-align: right;\n",
       "    }\n",
       "</style>\n",
       "<table border=\"1\" class=\"dataframe\">\n",
       "  <thead>\n",
       "    <tr style=\"text-align: right;\">\n",
       "      <th></th>\n",
       "      <th>Title</th>\n",
       "      <th>Reviews</th>\n",
       "      <th>Ratings</th>\n",
       "      <th>review_lowercase</th>\n",
       "      <th>review_nopunct</th>\n",
       "      <th>review_nostopword</th>\n",
       "    </tr>\n",
       "  </thead>\n",
       "  <tbody>\n",
       "    <tr>\n",
       "      <th>0</th>\n",
       "      <td>Jädelino</td>\n",
       "      <td>Chili chocolate flavour to burn you and matcha...</td>\n",
       "      <td>9.3</td>\n",
       "      <td>chili chocolate flavour to burn you and matcha...</td>\n",
       "      <td>chili chocolate flavour to burn you and matcha...</td>\n",
       "      <td>chili chocolate flavour burn matcha tea flavou...</td>\n",
       "    </tr>\n",
       "    <tr>\n",
       "      <th>1</th>\n",
       "      <td>Bus Gelato</td>\n",
       "      <td>Great Service good coffee and excellent artesa...</td>\n",
       "      <td>8.8</td>\n",
       "      <td>great service good coffee and excellent artesa...</td>\n",
       "      <td>great service good coffee and excellent artesa...</td>\n",
       "      <td>great service good coffee excellent artesan ic...</td>\n",
       "    </tr>\n",
       "    <tr>\n",
       "      <th>2</th>\n",
       "      <td>Helsingin jäätelötehdas</td>\n",
       "      <td>One of my \"must go\" places in summer! I've tri...</td>\n",
       "      <td>8.0</td>\n",
       "      <td>one of my \"must go\" places in summer! i've tri...</td>\n",
       "      <td>one of my must go places in summer ive tried e...</td>\n",
       "      <td>one must go places summer ive tried every sing...</td>\n",
       "    </tr>\n",
       "    <tr>\n",
       "      <th>3</th>\n",
       "      <td>Helsingin Jäätelötehdas</td>\n",
       "      <td>Great ice cream. Comes at a price though</td>\n",
       "      <td>7.9</td>\n",
       "      <td>great ice cream. comes at a price though</td>\n",
       "      <td>great ice cream comes at a price though</td>\n",
       "      <td>great ice cream comes price though</td>\n",
       "    </tr>\n",
       "    <tr>\n",
       "      <th>4</th>\n",
       "      <td>Helsingin jäätelötehtaan kioski</td>\n",
       "      <td>Best ice cream by the biggest scoops I've trie...</td>\n",
       "      <td>7.8</td>\n",
       "      <td>best ice cream by the biggest scoops i've trie...</td>\n",
       "      <td>best ice cream by the biggest scoops ive tried...</td>\n",
       "      <td>best ice cream biggest scoops ive tried town</td>\n",
       "    </tr>\n",
       "  </tbody>\n",
       "</table>\n",
       "</div>"
      ],
      "text/plain": [
       "                             Title  \\\n",
       "0                         Jädelino   \n",
       "1                       Bus Gelato   \n",
       "2          Helsingin jäätelötehdas   \n",
       "3          Helsingin Jäätelötehdas   \n",
       "4  Helsingin jäätelötehtaan kioski   \n",
       "\n",
       "                                             Reviews  Ratings  \\\n",
       "0  Chili chocolate flavour to burn you and matcha...      9.3   \n",
       "1  Great Service good coffee and excellent artesa...      8.8   \n",
       "2  One of my \"must go\" places in summer! I've tri...      8.0   \n",
       "3           Great ice cream. Comes at a price though      7.9   \n",
       "4  Best ice cream by the biggest scoops I've trie...      7.8   \n",
       "\n",
       "                                    review_lowercase  \\\n",
       "0  chili chocolate flavour to burn you and matcha...   \n",
       "1  great service good coffee and excellent artesa...   \n",
       "2  one of my \"must go\" places in summer! i've tri...   \n",
       "3           great ice cream. comes at a price though   \n",
       "4  best ice cream by the biggest scoops i've trie...   \n",
       "\n",
       "                                      review_nopunct  \\\n",
       "0  chili chocolate flavour to burn you and matcha...   \n",
       "1  great service good coffee and excellent artesa...   \n",
       "2  one of my must go places in summer ive tried e...   \n",
       "3            great ice cream comes at a price though   \n",
       "4  best ice cream by the biggest scoops ive tried...   \n",
       "\n",
       "                                   review_nostopword  \n",
       "0  chili chocolate flavour burn matcha tea flavou...  \n",
       "1  great service good coffee excellent artesan ic...  \n",
       "2  one must go places summer ive tried every sing...  \n",
       "3                 great ice cream comes price though  \n",
       "4       best ice cream biggest scoops ive tried town  "
      ]
     },
     "execution_count": 37,
     "metadata": {},
     "output_type": "execute_result"
    }
   ],
   "source": [
    "df.head()"
   ]
  },
  {
   "cell_type": "markdown",
   "metadata": {},
   "source": [
    "#### Wordcloud\n",
    "Word cloud or tag cloud is a visual representation of text data. Notice the different color and size of fonts. \n",
    "\n",
    "So what's the intuition behind wordcloud then?"
   ]
  },
  {
   "cell_type": "code",
   "execution_count": 38,
   "metadata": {},
   "outputs": [
    {
     "data": {
      "text/plain": [
       "<matplotlib.image.AxesImage at 0x1cb48042908>"
      ]
     },
     "execution_count": 38,
     "metadata": {},
     "output_type": "execute_result"
    },
    {
     "data": {
      "image/png": "[encoded data removed]",
      "text/plain": [
       "<Figure size 720x720 with 1 Axes>"
      ]
     },
     "metadata": {
      "needs_background": "light"
     },
     "output_type": "display_data"
    }
   ],
   "source": [
    "from wordcloud import WordCloud\n",
    "\n",
    "wordcloud = WordCloud(width = 1500, height = 1500).generate(df['review_nostopword'].to_string())\n",
    "\n",
    "plt.figure (figsize = (10,10), facecolor = None)\n",
    "plt.imshow(wordcloud)\n",
    "#plt.axis(\"off\")"
   ]
  },
  {
   "cell_type": "code",
   "execution_count": 39,
   "metadata": {},
   "outputs": [
    {
     "data": {
      "text/plain": [
       "ice          16\n",
       "cream        16\n",
       "coffee        5\n",
       "great         4\n",
       "vegan         4\n",
       "try           4\n",
       "excellent     3\n",
       "chocolate     3\n",
       "good          3\n",
       "icecream      3\n",
       "tried         2\n",
       "cute          2\n",
       "town          2\n",
       "lunch         2\n",
       "delicious     2\n",
       "take          2\n",
       "ive           2\n",
       "yummy         2\n",
       "tasty         2\n",
       "service       2\n",
       "free          2\n",
       "nice          2\n",
       "best          2\n",
       "flavour       2\n",
       "place         2\n",
       "new           1\n",
       "many          1\n",
       "yes           1\n",
       "please        1\n",
       "matcha        1\n",
       "dtype: int64"
      ]
     },
     "execution_count": 39,
     "metadata": {},
     "output_type": "execute_result"
    }
   ],
   "source": [
    "#Pandas series has funtion value_counts() which will give us with the number of occurence of each words\n",
    "pd.Series(\" \".join(df['review_nostopword']).split()).value_counts()[:30]"
   ]
  },
  {
   "cell_type": "code",
   "execution_count": 40,
   "metadata": {},
   "outputs": [],
   "source": [
    "other_stopwords = ['ice','cream','ive','take','tried','try']\n"
   ]
  },
  {
   "cell_type": "code",
   "execution_count": 41,
   "metadata": {},
   "outputs": [],
   "source": [
    "\n",
    "df['review_cleaned'] = df['review_nostopword'].apply(lambda x: \" \".join(word for word in x.split() if word not in other_stopwords))"
   ]
  },
  {
   "cell_type": "code",
   "execution_count": 42,
   "metadata": {},
   "outputs": [
    {
     "data": {
      "text/html": [
       "<div>\n",
       "<style scoped>\n",
       "    .dataframe tbody tr th:only-of-type {\n",
       "        vertical-align: middle;\n",
       "    }\n",
       "\n",
       "    .dataframe tbody tr th {\n",
       "        vertical-align: top;\n",
       "    }\n",
       "\n",
       "    .dataframe thead th {\n",
       "        text-align: right;\n",
       "    }\n",
       "</style>\n",
       "<table border=\"1\" class=\"dataframe\">\n",
       "  <thead>\n",
       "    <tr style=\"text-align: right;\">\n",
       "      <th></th>\n",
       "      <th>Title</th>\n",
       "      <th>Reviews</th>\n",
       "      <th>Ratings</th>\n",
       "      <th>review_lowercase</th>\n",
       "      <th>review_nopunct</th>\n",
       "      <th>review_nostopword</th>\n",
       "      <th>review_cleaned</th>\n",
       "    </tr>\n",
       "  </thead>\n",
       "  <tbody>\n",
       "    <tr>\n",
       "      <th>0</th>\n",
       "      <td>Jädelino</td>\n",
       "      <td>Chili chocolate flavour to burn you and matcha...</td>\n",
       "      <td>9.3</td>\n",
       "      <td>chili chocolate flavour to burn you and matcha...</td>\n",
       "      <td>chili chocolate flavour to burn you and matcha...</td>\n",
       "      <td>chili chocolate flavour burn matcha tea flavou...</td>\n",
       "      <td>chili chocolate flavour burn matcha tea flavou...</td>\n",
       "    </tr>\n",
       "    <tr>\n",
       "      <th>1</th>\n",
       "      <td>Bus Gelato</td>\n",
       "      <td>Great Service good coffee and excellent artesa...</td>\n",
       "      <td>8.8</td>\n",
       "      <td>great service good coffee and excellent artesa...</td>\n",
       "      <td>great service good coffee and excellent artesa...</td>\n",
       "      <td>great service good coffee excellent artesan ic...</td>\n",
       "      <td>great service good coffee excellent artesan ic...</td>\n",
       "    </tr>\n",
       "    <tr>\n",
       "      <th>2</th>\n",
       "      <td>Helsingin jäätelötehdas</td>\n",
       "      <td>One of my \"must go\" places in summer! I've tri...</td>\n",
       "      <td>8.0</td>\n",
       "      <td>one of my \"must go\" places in summer! i've tri...</td>\n",
       "      <td>one of my must go places in summer ive tried e...</td>\n",
       "      <td>one must go places summer ive tried every sing...</td>\n",
       "      <td>one must go places summer every single love</td>\n",
       "    </tr>\n",
       "    <tr>\n",
       "      <th>3</th>\n",
       "      <td>Helsingin Jäätelötehdas</td>\n",
       "      <td>Great ice cream. Comes at a price though</td>\n",
       "      <td>7.9</td>\n",
       "      <td>great ice cream. comes at a price though</td>\n",
       "      <td>great ice cream comes at a price though</td>\n",
       "      <td>great ice cream comes price though</td>\n",
       "      <td>great comes price though</td>\n",
       "    </tr>\n",
       "    <tr>\n",
       "      <th>4</th>\n",
       "      <td>Helsingin jäätelötehtaan kioski</td>\n",
       "      <td>Best ice cream by the biggest scoops I've trie...</td>\n",
       "      <td>7.8</td>\n",
       "      <td>best ice cream by the biggest scoops i've trie...</td>\n",
       "      <td>best ice cream by the biggest scoops ive tried...</td>\n",
       "      <td>best ice cream biggest scoops ive tried town</td>\n",
       "      <td>best biggest scoops town</td>\n",
       "    </tr>\n",
       "  </tbody>\n",
       "</table>\n",
       "</div>"
      ],
      "text/plain": [
       "                             Title  \\\n",
       "0                         Jädelino   \n",
       "1                       Bus Gelato   \n",
       "2          Helsingin jäätelötehdas   \n",
       "3          Helsingin Jäätelötehdas   \n",
       "4  Helsingin jäätelötehtaan kioski   \n",
       "\n",
       "                                             Reviews  Ratings  \\\n",
       "0  Chili chocolate flavour to burn you and matcha...      9.3   \n",
       "1  Great Service good coffee and excellent artesa...      8.8   \n",
       "2  One of my \"must go\" places in summer! I've tri...      8.0   \n",
       "3           Great ice cream. Comes at a price though      7.9   \n",
       "4  Best ice cream by the biggest scoops I've trie...      7.8   \n",
       "\n",
       "                                    review_lowercase  \\\n",
       "0  chili chocolate flavour to burn you and matcha...   \n",
       "1  great service good coffee and excellent artesa...   \n",
       "2  one of my \"must go\" places in summer! i've tri...   \n",
       "3           great ice cream. comes at a price though   \n",
       "4  best ice cream by the biggest scoops i've trie...   \n",
       "\n",
       "                                      review_nopunct  \\\n",
       "0  chili chocolate flavour to burn you and matcha...   \n",
       "1  great service good coffee and excellent artesa...   \n",
       "2  one of my must go places in summer ive tried e...   \n",
       "3            great ice cream comes at a price though   \n",
       "4  best ice cream by the biggest scoops ive tried...   \n",
       "\n",
       "                                   review_nostopword  \\\n",
       "0  chili chocolate flavour burn matcha tea flavou...   \n",
       "1  great service good coffee excellent artesan ic...   \n",
       "2  one must go places summer ive tried every sing...   \n",
       "3                 great ice cream comes price though   \n",
       "4       best ice cream biggest scoops ive tried town   \n",
       "\n",
       "                                      review_cleaned  \n",
       "0  chili chocolate flavour burn matcha tea flavou...  \n",
       "1  great service good coffee excellent artesan ic...  \n",
       "2        one must go places summer every single love  \n",
       "3                           great comes price though  \n",
       "4                           best biggest scoops town  "
      ]
     },
     "execution_count": 42,
     "metadata": {},
     "output_type": "execute_result"
    }
   ],
   "source": [
    "df.head()"
   ]
  },
  {
   "cell_type": "markdown",
   "metadata": {},
   "source": [
    "Now lets see the cleaned review in wordcloud "
   ]
  },
  {
   "cell_type": "code",
   "execution_count": 43,
   "metadata": {},
   "outputs": [],
   "source": [
    "import numpy as np\n",
    "from PIL import Image\n",
    "icecream_mask = np.array(Image.open('icecream2.jpg'))\n",
    "#icecream_mask  ##This image would be displayed as matrix of pixels [R,G,B]"
   ]
  },
  {
   "cell_type": "markdown",
   "metadata": {},
   "source": [
    "Computers understand numbers as an array of RGB pixels "
   ]
  },
  {
   "cell_type": "code",
   "execution_count": 44,
   "metadata": {},
   "outputs": [],
   "source": [
    "#Height and width parameters wont make sense here\n",
    "wordcloud = WordCloud(background_color='white', mask = icecream_mask, contour_width=3, contour_color='violet').generate(df['review_cleaned'].to_string())"
   ]
  },
  {
   "cell_type": "code",
   "execution_count": 45,
   "metadata": {},
   "outputs": [
    {
     "data": {
      "image/png": "[encoded data removed]",
      "text/plain": [
       "<Figure size 576x576 with 1 Axes>"
      ]
     },
     "metadata": {
      "needs_background": "light"
     },
     "output_type": "display_data"
    }
   ],
   "source": [
    "plt.figure (figsize = (8,8), facecolor = None)\n",
    "plt.imshow(wordcloud)\n",
    "plt.axis('off')\n",
    "plt.tight_layout(pad = 0)\n",
    "\n",
    "plt.show()"
   ]
  },
  {
   "cell_type": "markdown",
   "metadata": {},
   "source": [
    "We can do spelling correction, lemmatization, sentiment analysis, summarazing texts, translation & language detection, text classifications and several other interesting stuffs using textblob library."
   ]
  },
  {
   "cell_type": "markdown",
   "metadata": {},
   "source": [
    "#### Lemmatization:\n",
    "According to Wikipedia:\n",
    "\n",
    "Lemmatisation in linguistics is the process of grouping together the inflected forms of a word so they can be analysed as a single item, identified by the word's lemma, or dictionary form."
   ]
  },
  {
   "cell_type": "code",
   "execution_count": 46,
   "metadata": {},
   "outputs": [],
   "source": [
    "#Now Lemmatization\n",
    "from textblob import Word\n",
    "df['review_lemmatized'] = df['review_cleaned'].apply(lambda x: \" \".join(Word(word).lemmatize() for word in x.split()))\n",
    "#Stuck with syntax ? See the PythonBasics "
   ]
  },
  {
   "cell_type": "markdown",
   "metadata": {},
   "source": [
    "So what could be the advantage of lemmitisation for text processing tasks ?"
   ]
  },
  {
   "cell_type": "code",
   "execution_count": 47,
   "metadata": {},
   "outputs": [
    {
     "data": {
      "text/html": [
       "<div>\n",
       "<style scoped>\n",
       "    .dataframe tbody tr th:only-of-type {\n",
       "        vertical-align: middle;\n",
       "    }\n",
       "\n",
       "    .dataframe tbody tr th {\n",
       "        vertical-align: top;\n",
       "    }\n",
       "\n",
       "    .dataframe thead th {\n",
       "        text-align: right;\n",
       "    }\n",
       "</style>\n",
       "<table border=\"1\" class=\"dataframe\">\n",
       "  <thead>\n",
       "    <tr style=\"text-align: right;\">\n",
       "      <th></th>\n",
       "      <th>Title</th>\n",
       "      <th>Reviews</th>\n",
       "      <th>Ratings</th>\n",
       "      <th>review_lowercase</th>\n",
       "      <th>review_nopunct</th>\n",
       "      <th>review_nostopword</th>\n",
       "      <th>review_cleaned</th>\n",
       "      <th>review_lemmatized</th>\n",
       "      <th>polarity</th>\n",
       "      <th>subjectivity</th>\n",
       "    </tr>\n",
       "  </thead>\n",
       "  <tbody>\n",
       "    <tr>\n",
       "      <th>0</th>\n",
       "      <td>Jädelino</td>\n",
       "      <td>Chili chocolate flavour to burn you and matcha...</td>\n",
       "      <td>9.3</td>\n",
       "      <td>chili chocolate flavour to burn you and matcha...</td>\n",
       "      <td>chili chocolate flavour to burn you and matcha...</td>\n",
       "      <td>chili chocolate flavour burn matcha tea flavou...</td>\n",
       "      <td>chili chocolate flavour burn matcha tea flavou...</td>\n",
       "      <td>chili chocolate flavour burn matcha tea flavou...</td>\n",
       "      <td>1.000000</td>\n",
       "      <td>0.300000</td>\n",
       "    </tr>\n",
       "    <tr>\n",
       "      <th>1</th>\n",
       "      <td>Bus Gelato</td>\n",
       "      <td>Great Service good coffee and excellent artesa...</td>\n",
       "      <td>8.8</td>\n",
       "      <td>great service good coffee and excellent artesa...</td>\n",
       "      <td>great service good coffee and excellent artesa...</td>\n",
       "      <td>great service good coffee excellent artesan ic...</td>\n",
       "      <td>great service good coffee excellent artesan ic...</td>\n",
       "      <td>great service good coffee excellent artesan ic...</td>\n",
       "      <td>0.833333</td>\n",
       "      <td>0.783333</td>\n",
       "    </tr>\n",
       "    <tr>\n",
       "      <th>2</th>\n",
       "      <td>Helsingin jäätelötehdas</td>\n",
       "      <td>One of my \"must go\" places in summer! I've tri...</td>\n",
       "      <td>8.0</td>\n",
       "      <td>one of my \"must go\" places in summer! i've tri...</td>\n",
       "      <td>one of my must go places in summer ive tried e...</td>\n",
       "      <td>one must go places summer ive tried every sing...</td>\n",
       "      <td>one must go places summer every single love</td>\n",
       "      <td>one must go place summer every single love</td>\n",
       "      <td>0.214286</td>\n",
       "      <td>0.407143</td>\n",
       "    </tr>\n",
       "    <tr>\n",
       "      <th>3</th>\n",
       "      <td>Helsingin Jäätelötehdas</td>\n",
       "      <td>Great ice cream. Comes at a price though</td>\n",
       "      <td>7.9</td>\n",
       "      <td>great ice cream. comes at a price though</td>\n",
       "      <td>great ice cream comes at a price though</td>\n",
       "      <td>great ice cream comes price though</td>\n",
       "      <td>great comes price though</td>\n",
       "      <td>great come price though</td>\n",
       "      <td>0.800000</td>\n",
       "      <td>0.750000</td>\n",
       "    </tr>\n",
       "    <tr>\n",
       "      <th>4</th>\n",
       "      <td>Helsingin jäätelötehtaan kioski</td>\n",
       "      <td>Best ice cream by the biggest scoops I've trie...</td>\n",
       "      <td>7.8</td>\n",
       "      <td>best ice cream by the biggest scoops i've trie...</td>\n",
       "      <td>best ice cream by the biggest scoops ive tried...</td>\n",
       "      <td>best ice cream biggest scoops ive tried town</td>\n",
       "      <td>best biggest scoops town</td>\n",
       "      <td>best biggest scoop town</td>\n",
       "      <td>1.000000</td>\n",
       "      <td>0.300000</td>\n",
       "    </tr>\n",
       "  </tbody>\n",
       "</table>\n",
       "</div>"
      ],
      "text/plain": [
       "                             Title  \\\n",
       "0                         Jädelino   \n",
       "1                       Bus Gelato   \n",
       "2          Helsingin jäätelötehdas   \n",
       "3          Helsingin Jäätelötehdas   \n",
       "4  Helsingin jäätelötehtaan kioski   \n",
       "\n",
       "                                             Reviews  Ratings  \\\n",
       "0  Chili chocolate flavour to burn you and matcha...      9.3   \n",
       "1  Great Service good coffee and excellent artesa...      8.8   \n",
       "2  One of my \"must go\" places in summer! I've tri...      8.0   \n",
       "3           Great ice cream. Comes at a price though      7.9   \n",
       "4  Best ice cream by the biggest scoops I've trie...      7.8   \n",
       "\n",
       "                                    review_lowercase  \\\n",
       "0  chili chocolate flavour to burn you and matcha...   \n",
       "1  great service good coffee and excellent artesa...   \n",
       "2  one of my \"must go\" places in summer! i've tri...   \n",
       "3           great ice cream. comes at a price though   \n",
       "4  best ice cream by the biggest scoops i've trie...   \n",
       "\n",
       "                                      review_nopunct  \\\n",
       "0  chili chocolate flavour to burn you and matcha...   \n",
       "1  great service good coffee and excellent artesa...   \n",
       "2  one of my must go places in summer ive tried e...   \n",
       "3            great ice cream comes at a price though   \n",
       "4  best ice cream by the biggest scoops ive tried...   \n",
       "\n",
       "                                   review_nostopword  \\\n",
       "0  chili chocolate flavour burn matcha tea flavou...   \n",
       "1  great service good coffee excellent artesan ic...   \n",
       "2  one must go places summer ive tried every sing...   \n",
       "3                 great ice cream comes price though   \n",
       "4       best ice cream biggest scoops ive tried town   \n",
       "\n",
       "                                      review_cleaned  \\\n",
       "0  chili chocolate flavour burn matcha tea flavou...   \n",
       "1  great service good coffee excellent artesan ic...   \n",
       "2        one must go places summer every single love   \n",
       "3                           great comes price though   \n",
       "4                           best biggest scoops town   \n",
       "\n",
       "                                   review_lemmatized  polarity  subjectivity  \n",
       "0  chili chocolate flavour burn matcha tea flavou...  1.000000      0.300000  \n",
       "1  great service good coffee excellent artesan ic...  0.833333      0.783333  \n",
       "2         one must go place summer every single love  0.214286      0.407143  \n",
       "3                            great come price though  0.800000      0.750000  \n",
       "4                            best biggest scoop town  1.000000      0.300000  "
      ]
     },
     "execution_count": 47,
     "metadata": {},
     "output_type": "execute_result"
    }
   ],
   "source": [
    "from textblob import TextBlob\n",
    "#Calculate sentiment on whole review\n",
    "#df['lemmatized'].apply(lambda x: TextBlob(x).sentiment) #Gives us with tuple of polarity and subjectivity\n",
    "\n",
    "df['polarity'], df['subjectivity'] = df['review_lemmatized'].apply(lambda x: TextBlob(x).sentiment[0]), df['review_lemmatized'].apply(lambda x: TextBlob(x).sentiment[1])\n",
    "df.head()"
   ]
  },
  {
   "cell_type": "markdown",
   "metadata": {},
   "source": [
    "The sentiment function of textblob returns two properties, polarity, and subjectivity. We can see that for 'Bus Gelato', polarity is 0.833, which means that the statement is positive and 0.7833 subjectivity refers that mostly it is a public opinion and not a factual information."
   ]
  },
  {
   "cell_type": "code",
   "execution_count": 48,
   "metadata": {},
   "outputs": [
    {
     "data": {
      "text/html": [
       "<div>\n",
       "<style scoped>\n",
       "    .dataframe tbody tr th:only-of-type {\n",
       "        vertical-align: middle;\n",
       "    }\n",
       "\n",
       "    .dataframe tbody tr th {\n",
       "        vertical-align: top;\n",
       "    }\n",
       "\n",
       "    .dataframe thead th {\n",
       "        text-align: right;\n",
       "    }\n",
       "</style>\n",
       "<table border=\"1\" class=\"dataframe\">\n",
       "  <thead>\n",
       "    <tr style=\"text-align: right;\">\n",
       "      <th></th>\n",
       "      <th>Title</th>\n",
       "      <th>Reviews</th>\n",
       "      <th>Ratings</th>\n",
       "      <th>review_cleaned</th>\n",
       "      <th>polarity</th>\n",
       "      <th>subjectivity</th>\n",
       "    </tr>\n",
       "  </thead>\n",
       "  <tbody>\n",
       "    <tr>\n",
       "      <th>0</th>\n",
       "      <td>Jädelino</td>\n",
       "      <td>Chili chocolate flavour to burn you and matcha...</td>\n",
       "      <td>9.3</td>\n",
       "      <td>chili chocolate flavour burn matcha tea flavou...</td>\n",
       "      <td>1.000000</td>\n",
       "      <td>0.300000</td>\n",
       "    </tr>\n",
       "    <tr>\n",
       "      <th>1</th>\n",
       "      <td>Bus Gelato</td>\n",
       "      <td>Great Service good coffee and excellent artesa...</td>\n",
       "      <td>8.8</td>\n",
       "      <td>great service good coffee excellent artesan ic...</td>\n",
       "      <td>0.833333</td>\n",
       "      <td>0.783333</td>\n",
       "    </tr>\n",
       "    <tr>\n",
       "      <th>2</th>\n",
       "      <td>Helsingin jäätelötehdas</td>\n",
       "      <td>One of my \"must go\" places in summer! I've tri...</td>\n",
       "      <td>8.0</td>\n",
       "      <td>one must go places summer every single love</td>\n",
       "      <td>0.214286</td>\n",
       "      <td>0.407143</td>\n",
       "    </tr>\n",
       "    <tr>\n",
       "      <th>3</th>\n",
       "      <td>Helsingin Jäätelötehdas</td>\n",
       "      <td>Great ice cream. Comes at a price though</td>\n",
       "      <td>7.9</td>\n",
       "      <td>great comes price though</td>\n",
       "      <td>0.800000</td>\n",
       "      <td>0.750000</td>\n",
       "    </tr>\n",
       "    <tr>\n",
       "      <th>4</th>\n",
       "      <td>Helsingin jäätelötehtaan kioski</td>\n",
       "      <td>Best ice cream by the biggest scoops I've trie...</td>\n",
       "      <td>7.8</td>\n",
       "      <td>best biggest scoops town</td>\n",
       "      <td>1.000000</td>\n",
       "      <td>0.300000</td>\n",
       "    </tr>\n",
       "  </tbody>\n",
       "</table>\n",
       "</div>"
      ],
      "text/plain": [
       "                             Title  \\\n",
       "0                         Jädelino   \n",
       "1                       Bus Gelato   \n",
       "2          Helsingin jäätelötehdas   \n",
       "3          Helsingin Jäätelötehdas   \n",
       "4  Helsingin jäätelötehtaan kioski   \n",
       "\n",
       "                                             Reviews  Ratings  \\\n",
       "0  Chili chocolate flavour to burn you and matcha...      9.3   \n",
       "1  Great Service good coffee and excellent artesa...      8.8   \n",
       "2  One of my \"must go\" places in summer! I've tri...      8.0   \n",
       "3           Great ice cream. Comes at a price though      7.9   \n",
       "4  Best ice cream by the biggest scoops I've trie...      7.8   \n",
       "\n",
       "                                      review_cleaned  polarity  subjectivity  \n",
       "0  chili chocolate flavour burn matcha tea flavou...  1.000000      0.300000  \n",
       "1  great service good coffee excellent artesan ic...  0.833333      0.783333  \n",
       "2        one must go places summer every single love  0.214286      0.407143  \n",
       "3                           great comes price though  0.800000      0.750000  \n",
       "4                           best biggest scoops town  1.000000      0.300000  "
      ]
     },
     "execution_count": 48,
     "metadata": {},
     "output_type": "execute_result"
    }
   ],
   "source": [
    "#Lets drop the unwanted columns\n",
    "df.drop(['review_lowercase','review_nopunct','review_nostopword','review_lemmatized'], axis = 1, inplace = True)\n",
    "df.head()"
   ]
  },
  {
   "cell_type": "markdown",
   "metadata": {},
   "source": [
    "Why even there are negative polarity? From the histogram of the ratings above, we see there are either neutral or positive reviews only"
   ]
  },
  {
   "cell_type": "code",
   "execution_count": 49,
   "metadata": {},
   "outputs": [
    {
     "data": {
      "text/html": [
       "<div>\n",
       "<style scoped>\n",
       "    .dataframe tbody tr th:only-of-type {\n",
       "        vertical-align: middle;\n",
       "    }\n",
       "\n",
       "    .dataframe tbody tr th {\n",
       "        vertical-align: top;\n",
       "    }\n",
       "\n",
       "    .dataframe thead th {\n",
       "        text-align: right;\n",
       "    }\n",
       "</style>\n",
       "<table border=\"1\" class=\"dataframe\">\n",
       "  <thead>\n",
       "    <tr style=\"text-align: right;\">\n",
       "      <th></th>\n",
       "      <th>Title</th>\n",
       "      <th>Reviews</th>\n",
       "      <th>Ratings</th>\n",
       "      <th>review_cleaned</th>\n",
       "      <th>polarity</th>\n",
       "      <th>subjectivity</th>\n",
       "    </tr>\n",
       "  </thead>\n",
       "  <tbody>\n",
       "    <tr>\n",
       "      <th>0</th>\n",
       "      <td>Jädelino</td>\n",
       "      <td>Chili chocolate flavour to burn you and matcha...</td>\n",
       "      <td>9.3</td>\n",
       "      <td>chili chocolate flavour burn matcha tea flavou...</td>\n",
       "      <td>1.000000</td>\n",
       "      <td>0.300000</td>\n",
       "    </tr>\n",
       "    <tr>\n",
       "      <th>1</th>\n",
       "      <td>Bus Gelato</td>\n",
       "      <td>Great Service good coffee and excellent artesa...</td>\n",
       "      <td>8.8</td>\n",
       "      <td>great service good coffee excellent artesan ic...</td>\n",
       "      <td>0.833333</td>\n",
       "      <td>0.783333</td>\n",
       "    </tr>\n",
       "    <tr>\n",
       "      <th>2</th>\n",
       "      <td>Helsingin jäätelötehdas</td>\n",
       "      <td>One of my \"must go\" places in summer! I've tri...</td>\n",
       "      <td>8.0</td>\n",
       "      <td>one must go places summer every single love</td>\n",
       "      <td>0.214286</td>\n",
       "      <td>0.407143</td>\n",
       "    </tr>\n",
       "    <tr>\n",
       "      <th>3</th>\n",
       "      <td>Helsingin Jäätelötehdas</td>\n",
       "      <td>Great ice cream. Comes at a price though</td>\n",
       "      <td>7.9</td>\n",
       "      <td>great comes price though</td>\n",
       "      <td>0.800000</td>\n",
       "      <td>0.750000</td>\n",
       "    </tr>\n",
       "    <tr>\n",
       "      <th>4</th>\n",
       "      <td>Helsingin jäätelötehtaan kioski</td>\n",
       "      <td>Best ice cream by the biggest scoops I've trie...</td>\n",
       "      <td>7.8</td>\n",
       "      <td>best biggest scoops town</td>\n",
       "      <td>1.000000</td>\n",
       "      <td>0.300000</td>\n",
       "    </tr>\n",
       "    <tr>\n",
       "      <th>5</th>\n",
       "      <td>Fazer Café</td>\n",
       "      <td>I have been coming here for many years great c...</td>\n",
       "      <td>8.0</td>\n",
       "      <td>coming many years great coffee food</td>\n",
       "      <td>0.650000</td>\n",
       "      <td>0.625000</td>\n",
       "    </tr>\n",
       "    <tr>\n",
       "      <th>6</th>\n",
       "      <td>Käpylän Lippakioski</td>\n",
       "      <td>Good coffee brilliant ice-cream nice hippie-li...</td>\n",
       "      <td>7.8</td>\n",
       "      <td>good coffee brilliant icecream nice hippielike...</td>\n",
       "      <td>0.733333</td>\n",
       "      <td>0.866667</td>\n",
       "    </tr>\n",
       "    <tr>\n",
       "      <th>7</th>\n",
       "      <td>Magnum Helsinki</td>\n",
       "      <td>Excellent Ice Cream with a speciaö twist</td>\n",
       "      <td>7.5</td>\n",
       "      <td>excellent speciaö twist</td>\n",
       "      <td>1.000000</td>\n",
       "      <td>1.000000</td>\n",
       "    </tr>\n",
       "    <tr>\n",
       "      <th>8</th>\n",
       "      <td>Café Vanille</td>\n",
       "      <td>Cute kind of authentic place. Nice Finnish pas...</td>\n",
       "      <td>7.7</td>\n",
       "      <td>cute kind authentic place nice finnish pastrie...</td>\n",
       "      <td>0.353571</td>\n",
       "      <td>0.807143</td>\n",
       "    </tr>\n",
       "    <tr>\n",
       "      <th>9</th>\n",
       "      <td>Robert's Coffee Gelato Factory</td>\n",
       "      <td>They have fabulous vegan ice cream too. Try pi...</td>\n",
       "      <td>7.3</td>\n",
       "      <td>fabulous vegan pistachio</td>\n",
       "      <td>0.400000</td>\n",
       "      <td>1.000000</td>\n",
       "    </tr>\n",
       "    <tr>\n",
       "      <th>10</th>\n",
       "      <td>Jäätelökahvila Paja</td>\n",
       "      <td>Ice cream pancakes</td>\n",
       "      <td>7.1</td>\n",
       "      <td>pancakes</td>\n",
       "      <td>0.000000</td>\n",
       "      <td>0.000000</td>\n",
       "    </tr>\n",
       "    <tr>\n",
       "      <th>11</th>\n",
       "      <td>Helsingin Jäätelötehdas</td>\n",
       "      <td>Maraschinos on rusinoit buu!</td>\n",
       "      <td>7.1</td>\n",
       "      <td>maraschinos rusinoit buu</td>\n",
       "      <td>0.000000</td>\n",
       "      <td>0.000000</td>\n",
       "    </tr>\n",
       "    <tr>\n",
       "      <th>12</th>\n",
       "      <td>Ciao! Caffé</td>\n",
       "      <td>Good coffee and excellent gelato made in the p...</td>\n",
       "      <td>7.1</td>\n",
       "      <td>good coffee excellent gelato made premises</td>\n",
       "      <td>0.850000</td>\n",
       "      <td>0.800000</td>\n",
       "    </tr>\n",
       "    <tr>\n",
       "      <th>13</th>\n",
       "      <td>Munkkiniemen lippakioski</td>\n",
       "      <td>Free wlan and tasty icecream!</td>\n",
       "      <td>6.7</td>\n",
       "      <td>free wlan tasty icecream</td>\n",
       "      <td>0.400000</td>\n",
       "      <td>0.800000</td>\n",
       "    </tr>\n",
       "    <tr>\n",
       "      <th>14</th>\n",
       "      <td>Chjoko</td>\n",
       "      <td>Cute chocolate and ice cream place. They have ...</td>\n",
       "      <td>8.4</td>\n",
       "      <td>cute chocolate place also vegan oat milk raspb...</td>\n",
       "      <td>0.500000</td>\n",
       "      <td>1.000000</td>\n",
       "    </tr>\n",
       "    <tr>\n",
       "      <th>15</th>\n",
       "      <td>Roberts Coffee Gelato Factory</td>\n",
       "      <td>Worse lunch buffet than in esplanadi. No take ...</td>\n",
       "      <td>6.1</td>\n",
       "      <td>worse lunch buffet esplanadi lunch boo</td>\n",
       "      <td>-0.400000</td>\n",
       "      <td>0.600000</td>\n",
       "    </tr>\n",
       "    <tr>\n",
       "      <th>16</th>\n",
       "      <td>Sinisen huvilan kahvila</td>\n",
       "      <td>Take an ice cream and enjoy the view :)</td>\n",
       "      <td>9.2</td>\n",
       "      <td>enjoy view</td>\n",
       "      <td>0.400000</td>\n",
       "      <td>0.500000</td>\n",
       "    </tr>\n",
       "    <tr>\n",
       "      <th>17</th>\n",
       "      <td>Ciao! Caffé</td>\n",
       "      <td>Very tasty ice cream with yoghurt :)</td>\n",
       "      <td>5.9</td>\n",
       "      <td>tasty yoghurt</td>\n",
       "      <td>0.000000</td>\n",
       "      <td>0.000000</td>\n",
       "    </tr>\n",
       "    <tr>\n",
       "      <th>18</th>\n",
       "      <td>Kahvila Sävy</td>\n",
       "      <td>Try the new \"Twitter McFlurry\" #delicious #dou...</td>\n",
       "      <td>9.1</td>\n",
       "      <td>new twitter mcflurry delicious doubleshot affo...</td>\n",
       "      <td>0.568182</td>\n",
       "      <td>0.727273</td>\n",
       "    </tr>\n",
       "    <tr>\n",
       "      <th>19</th>\n",
       "      <td>Sokerileipuri Alenius</td>\n",
       "      <td>Great portion of ice cream.</td>\n",
       "      <td>7.3</td>\n",
       "      <td>great portion</td>\n",
       "      <td>0.800000</td>\n",
       "      <td>0.750000</td>\n",
       "    </tr>\n",
       "    <tr>\n",
       "      <th>20</th>\n",
       "      <td>Ciao! Caffé</td>\n",
       "      <td>Delicious vegan ice cream. Ask which flavours ...</td>\n",
       "      <td>5.8</td>\n",
       "      <td>delicious vegan ask flavours vegan</td>\n",
       "      <td>1.000000</td>\n",
       "      <td>1.000000</td>\n",
       "    </tr>\n",
       "    <tr>\n",
       "      <th>21</th>\n",
       "      <td>Brooklyn Cafe</td>\n",
       "      <td>Try the super yummy chocolate brownie with ice...</td>\n",
       "      <td>8.6</td>\n",
       "      <td>super yummy chocolate brownie 6</td>\n",
       "      <td>0.333333</td>\n",
       "      <td>0.666667</td>\n",
       "    </tr>\n",
       "  </tbody>\n",
       "</table>\n",
       "</div>"
      ],
      "text/plain": [
       "                              Title  \\\n",
       "0                          Jädelino   \n",
       "1                        Bus Gelato   \n",
       "2           Helsingin jäätelötehdas   \n",
       "3           Helsingin Jäätelötehdas   \n",
       "4   Helsingin jäätelötehtaan kioski   \n",
       "5                        Fazer Café   \n",
       "6               Käpylän Lippakioski   \n",
       "7                   Magnum Helsinki   \n",
       "8                      Café Vanille   \n",
       "9    Robert's Coffee Gelato Factory   \n",
       "10              Jäätelökahvila Paja   \n",
       "11          Helsingin Jäätelötehdas   \n",
       "12                      Ciao! Caffé   \n",
       "13         Munkkiniemen lippakioski   \n",
       "14                           Chjoko   \n",
       "15    Roberts Coffee Gelato Factory   \n",
       "16          Sinisen huvilan kahvila   \n",
       "17                      Ciao! Caffé   \n",
       "18                     Kahvila Sävy   \n",
       "19            Sokerileipuri Alenius   \n",
       "20                      Ciao! Caffé   \n",
       "21                    Brooklyn Cafe   \n",
       "\n",
       "                                              Reviews  Ratings  \\\n",
       "0   Chili chocolate flavour to burn you and matcha...      9.3   \n",
       "1   Great Service good coffee and excellent artesa...      8.8   \n",
       "2   One of my \"must go\" places in summer! I've tri...      8.0   \n",
       "3            Great ice cream. Comes at a price though      7.9   \n",
       "4   Best ice cream by the biggest scoops I've trie...      7.8   \n",
       "5   I have been coming here for many years great c...      8.0   \n",
       "6   Good coffee brilliant ice-cream nice hippie-li...      7.8   \n",
       "7            Excellent Ice Cream with a speciaö twist      7.5   \n",
       "8   Cute kind of authentic place. Nice Finnish pas...      7.7   \n",
       "9   They have fabulous vegan ice cream too. Try pi...      7.3   \n",
       "10                                 Ice cream pancakes      7.1   \n",
       "11                       Maraschinos on rusinoit buu!      7.1   \n",
       "12  Good coffee and excellent gelato made in the p...      7.1   \n",
       "13                      Free wlan and tasty icecream!      6.7   \n",
       "14  Cute chocolate and ice cream place. They have ...      8.4   \n",
       "15  Worse lunch buffet than in esplanadi. No take ...      6.1   \n",
       "16            Take an ice cream and enjoy the view :)      9.2   \n",
       "17               Very tasty ice cream with yoghurt :)      5.9   \n",
       "18  Try the new \"Twitter McFlurry\" #delicious #dou...      9.1   \n",
       "19                        Great portion of ice cream.      7.3   \n",
       "20  Delicious vegan ice cream. Ask which flavours ...      5.8   \n",
       "21  Try the super yummy chocolate brownie with ice...      8.6   \n",
       "\n",
       "                                       review_cleaned  polarity  subjectivity  \n",
       "0   chili chocolate flavour burn matcha tea flavou...  1.000000      0.300000  \n",
       "1   great service good coffee excellent artesan ic...  0.833333      0.783333  \n",
       "2         one must go places summer every single love  0.214286      0.407143  \n",
       "3                            great comes price though  0.800000      0.750000  \n",
       "4                            best biggest scoops town  1.000000      0.300000  \n",
       "5                 coming many years great coffee food  0.650000      0.625000  \n",
       "6   good coffee brilliant icecream nice hippielike...  0.733333      0.866667  \n",
       "7                             excellent speciaö twist  1.000000      1.000000  \n",
       "8   cute kind authentic place nice finnish pastrie...  0.353571      0.807143  \n",
       "9                            fabulous vegan pistachio  0.400000      1.000000  \n",
       "10                                           pancakes  0.000000      0.000000  \n",
       "11                           maraschinos rusinoit buu  0.000000      0.000000  \n",
       "12         good coffee excellent gelato made premises  0.850000      0.800000  \n",
       "13                           free wlan tasty icecream  0.400000      0.800000  \n",
       "14  cute chocolate place also vegan oat milk raspb...  0.500000      1.000000  \n",
       "15             worse lunch buffet esplanadi lunch boo -0.400000      0.600000  \n",
       "16                                         enjoy view  0.400000      0.500000  \n",
       "17                                      tasty yoghurt  0.000000      0.000000  \n",
       "18  new twitter mcflurry delicious doubleshot affo...  0.568182      0.727273  \n",
       "19                                      great portion  0.800000      0.750000  \n",
       "20                 delicious vegan ask flavours vegan  1.000000      1.000000  \n",
       "21                    super yummy chocolate brownie 6  0.333333      0.666667  "
      ]
     },
     "execution_count": 49,
     "metadata": {},
     "output_type": "execute_result"
    }
   ],
   "source": [
    "df"
   ]
  },
  {
   "cell_type": "markdown",
   "metadata": {},
   "source": [
    "Let's try language detection using textblob and translate the review and then try again\n",
    "\n",
    "No. Not even google can detect! So no luck this time ;)\n",
    "\n",
    "So I will rely on ratings alone then\n",
    "\n",
    "Now the question is would you rely on textblob?\n"
   ]
  },
  {
   "cell_type": "code",
   "execution_count": 60,
   "metadata": {},
   "outputs": [],
   "source": [
    "blob = TextBlob('maraschinos rusinoit buu')"
   ]
  },
  {
   "cell_type": "code",
   "execution_count": 61,
   "metadata": {},
   "outputs": [
    {
     "data": {
      "text/plain": [
       "'ro'"
      ]
     },
     "execution_count": 61,
     "metadata": {},
     "output_type": "execute_result"
    }
   ],
   "source": [
    "blob.detect_language()"
   ]
  },
  {
   "cell_type": "code",
   "execution_count": 62,
   "metadata": {},
   "outputs": [],
   "source": [
    "# #No luck\n",
    "# blob.translate(from_lang= 'ro', to ='en')  #Shows error :("
   ]
  },
  {
   "cell_type": "code",
   "execution_count": 63,
   "metadata": {},
   "outputs": [],
   "source": [
    "# #Let's try this\n",
    "# blob.translate(to ='en') #Not even now"
   ]
  },
  {
   "cell_type": "code",
   "execution_count": 50,
   "metadata": {},
   "outputs": [
    {
     "data": {
      "text/plain": [
       "[['chili',\n",
       "  'chocolate',\n",
       "  'flavour',\n",
       "  'burn',\n",
       "  'matcha',\n",
       "  'tea',\n",
       "  'flavour',\n",
       "  'extinguish',\n",
       "  'yes',\n",
       "  'please',\n",
       "  'best',\n",
       "  'town'],\n",
       " ['great', 'service', 'good', 'coffee', 'excellent', 'artesan', 'icecream'],\n",
       " ['one', 'must', 'go', 'places', 'summer', 'every', 'single', 'love'],\n",
       " ['great', 'comes', 'price', 'though'],\n",
       " ['best', 'biggest', 'scoops', 'town']]"
      ]
     },
     "execution_count": 50,
     "metadata": {},
     "output_type": "execute_result"
    }
   ],
   "source": [
    "def build_corpus(data):\n",
    "    \"Creates a list of lists containing words from each sentence\"\n",
    "    corpus = []\n",
    "    for col in ['review_cleaned']:   #This is a dataframe with review_cleaned column only\n",
    "        for sentence in data[col].iteritems():     #This is now a generator of tuples. The second parameter has sentences. what is the first one ?\n",
    "            word_list = sentence[1].split()        #Split the sentences in a comma separated words within a list. lots of demos in python practice\n",
    "            corpus.append(word_list)               #Now we make a full corpus combining all the wordlists or the documents\n",
    "            \n",
    "    return corpus\n",
    "\n",
    "corpus = build_corpus(df)        \n",
    "corpus[0:5]"
   ]
  },
  {
   "cell_type": "markdown",
   "metadata": {},
   "source": [
    "What pop corn is being popped ?\n",
    "\n",
    "Let me think in detail"
   ]
  },
  {
   "cell_type": "code",
   "execution_count": 51,
   "metadata": {},
   "outputs": [],
   "source": [
    "#https://pandas.pydata.org/pandas-docs/stable/reference/api/pandas.Series.iteritems.html\n",
    "#type(df['review_cleaned'])\n",
    "# sen = df['review_cleaned'].iteritems()\n",
    "# next(sen)\n"
   ]
  },
  {
   "cell_type": "code",
   "execution_count": 52,
   "metadata": {},
   "outputs": [],
   "source": [
    "#sum (len(list) for list in corpus)\n"
   ]
  },
  {
   "cell_type": "markdown",
   "metadata": {},
   "source": [
    "From above function it is obvious that corpus is a collection of text documents. (Try len (corpus). What is the result ?)\n",
    "Each processed review is inserted in a list now, which is a document. So corpus is a collection of documents"
   ]
  },
  {
   "cell_type": "code",
   "execution_count": 53,
   "metadata": {},
   "outputs": [
    {
     "name": "stderr",
     "output_type": "stream",
     "text": [
      "unable to import 'smart_open.gcs', disabling that module\n"
     ]
    },
    {
     "data": {
      "text/plain": [
       "array([-0.00703786,  0.00745347, -0.00964389, -0.01437092, -0.01501403,\n",
       "       -0.01228752, -0.00777872, -0.00380275, -0.00164591, -0.01519394,\n",
       "       -0.01410002, -0.01345105, -0.00901745, -0.0087572 ,  0.00409125,\n",
       "        0.0070935 , -0.01436453,  0.00159457, -0.0144979 ,  0.00437373,\n",
       "        0.00483078, -0.01099307,  0.00942634,  0.00105868, -0.0011259 ,\n",
       "        0.00764722, -0.01412203,  0.00726209,  0.00184679,  0.01135858,\n",
       "       -0.0102304 , -0.01401842], dtype=float32)"
      ]
     },
     "execution_count": 53,
     "metadata": {},
     "output_type": "execute_result"
    }
   ],
   "source": [
    "from gensim.models import word2vec\n",
    "model = word2vec.Word2Vec(corpus, size=32, window=20, min_count=1) # Adjust min_count if you get error. 1 being the minimum\n",
    "model.wv['service']  #Lets see the word vector service trained in our model.wv (Is a numpy vector of a word)"
   ]
  },
  {
   "cell_type": "markdown",
   "metadata": {},
   "source": [
    "Without understanding the details of neural nets, we still use it for our advantage. The input to this neural net: word2vec is a text corpus and the output is a set of (feature) vectors.These vectors are used to perform operations on the vectors such as vector lookup, distance, similarity etc. (We are going to see one magic that can be done because of these word vectors by using TSNE)"
   ]
  },
  {
   "cell_type": "code",
   "execution_count": 54,
   "metadata": {},
   "outputs": [],
   "source": [
    "from sklearn.manifold import TSNE\n",
    "def tsne_plot(model):\n",
    "    \"Creates a TSNE model and plots it\"\n",
    "    labels = []   #90 words corresponding to their tokens. Why 90 ? There were 120 words in corpus, we found above. \n",
    "    tokens = []   #Each token of length 32 as we defined above\n",
    "\n",
    "    '''The vocabulary is in the vocab field of the Word2Vec model's wv property, as a dictionary, with \n",
    "    the keys being each token (word).'''\n",
    "    for word in model.wv.vocab:  #model.wv is the mapping between word and vectors (keyed vector) we discussed in above cell also\n",
    "        tokens.append(model[word])   #This is array of the features of the word\n",
    "        labels.append(word)   #And this is list of course\n",
    "    \n",
    "    tsne_model = TSNE(perplexity=40, n_components=2, init='pca', n_iter=2500, random_state = 0) #Try varying n_iter & perplexity\n",
    "    new_values = tsne_model.fit_transform(tokens)  # 90\n",
    "\n",
    "    x = []   #Are these the x and y coordinates ?\n",
    "    y = []\n",
    "    for value in new_values:\n",
    "        x.append(value[0])\n",
    "        y.append(value[1])\n",
    "        \n",
    "    plt.figure(figsize=(12, 12))   #Make figure little bigger ?\n",
    "    for i in range(len(x)):\n",
    "        plt.scatter(x[i],y[i])    #This will give scatter plot between x and y\n",
    "        plt.annotate(labels[i],     #Too many parameters. Lets just check the documentation of matplotlib.pyplot.annotate\n",
    "                     xy=(x[i], y[i]),\n",
    "                     xytext=(5, 5),\n",
    "                     textcoords='offset points',\n",
    "                     ha='right',\n",
    "                     va='bottom')\n",
    "    \n",
    "#     print (len(tokens))  #This is how i found there are 90 tokens ;)\n",
    "    #print(type(labels))\n",
    "\n",
    "    plt.show()"
   ]
  },
  {
   "cell_type": "code",
   "execution_count": 55,
   "metadata": {},
   "outputs": [
    {
     "name": "stderr",
     "output_type": "stream",
     "text": [
      "C:\\Users\\tranq\\Anaconda3\\lib\\site-packages\\ipykernel_launcher.py:10: DeprecationWarning: Call to deprecated `__getitem__` (Method will be removed in 4.0.0, use self.wv.__getitem__() instead).\n",
      "  # Remove the CWD from sys.path while we load stuff.\n"
     ]
    },
    {
     "data": {
      "image/png": "[encoded data removed]",
      "text/plain": [
       "<Figure size 864x864 with 1 Axes>"
      ]
     },
     "metadata": {
      "needs_background": "light"
     },
     "output_type": "display_data"
    }
   ],
   "source": [
    "tsne_plot(model)"
   ]
  },
  {
   "cell_type": "code",
   "execution_count": 56,
   "metadata": {},
   "outputs": [],
   "source": [
    "# flattened_corpus = [item for sublist in corpus for item in sublist]\n",
    "# len(set(flattened_corpus))  #So, yes, there are 90 labels"
   ]
  },
  {
   "cell_type": "code",
   "execution_count": 75,
   "metadata": {},
   "outputs": [],
   "source": [
    "# x =  [1,2,1.5,2.3,1.7]\n",
    "# y = [-4,-3,-4.5,-3.3,-4.9]\n",
    "# labels = ['a','b','c','d','e']\n",
    "\n",
    "# plt.figure(figsize=(6, 6))   #Make figure little bigger ?\n",
    "# for i in range(len(x)):\n",
    "#     plt.scatter(x[i],y[i])    #This will give scatter plot between x and y\n",
    "#     plt.annotate(labels[i],\n",
    "#                  xy=(x[i], y[i]),     #Too many parameters. Lets just check the documentation of matplotlib.pyplot.annotate\n",
    "#                   ha='right',\n",
    "#                  va='bottom')\n",
    "# plt.show;"
   ]
  },
  {
   "cell_type": "markdown",
   "metadata": {},
   "source": [
    "Now the question is what is TSNE ?\n",
    "\n",
    "Did we represent each word (that had so much features) as a point and did we show the relationship with other words ??\n",
    "\n",
    "But i dont get sense out of this graph. This was just a toy example. We can't keep playing with toys. Let's go to bigger project next so that we can make sense of this T-SNE stuff "
   ]
  },
  {
   "cell_type": "markdown",
   "metadata": {},
   "source": [
    "Feeling dizzy now 😵. \n",
    "\n",
    "Take a break. Get a cup of chocolate or an icecream and see it again\n",
    "\n",
    "Wow! It isnt that difficult now"
   ]
  },
  {
   "cell_type": "markdown",
   "metadata": {},
   "source": [
    "Did we perform manual parameter tuning somewhere ?\n",
    "\n",
    "And what is PCA now ? [Hint: Dimensionality Reduction]"
   ]
  },
  {
   "cell_type": "code",
   "execution_count": 71,
   "metadata": {},
   "outputs": [
    {
     "name": "stderr",
     "output_type": "stream",
     "text": [
      "C:\\Users\\tranq\\Anaconda3\\lib\\site-packages\\ipykernel_launcher.py:1: DeprecationWarning: Call to deprecated `most_similar` (Method will be removed in 4.0.0, use self.wv.most_similar() instead).\n",
      "  \"\"\"Entry point for launching an IPython kernel.\n"
     ]
    },
    {
     "data": {
      "text/plain": [
       "[('brownie', 0.4273693263530731),\n",
       " ('kind', 0.3902070224285126),\n",
       " ('single', 0.36160072684288025),\n",
       " ('please', 0.3555026054382324),\n",
       " ('yes', 0.3514339327812195)]"
      ]
     },
     "execution_count": 71,
     "metadata": {},
     "output_type": "execute_result"
    }
   ],
   "source": [
    "model.most_similar('yoghurt')[:5]"
   ]
  },
  {
   "cell_type": "code",
   "execution_count": 59,
   "metadata": {},
   "outputs": [
    {
     "data": {
      "text/html": [
       "<div>\n",
       "<style scoped>\n",
       "    .dataframe tbody tr th:only-of-type {\n",
       "        vertical-align: middle;\n",
       "    }\n",
       "\n",
       "    .dataframe tbody tr th {\n",
       "        vertical-align: top;\n",
       "    }\n",
       "\n",
       "    .dataframe thead th {\n",
       "        text-align: right;\n",
       "    }\n",
       "</style>\n",
       "<table border=\"1\" class=\"dataframe\">\n",
       "  <thead>\n",
       "    <tr style=\"text-align: right;\">\n",
       "      <th></th>\n",
       "      <th>Ratings</th>\n",
       "      <th>polarity</th>\n",
       "      <th>subjectivity</th>\n",
       "    </tr>\n",
       "  </thead>\n",
       "  <tbody>\n",
       "    <tr>\n",
       "      <th>count</th>\n",
       "      <td>22.000000</td>\n",
       "      <td>22.000000</td>\n",
       "      <td>22.000000</td>\n",
       "    </tr>\n",
       "    <tr>\n",
       "      <th>mean</th>\n",
       "      <td>7.659091</td>\n",
       "      <td>0.519820</td>\n",
       "      <td>0.621965</td>\n",
       "    </tr>\n",
       "    <tr>\n",
       "      <th>std</th>\n",
       "      <td>1.007902</td>\n",
       "      <td>0.390812</td>\n",
       "      <td>0.325904</td>\n",
       "    </tr>\n",
       "    <tr>\n",
       "      <th>min</th>\n",
       "      <td>5.800000</td>\n",
       "      <td>-0.400000</td>\n",
       "      <td>0.000000</td>\n",
       "    </tr>\n",
       "    <tr>\n",
       "      <th>25%</th>\n",
       "      <td>7.100000</td>\n",
       "      <td>0.338393</td>\n",
       "      <td>0.430357</td>\n",
       "    </tr>\n",
       "    <tr>\n",
       "      <th>50%</th>\n",
       "      <td>7.750000</td>\n",
       "      <td>0.534091</td>\n",
       "      <td>0.738636</td>\n",
       "    </tr>\n",
       "    <tr>\n",
       "      <th>75%</th>\n",
       "      <td>8.300000</td>\n",
       "      <td>0.825000</td>\n",
       "      <td>0.805357</td>\n",
       "    </tr>\n",
       "    <tr>\n",
       "      <th>max</th>\n",
       "      <td>9.300000</td>\n",
       "      <td>1.000000</td>\n",
       "      <td>1.000000</td>\n",
       "    </tr>\n",
       "  </tbody>\n",
       "</table>\n",
       "</div>"
      ],
      "text/plain": [
       "         Ratings   polarity  subjectivity\n",
       "count  22.000000  22.000000     22.000000\n",
       "mean    7.659091   0.519820      0.621965\n",
       "std     1.007902   0.390812      0.325904\n",
       "min     5.800000  -0.400000      0.000000\n",
       "25%     7.100000   0.338393      0.430357\n",
       "50%     7.750000   0.534091      0.738636\n",
       "75%     8.300000   0.825000      0.805357\n",
       "max     9.300000   1.000000      1.000000"
      ]
     },
     "execution_count": 59,
     "metadata": {},
     "output_type": "execute_result"
    }
   ],
   "source": [
    "#Some boring stats\n",
    "df.describe()"
   ]
  },
  {
   "cell_type": "markdown",
   "metadata": {},
   "source": [
    "No, I don't like statistics. \n",
    "\n",
    "But wait - I can see statistics can play magics! (Look at the table again)"
   ]
  },
  {
   "cell_type": "markdown",
   "metadata": {},
   "source": []
  },
  {
   "cell_type": "code",
   "execution_count": 64,
   "metadata": {},
   "outputs": [
    {
     "data": {
      "text/plain": [
       "0     10.00\n",
       "1      8.33\n",
       "2      2.14\n",
       "3      8.00\n",
       "4     10.00\n",
       "5      6.50\n",
       "6      7.33\n",
       "7     10.00\n",
       "8      3.54\n",
       "9      4.00\n",
       "10     0.00\n",
       "11     0.00\n",
       "12     8.50\n",
       "13     4.00\n",
       "14     5.00\n",
       "15    -4.00\n",
       "16     4.00\n",
       "17     0.00\n",
       "18     5.68\n",
       "19     8.00\n",
       "20    10.00\n",
       "21     3.33\n",
       "Name: polarity, dtype: float64"
      ]
     },
     "execution_count": 64,
     "metadata": {},
     "output_type": "execute_result"
    }
   ],
   "source": [
    "col1 = round(df['polarity']*10,2)\n",
    "col2 = df['Ratings']\n",
    "col1"
   ]
  },
  {
   "cell_type": "code",
   "execution_count": 65,
   "metadata": {},
   "outputs": [
    {
     "data": {
      "image/png": "[encoded data removed]",
      "text/plain": [
       "<Figure size 432x288 with 1 Axes>"
      ]
     },
     "metadata": {
      "needs_background": "light"
     },
     "output_type": "display_data"
    }
   ],
   "source": [
    "plt.scatter(col1, col2)\n",
    "plt.show() # Depending on whether you use IPython or interactive mode, etc."
   ]
  },
  {
   "cell_type": "markdown",
   "metadata": {},
   "source": [
    "See the correlation plot. A high correlation plot would have been a rather slopy straight line like [href]. So in our next project, we work with massive data and do some more interesting data science stuffs ;)"
   ]
  },
  {
   "cell_type": "markdown",
   "metadata": {},
   "source": [
    "##### This was just a warmup session. Our project will be on tripadvisor site. I am planning to have several categories of data, so by the end of week get scraped all the data I need. So that concepts like correlation, heatmaps graphical for unsupervised learning (Display in graph several categories). With a lot of data, our analysis would be meaningful. "
   ]
  },
  {
   "cell_type": "code",
   "execution_count": null,
   "metadata": {},
   "outputs": [],
   "source": []
  }
 ],
 "metadata": {
  "kernelspec": {
   "display_name": "Python 3",
   "language": "python",
   "name": "python3"
  },
  "language_info": {
   "codemirror_mode": {
    "name": "ipython",
    "version": 3
   },
   "file_extension": ".py",
   "mimetype": "text/x-python",
   "name": "python",
   "nbconvert_exporter": "python",
   "pygments_lexer": "ipython3",
   "version": "3.7.3"
  }
 },
 "nbformat": 4,
 "nbformat_minor": 2
}
