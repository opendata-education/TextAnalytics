{
 "cells": [
  {
   "cell_type": "markdown",
   "metadata": {},
   "source": [
    "- Text Processing\n",
    "- Frequency Distribution Plot\n",
    "- Lexical Dispersion Plot\n",
    "- POS Tagging and NER\n",
    "- Word2Vec\n",
    "- Topic Modeling with LDA\n",
    "- K-Means Clustering"
   ]
  },
  {
   "cell_type": "markdown",
   "metadata": {},
   "source": [
    "In our next exercise we are going to extract our own data and make our own corpus. For this exercise, let's get it from Project Gutenberg (https://www.gutenberg.org/). The Natural Language Toolkit (NLTK) suite has a lots of libraries that makes learning Natural Language Processing easy and fun. It also has small section of texts from the project gutenberg we are going to use for our purpose"
   ]
  },
  {
   "cell_type": "code",
   "execution_count": 1,
   "metadata": {},
   "outputs": [
    {
     "name": "stderr",
     "output_type": "stream",
     "text": [
      "[nltk_data] Downloading package gutenberg to\n",
      "[nltk_data]     C:\\Users\\tranq\\AppData\\Roaming\\nltk_data...\n",
      "[nltk_data]   Package gutenberg is already up-to-date!\n",
      "[nltk_data] Downloading package genesis to\n",
      "[nltk_data]     C:\\Users\\tranq\\AppData\\Roaming\\nltk_data...\n",
      "[nltk_data]   Package genesis is already up-to-date!\n",
      "[nltk_data] Downloading package inaugural to\n",
      "[nltk_data]     C:\\Users\\tranq\\AppData\\Roaming\\nltk_data...\n",
      "[nltk_data]   Package inaugural is already up-to-date!\n",
      "[nltk_data] Downloading package nps_chat to\n",
      "[nltk_data]     C:\\Users\\tranq\\AppData\\Roaming\\nltk_data...\n",
      "[nltk_data]   Package nps_chat is already up-to-date!\n",
      "[nltk_data] Downloading package webtext to\n",
      "[nltk_data]     C:\\Users\\tranq\\AppData\\Roaming\\nltk_data...\n",
      "[nltk_data]   Package webtext is already up-to-date!\n",
      "[nltk_data] Downloading package treebank to\n",
      "[nltk_data]     C:\\Users\\tranq\\AppData\\Roaming\\nltk_data...\n",
      "[nltk_data]   Package treebank is already up-to-date!\n",
      "[nltk_data] Downloading package punkt to\n",
      "[nltk_data]     C:\\Users\\tranq\\AppData\\Roaming\\nltk_data...\n",
      "[nltk_data]   Package punkt is already up-to-date!\n",
      "[nltk_data] Downloading package stopwords to\n",
      "[nltk_data]     C:\\Users\\tranq\\AppData\\Roaming\\nltk_data...\n",
      "[nltk_data]   Package stopwords is already up-to-date!\n",
      "[nltk_data] Downloading package wordnet to\n",
      "[nltk_data]     C:\\Users\\tranq\\AppData\\Roaming\\nltk_data...\n",
      "[nltk_data]   Package wordnet is already up-to-date!\n",
      "[nltk_data] Downloading package averaged_perceptron_tagger to\n",
      "[nltk_data]     C:\\Users\\tranq\\AppData\\Roaming\\nltk_data...\n",
      "[nltk_data]   Package averaged_perceptron_tagger is already up-to-\n",
      "[nltk_data]       date!\n",
      "[nltk_data] Downloading package universal_tagset to\n",
      "[nltk_data]     C:\\Users\\tranq\\AppData\\Roaming\\nltk_data...\n",
      "[nltk_data]   Package universal_tagset is already up-to-date!\n",
      "[nltk_data] Downloading package maxent_ne_chunker to\n",
      "[nltk_data]     C:\\Users\\tranq\\AppData\\Roaming\\nltk_data...\n",
      "[nltk_data]   Package maxent_ne_chunker is already up-to-date!\n",
      "[nltk_data] Downloading package words to\n",
      "[nltk_data]     C:\\Users\\tranq\\AppData\\Roaming\\nltk_data...\n",
      "[nltk_data]   Package words is already up-to-date!\n"
     ]
    },
    {
     "data": {
      "text/plain": [
       "True"
      ]
     },
     "execution_count": 1,
     "metadata": {},
     "output_type": "execute_result"
    }
   ],
   "source": [
    "#See the amount of libraries we are using from the toolkit!\n",
    "import nltk\n",
    "nltk.download('gutenberg')\n",
    "nltk.download('genesis')\n",
    "nltk.download('inaugural')\n",
    "nltk.download('nps_chat')\n",
    "nltk.download('webtext')\n",
    "nltk.download('treebank')\n",
    "nltk.download('punkt')\n",
    "nltk.download('stopwords')\n",
    "nltk.download('wordnet')\n",
    "nltk.download('averaged_perceptron_tagger')\n",
    "nltk.download('universal_tagset')\n",
    "nltk.download('maxent_ne_chunker')\n",
    "nltk.download('words')"
   ]
  },
  {
   "cell_type": "code",
   "execution_count": 2,
   "metadata": {},
   "outputs": [],
   "source": [
    "import nltk\n",
    "#from nltk.book import *\n",
    "from nltk.corpus import gutenberg\n",
    "words = gutenberg.words('shakespeare-hamlet.txt')  #To get the words \n",
    "sentences = gutenberg.sents('shakespeare-hamlet.txt') # Get the sentences\n",
    "sample = gutenberg.raw('shakespeare-hamlet.txt')  #To get the raw text from the read file"
   ]
  },
  {
   "cell_type": "code",
   "execution_count": 3,
   "metadata": {},
   "outputs": [
    {
     "data": {
      "text/plain": [
       "['austen-emma.txt',\n",
       " 'austen-persuasion.txt',\n",
       " 'austen-sense.txt',\n",
       " 'bible-kjv.txt',\n",
       " 'blake-poems.txt',\n",
       " 'bryant-stories.txt',\n",
       " 'burgess-busterbrown.txt',\n",
       " 'carroll-alice.txt',\n",
       " 'chesterton-ball.txt',\n",
       " 'chesterton-brown.txt',\n",
       " 'chesterton-thursday.txt',\n",
       " 'edgeworth-parents.txt',\n",
       " 'melville-moby_dick.txt',\n",
       " 'milton-paradise.txt',\n",
       " 'shakespeare-caesar.txt',\n",
       " 'shakespeare-hamlet.txt',\n",
       " 'shakespeare-macbeth.txt',\n",
       " 'whitman-leaves.txt']"
      ]
     },
     "execution_count": 3,
     "metadata": {},
     "output_type": "execute_result"
    }
   ],
   "source": [
    "#Lets see how many books are there. For this we call the fileids() method in gutenberg object\n",
    "\n",
    "gutenberg.fileids()\n",
    "# gutenberg.fileids()[-3] #We just took one of the 18 books"
   ]
  },
  {
   "cell_type": "code",
   "execution_count": 4,
   "metadata": {},
   "outputs": [],
   "source": [
    "# sample"
   ]
  },
  {
   "cell_type": "code",
   "execution_count": 5,
   "metadata": {},
   "outputs": [
    {
     "data": {
      "text/plain": [
       "['You', 'come', 'most', 'carefully', 'vpon', 'your', 'houre']"
      ]
     },
     "execution_count": 5,
     "metadata": {},
     "output_type": "execute_result"
    }
   ],
   "source": [
    "#words[:50]\n",
    "#len(words)\n",
    "sentences[:10]\n",
    "sentences[15]"
   ]
  },
  {
   "cell_type": "code",
   "execution_count": 6,
   "metadata": {},
   "outputs": [
    {
     "data": {
      "text/plain": [
       "['[The Tragedie of Hamlet by William Shakespeare 1599]\\n\\n\\nActus Primus.',\n",
       " 'Scoena Prima.',\n",
       " 'Enter Barnardo and Francisco two Centinels.',\n",
       " 'Barnardo.',\n",
       " \"Who's there?\"]"
      ]
     },
     "execution_count": 6,
     "metadata": {},
     "output_type": "execute_result"
    }
   ],
   "source": [
    "from nltk.tokenize import sent_tokenize\n",
    "tokenize = sent_tokenize (sample)\n",
    "tokenize[:5]"
   ]
  },
  {
   "cell_type": "code",
   "execution_count": 7,
   "metadata": {},
   "outputs": [],
   "source": [
    "#Lets now check the number of paragraphs\n",
    "\n",
    "#len(gutenberg.paras('shakespeare-hamlet.txt'))\n",
    "\n",
    "# for para in range(10):\n",
    "#     print(tokenize[para])"
   ]
  },
  {
   "cell_type": "markdown",
   "metadata": {},
   "source": [
    "In next warmup exercise, we will use Lambda expression for processing text which is very powerful and easy way to do a lot of stuffs in one go. Here we do it in detail"
   ]
  },
  {
   "cell_type": "code",
   "execution_count": 8,
   "metadata": {},
   "outputs": [
    {
     "data": {
      "text/plain": [
       "'[The'"
      ]
     },
     "execution_count": 8,
     "metadata": {},
     "output_type": "execute_result"
    }
   ],
   "source": [
    "sample.split(' ')[0]"
   ]
  },
  {
   "cell_type": "code",
   "execution_count": 9,
   "metadata": {},
   "outputs": [
    {
     "data": {
      "text/plain": [
       "['the',\n",
       " 'tragedie',\n",
       " 'of',\n",
       " 'hamlet',\n",
       " 'by',\n",
       " 'william',\n",
       " 'shakespeare',\n",
       " '1599actus',\n",
       " 'primus',\n",
       " 'scoena',\n",
       " 'primaenter',\n",
       " 'barnardo',\n",
       " 'and',\n",
       " 'francisco',\n",
       " 'two',\n",
       " 'centinels',\n",
       " 'barnardo',\n",
       " 'whos',\n",
       " 'there',\n",
       " 'fran',\n",
       " 'nay',\n",
       " 'answer',\n",
       " 'me',\n",
       " 'stand',\n",
       " 'vnfoldyour',\n",
       " 'selfe',\n",
       " 'bar',\n",
       " 'long',\n",
       " 'liue',\n",
       " 'the',\n",
       " 'king',\n",
       " 'fran',\n",
       " 'barnardo',\n",
       " 'bar',\n",
       " 'he',\n",
       " 'fran',\n",
       " 'you',\n",
       " 'come',\n",
       " 'most',\n",
       " 'carefully',\n",
       " 'vpon',\n",
       " 'your',\n",
       " 'houre',\n",
       " 'bar',\n",
       " 'tis',\n",
       " 'now',\n",
       " 'strook',\n",
       " 'twelue',\n",
       " 'get',\n",
       " 'thee',\n",
       " 'to',\n",
       " 'bed',\n",
       " 'francisco',\n",
       " 'fran',\n",
       " 'for',\n",
       " 'this',\n",
       " 'releefe',\n",
       " 'much',\n",
       " 'thankes',\n",
       " 'tis',\n",
       " 'bitter',\n",
       " 'coldand',\n",
       " 'i',\n",
       " 'am',\n",
       " 'sicke',\n",
       " 'at',\n",
       " 'heart',\n",
       " 'barn',\n",
       " 'haue',\n",
       " 'you',\n",
       " 'had',\n",
       " 'quiet',\n",
       " 'guard',\n",
       " 'fran',\n",
       " 'not',\n",
       " 'a',\n",
       " 'mouse',\n",
       " 'stirring',\n",
       " 'barn',\n",
       " 'well',\n",
       " 'goodnight',\n",
       " 'if',\n",
       " 'you',\n",
       " 'do',\n",
       " 'meet',\n",
       " 'horatio',\n",
       " 'andmarcellus',\n",
       " 'the',\n",
       " 'riuals',\n",
       " 'of',\n",
       " 'my',\n",
       " 'watch',\n",
       " 'bid',\n",
       " 'them',\n",
       " 'make',\n",
       " 'hastenter',\n",
       " 'horatio',\n",
       " 'and',\n",
       " 'marcellus',\n",
       " 'fran',\n",
       " 'i',\n",
       " 'thinke',\n",
       " 'i',\n",
       " 'heare',\n",
       " 'them',\n",
       " 'stand',\n",
       " 'whos',\n",
       " 'there',\n",
       " 'hor',\n",
       " 'friends',\n",
       " 'to',\n",
       " 'this',\n",
       " 'ground',\n",
       " 'mar',\n",
       " 'and',\n",
       " 'leigemen',\n",
       " 'to',\n",
       " 'the',\n",
       " 'dane',\n",
       " 'fran',\n",
       " 'giue',\n",
       " 'you',\n",
       " 'good',\n",
       " 'night',\n",
       " 'mar',\n",
       " 'o',\n",
       " 'farwel',\n",
       " 'honest',\n",
       " 'soldier',\n",
       " 'who',\n",
       " 'hath',\n",
       " 'relieud',\n",
       " 'you',\n",
       " 'fra',\n",
       " 'barnardo',\n",
       " 'has',\n",
       " 'my',\n",
       " 'place',\n",
       " 'giue',\n",
       " 'you',\n",
       " 'goodnightexit',\n",
       " 'fran',\n",
       " 'mar',\n",
       " 'holla',\n",
       " 'barnardo',\n",
       " 'bar',\n",
       " 'say',\n",
       " 'what',\n",
       " 'is',\n",
       " 'horatio',\n",
       " 'there',\n",
       " 'hor',\n",
       " 'a',\n",
       " 'peece',\n",
       " 'of',\n",
       " 'him',\n",
       " 'bar',\n",
       " 'welcome',\n",
       " 'horatio',\n",
       " 'welcome',\n",
       " 'good',\n",
       " 'marcellus',\n",
       " 'mar',\n",
       " 'what',\n",
       " 'has',\n",
       " 'this',\n",
       " 'thing',\n",
       " 'appeard',\n",
       " 'againe',\n",
       " 'to',\n",
       " 'night',\n",
       " 'bar',\n",
       " 'i',\n",
       " 'haue',\n",
       " 'seene',\n",
       " 'nothing',\n",
       " 'mar',\n",
       " 'horatio',\n",
       " 'saies',\n",
       " 'tis',\n",
       " 'but',\n",
       " 'our',\n",
       " 'fantasieand',\n",
       " 'will',\n",
       " 'not',\n",
       " 'let',\n",
       " 'beleefe',\n",
       " 'take',\n",
       " 'hold',\n",
       " 'of',\n",
       " 'himtouching',\n",
       " 'this',\n",
       " 'dreaded',\n",
       " 'sight',\n",
       " 'twice',\n",
       " 'seene',\n",
       " 'of',\n",
       " 'vstherefore',\n",
       " 'i',\n",
       " 'haue',\n",
       " 'intreated',\n",
       " 'him',\n",
       " 'alongwith',\n",
       " 'vs',\n",
       " 'to',\n",
       " 'watch',\n",
       " 'the',\n",
       " 'minutes',\n",
       " 'of',\n",
       " 'this',\n",
       " 'nightthat',\n",
       " 'if',\n",
       " 'againe',\n",
       " 'this',\n",
       " 'apparition',\n",
       " 'comehe',\n",
       " 'may',\n",
       " 'approue',\n",
       " 'our',\n",
       " 'eyes',\n",
       " 'and',\n",
       " 'speake',\n",
       " 'to',\n",
       " 'it',\n",
       " 'hor',\n",
       " 'tush',\n",
       " 'tush',\n",
       " 'twill',\n",
       " 'not',\n",
       " 'appeare',\n",
       " 'bar',\n",
       " 'sit',\n",
       " 'downe',\n",
       " 'awhileand',\n",
       " 'let',\n",
       " 'vs',\n",
       " 'once',\n",
       " 'againe',\n",
       " 'assaile',\n",
       " 'your',\n",
       " 'earesthat',\n",
       " 'are',\n",
       " 'so',\n",
       " 'fortified',\n",
       " 'against',\n",
       " 'our',\n",
       " 'storywhat',\n",
       " 'we',\n",
       " 'two',\n",
       " 'nights',\n",
       " 'haue',\n",
       " 'seene',\n",
       " 'hor',\n",
       " 'well',\n",
       " 'sit',\n",
       " 'we',\n",
       " 'downeand',\n",
       " 'let',\n",
       " 'vs',\n",
       " 'heare',\n",
       " 'barnardo',\n",
       " 'speake',\n",
       " 'of',\n",
       " 'this',\n",
       " 'barn',\n",
       " 'last',\n",
       " 'night',\n",
       " 'of',\n",
       " 'allwhen',\n",
       " 'yond',\n",
       " 'same',\n",
       " 'starre',\n",
       " 'thats',\n",
       " 'westward',\n",
       " 'from',\n",
       " 'the',\n",
       " 'polehad',\n",
       " 'made',\n",
       " 'his',\n",
       " 'course',\n",
       " 't',\n",
       " 'illume',\n",
       " 'that',\n",
       " 'part',\n",
       " 'of',\n",
       " 'heauenwhere',\n",
       " 'now',\n",
       " 'it',\n",
       " 'burnes',\n",
       " 'marcellus',\n",
       " 'and',\n",
       " 'my',\n",
       " 'selfethe',\n",
       " 'bell',\n",
       " 'then',\n",
       " 'beating',\n",
       " 'one',\n",
       " 'mar',\n",
       " 'peace',\n",
       " 'breake',\n",
       " 'thee',\n",
       " 'ofenter',\n",
       " 'the',\n",
       " 'ghostlooke',\n",
       " 'where',\n",
       " 'it',\n",
       " 'comes',\n",
       " 'againe',\n",
       " 'barn',\n",
       " 'in',\n",
       " 'the',\n",
       " 'same',\n",
       " 'figure',\n",
       " 'like',\n",
       " 'the',\n",
       " 'king',\n",
       " 'thats',\n",
       " 'dead',\n",
       " 'mar',\n",
       " 'thou',\n",
       " 'art',\n",
       " 'a',\n",
       " 'scholler',\n",
       " 'speake',\n",
       " 'to',\n",
       " 'it',\n",
       " 'horatio',\n",
       " 'barn',\n",
       " 'lookes',\n",
       " 'it',\n",
       " 'not',\n",
       " 'like',\n",
       " 'the',\n",
       " 'king',\n",
       " 'marke',\n",
       " 'it',\n",
       " 'horatio',\n",
       " 'hora',\n",
       " 'most',\n",
       " 'like',\n",
       " 'it',\n",
       " 'harrowes',\n",
       " 'me',\n",
       " 'with',\n",
       " 'fear',\n",
       " 'wonder',\n",
       " 'barn',\n",
       " 'it',\n",
       " 'would',\n",
       " 'be',\n",
       " 'spoke',\n",
       " 'too',\n",
       " 'mar',\n",
       " 'question',\n",
       " 'it',\n",
       " 'horatio',\n",
       " 'hor',\n",
       " 'what',\n",
       " 'art',\n",
       " 'thou',\n",
       " 'that',\n",
       " 'vsurpst',\n",
       " 'this',\n",
       " 'time',\n",
       " 'of',\n",
       " 'nighttogether',\n",
       " 'with',\n",
       " 'that',\n",
       " 'faire',\n",
       " 'and',\n",
       " 'warlike',\n",
       " 'formein',\n",
       " 'which',\n",
       " 'the',\n",
       " 'maiesty',\n",
       " 'of',\n",
       " 'buried',\n",
       " 'denmarkedid',\n",
       " 'sometimes',\n",
       " 'march',\n",
       " 'by',\n",
       " 'heauen',\n",
       " 'i',\n",
       " 'charge',\n",
       " 'thee',\n",
       " 'speake',\n",
       " 'mar',\n",
       " 'it',\n",
       " 'is',\n",
       " 'offended',\n",
       " 'barn',\n",
       " 'see',\n",
       " 'it',\n",
       " 'stalkes',\n",
       " 'away',\n",
       " 'hor',\n",
       " 'stay',\n",
       " 'speake',\n",
       " 'speake',\n",
       " 'i',\n",
       " 'charge',\n",
       " 'thee',\n",
       " 'speakeexit',\n",
       " 'the',\n",
       " 'ghost',\n",
       " 'mar',\n",
       " 'tis',\n",
       " 'gone',\n",
       " 'and',\n",
       " 'will',\n",
       " 'not',\n",
       " 'answer',\n",
       " 'barn',\n",
       " 'how',\n",
       " 'now',\n",
       " 'horatio',\n",
       " 'you',\n",
       " 'tremble',\n",
       " 'look',\n",
       " 'paleis',\n",
       " 'not',\n",
       " 'this',\n",
       " 'something',\n",
       " 'more',\n",
       " 'then',\n",
       " 'fantasiewhat',\n",
       " 'thinke',\n",
       " 'you',\n",
       " 'ont',\n",
       " 'hor',\n",
       " 'before',\n",
       " 'my',\n",
       " 'god',\n",
       " 'i',\n",
       " 'might',\n",
       " 'not',\n",
       " 'this',\n",
       " 'beleeuewithout',\n",
       " 'the',\n",
       " 'sensible',\n",
       " 'and',\n",
       " 'true',\n",
       " 'auouchof',\n",
       " 'mine',\n",
       " 'owne',\n",
       " 'eyes',\n",
       " 'mar',\n",
       " 'is',\n",
       " 'it',\n",
       " 'not',\n",
       " 'like',\n",
       " 'the',\n",
       " 'king',\n",
       " 'hor',\n",
       " 'as',\n",
       " 'thou',\n",
       " 'art',\n",
       " 'to',\n",
       " 'thy',\n",
       " 'selfesuch',\n",
       " 'was',\n",
       " 'the',\n",
       " 'very',\n",
       " 'armour',\n",
       " 'he',\n",
       " 'had',\n",
       " 'onwhen',\n",
       " 'th',\n",
       " 'ambitious',\n",
       " 'norwey',\n",
       " 'combattedso',\n",
       " 'frownd',\n",
       " 'he',\n",
       " 'once',\n",
       " 'when',\n",
       " 'in',\n",
       " 'an',\n",
       " 'angry',\n",
       " 'parlehe',\n",
       " 'smot',\n",
       " 'the',\n",
       " 'sledded',\n",
       " 'pollax',\n",
       " 'on',\n",
       " 'the',\n",
       " 'icetis',\n",
       " 'strange',\n",
       " 'mar',\n",
       " 'thus',\n",
       " 'twice',\n",
       " 'before',\n",
       " 'and',\n",
       " 'iust',\n",
       " 'at',\n",
       " 'this',\n",
       " 'dead',\n",
       " 'hourewith',\n",
       " 'martiall',\n",
       " 'stalke',\n",
       " 'hath',\n",
       " 'he',\n",
       " 'gone',\n",
       " 'by',\n",
       " 'our',\n",
       " 'watch',\n",
       " 'hor',\n",
       " 'in',\n",
       " 'what',\n",
       " 'particular',\n",
       " 'thought',\n",
       " 'to',\n",
       " 'work',\n",
       " 'i',\n",
       " 'know',\n",
       " 'notbut',\n",
       " 'in',\n",
       " 'the',\n",
       " 'grosse',\n",
       " 'and',\n",
       " 'scope',\n",
       " 'of',\n",
       " 'my',\n",
       " 'opinionthis',\n",
       " 'boades',\n",
       " 'some',\n",
       " 'strange',\n",
       " 'erruption',\n",
       " 'to',\n",
       " 'our',\n",
       " 'state',\n",
       " 'mar',\n",
       " 'good',\n",
       " 'now',\n",
       " 'sit',\n",
       " 'downe',\n",
       " 'tell',\n",
       " 'me',\n",
       " 'he',\n",
       " 'that',\n",
       " 'knoweswhy',\n",
       " 'this',\n",
       " 'same',\n",
       " 'strict',\n",
       " 'and',\n",
       " 'most',\n",
       " 'obseruant',\n",
       " 'watchso',\n",
       " 'nightly',\n",
       " 'toyles',\n",
       " 'the',\n",
       " 'subiect',\n",
       " 'of',\n",
       " 'the',\n",
       " 'landand',\n",
       " 'why',\n",
       " 'such',\n",
       " 'dayly',\n",
       " 'cast',\n",
       " 'of',\n",
       " 'brazon',\n",
       " 'cannonand',\n",
       " 'forraigne',\n",
       " 'mart',\n",
       " 'for',\n",
       " 'implements',\n",
       " 'of',\n",
       " 'warrewhy',\n",
       " 'such',\n",
       " 'impresse',\n",
       " 'of',\n",
       " 'shipwrights',\n",
       " 'whose',\n",
       " 'sore',\n",
       " 'taskedos',\n",
       " 'not',\n",
       " 'diuide',\n",
       " 'the',\n",
       " 'sunday',\n",
       " 'from',\n",
       " 'the',\n",
       " 'weekewhat',\n",
       " 'might',\n",
       " 'be',\n",
       " 'toward',\n",
       " 'that',\n",
       " 'this',\n",
       " 'sweaty',\n",
       " 'hastdoth',\n",
       " 'make',\n",
       " 'the',\n",
       " 'night',\n",
       " 'ioyntlabourer',\n",
       " 'with',\n",
       " 'the',\n",
       " 'daywho',\n",
       " 'ist',\n",
       " 'that',\n",
       " 'can',\n",
       " 'informe',\n",
       " 'me',\n",
       " 'hor',\n",
       " 'that',\n",
       " 'can',\n",
       " 'iat',\n",
       " 'least',\n",
       " 'the',\n",
       " 'whisper',\n",
       " 'goes',\n",
       " 'so',\n",
       " 'our',\n",
       " 'last',\n",
       " 'kingwhose',\n",
       " 'image',\n",
       " 'euen',\n",
       " 'but',\n",
       " 'now',\n",
       " 'appeard',\n",
       " 'to',\n",
       " 'vswas',\n",
       " 'as',\n",
       " 'you',\n",
       " 'know',\n",
       " 'by',\n",
       " 'fortinbras',\n",
       " 'of',\n",
       " 'norwaythereto',\n",
       " 'prickd',\n",
       " 'on',\n",
       " 'by',\n",
       " 'a',\n",
       " 'most',\n",
       " 'emulate',\n",
       " 'pridedard',\n",
       " 'to',\n",
       " 'the',\n",
       " 'combate',\n",
       " 'in',\n",
       " 'which',\n",
       " 'our',\n",
       " 'valiant',\n",
       " 'hamletfor',\n",
       " 'so',\n",
       " 'this',\n",
       " 'side',\n",
       " 'of',\n",
       " 'our',\n",
       " 'knowne',\n",
       " 'world',\n",
       " 'esteemd',\n",
       " 'himdid',\n",
       " 'slay',\n",
       " 'this',\n",
       " 'fortinbras',\n",
       " 'who',\n",
       " 'by',\n",
       " 'a',\n",
       " 'seald',\n",
       " 'compactwell',\n",
       " 'ratified',\n",
       " 'by',\n",
       " 'law',\n",
       " 'and',\n",
       " 'heraldriedid',\n",
       " 'forfeite',\n",
       " 'with',\n",
       " 'his',\n",
       " 'life',\n",
       " 'all',\n",
       " 'those',\n",
       " 'his',\n",
       " 'landswhich',\n",
       " 'he',\n",
       " 'stood',\n",
       " 'seizd',\n",
       " 'on',\n",
       " 'to',\n",
       " 'the',\n",
       " 'conqueroragainst',\n",
       " 'the',\n",
       " 'which',\n",
       " 'a',\n",
       " 'moity',\n",
       " 'competentwas',\n",
       " 'gaged',\n",
       " 'by',\n",
       " 'our',\n",
       " 'king',\n",
       " 'which',\n",
       " 'had',\n",
       " 'returndto',\n",
       " 'the',\n",
       " 'inheritance',\n",
       " 'of',\n",
       " 'fortinbrashad',\n",
       " 'he',\n",
       " 'bin',\n",
       " 'vanquisher',\n",
       " 'as',\n",
       " 'by',\n",
       " 'the',\n",
       " 'same',\n",
       " 'counantand',\n",
       " 'carriage',\n",
       " 'of',\n",
       " 'the',\n",
       " 'article',\n",
       " 'designehis',\n",
       " 'fell',\n",
       " 'to',\n",
       " 'hamlet',\n",
       " 'now',\n",
       " 'sir',\n",
       " 'young',\n",
       " 'fortinbrasof',\n",
       " 'vnimproued',\n",
       " 'mettle',\n",
       " 'hot',\n",
       " 'and',\n",
       " 'fullhath',\n",
       " 'in',\n",
       " 'the',\n",
       " 'skirts',\n",
       " 'of',\n",
       " 'norway',\n",
       " 'heere',\n",
       " 'and',\n",
       " 'theresharkd',\n",
       " 'vp',\n",
       " 'a',\n",
       " 'list',\n",
       " 'of',\n",
       " 'landlesse',\n",
       " 'resolutesfor',\n",
       " 'foode',\n",
       " 'and',\n",
       " 'diet',\n",
       " 'to',\n",
       " 'some',\n",
       " 'enterprizethat',\n",
       " 'hath',\n",
       " 'a',\n",
       " 'stomacke',\n",
       " 'int',\n",
       " 'which',\n",
       " 'is',\n",
       " 'no',\n",
       " 'otherand',\n",
       " 'it',\n",
       " 'doth',\n",
       " 'well',\n",
       " 'appeare',\n",
       " 'vnto',\n",
       " 'our',\n",
       " 'statebut',\n",
       " 'to',\n",
       " 'recouer',\n",
       " 'of',\n",
       " 'vs',\n",
       " 'by',\n",
       " 'strong',\n",
       " 'handand',\n",
       " 'termes',\n",
       " 'compulsatiue',\n",
       " 'those',\n",
       " 'foresaid',\n",
       " 'landsso',\n",
       " 'by',\n",
       " 'his',\n",
       " 'father',\n",
       " 'lost',\n",
       " 'and',\n",
       " 'this',\n",
       " 'i',\n",
       " 'take',\n",
       " 'itis',\n",
       " 'the',\n",
       " 'maine',\n",
       " 'motiue',\n",
       " 'of',\n",
       " 'our',\n",
       " 'preparationsthe',\n",
       " 'sourse',\n",
       " 'of',\n",
       " 'this',\n",
       " 'our',\n",
       " 'watch',\n",
       " 'and',\n",
       " 'the',\n",
       " 'cheefe',\n",
       " 'headof',\n",
       " 'this',\n",
       " 'posthast',\n",
       " 'and',\n",
       " 'romage',\n",
       " 'in',\n",
       " 'the',\n",
       " 'landenter',\n",
       " 'ghost',\n",
       " 'againebut',\n",
       " 'soft',\n",
       " 'behold',\n",
       " 'loe',\n",
       " 'where',\n",
       " 'it',\n",
       " 'comes',\n",
       " 'againeile',\n",
       " 'crosse',\n",
       " 'it',\n",
       " 'though',\n",
       " 'it',\n",
       " 'blast',\n",
       " 'me',\n",
       " 'stay',\n",
       " 'illusionif',\n",
       " 'thou',\n",
       " 'hast',\n",
       " 'any',\n",
       " 'sound',\n",
       " 'or',\n",
       " 'vse',\n",
       " 'of',\n",
       " 'voycespeake',\n",
       " 'to',\n",
       " 'me',\n",
       " 'if',\n",
       " 'there',\n",
       " 'be',\n",
       " 'any',\n",
       " 'good',\n",
       " 'thing',\n",
       " 'to',\n",
       " 'be',\n",
       " 'donethat',\n",
       " 'may',\n",
       " 'to',\n",
       " 'thee',\n",
       " 'do',\n",
       " 'ease',\n",
       " 'and',\n",
       " 'grace',\n",
       " 'to',\n",
       " 'me',\n",
       " 'speak',\n",
       " 'to',\n",
       " 'meif',\n",
       " 'thou',\n",
       " 'art',\n",
       " 'priuy',\n",
       " 'to',\n",
       " 'thy',\n",
       " 'countries',\n",
       " 'fatewhich',\n",
       " 'happily',\n",
       " 'foreknowing',\n",
       " 'may',\n",
       " 'auoyd',\n",
       " 'oh',\n",
       " 'speakeor',\n",
       " 'if',\n",
       " 'thou',\n",
       " 'hast',\n",
       " 'vphoorded',\n",
       " 'in',\n",
       " 'thy',\n",
       " 'lifeextorted',\n",
       " 'treasure',\n",
       " 'in',\n",
       " 'the',\n",
       " 'wombe',\n",
       " 'of',\n",
       " 'earthfor',\n",
       " 'which',\n",
       " 'they',\n",
       " 'say',\n",
       " 'you',\n",
       " 'spirits',\n",
       " 'oft',\n",
       " 'walke',\n",
       " 'in',\n",
       " 'deathspeake',\n",
       " 'of',\n",
       " 'it',\n",
       " 'stay',\n",
       " 'and',\n",
       " 'speake',\n",
       " 'stop',\n",
       " 'it',\n",
       " 'marcellus',\n",
       " 'mar',\n",
       " 'shall',\n",
       " 'i',\n",
       " 'strike',\n",
       " 'at',\n",
       " 'it',\n",
       " 'with',\n",
       " 'my',\n",
       " 'partizan',\n",
       " 'hor',\n",
       " 'do',\n",
       " 'if',\n",
       " 'it',\n",
       " 'will',\n",
       " 'not',\n",
       " 'stand',\n",
       " 'barn',\n",
       " 'tis',\n",
       " 'heere',\n",
       " 'hor',\n",
       " 'tis',\n",
       " 'heere',\n",
       " 'mar',\n",
       " 'tis',\n",
       " 'goneexit',\n",
       " 'ghostwe',\n",
       " 'do',\n",
       " 'it',\n",
       " 'wrong',\n",
       " 'being',\n",
       " 'so',\n",
       " 'maiesticallto',\n",
       " 'offer',\n",
       " 'it',\n",
       " 'the',\n",
       " 'shew',\n",
       " 'of',\n",
       " 'violencefor',\n",
       " 'it',\n",
       " 'is',\n",
       " 'as',\n",
       " 'the',\n",
       " 'ayre',\n",
       " 'invulnerableand',\n",
       " 'our',\n",
       " 'vaine',\n",
       " 'blowes',\n",
       " 'malicious',\n",
       " 'mockery',\n",
       " 'barn',\n",
       " 'it',\n",
       " 'was',\n",
       " 'about',\n",
       " 'to',\n",
       " 'speake',\n",
       " 'when',\n",
       " 'the',\n",
       " 'cocke',\n",
       " 'crew',\n",
       " 'hor',\n",
       " 'and',\n",
       " 'then',\n",
       " 'it',\n",
       " 'started',\n",
       " 'like',\n",
       " 'a',\n",
       " 'guilty',\n",
       " 'thingvpon',\n",
       " 'a',\n",
       " 'fearfull',\n",
       " 'summons',\n",
       " 'i',\n",
       " 'haue',\n",
       " 'heardthe',\n",
       " 'cocke',\n",
       " 'that',\n",
       " 'is',\n",
       " 'the',\n",
       " 'trumpet',\n",
       " 'to',\n",
       " 'the',\n",
       " 'daydoth',\n",
       " 'with',\n",
       " 'his',\n",
       " 'lofty',\n",
       " 'and',\n",
       " 'shrillsounding',\n",
       " 'throateawake',\n",
       " 'the',\n",
       " 'god',\n",
       " 'of',\n",
       " 'day',\n",
       " 'and',\n",
       " 'at',\n",
       " 'his',\n",
       " 'warningwhether',\n",
       " 'in',\n",
       " 'sea',\n",
       " 'or',\n",
       " 'fire',\n",
       " 'in',\n",
       " 'earth',\n",
       " 'or',\n",
       " 'ayreth',\n",
       " 'extrauagant',\n",
       " 'and',\n",
       " 'erring',\n",
       " 'spirit',\n",
       " 'hyesto',\n",
       " 'his',\n",
       " 'confine',\n",
       " 'and',\n",
       " ...]"
      ]
     },
     "execution_count": 9,
     "metadata": {},
     "output_type": "execute_result"
    }
   ],
   "source": [
    "#Clean the text. Tokenize it. Remove unnecessary ....\n",
    "import re\n",
    "sample_split = []\n",
    "for st in sample.strip().lower().split(' '):  ##?? why so much in one line ? What's going on ?\n",
    "    st = re.sub(r\"[^a-zA-Z0-9]+\", '', st)  #What will this regex do ? Feel free to do extra cleaning and play with regex\n",
    "        \n",
    "    sample_split.append(st)\n",
    "    #print(st)\n",
    "sample_split\n",
    "\n",
    "while '' in sample_split:   #The extra '\\n' will be '' so we need to remove it now\n",
    "    sample_split.remove('')\n",
    "    \n",
    "sample_split"
   ]
  },
  {
   "cell_type": "raw",
   "metadata": {},
   "source": [
    "Tokenization can be done this way also. (Wait! There's a reason I am doing this. I will need it somewhere)"
   ]
  },
  {
   "cell_type": "code",
   "execution_count": 10,
   "metadata": {},
   "outputs": [
    {
     "data": {
      "text/plain": [
       "nltk.text.Text"
      ]
     },
     "execution_count": 10,
     "metadata": {},
     "output_type": "execute_result"
    }
   ],
   "source": [
    "from nltk.tokenize import word_tokenize\n",
    "tokens = nltk.word_tokenize(sample)   # tokenize it\n",
    "mytext = nltk.Text(tokens)         # turn text into a NLTK Text object\n",
    "#mytext[:5]\n",
    "type(mytext)"
   ]
  },
  {
   "cell_type": "code",
   "execution_count": 11,
   "metadata": {},
   "outputs": [],
   "source": [
    "# for word in range(10):\n",
    "#     print(mytext[word])"
   ]
  },
  {
   "cell_type": "code",
   "execution_count": 12,
   "metadata": {},
   "outputs": [],
   "source": [
    "#Remove stopwords now\n",
    "new_sample = []\n",
    "import nltk\n",
    "from nltk.corpus import stopwords\n",
    "\n",
    "stop_words = stopwords.words('english')\n",
    "\n",
    "for word in sample_split:\n",
    "    if word not in stop_words:\n",
    "        new_sample.append(word)\n",
    "\n",
    "#new_sample\n"
   ]
  },
  {
   "cell_type": "code",
   "execution_count": 13,
   "metadata": {},
   "outputs": [],
   "source": [
    "#Now let's do Lemmatization\n",
    "new_sample1 = []\n",
    "from nltk.stem import WordNetLemmatizer\n",
    "wnl = WordNetLemmatizer()\n",
    "\n",
    "for word in new_sample:\n",
    "    new_sample1.append(wnl.lemmatize(word))\n",
    "    \n",
    "#new_sample1"
   ]
  },
  {
   "cell_type": "markdown",
   "metadata": {},
   "source": [
    "Let's see the count of words and see the ones that occur more frequently. For that we use FreqDist"
   ]
  },
  {
   "cell_type": "code",
   "execution_count": 14,
   "metadata": {},
   "outputs": [
    {
     "name": "stdout",
     "output_type": "stream",
     "text": [
      "<FreqDist with 6460 samples and 15280 outcomes>\n"
     ]
    },
    {
     "data": {
      "text/plain": [
       "[('ham', 337),\n",
       " ('lord', 188),\n",
       " ('king', 160),\n",
       " ('haue', 159),\n",
       " ('shall', 99),\n",
       " ('come', 98),\n",
       " ('hor', 95),\n",
       " ('thou', 90),\n",
       " ('good', 89),\n",
       " ('let', 85),\n",
       " ('thy', 85),\n",
       " ('hamlet', 83),\n",
       " ('like', 70),\n",
       " ('qu', 62),\n",
       " ('know', 61),\n",
       " ('father', 61),\n",
       " ('laer', 60),\n",
       " ('ti', 59),\n",
       " ('oh', 58),\n",
       " ('well', 57)]"
      ]
     },
     "execution_count": 14,
     "metadata": {},
     "output_type": "execute_result"
    }
   ],
   "source": [
    "from nltk.probability import FreqDist\n",
    "\n",
    "freq_dist = FreqDist(new_sample1)\n",
    "print(freq_dist)\n",
    "\n",
    "freq_dist.most_common(20)  # Understanding Shakespeare's Vocabulary set ;)"
   ]
  },
  {
   "cell_type": "code",
   "execution_count": 15,
   "metadata": {},
   "outputs": [
    {
     "data": {
      "image/png": "[encoded data removed]",
      "text/plain": [
       "<Figure size 432x288 with 1 Axes>"
      ]
     },
     "metadata": {
      "needs_background": "light"
     },
     "output_type": "display_data"
    }
   ],
   "source": [
    "%matplotlib inline\n",
    "\n",
    "# Frequency Distribution Plot\n",
    "import matplotlib.pyplot as plt\n",
    "freq_dist.plot(20,cumulative=False)\n",
    "plt.show()\n"
   ]
  },
  {
   "cell_type": "raw",
   "metadata": {},
   "source": [
    "Now lets try dispersion plot (For this we will need special object of NLTK nltk.text.Text, which we have already done)"
   ]
  },
  {
   "cell_type": "code",
   "execution_count": 16,
   "metadata": {},
   "outputs": [
    {
     "data": {
      "image/png": "[encoded data removed]",
      "text/plain": [
       "<Figure size 432x288 with 1 Axes>"
      ]
     },
     "metadata": {
      "needs_background": "light"
     },
     "output_type": "display_data"
    }
   ],
   "source": [
    "#Let me test my favorite words in Shakespeare's play\n",
    "\n",
    "mytext.dispersion_plot(['hello','good','No','fine','ok','yes'])  ##Recalling mytext .... where did we assign it ?"
   ]
  },
  {
   "cell_type": "markdown",
   "metadata": {},
   "source": [
    "#### POS Tagging "
   ]
  },
  {
   "cell_type": "markdown",
   "metadata": {},
   "source": [
    "In corpus linguistics, part-of-speech tagging (POS tagging or PoS tagging or POST), also called grammatical tagging or word-category disambiguation, is the process of marking up a word in a text (corpus) as corresponding to a particular part of speech,based on both its definition and its context—i.e., its relationship with adjacent and related words in a phrase, sentence, or paragraph. A simplified form of this is commonly taught to school-age children, in the identification of words as nouns, verbs, adjectives, adverbs, etc.\n",
    "[Wikipedia]"
   ]
  },
  {
   "cell_type": "code",
   "execution_count": 17,
   "metadata": {},
   "outputs": [
    {
     "data": {
      "text/plain": [
       "[('[', 'ADP'),\n",
       " ('The', 'DET'),\n",
       " ('Tragedie', 'NOUN'),\n",
       " ('of', 'ADP'),\n",
       " ('Hamlet', 'NOUN'),\n",
       " ('by', 'ADP'),\n",
       " ('William', 'NOUN'),\n",
       " ('Shakespeare', 'NOUN'),\n",
       " ('1599', 'NUM'),\n",
       " (']', 'NOUN')]"
      ]
     },
     "execution_count": 17,
     "metadata": {},
     "output_type": "execute_result"
    }
   ],
   "source": [
    "#nltk.download('universal_tagset')\n",
    "#Feel free to slice the mytext object. \n",
    "lst = mytext[:10]\n",
    "pos_tag = nltk.pos_tag(lst,tagset = 'universal')  #Try without parameter tagset\n",
    "pos_tag"
   ]
  },
  {
   "cell_type": "markdown",
   "metadata": {},
   "source": [
    "#### Named Entity Recognition"
   ]
  },
  {
   "cell_type": "markdown",
   "metadata": {},
   "source": [
    "Named-entity recognition is a subtask of information extraction that seeks to locate and classify named entity mentioned in unstructured text into pre-defined categories such as person names, organizations, locations, medical codes, time expressions, quantities, monetary values, percentages, etc. [Wikipedia]"
   ]
  },
  {
   "cell_type": "code",
   "execution_count": 18,
   "metadata": {},
   "outputs": [],
   "source": [
    "# Right now there is an error due to GUI. Will be fixed soon\n",
    "\n",
    "from nltk import ne_chunk #Chunking adds more structure \n",
    "\n",
    "named_entity = nltk.ne_chunk(pos_tag)\n",
    "named_entity.draw() #Magic! Something like below should appear\n",
    "\n",
    "#Close the image that appears if you want to proceed to next cells"
   ]
  },
  {
   "attachments": {
    "image.png": {
     "image/png": "[encoded data removed]"
    }
   },
   "cell_type": "markdown",
   "metadata": {},
   "source": [
    "![image.png](attachment:image.png)"
   ]
  },
  {
   "cell_type": "code",
   "execution_count": 19,
   "metadata": {},
   "outputs": [],
   "source": [
    "#Lets try to print only the names\n",
    "for x in str(named_entity).split('\\n'):\n",
    "    if '/NN' in x:\n",
    "        print(x)"
   ]
  },
  {
   "cell_type": "markdown",
   "metadata": {},
   "source": [
    "We see the ] and [ also being tagged as Nouns. So Let's try with our cleaned tokenized text. GPE here stands for Geo-Political Entity"
   ]
  },
  {
   "cell_type": "code",
   "execution_count": 20,
   "metadata": {},
   "outputs": [
    {
     "data": {
      "text/plain": [
       "[('tragedie', 'ADJ'),\n",
       " ('hamlet', 'NOUN'),\n",
       " ('william', 'NOUN'),\n",
       " ('shakespeare', 'NOUN'),\n",
       " ('1599actus', 'NUM'),\n",
       " ('primus', 'NOUN'),\n",
       " ('scoena', 'NOUN'),\n",
       " ('primaenter', 'NOUN'),\n",
       " ('barnardo', 'NOUN'),\n",
       " ('francisco', 'NOUN')]"
      ]
     },
     "execution_count": 20,
     "metadata": {},
     "output_type": "execute_result"
    }
   ],
   "source": [
    "nltk.pos_tag(new_sample1[:10],tagset = 'universal')"
   ]
  },
  {
   "cell_type": "code",
   "execution_count": 21,
   "metadata": {},
   "outputs": [],
   "source": [
    "#Feel free to add cells (Click the '+' sign) and do the stuffs "
   ]
  },
  {
   "cell_type": "markdown",
   "metadata": {},
   "source": [
    "#### Word2Vec"
   ]
  },
  {
   "cell_type": "markdown",
   "metadata": {},
   "source": [
    "[Word2Vec](http://radimrehurek.com/gensim/models/word2vec.html) uses neural networks to analyze words in a corpus by using the contexts of words. It takes as its input a large corpus of text, and maps unique words to a vector space, such that words that share common contexts in the corpus are located in close proximity to one another in the space.\n",
    "Word2Vec finds words that are used in combination with other words. So orange and juice may have a high similarity.\n",
    "You can see here the context of one word (pain) for two different corpora.\n",
    "This uses the popular gensim library."
   ]
  },
  {
   "cell_type": "code",
   "execution_count": 22,
   "metadata": {},
   "outputs": [
    {
     "name": "stderr",
     "output_type": "stream",
     "text": [
      "unable to import 'smart_open.gcs', disabling that module\n"
     ]
    },
    {
     "name": "stdout",
     "output_type": "stream",
     "text": [
      "[(';', 0.9998960494995117), ('him', 0.9998948574066162), ('me', 0.9998937845230103), ('all', 0.999891996383667), ('and', 0.9998902678489685), ('to', 0.9998902082443237)]\n",
      "\n",
      "\n",
      "[('And', 0.9995988607406616), (',', 0.9995979070663452), ('and', 0.9995944499969482), ('the', 0.9995874762535095), ('of', 0.9995639324188232), (';', 0.9995616674423218)]\n"
     ]
    }
   ],
   "source": [
    "from gensim.models import Word2Vec\n",
    "hamlet_vect = Word2Vec(sentences)\n",
    "blake_sentence = gutenberg.sents('blake-poems.txt')\n",
    "blakes_vect = Word2Vec(blake_sentence)  #We pass corpus as input\n",
    "print(hamlet_vect.wv.most_similar('thee', topn=6))\n",
    "print('\\n')\n",
    "print(blakes_vect.wv.most_similar('thee', topn=6))"
   ]
  },
  {
   "cell_type": "code",
   "execution_count": 23,
   "metadata": {},
   "outputs": [],
   "source": [
    "#So why do we need to vectorize the words then ?"
   ]
  },
  {
   "cell_type": "raw",
   "metadata": {},
   "source": [
    "Lets try preprocessing the corpus and then see the result. Below with Topic modeling, this has been done. But before going there give it a try by yourself ;)"
   ]
  },
  {
   "cell_type": "markdown",
   "metadata": {},
   "source": [
    "#### Topic Modeling"
   ]
  },
  {
   "cell_type": "markdown",
   "metadata": {},
   "source": [
    "Latent Dirichlet Allocation (LDA) is unsupervised learning method that uses probabilistic model to identify group of topics. IT discovers abstract topics that occur in a collection of documents. (We can explore its inner workings in our project word)"
   ]
  },
  {
   "cell_type": "code",
   "execution_count": 24,
   "metadata": {},
   "outputs": [
    {
     "data": {
      "text/plain": [
       "[['\"', 'Pipe', 'a', 'song', 'about', 'a', 'Lamb', '!\"'],\n",
       " ['So', 'I', 'piped', 'with', 'merry', 'cheer', '.'],\n",
       " ['\"',\n",
       "  'Piper',\n",
       "  ',',\n",
       "  'pipe',\n",
       "  'that',\n",
       "  'song',\n",
       "  'again',\n",
       "  ';\"',\n",
       "  'So',\n",
       "  'I',\n",
       "  'piped',\n",
       "  ':',\n",
       "  'he',\n",
       "  'wept',\n",
       "  'to',\n",
       "  'hear',\n",
       "  '.'],\n",
       " ['\"',\n",
       "  'Drop',\n",
       "  'thy',\n",
       "  'pipe',\n",
       "  ',',\n",
       "  'thy',\n",
       "  'happy',\n",
       "  'pipe',\n",
       "  ';',\n",
       "  'Sing',\n",
       "  'thy',\n",
       "  'songs',\n",
       "  'of',\n",
       "  'happy',\n",
       "  'cheer',\n",
       "  ':!\"'],\n",
       " ['So',\n",
       "  'I',\n",
       "  'sang',\n",
       "  'the',\n",
       "  'same',\n",
       "  'again',\n",
       "  ',',\n",
       "  'While',\n",
       "  'he',\n",
       "  'wept',\n",
       "  'with',\n",
       "  'joy',\n",
       "  'to',\n",
       "  'hear',\n",
       "  '.'],\n",
       " ['\"',\n",
       "  'Piper',\n",
       "  ',',\n",
       "  'sit',\n",
       "  'thee',\n",
       "  'down',\n",
       "  'and',\n",
       "  'write',\n",
       "  'In',\n",
       "  'a',\n",
       "  'book',\n",
       "  ',',\n",
       "  'that',\n",
       "  'all',\n",
       "  'may',\n",
       "  'read',\n",
       "  '.\"'],\n",
       " ['So',\n",
       "  'he',\n",
       "  'vanish',\n",
       "  \"'\",\n",
       "  'd',\n",
       "  'from',\n",
       "  'my',\n",
       "  'sight',\n",
       "  ';',\n",
       "  'And',\n",
       "  'I',\n",
       "  'pluck',\n",
       "  \"'\",\n",
       "  'd',\n",
       "  'a',\n",
       "  'hollow',\n",
       "  'reed',\n",
       "  ','],\n",
       " ['And',\n",
       "  'I',\n",
       "  'made',\n",
       "  'a',\n",
       "  'rural',\n",
       "  'pen',\n",
       "  ',',\n",
       "  'And',\n",
       "  'I',\n",
       "  'stain',\n",
       "  \"'\",\n",
       "  'd',\n",
       "  'the',\n",
       "  'water',\n",
       "  'clear',\n",
       "  ',',\n",
       "  'And',\n",
       "  'I',\n",
       "  'wrote',\n",
       "  'my',\n",
       "  'happy',\n",
       "  'songs',\n",
       "  'Every',\n",
       "  'child',\n",
       "  'may',\n",
       "  'joy',\n",
       "  'to',\n",
       "  'hear',\n",
       "  '.'],\n",
       " ['THE', 'SHEPHERD'],\n",
       " ['How', 'sweet', 'is', 'the', 'Shepherd', \"'\", 's', 'sweet', 'lot', '!']]"
      ]
     },
     "execution_count": 24,
     "metadata": {},
     "output_type": "execute_result"
    }
   ],
   "source": [
    "#Corpus is simply collection of documents and each document is a collection of words\n",
    "corpus = blake_sentence[5:15] #Feel free to slice the tokenized sentences\n",
    "corpus"
   ]
  },
  {
   "cell_type": "markdown",
   "metadata": {},
   "source": [
    "Let's convert the corpus into a matrix representation. \n",
    "First of all we have to create term dictionary of the corpus. Then we convert the dictionary into document-term matrix.  "
   ]
  },
  {
   "cell_type": "code",
   "execution_count": 25,
   "metadata": {},
   "outputs": [],
   "source": [
    "import gensim\n",
    "from gensim import corpora # Corpora is plural of corpus\n",
    "\n",
    "\n",
    "dictionary = corpora.Dictionary(corpus)\n",
    "#print(dictionary)\n",
    "\n",
    "# Bag-of-words or bow tells you what words occur in the document\n",
    "DocTerm_matrix = [dictionary.doc2bow(doc) for doc in corpus]\n",
    "\n",
    "Lda_object = gensim.models.ldamodel.LdaModel"
   ]
  },
  {
   "cell_type": "code",
   "execution_count": 26,
   "metadata": {},
   "outputs": [],
   "source": [
    "lda_model_1 = Lda_object(DocTerm_matrix, num_topics=2, id2word = dictionary)\n"
   ]
  },
  {
   "cell_type": "code",
   "execution_count": 27,
   "metadata": {},
   "outputs": [
    {
     "name": "stdout",
     "output_type": "stream",
     "text": [
      "[(0, '0.049*\",\" + 0.045*\"I\" + 0.029*\".\" + 0.026*\"thy\" + 0.026*\"pipe\"'), (1, '0.044*\"a\" + 0.032*\"\\'\" + 0.031*\",\" + 0.025*\"I\" + 0.025*\"sweet\"')]\n"
     ]
    }
   ],
   "source": [
    "print(lda_model_1.print_topics(num_topics=2, num_words=5))\n"
   ]
  },
  {
   "cell_type": "markdown",
   "metadata": {},
   "source": [
    "Lets convert list into string so that we can do preprocessing with it"
   ]
  },
  {
   "cell_type": "code",
   "execution_count": 28,
   "metadata": {},
   "outputs": [],
   "source": [
    "#Takes a list s and keeps joining every word in them\n",
    "def listToString(s):  \n",
    "    \n",
    "    # initialize an empty string \n",
    "    str1 = \" \"  \n",
    "\n",
    "    # return string   \n",
    "    return str1.join(s)  "
   ]
  },
  {
   "cell_type": "code",
   "execution_count": 29,
   "metadata": {},
   "outputs": [
    {
     "data": {
      "text/plain": [
       "'\" Pipe a song about a Lamb !\"'"
      ]
     },
     "execution_count": 29,
     "metadata": {},
     "output_type": "execute_result"
    }
   ],
   "source": [
    "listToString(corpus[0])"
   ]
  },
  {
   "cell_type": "markdown",
   "metadata": {},
   "source": [
    "Looks stupid. Lets try after preprocessing the corpus"
   ]
  },
  {
   "cell_type": "code",
   "execution_count": 30,
   "metadata": {},
   "outputs": [],
   "source": [
    "import string\n",
    "from nltk.corpus import stopwords\n",
    "\n",
    "stopwords = set(stopwords.words('english'))\n",
    "no_punct = set(string.punctuation)\n",
    "lemma_obj = WordNetLemmatizer()\n",
    "\n",
    "def preprocess(document):\n",
    "    #Each document is a list. We need to convert it to string before we can run any string functions on them.\n",
    "    no_stopwords = \" \".join([i for i in listToString(document).lower().split() if i not in stopwords])\n",
    "    no_punctuation = ''.join(ch for ch in no_stopwords if ch not in no_punct)\n",
    "    lemmatized = \" \".join(lemma_obj.lemmatize(word) for word in no_punctuation.split())\n",
    "    return lemmatized\n",
    "\n",
    "final_corpus = [preprocess(document).split() for document in corpus]"
   ]
  },
  {
   "cell_type": "code",
   "execution_count": 31,
   "metadata": {},
   "outputs": [],
   "source": [
    "dictionary = corpora.Dictionary(final_corpus)\n",
    "\n",
    "DocTerm_matrix = [dictionary.doc2bow(doc) for doc in corpus]\n",
    "\n",
    "Lda_object = gensim.models.ldamodel.LdaModel\n",
    "\n",
    "lda_model_2 = Lda_object(DocTerm_matrix, num_topics=2, id2word = dictionary)"
   ]
  },
  {
   "cell_type": "code",
   "execution_count": 32,
   "metadata": {},
   "outputs": [
    {
     "name": "stdout",
     "output_type": "stream",
     "text": [
      "[(0, '0.063*\"hear\" + 0.050*\"sweet\" + 0.047*\"joy\" + 0.047*\"wept\" + 0.040*\"pipe\"'), (1, '0.068*\"thy\" + 0.060*\"happy\" + 0.053*\"pipe\" + 0.037*\"cheer\" + 0.036*\"may\"')]\n"
     ]
    }
   ],
   "source": [
    "print(lda_model_2.print_topics(num_topics=2, num_words=5))\n"
   ]
  },
  {
   "cell_type": "markdown",
   "metadata": {},
   "source": [
    "Very poetic! As an assignment let's try with some other text books in gutenberg"
   ]
  },
  {
   "cell_type": "markdown",
   "metadata": {},
   "source": [
    "#### K-Means Clustering "
   ]
  },
  {
   "cell_type": "markdown",
   "metadata": {},
   "source": [
    "In our final project, we are going project related to clustering. So lets know the basics of k-means clustering.\n",
    "\n",
    "Following article explains very well the concept behind K-means clustering:\n",
    "\n",
    "https://medium.com/@april.griffin091/a-beginners-overview-of-the-k-means-clustering-algorithm-382b1efd11c3"
   ]
  },
  {
   "cell_type": "raw",
   "metadata": {},
   "source": [
    "Lets also try a small demo "
   ]
  },
  {
   "cell_type": "markdown",
   "metadata": {},
   "source": [
    "Lets not bother about scaling our data. We try with a small sample "
   ]
  },
  {
   "cell_type": "code",
   "execution_count": 33,
   "metadata": {},
   "outputs": [
    {
     "name": "stdout",
     "output_type": "stream",
     "text": [
      "k-means trial 0\n",
      "iteration\n",
      "iteration\n",
      "Cluster Points: [array([1, 1]), array([0, 1]), array([1, 3]), array([0, 4]), array([2, 4]), array([0, 3])]\n",
      "In Clusters: [0, 0, 0, 0, 1, 0]\n",
      "Means: [array([0.4, 2.4]), array([2., 4.])]\n"
     ]
    }
   ],
   "source": [
    "import numpy as np\n",
    "from nltk.cluster import KMeansClusterer, euclidean_distance \n",
    "''' see the documentation of euclidean_distance: https://scikit-learn.org/stable/modules/generated/sklearn.metrics.pairwise.euclidean_distances.html'''\n",
    "\n",
    "'''Also see this page how they have done the clustering: https://scikit-learn.org/stable/modules/generated/sklearn.cluster.KMeans.html''' \n",
    "#But we continue with nltk.cluster's KMeansClusterer (You might google it and see the documentation)\n",
    "\n",
    "#Suppose we have 6 different points and we want to cluster it to two groups. For that we assign two centroids\n",
    "\n",
    "#We can make a numpy array to represent the points. It is easy to iterate through numpy arrays\n",
    "\n",
    "np_arr = [np.array(points) for points in [[1,1],[0,1],[1,3],[0,4],[2,4],[0,3]]]\n",
    "#We assign the center of first cluster to be (1,2) and that of second to be (3,3)\n",
    "#Next, each point is compared with both the centroid and is assigned to the closest center\n",
    "centroid = [[1,2],[3,3]] \n",
    "#lets cluster to 2 clusters with centroid defined above using euclidean distance as a metric\n",
    "cluster_obj = KMeansClusterer(2, euclidean_distance, initial_means = centroid) #Initial means is a set of k initial means which is sequence of vectors\n",
    "\n",
    "clusters = cluster_obj.cluster(np_arr, assign_clusters = True, trace=True) #Assigns the vectors to clusters, learning the clustering parameters from the data. Returns a cluster identifier for each vector.\n",
    "\n",
    "print('Cluster Points:',np_arr)\n",
    "print('In Clusters:',clusters)\n",
    "print('Means:',cluster_obj.means())\n",
    "          "
   ]
  },
  {
   "cell_type": "markdown",
   "metadata": {},
   "source": [
    "Except point (2,4), all other points in 0 cluster. The center of cluster0 is (0.4, 2.4) and that of second cluster is the point itself ( why ?)"
   ]
  },
  {
   "cell_type": "markdown",
   "metadata": {},
   "source": [
    "Lets see it in plot to see how it has done clustering"
   ]
  },
  {
   "cell_type": "code",
   "execution_count": 34,
   "metadata": {},
   "outputs": [
    {
     "data": {
      "image/png": "[encoded data removed]",
      "text/plain": [
       "<Figure size 432x288 with 1 Axes>"
      ]
     },
     "metadata": {
      "needs_background": "light"
     },
     "output_type": "display_data"
    }
   ],
   "source": [
    "import matplotlib.pyplot as plt\n",
    "\n",
    "# Detailed instructions on plots can be found of pythonbasics notebook\n",
    "x0 = np.array([item[0] for index, item in enumerate (np_arr) if clusters[index]==0])\n",
    "y0 = np.array([item[1] for index, item in enumerate (np_arr) if clusters[index]==0])\n",
    "plt.scatter(x0,y0,color = 'green')\n",
    "\n",
    "x1 = np.array([item[0] for index, item in enumerate (np_arr) if clusters[index]==1])\n",
    "y1 = np.array([item[1] for index, item in enumerate (np_arr) if clusters[index]==1])\n",
    "plt.scatter(x1,y1, color='red')\n",
    "\n",
    "xc = np.array([x[0] for x in centroid])\n",
    "yc = np.array([x[1] for x in centroid])\n",
    "plt.scatter(xc,yc, color='black')   #Does it give you the points (1,2) and (3,3) ?\n",
    "plt.show()\n",
    "\n"
   ]
  },
  {
   "cell_type": "raw",
   "metadata": {},
   "source": [
    "Quite ambigious! Let's try with some more iterations"
   ]
  },
  {
   "cell_type": "markdown",
   "metadata": {},
   "source": [
    "So lets try it with 5 repetetions.\n",
    "\n",
    "We try with random seeds above and get different results in each run."
   ]
  },
  {
   "cell_type": "code",
   "execution_count": 35,
   "metadata": {},
   "outputs": [
    {
     "name": "stdout",
     "output_type": "stream",
     "text": [
      "Clustered Objects: [array([1, 1]), array([0, 1]), array([1, 3]), array([0, 4]), array([2, 4]), array([0, 3])]\n",
      "In Clusters: [0, 0, 1, 1, 1, 1]\n",
      "Means: [array([0.5, 1. ]), array([0.75, 3.5 ])]\n",
      "classify([2 2]): 0\n"
     ]
    }
   ],
   "source": [
    "# test k-means using 2 means, euclidean distance, and 5 repetitions \n",
    "# np.random.seed(123)  #See what happens when we set this seed (Now what is this seed which does not germinate ? )\n",
    "cluster_obj = KMeansClusterer(2, euclidean_distance, repeats=5 ) # Make repead = 10 and see what happens\n",
    "clusters = cluster_obj.cluster(np_arr, True)\n",
    "#The cluster center keeps moving in each iteration . (But why ?)\n",
    "centroids = cluster_obj.means()  #Calculated means which is [0.5, 1] and [0.75, 3.5 ]\n",
    "#print(centroids)\n",
    "print('Clustered Objects:', np_arr)\n",
    "print('In Clusters:', clusters)\n",
    "print('Means:', centroids)\n",
    "\n",
    "# classify a new vector\n",
    "vector = np.array([2,2])\n",
    "print('classify(%s):' % vector, end=' ')\n",
    "print(cluster_obj.classify(vector)) # Lets see the result of which cluster does this belong to"
   ]
  },
  {
   "cell_type": "code",
   "execution_count": 36,
   "metadata": {},
   "outputs": [
    {
     "data": {
      "image/png": "[encoded data removed]",
      "text/plain": [
       "<Figure size 432x288 with 1 Axes>"
      ]
     },
     "metadata": {
      "needs_background": "light"
     },
     "output_type": "display_data"
    }
   ],
   "source": [
    "import matplotlib.pyplot as plt\n",
    "\n",
    "x0 = np.array([item[0] for index, item in enumerate (np_arr) if clusters[index]==0])\n",
    "y0 = np.array([item[1] for index, item in enumerate (np_arr) if clusters[index]==0])\n",
    "plt.scatter(x0,y0,color = 'green')\n",
    "\n",
    "x1 = np.array([item[0] for index, item in enumerate (np_arr) if clusters[index]==1])\n",
    "y1 = np.array([item[1] for index, item in enumerate (np_arr) if clusters[index]==1])\n",
    "plt.scatter(x1,y1, color='red')\n",
    "\n",
    "xc = np.array([x[0] for x in centroids])\n",
    "yc = np.array([x[1] for x in centroids])\n",
    "plt.scatter(xc,yc, color='black')\n",
    "plt.show()\n",
    "#Note, if you find that there is only one point in one of the clusters then it would be the centroid itself and might be overlapped with black dot"
   ]
  },
  {
   "cell_type": "markdown",
   "metadata": {},
   "source": [
    "If it still does not satisfy you try adding two more points to np_arr, change some of the points and see how it goes"
   ]
  },
  {
   "cell_type": "code",
   "execution_count": null,
   "metadata": {},
   "outputs": [],
   "source": []
  }
 ],
 "metadata": {
  "kernelspec": {
   "display_name": "Python 3",
   "language": "python",
   "name": "python3"
  },
  "language_info": {
   "codemirror_mode": {
    "name": "ipython",
    "version": 3
   },
   "file_extension": ".py",
   "mimetype": "text/x-python",
   "name": "python",
   "nbconvert_exporter": "python",
   "pygments_lexer": "ipython3",
   "version": "3.7.3"
  }
 },
 "nbformat": 4,
 "nbformat_minor": 2
}
