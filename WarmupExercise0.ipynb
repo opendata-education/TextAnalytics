{
 "cells": [
  {
   "cell_type": "markdown",
   "metadata": {},
   "source": [
    "- Text Processing\n",
    "- Frequency Distribution Plot\n",
    "- Lexical Dispersion Plot\n",
    "- POS Tagging and NER\n",
    "- Word2Vec\n",
    "- Topic Modeling with LDA\n",
    "- K-Means Clustering"
   ]
  },
  {
   "cell_type": "markdown",
   "metadata": {},
   "source": [
    "In our next exercise we are going to extract our own data and make our own corpus. For this exercise, let's get it from Project Gutenberg (https://www.gutenberg.org/). The Natural Language Toolkit (NLTK) suite has a lots of libraries that makes learning Natural Language Processing easy and fun. It also has small section of texts from the project gutenberg we are going to use for our purpose"
   ]
  },
  {
   "cell_type": "code",
   "execution_count": 1,
   "metadata": {},
   "outputs": [],
   "source": [
    "import nltk\n",
    "#from nltk.book import *\n",
    "from nltk.corpus import gutenberg\n",
    "words = gutenberg.words('shakespeare-hamlet.txt')  #To get the words \n",
    "sentences = gutenberg.sents('shakespeare-hamlet.txt') # Get the sentences\n",
    "sample = gutenberg.raw('shakespeare-hamlet.txt')  #To get the raw text from the read file"
   ]
  },
  {
   "cell_type": "code",
   "execution_count": 2,
   "metadata": {},
   "outputs": [],
   "source": [
    "#Lets see how many books are there \n",
    "\n",
    "# gutenberg.fileids()\n",
    "# gutenberg.fileids()[-3] #We just took one of the 18 books"
   ]
  },
  {
   "cell_type": "code",
   "execution_count": 3,
   "metadata": {},
   "outputs": [
    {
     "data": {
      "text/plain": [
       "\"[The Tragedie of Hamlet by William Shakespeare 1599]\\n\\n\\nActus Primus. Scoena Prima.\\n\\nEnter Barnardo and Francisco two Centinels.\\n\\n  Barnardo. Who's there?\\n  Fran. Nay answer me: Stand & vnfold\\nyour selfe\\n\\n   Bar. Long liue the King\\n\\n   Fran. Barnardo?\\n  Bar. He\\n\\n   Fran. You come most carefully vpon your houre\\n\\n   Bar. 'Tis now strook twelue, get thee to bed Francisco\\n\\n   Fran. For this releefe much thankes: 'Tis bitter cold,\\nAnd I am sicke at heart\\n\\n   Barn. Haue you had quiet Guard?\\n  Fran. Not a Mouse stirring\\n\\n   Barn. Well, goodnight. If you do meet Horatio and\\nMarcellus, the Riuals of my Watch, bid them make hast.\\nEnter Horatio and Marcellus.\\n\\n  Fran. I thinke I heare them. Stand: who's there?\\n  Hor. Friends to this ground\\n\\n   Mar. And Leige-men to the Dane\\n\\n   Fran. Giue you good night\\n\\n   Mar. O farwel honest Soldier, who hath relieu'd you?\\n  Fra. Barnardo ha's my place: giue you goodnight.\\n\\nExit Fran.\\n\\n  Mar. Holla Barnardo\\n\\n   Bar. Say, what is Horatio there?\\n  Hor. A peece of him\\n\\n   Bar. Welcome Horatio, welcome good Marcellus\\n\\n   Mar. What, ha's this thing appear'd againe to night\\n\\n   Bar. I haue seene nothing\\n\\n   Mar. Horatio saies, 'tis but our Fantasie,\\nAnd will not let beleefe take hold of him\\nTouching this dreaded sight, twice seene of vs,\\nTherefore I haue intreated him along\\nWith vs, to watch the minutes of this Night,\\nThat if againe this Apparition come,\\nHe may approue our eyes, and speake to it\\n\\n   Hor. Tush, tush, 'twill not appeare\\n\\n   Bar. Sit downe a-while,\\nAnd let vs once againe assaile your eares,\\nThat are so fortified against our Story,\\nWhat we two Nights haue seene\\n\\n   Hor. Well, sit we downe,\\nAnd let vs heare Barnardo speake of this\\n\\n   Barn. Last night of all,\\nWhen yond same Starre that's Westward from the Pole\\nHad made his course t' illume that part of Heauen\\nWhere now it burnes, Marcellus and my selfe,\\nThe Bell then beating one\\n\\n   Mar. Peace, breake thee of:\\nEnter the Ghost.\\n\\nLooke where it comes againe\\n\\n   Barn. In the same figure, like the King that's dead\\n\\n   Mar. Thou art a Scholler; speake to it Horatio\\n\\n   Barn. Lookes it not like the King? Marke it Horatio\\n\\n   Hora. Most like: It harrowes me with fear & wonder\\n  Barn. It would be spoke too\\n\\n   Mar. Question it Horatio\\n\\n   Hor. What art thou that vsurp'st this time of night,\\nTogether with that Faire and Warlike forme\\nIn which the Maiesty of buried Denmarke\\nDid sometimes march: By Heauen I charge thee speake\\n\\n   Mar. It is offended\\n\\n   Barn. See, it stalkes away\\n\\n   Hor. Stay: speake; speake: I Charge thee, speake.\\n\\nExit the Ghost.\\n\\n  Mar. 'Tis gone, and will not answer\\n\\n   Barn. How now Horatio? You tremble & look pale:\\nIs not this something more then Fantasie?\\nWhat thinke you on't?\\n  Hor. Before my God, I might not this beleeue\\nWithout the sensible and true auouch\\nOf mine owne eyes\\n\\n   Mar. Is it not like the King?\\n  Hor. As thou art to thy selfe,\\nSuch was the very Armour he had on,\\nWhen th' Ambitious Norwey combatted:\\nSo frown'd he once, when in an angry parle\\nHe smot the sledded Pollax on the Ice.\\n'Tis strange\\n\\n   Mar. Thus twice before, and iust at this dead houre,\\nWith Martiall stalke, hath he gone by our Watch\\n\\n   Hor. In what particular thought to work, I know not:\\nBut in the grosse and scope of my Opinion,\\nThis boades some strange erruption to our State\\n\\n   Mar. Good now sit downe, & tell me he that knowes\\nWhy this same strict and most obseruant Watch,\\nSo nightly toyles the subiect of the Land,\\nAnd why such dayly Cast of Brazon Cannon\\nAnd Forraigne Mart for Implements of warre:\\nWhy such impresse of Ship-wrights, whose sore Taske\\nDo's not diuide the Sunday from the weeke,\\nWhat might be toward, that this sweaty hast\\nDoth make the Night ioynt-Labourer with the day:\\nWho is't that can informe me?\\n  Hor. That can I,\\nAt least the whisper goes so: Our last King,\\nWhose Image euen but now appear'd to vs,\\nWas (as you know) by Fortinbras of Norway,\\n(Thereto prick'd on by a most emulate Pride)\\nDar'd to the Combate. In which, our Valiant Hamlet,\\n(For so this side of our knowne world esteem'd him)\\nDid slay this Fortinbras: who by a Seal'd Compact,\\nWell ratified by Law, and Heraldrie,\\nDid forfeite (with his life) all those his Lands\\nWhich he stood seiz'd on, to the Conqueror:\\nAgainst the which, a Moity competent\\nWas gaged by our King: which had return'd\\nTo the Inheritance of Fortinbras,\\nHad he bin Vanquisher, as by the same Cou'nant\\nAnd carriage of the Article designe,\\nHis fell to Hamlet. Now sir, young Fortinbras,\\nOf vnimproued Mettle, hot and full,\\nHath in the skirts of Norway, heere and there,\\nShark'd vp a List of Landlesse Resolutes,\\nFor Foode and Diet, to some Enterprize\\nThat hath a stomacke in't: which is no other\\n(And it doth well appeare vnto our State)\\nBut to recouer of vs by strong hand\\nAnd termes Compulsatiue, those foresaid Lands\\nSo by his Father lost: and this (I take it)\\nIs the maine Motiue of our Preparations,\\nThe Sourse of this our Watch, and the cheefe head\\nOf this post-hast, and Romage in the Land.\\nEnter Ghost againe.\\n\\nBut soft, behold: Loe, where it comes againe:\\nIle crosse it, though it blast me. Stay Illusion:\\nIf thou hast any sound, or vse of Voyce,\\nSpeake to me. If there be any good thing to be done,\\nThat may to thee do ease, and grace to me; speak to me.\\nIf thou art priuy to thy Countries Fate\\n(Which happily foreknowing may auoyd) Oh speake.\\nOr, if thou hast vp-hoorded in thy life\\nExtorted Treasure in the wombe of Earth,\\n(For which, they say, you Spirits oft walke in death)\\nSpeake of it. Stay, and speake. Stop it Marcellus\\n\\n   Mar. Shall I strike at it with my Partizan?\\n  Hor. Do, if it will not stand\\n\\n   Barn. 'Tis heere\\n\\n   Hor. 'Tis heere\\n\\n   Mar. 'Tis gone.\\n\\nExit Ghost.\\n\\nWe do it wrong, being so Maiesticall\\nTo offer it the shew of Violence,\\nFor it is as the Ayre, invulnerable,\\nAnd our vaine blowes, malicious Mockery\\n\\n   Barn. It was about to speake, when the Cocke crew\\n\\n   Hor. And then it started, like a guilty thing\\nVpon a fearfull Summons. I haue heard,\\nThe Cocke that is the Trumpet to the day,\\nDoth with his lofty and shrill-sounding Throate\\nAwake the God of Day: and at his warning,\\nWhether in Sea, or Fire, in Earth, or Ayre,\\nTh' extrauagant, and erring Spirit, hyes\\nTo his Confine. And of the truth heerein,\\nThis present Obiect made probation\\n\\n   Mar. It faded on the crowing of the Cocke.\\nSome sayes, that euer 'gainst that Season comes\\nWherein our Sauiours Birch is celebrated,\\nThe Bird of Dawning singeth all night long:\\nAnd then (they say) no Spirit can walke abroad,\\nThe nights are wholsome, then no Planets strike,\\nNo Faiery talkes, nor Witch hath power to Charme:\\nSo hallow'd, and so gracious is the time\\n\\n   Hor. So haue I heard, and do in part beleeue it.\\nBut looke, the Morne in Russet mantle clad,\\nWalkes o're the dew of yon high Easterne Hill,\\nBreake we our Watch vp, and by my aduice\\nLet vs impart what we haue seene to night\\nVnto yong Hamlet. For vpon my life,\\nThis Spirit dumbe to vs, will speake to him:\\nDo you consent we shall acquaint him with it,\\nAs needfull in our Loues, fitting our Duty?\\n  Mar. Let do't I pray, and I this morning know\\nWhere we shall finde him most conueniently.\\n\\nExeunt.\\n\\nScena Secunda.\\n\\nEnter Claudius King of Denmarke, Gertrude the Queene, Hamlet,\\nPolonius,\\nLaertes, and his Sister Ophelia, Lords Attendant.\\n\\n  King. Though yet of Hamlet our deere Brothers death\\nThe memory be greene: and that it vs befitted\\nTo beare our hearts in greefe, and our whole Kingdome\\nTo be contracted in one brow of woe:\\nYet so farre hath Discretion fought with Nature,\\nThat we with wisest sorrow thinke on him,\\nTogether with remembrance of our selues.\\nTherefore our sometimes Sister, now our Queene,\\nTh' imperiall Ioyntresse of this warlike State,\\nHaue we, as 'twere, with a defeated ioy,\\nWith one Auspicious, and one Dropping eye,\\nWith mirth in Funerall, and with Dirge in Marriage,\\nIn equall Scale weighing Delight and Dole\\nTaken to Wife; nor haue we heerein barr'd\\nYour better Wisedomes, which haue freely gone\\nWith this affaire along, for all our Thankes.\\nNow followes, that you know young Fortinbras,\\nHolding a weake supposall of our worth;\\nOr thinking by our late deere Brothers death,\\nOur State to be disioynt, and out of Frame,\\nColleagued with the dreame of his Aduantage;\\nHe hath not fayl'd to pester vs with Message,\\nImporting the surrender of those Lands\\nLost by his Father: with all Bonds of Law\\nTo our most valiant Brother. So much for him.\\nEnter Voltemand and Cornelius.\\n\\nNow for our selfe, and for this time of meeting\\nThus much the businesse is. We haue heere writ\\nTo Norway, Vncle of young Fortinbras,\\nWho Impotent and Bedrid, scarsely heares\\nOf this his Nephewes purpose, to suppresse\\nHis further gate heerein. In that the Leuies,\\nThe Lists, and full proportions are all made\\nOut of his subiect: and we heere dispatch\\nYou good Cornelius, and you Voltemand,\\nFor bearing of this greeting to old Norway,\\nGiuing to you no further personall power\\nTo businesse with the King, more then the scope\\nOf these dilated Articles allow:\\nFarewell, and let your hast commend your duty\\n\\n   Volt. In that, and all things, will we shew our duty\\n\\n   King. We doubt it nothing, heartily farewell.\\n\\nExit Voltemand and Cornelius.\\n\\nAnd now Laertes, what's the newes with you?\\nYou told vs of some suite. What is't Laertes?\\nYou cannot speake of Reason to the Dane,\\nAnd loose your voyce. What would'st thou beg Laertes,\\nThat shall not be my Offer, not thy Asking?\\nThe Head is not more Natiue to the Heart,\\nThe Hand more instrumentall to the Mouth,\\nThen is the Throne of Denmarke to thy Father.\\nWhat would'st thou haue Laertes?\\n  Laer. Dread my Lord,\\nYour leaue and fauour to returne to France,\\nFrom whence, though willingly I came to Denmarke\\nTo shew my duty in your Coronation,\\nYet now I must confesse, that duty done,\\nMy thoughts and wishes bend againe towards France,\\nAnd bow them to your gracious leaue and pardon\\n\\n   King. Haue you your Fathers leaue?\\nWhat sayes Pollonius?\\n  Pol. He hath my Lord:\\nI do beseech you giue him leaue to go\\n\\n   King. Take thy faire houre Laertes, time be thine,\\nAnd thy best graces spend it at thy will:\\nBut now my Cosin Hamlet, and my Sonne?\\n  Ham. A little more then kin, and lesse then kinde\\n\\n   King. How is it that the Clouds still hang on you?\\n  Ham. Not so my Lord, I am too much i'th' Sun\\n\\n   Queen. Good Hamlet cast thy nightly colour off,\\nAnd let thine eye looke like a Friend on Denmarke.\\nDo not for euer with thy veyled lids\\nSeeke for thy Noble Father in the dust;\\nThou know'st 'tis common, all that liues must dye,\\nPassing through Nature, to Eternity\\n\\n   Ham. I Madam, it is common\\n\\n   Queen. If it be;\\nWhy seemes it so particular with thee\\n\\n   Ham. Seemes Madam? Nay, it is: I know not Seemes:\\n'Tis not alone my Inky Cloake (good Mother)\\nNor Customary suites of solemne Blacke,\\nNor windy suspiration of forc'd breath,\\nNo, nor the fruitfull Riuer in the Eye,\\nNor the deiected hauiour of the Visage,\\nTogether with all Formes, Moods, shewes of Griefe,\\nThat can denote me truly. These indeed Seeme,\\nFor they are actions that a man might play:\\nBut I haue that Within, which passeth show;\\nThese, but the Trappings, and the Suites of woe\\n\\n   King. 'Tis sweet and commendable\\nIn your Nature Hamlet,\\nTo giue these mourning duties to your Father:\\nBut you must know, your Father lost a Father,\\nThat Father lost, lost his, and the Suruiuer bound\\nIn filiall Obligation, for some terme\\nTo do obsequious Sorrow. But to perseuer\\nIn obstinate Condolement, is a course\\nOf impious stubbornnesse. 'Tis vnmanly greefe,\\nIt shewes a will most incorrect to Heauen,\\nA Heart vnfortified, a Minde impatient,\\nAn Vnderstanding simple, and vnschool'd:\\nFor, what we know must be, and is as common\\nAs any the most vulgar thing to sence,\\nWhy should we in our peeuish Opposition\\nTake it to heart? Fye, 'tis a fault to Heauen,\\nA fault against the Dead, a fault to Nature,\\nTo Reason most absurd, whose common Theame\\nIs death of Fathers, and who still hath cried,\\nFrom the first Coarse, till he that dyed to day,\\nThis must be so. We pray you throw to earth\\nThis vnpreuayling woe, and thinke of vs\\nAs of a Father; For let the world take note,\\nYou are the most immediate to our Throne,\\nAnd with no lesse Nobility of Loue,\\nThen that which deerest Father beares his Sonne,\\nDo I impart towards you. For your intent\\nIn going backe to Schoole in Wittenberg,\\nIt is most retrograde to our desire:\\nAnd we beseech you, bend you to remaine\\nHeere in the cheere and comfort of our eye,\\nOur cheefest Courtier Cosin, and our Sonne\\n\\n   Qu. Let not thy Mother lose her Prayers Hamlet:\\nI prythee stay with vs, go not to Wittenberg\\n\\n   Ham. I shall in all my best\\nObey you Madam\\n\\n   King. Why 'tis a louing, and a faire Reply,\\nBe as our selfe in Denmarke. Madam come,\\nThis gentle and vnforc'd accord of Hamlet\\nSits smiling to my heart; in grace whereof,\\nNo iocond health that Denmarke drinkes to day,\\nBut the great Cannon to the Clowds shall tell,\\nAnd the Kings Rouce, the Heauens shall bruite againe,\\nRespeaking earthly Thunder. Come away.\\n\\nExeunt.\\n\\nManet Hamlet.\\n\\n  Ham. Oh that this too too solid Flesh, would melt,\\nThaw, and resolue it selfe into a Dew:\\nOr that the Euerlasting had not fixt\\nHis Cannon 'gainst Selfe-slaughter. O God, O God!\\nHow weary, stale, flat, and vnprofitable\\nSeemes to me all the vses of this world?\\nFie on't? Oh fie, fie, 'tis an vnweeded Garden\\nThat growes to Seed: Things rank, and grosse in Nature\\nPossesse it meerely. That it should come to this:\\nBut two months dead: Nay, not so much; not two,\\nSo excellent a King, that was to this\\nHiperion to a Satyre: so louing to my Mother,\\nThat he might not beteene the windes of heauen\\nVisit her face too roughly. Heauen and Earth\\nMust I remember: why she would hang on him,\\nAs if encrease of Appetite had growne\\nBy what is fed on; and yet within a month?\\nLet me not thinke on't: Frailty, thy name is woman.\\nA little Month, or ere those shooes were old,\\nWith which she followed my poore Fathers body\\nLike Niobe, all teares. Why she, euen she.\\n(O Heauen! A beast that wants discourse of Reason\\nWould haue mourn'd longer) married with mine Vnkle,\\nMy Fathers Brother: but no more like my Father,\\nThen I to Hercules. Within a Moneth?\\nEre yet the salt of most vnrighteous Teares\\nHad left the flushing of her gauled eyes,\\nShe married. O most wicked speed, to post\\nWith such dexterity to Incestuous sheets:\\nIt is not, nor it cannot come to good.\\nBut breake my heart, for I must hold my tongue.\\nEnter Horatio, Barnardo, and Marcellus.\\n\\n  Hor. Haile to your Lordship\\n\\n   Ham. I am glad to see you well:\\nHoratio, or I do forget my selfe\\n\\n   Hor. The same my Lord,\\nAnd your poore Seruant euer\\n\\n   Ham. Sir my good friend,\\nIle change that name with you:\\nAnd what make you from Wittenberg Horatio?\\nMarcellus\\n\\n   Mar. My good Lord\\n\\n   Ham. I am very glad to see you: good euen Sir.\\nBut what in faith make you from Wittemberge?\\n  Hor. A truant disposition, good my Lord\\n\\n   Ham. I would not haue your Enemy say so;\\nNor shall you doe mine eare that violence,\\nTo make it truster of your owne report\\nAgainst your selfe. I know you are no Truant:\\nBut what is your affaire in Elsenour?\\nWee'l teach you to drinke deepe, ere you depart\\n\\n   Hor. My Lord, I came to see your Fathers Funerall\\n\\n   Ham. I pray thee doe not mock me (fellow Student)\\nI thinke it was to see my Mothers Wedding\\n\\n   Hor. Indeed my Lord, it followed hard vpon\\n\\n   Ham. Thrift thrift Horatio: the Funerall Bakt-meats\\nDid coldly furnish forth the Marriage Tables;\\nWould I had met my dearest foe in heauen,\\nEre I had euer seene that day Horatio.\\nMy father, me thinkes I see my father\\n\\n   Hor. Oh where my Lord?\\n  Ham. In my minds eye (Horatio)\\n  Hor. I saw him once; he was a goodly King\\n\\n   Ham. He was a man, take him for all in all:\\nI shall not look vpon his like againe\\n\\n   Hor. My Lord, I thinke I saw him yesternight\\n\\n   Ham. Saw? Who?\\n  Hor. My Lord, the King your Father\\n\\n   Ham. The King my Father?\\n  Hor. Season your admiration for a while\\nWith an attent eare; till I may deliuer\\nVpon the witnesse of these Gentlemen,\\nThis maruell to you\\n\\n   Ham. For Heauens loue let me heare\\n\\n   Hor. Two nights together, had these Gentlemen\\n(Marcellus and Barnardo) on their Watch\\nIn the dead wast and middle of the night\\nBeene thus encountred. A figure like your Father,\\nArm'd at all points exactly, Cap a Pe,\\nAppeares before them, and with sollemne march\\nGoes slow and stately: By them thrice he walkt,\\nBy their opprest and feare-surprized eyes,\\nWithin his Truncheons length; whilst they bestil'd\\nAlmost to Ielly with the Act of feare,\\nStand dumbe and speake not to him. This to me\\nIn dreadfull secrecie impart they did,\\nAnd I with them the third Night kept the Watch,\\nWhereas they had deliuer'd both in time,\\nForme of the thing; each word made true and good,\\nThe Apparition comes. I knew your Father:\\nThese hands are not more like\\n\\n   Ham. But where was this?\\n  Mar. My Lord vpon the platforme where we watcht\\n\\n   Ham. Did you not speake to it?\\n  Hor. My Lord, I did;\\nBut answere made it none: yet once me thought\\nIt lifted vp it head, and did addresse\\nIt selfe to motion, like as it would speake:\\nBut euen then, the Morning Cocke crew lowd;\\nAnd at the sound it shrunke in hast away,\\nAnd vanisht from our sight\\n\\n   Ham. Tis very strange\\n\\n   Hor. As I doe liue my honourd Lord 'tis true;\\nAnd we did thinke it writ downe in our duty\\nTo let you know of it\\n\\n   Ham. Indeed, indeed Sirs; but this troubles me.\\nHold you the watch to Night?\\n  Both. We doe my Lord\\n\\n   Ham. Arm'd, say you?\\n  Both. Arm'd, my Lord\\n\\n   Ham. From top to toe?\\n  Both. My Lord, from head to foote\\n\\n   Ham. Then saw you not his face?\\n  Hor. O yes, my Lord, he wore his Beauer vp\\n\\n   Ham. What, lookt he frowningly?\\n  Hor. A countenance more in sorrow then in anger\\n\\n   Ham. Pale, or red?\\n  Hor. Nay very pale\\n\\n   Ham. And fixt his eyes vpon you?\\n  Hor. Most constantly\\n\\n   Ham. I would I had beene there\\n\\n   Hor. It would haue much amaz'd you\\n\\n   Ham. Very like, very like: staid it long?\\n  Hor. While one with moderate hast might tell a hundred\\n\\n   All. Longer, longer\\n\\n   Hor. Not when I saw't\\n\\n   Ham. His Beard was grisly? no\\n\\n   Hor. It was, as I haue seene it in his life,\\nA Sable Siluer'd\\n\\n   Ham. Ile watch to Night; perchance 'twill wake againe\\n\\n   Hor. I warrant you it will\\n\\n   Ham. If it assume my noble Fathers person,\\nIle speake to it, though Hell it selfe should gape\\nAnd bid me hold my peace. I pray you all,\\nIf you haue hitherto conceald this sight;\\nLet it bee treble in your silence still:\\nAnd whatsoeuer els shall hap to night,\\nGiue it an vnderstanding but no tongue;\\nI will requite your loues; so fare ye well:\\nVpon the Platforme twixt eleuen and twelue,\\nIle visit you\\n\\n   All. Our duty to your Honour.\\n\\nExeunt\\n\\n   Ham. Your loue, as mine to you: farewell.\\nMy Fathers Spirit in Armes? All is not well:\\nI doubt some foule play: would the Night were come;\\nTill then sit still my soule; foule deeds will rise,\\nThough all the earth orewhelm them to mens eies.\\nEnter.\\n\\n\\nScena Tertia\\n\\n\\nEnter Laertes and Ophelia.\\n\\n  Laer. My necessaries are imbark't; Farewell:\\nAnd Sister, as the Winds giue Benefit,\\nAnd Conuoy is assistant; doe not sleepe,\\nBut let me heare from you\\n\\n   Ophel. Doe you doubt that?\\n  Laer. For Hamlet, and the trifling of his fauours,\\nHold it a fashion and a toy in Bloude;\\nA Violet in the youth of Primy Nature;\\nFroward, not permanent; sweet not lasting\\nThe suppliance of a minute? No more\\n\\n   Ophel. No more but so\\n\\n   Laer. Thinke it no more:\\nFor nature cressant does not grow alone,\\nIn thewes and Bulke: but as his Temple waxes,\\nThe inward seruice of the Minde and Soule\\nGrowes wide withall. Perhaps he loues you now,\\nAnd now no soyle nor cautell doth besmerch\\nThe vertue of his feare: but you must feare\\nHis greatnesse weigh'd, his will is not his owne;\\nFor hee himselfe is subiect to his Birth:\\nHee may not, as vnuallued persons doe,\\nCarue for himselfe; for, on his choyce depends\\nThe sanctity and health of the whole State.\\nAnd therefore must his choyce be circumscrib'd\\nVnto the voyce and yeelding of that Body,\\nWhereof he is the Head. Then if he sayes he loues you,\\nIt fits your wisedome so farre to beleeue it;\\nAs he in his peculiar Sect and force\\nMay giue his saying deed: which is no further,\\nThen the maine voyce of Denmarke goes withall.\\nThen weight what losse your Honour may sustaine,\\nIf with too credent eare you list his Songs;\\nOr lose your Heart; or your chast Treasure open\\nTo his vnmastred importunity.\\nFeare it Ophelia, feare it my deare Sister,\\nAnd keepe within the reare of your Affection;\\nOut of the shot and danger of Desire.\\nThe chariest Maid is Prodigall enough,\\nIf she vnmaske her beauty to the Moone:\\nVertue it selfe scapes not calumnious stroakes,\\nThe Canker Galls, the Infants of the Spring\\nToo oft before the buttons be disclos'd,\\nAnd in the Morne and liquid dew of Youth,\\nContagious blastments are most imminent.\\nBe wary then, best safety lies in feare;\\nYouth to it selfe rebels, though none else neere\\n\\n   Ophe. I shall th' effect of this good Lesson keepe,\\nAs watchmen to my heart: but good my Brother\\nDoe not as some vngracious Pastors doe,\\nShew me the steepe and thorny way to Heauen;\\nWhilst like a puft and recklesse Libertine\\nHimselfe, the Primrose path of dalliance treads,\\nAnd reaks not his owne reade\\n\\n   Laer. Oh, feare me not.\\nEnter Polonius.\\n\\nI stay too long; but here my Father comes:\\nA double blessing is a double grace;\\nOccasion smiles vpon a second leaue\\n\\n   Polon. Yet heere Laertes? Aboord, aboord for shame,\\nThe winde sits in the shoulder of your saile,\\nAnd you are staid for there: my blessing with you;\\nAnd these few Precepts in thy memory,\\nSee thou Character. Giue thy thoughts no tongue,\\nNor any vnproportion'd thoughts his Act:\\nBe thou familiar; but by no meanes vulgar:\\nThe friends thou hast, and their adoption tride,\\nGrapple them to thy Soule, with hoopes of Steele:\\nBut doe not dull thy palme, with entertainment\\nOf each vnhatch't, vnfledg'd Comrade. Beware\\nOf entrance to a quarrell: but being in\\nBear't that th' opposed may beware of thee.\\nGiue euery man thine eare; but few thy voyce:\\nTake each mans censure; but reserue thy iudgement:\\nCostly thy habit as thy purse can buy;\\nBut not exprest in fancie; rich, not gawdie:\\nFor the Apparell oft proclaimes the man.\\nAnd they in France of the best ranck and station,\\nAre of a most select and generous cheff in that.\\nNeither a borrower, nor a lender be;\\nFor lone oft loses both it selfe and friend:\\nAnd borrowing duls the edge of Husbandry.\\nThis aboue all; to thine owne selfe be true:\\nAnd it must follow, as the Night the Day,\\nThou canst not then be false to any man.\\nFarewell: my Blessing season this in thee\\n\\n   Laer. Most humbly doe I take my leaue, my Lord\\n\\n   Polon. The time inuites you, goe, your seruants tend\\n\\n   Laer. Farewell Ophelia, and remember well\\nWhat I haue said to you\\n\\n   Ophe. Tis in my memory lockt,\\nAnd you your selfe shall keepe the key of it\\n\\n   Laer. Farewell.\\n\\nExit Laer.\\n\\n  Polon. What ist Ophelia he hath said to you?\\n  Ophe. So please you, somthing touching the L[ord]. Hamlet\\n\\n   Polon. Marry, well bethought:\\nTis told me he hath very oft of late\\nGiuen priuate time to you; and you your selfe\\nHaue of your audience beene most free and bounteous.\\nIf it be so, as so tis put on me;\\nAnd that in way of caution: I must tell you,\\nYou doe not vnderstand your selfe so cleerely,\\nAs it behoues my Daughter, and your Honour.\\nWhat is betweene you, giue me vp the truth?\\n  Ophe. He hath my Lord of late, made many tenders\\nOf his affection to me\\n\\n   Polon. Affection, puh. You speake like a greene Girle,\\nVnsifted in such perillous Circumstance.\\nDoe you beleeue his tenders, as you call them?\\n  Ophe. I do not know, my Lord, what I should thinke\\n\\n   Polon. Marry Ile teach you; thinke your selfe a Baby,\\nThat you haue tane his tenders for true pay,\\nWhich are not starling. Tender your selfe more dearly;\\nOr not to crack the winde of the poore Phrase,\\nRoaming it thus, you'l tender me a foole\\n\\n   Ophe. My Lord, he hath importun'd me with loue,\\nIn honourable fashion\\n\\n   Polon. I, fashion you may call it, go too, go too\\n\\n   Ophe. And hath giuen countenance to his speech,\\nMy Lord, with all the vowes of Heauen\\n\\n   Polon. I, Springes to catch Woodcocks. I doe know\\nWhen the Bloud burnes, how Prodigall the Soule\\nGiues the tongue vowes: these blazes, Daughter,\\nGiuing more light then heate; extinct in both,\\nEuen in their promise, as it is a making;\\nYou must not take for fire. For this time Daughter,\\nBe somewhat scanter of your Maiden presence;\\nSet your entreatments at a higher rate,\\nThen a command to parley. For Lord Hamlet,\\nBeleeue so much in him, that he is young,\\nAnd with a larger tether may he walke,\\nThen may be giuen you. In few, Ophelia,\\nDoe not beleeue his vowes; for they are Broakers,\\nNot of the eye, which their Inuestments show:\\nBut meere implorators of vnholy Sutes,\\nBreathing like sanctified and pious bonds,\\nThe better to beguile. This is for all:\\nI would not, in plaine tearmes, from this time forth,\\nHaue you so slander any moment leisure,\\nAs to giue words or talke with the Lord Hamlet:\\nLooke too't, I charge you; come your wayes\\n\\n   Ophe. I shall obey my Lord.\\n\\nExeunt.\\n\\nEnter Hamlet, Horatio, Marcellus.\\n\\n  Ham. The Ayre bites shrewdly: is it very cold?\\n  Hor. It is a nipping and an eager ayre\\n\\n   Ham. What hower now?\\n  Hor. I thinke it lacks of twelue\\n\\n   Mar. No, it is strooke\\n\\n   Hor. Indeed I heard it not: then it drawes neere the season,\\nWherein the Spirit held his wont to walke.\\nWhat does this meane my Lord?\\n  Ham. The King doth wake to night, and takes his rouse,\\nKeepes wassels and the swaggering vpspring reeles,\\nAnd as he dreines his draughts of Renish downe,\\nThe kettle Drum and Trumpet thus bray out\\nThe triumph of his Pledge\\n\\n   Horat. Is it a custome?\\n  Ham. I marry ist;\\nAnd to my mind, though I am natiue heere,\\nAnd to the manner borne: It is a Custome\\nMore honour'd in the breach, then the obseruance.\\nEnter Ghost.\\n\\n  Hor. Looke my Lord, it comes\\n\\n   Ham. Angels and Ministers of Grace defend vs:\\nBe thou a Spirit of health, or Goblin damn'd,\\nBring with thee ayres from Heauen, or blasts from Hell,\\nBe thy euents wicked or charitable,\\nThou com'st in such a questionable shape\\nThat I will speake to thee. Ile call thee Hamlet,\\nKing, Father, Royall Dane: Oh, oh, answer me,\\nLet me not burst in Ignorance; but tell\\nWhy thy Canoniz'd bones Hearsed in death,\\nHaue burst their cerments, why the Sepulcher\\nWherein we saw thee quietly enurn'd,\\nHath op'd his ponderous and Marble iawes,\\nTo cast thee vp againe? What may this meane?\\nThat thou dead Coarse againe in compleat steele,\\nReuisits thus the glimpses of the Moone,\\nMaking Night hidious? And we fooles of Nature,\\nSo horridly to shake our disposition,\\nWith thoughts beyond thee; reaches of our Soules,\\nSay, why is this? wherefore? what should we doe?\\n\\nGhost beckens Hamlet.\\n\\n  Hor. It beckons you to goe away with it,\\nAs if it some impartment did desire\\nTo you alone\\n\\n   Mar. Looke with what courteous action\\nIt wafts you to a more remoued ground:\\nBut doe not goe with it\\n\\n   Hor. No, by no meanes\\n\\n   Ham. It will not speake: then will I follow it\\n\\n   Hor. Doe not my Lord\\n\\n   Ham. Why, what should be the feare?\\nI doe not set my life at a pins fee;\\nAnd for my Soule, what can it doe to that?\\nBeing a thing immortall as it selfe:\\nIt waues me forth againe; Ile follow it\\n\\n   Hor. What if it tempt you toward the Floud my Lord?\\nOr to the dreadfull Sonnet of the Cliffe,\\nThat beetles o're his base into the Sea,\\nAnd there assumes some other horrible forme,\\nWhich might depriue your Soueraignty of Reason,\\nAnd draw you into madnesse thinke of it?\\n  Ham. It wafts me still: goe on, Ile follow thee\\n\\n   Mar. You shall not goe my Lord\\n\\n   Ham. Hold off your hand\\n\\n   Hor. Be rul'd, you shall not goe\\n\\n   Ham. My fate cries out,\\nAnd makes each petty Artire in this body,\\nAs hardy as the Nemian Lions nerue:\\nStill am I cal'd? Vnhand me Gentlemen:\\nBy Heau'n, Ile make a Ghost of him that lets me:\\nI say away, goe on, Ile follow thee.\\n\\nExeunt. Ghost & Hamlet.\\n\\n  Hor. He waxes desperate with imagination\\n\\n   Mar. Let's follow; 'tis not fit thus to obey him\\n\\n   Hor. Haue after, to what issue will this come?\\n  Mar. Something is rotten in the State of Denmarke\\n\\n   Hor. Heauen will direct it\\n\\n   Mar. Nay, let's follow him.\\n\\nExeunt.\\n\\nEnter Ghost and Hamlet.\\n\\n  Ham. Where wilt thou lead me? speak; Ile go no further\\n\\n   Gho. Marke me\\n\\n   Ham. I will\\n\\n   Gho. My hower is almost come,\\nWhen I to sulphurous and tormenting Flames\\nMust render vp my selfe\\n\\n   Ham. Alas poore Ghost\\n\\n   Gho. Pitty me not, but lend thy serious hearing\\nTo what I shall vnfold\\n\\n   Ham. Speake, I am bound to heare\\n\\n   Gho. So art thou to reuenge, when thou shalt heare\\n\\n   Ham. What?\\n  Gho. I am thy Fathers Spirit,\\nDoom'd for a certaine terme to walke the night;\\nAnd for the day confin'd to fast in Fiers,\\nTill the foule crimes done in my dayes of Nature\\nAre burnt and purg'd away? But that I am forbid\\nTo tell the secrets of my Prison-House;\\nI could a Tale vnfold, whose lightest word\\nWould harrow vp thy soule, freeze thy young blood,\\nMake thy two eyes like Starres, start from their Spheres,\\nThy knotty and combined lockes to part,\\nAnd each particular haire to stand an end,\\nLike Quilles vpon the fretfull Porpentine:\\nBut this eternall blason must not be\\nTo eares of flesh and bloud; list Hamlet, oh list,\\nIf thou didst euer thy deare Father loue\\n\\n   Ham. Oh Heauen!\\n  Gho. Reuenge his foule and most vnnaturall Murther\\n\\n   Ham. Murther?\\n  Ghost. Murther most foule, as in the best it is;\\nBut this most foule, strange, and vnnaturall\\n\\n   Ham. Hast, hast me to know it,\\nThat with wings as swift\\nAs meditation, or the thoughts of Loue,\\nMay sweepe to my Reuenge\\n\\n   Ghost. I finde thee apt,\\nAnd duller should'st thou be then the fat weede\\nThat rots it selfe in ease, on Lethe Wharfe,\\nWould'st thou not stirre in this. Now Hamlet heare:\\nIt's giuen out, that sleeping in mine Orchard,\\nA Serpent stung me: so the whole eare of Denmarke,\\nIs by a forged processe of my death\\nRankly abus'd: But know thou Noble youth,\\nThe Serpent that did sting thy Fathers life,\\nNow weares his Crowne\\n\\n   Ham. O my Propheticke soule: mine Vncle?\\n  Ghost. I that incestuous, that adulterate Beast\\nWith witchcraft of his wits, hath Traitorous guifts.\\nOh wicked Wit, and Gifts, that haue the power\\nSo to seduce? Won to this shamefull Lust\\nThe will of my most seeming vertuous Queene:\\nOh Hamlet, what a falling off was there,\\nFrom me, whose loue was of that dignity,\\nThat it went hand in hand, euen with the Vow\\nI made to her in Marriage; and to decline\\nVpon a wretch, whose Naturall gifts were poore\\nTo those of mine. But Vertue, as it neuer wil be moued,\\nThough Lewdnesse court it in a shape of Heauen:\\nSo Lust, though to a radiant Angell link'd,\\nWill sate it selfe in a Celestiall bed, & prey on Garbage.\\nBut soft, me thinkes I sent the Mornings Ayre;\\nBriefe let me be: Sleeping within mine Orchard,\\nMy custome alwayes in the afternoone;\\nVpon my secure hower thy Vncle stole\\nWith iuyce of cursed Hebenon in a Violl,\\nAnd in the Porches of mine eares did poure\\nThe leaperous Distilment; whose effect\\nHolds such an enmity with bloud of Man,\\nThat swift as Quick-siluer, it courses through\\nThe naturall Gates and Allies of the body;\\nAnd with a sodaine vigour it doth posset\\nAnd curd, like Aygre droppings into Milke,\\nThe thin and wholsome blood: so did it mine;\\nAnd a most instant Tetter bak'd about,\\nMost Lazar-like, with vile and loathsome crust,\\nAll my smooth Body.\\nThus was I, sleeping, by a Brothers hand,\\nOf Life, of Crowne, and Queene at once dispatcht;\\nCut off euen in the Blossomes of my Sinne,\\nVnhouzzled, disappointed, vnnaneld,\\nNo reckoning made, but sent to my account\\nWith all my imperfections on my head;\\nOh horrible Oh horrible, most horrible:\\nIf thou hast nature in thee beare it not;\\nLet not the Royall Bed of Denmarke be\\nA Couch for Luxury and damned Incest.\\nBut howsoeuer thou pursuest this Act,\\nTaint not thy mind; nor let thy Soule contriue\\nAgainst thy Mother ought; leaue her to heauen,\\nAnd to those Thornes that in her bosome lodge,\\nTo pricke and sting her. Fare thee well at once;\\nThe Glow-worme showes the Matine to be neere,\\nAnd gins to pale his vneffectuall Fire:\\nAdue, adue, Hamlet: remember me.\\nEnter.\\n\\n  Ham. Oh all you host of Heauen! Oh Earth; what els?\\nAnd shall I couple Hell? Oh fie: hold my heart;\\nAnd you my sinnewes, grow not instant Old;\\nBut beare me stiffely vp: Remember thee?\\nI, thou poore Ghost, while memory holds a seate\\nIn this distracted Globe: Remember thee?\\nYea, from the Table of my Memory,\\nIle wipe away all triuiall fond Records,\\nAll sawes of Bookes, all formes, all presures past,\\nThat youth and obseruation coppied there;\\nAnd thy Commandment all alone shall liue\\nWithin the Booke and Volume of my Braine,\\nVnmixt with baser matter; yes yes, by Heauen:\\nOh most pernicious woman!\\nOh Villaine, Villaine, smiling damned Villaine!\\nMy Tables, my Tables; meet it is I set it downe,\\nThat one may smile, and smile and be a Villaine;\\nAt least I'm sure it may be so in Denmarke;\\nSo Vnckle there you are: now to my word;\\nIt is; Adue, Adue, Remember me: I haue sworn't\\n\\n   Hor. & Mar. within. My Lord, my Lord.\\nEnter Horatio and Marcellus.\\n\\n  Mar. Lord Hamlet\\n\\n   Hor. Heauen secure him\\n\\n   Mar. So be it\\n\\n   Hor. Illo, ho, ho, my Lord\\n\\n   Ham. Hillo, ho, ho, boy; come bird, come\\n\\n   Mar. How ist my Noble Lord?\\n  Hor. What newes, my Lord?\\n  Ham. Oh wonderfull!\\n  Hor. Good my Lord tell it\\n\\n   Ham. No you'l reueale it\\n\\n   Hor. Not I, my Lord, by Heauen\\n\\n   Mar. Nor I, my Lord\\n\\n   Ham. How say you then, would heart of man once think it?\\nBut you'l be secret?\\n  Both. I, by Heau'n, my Lord\\n\\n   Ham. There's nere a villaine dwelling in all Denmarke\\nBut hee's an arrant knaue\\n\\n   Hor. There needs no Ghost my Lord, come from the\\nGraue, to tell vs this\\n\\n   Ham. Why right, you are i'th' right;\\nAnd so, without more circumstance at all,\\nI hold it fit that we shake hands, and part:\\nYou, as your busines and desires shall point you:\\nFor euery man ha's businesse and desire,\\nSuch as it is: and for mine owne poore part,\\nLooke you, Ile goe pray\\n\\n   Hor. These are but wild and hurling words, my Lord\\n\\n   Ham. I'm sorry they offend you heartily:\\nYes faith, heartily\\n\\n   Hor. There's no offence my Lord\\n\\n   Ham. Yes, by Saint Patricke, but there is my Lord,\\nAnd much offence too, touching this Vision heere:\\nIt is an honest Ghost, that let me tell you:\\nFor your desire to know what is betweene vs,\\nO'remaster't as you may. And now good friends,\\nAs you are Friends, Schollers and Soldiers,\\nGiue me one poore request\\n\\n   Hor. What is't my Lord? we will\\n\\n   Ham. Neuer make known what you haue seen to night\\n\\n   Both. My Lord, we will not\\n\\n   Ham. Nay, but swear't\\n\\n   Hor. Infaith my Lord, not I\\n\\n   Mar. Nor I my Lord: in faith\\n\\n   Ham. Vpon my sword\\n\\n   Marcell. We haue sworne my Lord already\\n\\n   Ham. Indeed, vpon my sword, Indeed\\n\\n   Gho. Sweare.\\n\\nGhost cries vnder the Stage.\\n\\n  Ham. Ah ha boy, sayest thou so. Art thou there truepenny?\\nCome one you here this fellow in the selleredge\\nConsent to sweare\\n\\n   Hor. Propose the Oath my Lord\\n\\n   Ham. Neuer to speake of this that you haue seene.\\nSweare by my sword\\n\\n   Gho. Sweare\\n\\n   Ham. Hic & vbique? Then wee'l shift for grownd,\\nCome hither Gentlemen,\\nAnd lay your hands againe vpon my sword,\\nNeuer to speake of this that you haue heard:\\nSweare by my Sword\\n\\n   Gho. Sweare\\n\\n   Ham. Well said old Mole, can'st worke i'th' ground so fast?\\nA worthy Pioner, once more remoue good friends\\n\\n   Hor. Oh day and night: but this is wondrous strange\\n\\n   Ham. And therefore as a stranger giue it welcome.\\nThere are more things in Heauen and Earth, Horatio,\\nThen are dream't of in our Philosophy. But come,\\nHere as before, neuer so helpe you mercy,\\nHow strange or odde so ere I beare my selfe;\\n(As I perchance heereafter shall thinke meet\\nTo put an Anticke disposition on:)\\nThat you at such time seeing me, neuer shall\\nWith Armes encombred thus, or thus, head shake;\\nOr by pronouncing of some doubtfull Phrase;\\nAs well, we know, or we could and if we would,\\nOr if we list to speake; or there be and if there might,\\nOr such ambiguous giuing out to note,\\nThat you know ought of me; this not to doe:\\nSo grace and mercy at your most neede helpe you:\\nSweare\\n\\n   Ghost. Sweare\\n\\n   Ham. Rest, rest perturbed Spirit: so Gentlemen,\\nWith all my loue I doe commend me to you;\\nAnd what so poore a man as Hamlet is,\\nMay doe t' expresse his loue and friending to you,\\nGod willing shall not lacke: let vs goe in together,\\nAnd still your fingers on your lippes I pray,\\nThe time is out of ioynt: Oh cursed spight,\\nThat euer I was borne to set it right.\\nNay, come let's goe together.\\n\\nExeunt.\\n\\n\\nActus Secundus.\\n\\nEnter Polonius, and Reynoldo.\\n\\n  Polon. Giue him his money, and these notes Reynoldo\\n\\n   Reynol. I will my Lord\\n\\n   Polon. You shall doe maruels wisely: good Reynoldo,\\nBefore you visite him you make inquiry\\nOf his behauiour\\n\\n   Reynol. My Lord, I did intend it\\n\\n   Polon. Marry, well said;\\nVery well said. Looke you Sir,\\nEnquire me first what Danskers are in Paris;\\nAnd how, and who; what meanes; and where they keepe:\\nWhat company, at what expence: and finding\\nBy this encompassement and drift of question,\\nThat they doe know my sonne: Come you more neerer\\nThen your particular demands will touch it,\\nTake you as 'twere some distant knowledge of him,\\nAnd thus I know his father and his friends,\\nAnd in part him. Doe you marke this Reynoldo?\\n  Reynol. I, very well my Lord\\n\\n   Polon. And in part him, but you may say not well;\\nBut if't be hee I meane, hees very wilde;\\nAddicted so and so; and there put on him\\nWhat forgeries you please; marry, none so ranke,\\nAs may dishonour him; take heed of that:\\nBut Sir, such wanton, wild, and vsuall slips,\\nAs are Companions noted and most knowne\\nTo youth and liberty\\n\\n   Reynol. As gaming my Lord\\n\\n   Polon. I, or drinking, fencing, swearing,\\nQuarelling, drabbing. You may goe so farre\\n\\n   Reynol. My Lord that would dishonour him\\n\\n   Polon. Faith no, as you may season it in the charge;\\nYou must not put another scandall on him,\\nThat hee is open to Incontinencie;\\nThat's not my meaning: but breath his faults so quaintly,\\nThat they may seeme the taints of liberty;\\nThe flash and out-breake of a fiery minde,\\nA sauagenes in vnreclaim'd bloud of generall assault\\n\\n   Reynol. But my good Lord\\n\\n   Polon. Wherefore should you doe this?\\n  Reynol. I my Lord, I would know that\\n\\n   Polon. Marry Sir, heere's my drift,\\nAnd I belieue it is a fetch of warrant:\\nYou laying these slight sulleyes on my Sonne,\\nAs 'twere a thing a little soil'd i'th' working:\\nMarke you your party in conuerse; him you would sound,\\nHauing euer seene. In the prenominate crimes,\\nThe youth you breath of guilty, be assur'd\\nHe closes with you in this consequence:\\nGood sir, or so, or friend, or Gentleman.\\nAccording to the Phrase and the Addition,\\nOf man and Country\\n\\n   Reynol. Very good my Lord\\n\\n   Polon. And then Sir does he this?\\nHe does: what was I about to say?\\nI was about say somthing: where did I leaue?\\n  Reynol. At closes in the consequence:\\nAt friend, or so, and Gentleman\\n\\n   Polon. At closes in the consequence, I marry,\\nHe closes with you thus. I know the Gentleman,\\nI saw him yesterday, or tother day;\\nOr then or then, with such and such; and as you say,\\nThere was he gaming, there o'retooke in's Rouse,\\nThere falling out at Tennis; or perchance,\\nI saw him enter such a house of saile;\\nVidelicet, a Brothell, or so forth. See you now;\\nYour bait of falshood, takes this Cape of truth;\\nAnd thus doe we of wisedome and of reach\\nWith windlesses, and with assaies of Bias,\\nBy indirections finde directions out:\\nSo by my former Lecture and aduice\\nShall you my Sonne; you haue me, haue you not?\\n  Reynol. My Lord I haue\\n\\n   Polon. God buy you; fare you well\\n\\n   Reynol. Good my Lord\\n\\n   Polon. Obserue his inclination in your selfe\\n\\n   Reynol. I shall my Lord\\n\\n   Polon. And let him plye his Musicke\\n\\n   Reynol. Well, my Lord.\\nEnter.\\n\\nEnter Ophelia.\\n\\n  Polon. Farewell:\\nHow now Ophelia, what's the matter?\\n  Ophe. Alas my Lord, I haue beene so affrighted\\n\\n   Polon. With what, in the name of Heauen?\\n  Ophe. My Lord, as I was sowing in my Chamber,\\nLord Hamlet with his doublet all vnbrac'd,\\nNo hat vpon his head, his stockings foul'd,\\nVngartred, and downe giued to his Anckle,\\nPale as his shirt, his knees knocking each other,\\nAnd with a looke so pitious in purport,\\nAs if he had been loosed out of hell,\\nTo speake of horrors: he comes before me\\n\\n   Polon. Mad for thy Loue?\\n  Ophe. My Lord, I doe not know: but truly I do feare it\\n\\n   Polon. What said he?\\n  Ophe. He tooke me by the wrist, and held me hard;\\nThen goes he to the length of all his arme;\\nAnd with his other hand thus o're his brow,\\nHe fals to such perusall of my face,\\nAs he would draw it. Long staid he so,\\nAt last, a little shaking of mine Arme:\\nAnd thrice his head thus wauing vp and downe;\\nHe rais'd a sigh, so pittious and profound,\\nThat it did seeme to shatter all his bulke,\\nAnd end his being. That done, he lets me goe,\\nAnd with his head ouer his shoulders turn'd,\\nHe seem'd to finde his way without his eyes,\\nFor out adores he went without their helpe;\\nAnd to the last, bended their light on me\\n\\n   Polon. Goe with me, I will goe seeke the King,\\nThis is the very extasie of Loue,\\nWhose violent property foredoes it selfe,\\nAnd leads the will to desperate Vndertakings,\\nAs oft as any passion vnder Heauen,\\nThat does afflict our Natures. I am sorrie,\\nWhat haue you giuen him any hard words of late?\\n  Ophe. No my good Lord: but as you did command,\\nI did repell his Letters, and deny'de\\nHis accesse to me\\n\\n   Pol. That hath made him mad.\\nI am sorrie that with better speed and iudgement\\nI had not quoted him. I feare he did but trifle,\\nAnd meant to wracke thee: but beshrew my iealousie:\\nIt seemes it is as proper to our Age,\\nTo cast beyond our selues in our Opinions,\\nAs it is common for the yonger sort\\nTo lacke discretion. Come, go we to the King,\\nThis must be knowne, being kept close might moue\\nMore greefe to hide, then hate to vtter loue.\\n\\nExeunt.\\n\\n\\nScena Secunda.\\n\\nEnter King, Queene, Rosincrane, and Guildensterne Cum alijs.\\n\\n  King. Welcome deere Rosincrance and Guildensterne.\\nMoreouer, that we much did long to see you,\\nThe neede we haue to vse you, did prouoke\\nOur hastie sending. Something haue you heard\\nOf Hamlets transformation: so I call it,\\nSince not th' exterior, nor the inward man\\nResembles that it was. What it should bee\\nMore then his Fathers death, that thus hath put him\\nSo much from th' vnderstanding of himselfe,\\nI cannot deeme of. I intreat you both,\\nThat being of so young dayes brought vp with him:\\nAnd since so Neighbour'd to his youth, and humour,\\nThat you vouchsafe your rest heere in our Court\\nSome little time: so by your Companies\\nTo draw him on to pleasures, and to gather\\nSo much as from Occasions you may gleane,\\nThat open'd lies within our remedie\\n\\n   Qu. Good Gentlemen, he hath much talk'd of you,\\nAnd sure I am, two men there are not liuing,\\nTo whom he more adheres. If it will please you\\nTo shew vs so much Gentrie, and good will,\\nAs to expend your time with vs a-while,\\nFor the supply and profit of our Hope,\\nYour Visitation shall receiue such thankes\\nAs fits a Kings remembrance\\n\\n   Rosin. Both your Maiesties\\nMight by the Soueraigne power you haue of vs,\\nPut your dread pleasures, more into Command\\nThen to Entreatie\\n\\n   Guil. We both obey,\\nAnd here giue vp our selues, in the full bent,\\nTo lay our Seruices freely at your feete,\\nTo be commanded\\n\\n   King. Thankes Rosincrance, and gentle Guildensterne\\n\\n   Qu. Thankes Guildensterne and gentle Rosincrance.\\nAnd I beseech you instantly to visit\\nMy too much changed Sonne.\\nGo some of ye,\\nAnd bring the Gentlemen where Hamlet is\\n\\n   Guil. Heauens make our presence and our practises\\nPleasant and helpfull to him.\\nEnter.\\n\\n  Queene. Amen.\\nEnter Polonius.\\n\\n  Pol. Th' Ambassadors from Norwey, my good Lord,\\nAre ioyfully return'd\\n\\n   King. Thou still hast bin the father of good Newes\\n\\n   Pol. Haue I, my Lord? Assure you, my good Liege,\\nI hold my dutie, as I hold my Soule,\\nBoth to my God, one to my gracious King:\\nAnd I do thinke, or else this braine of mine\\nHunts not the traile of Policie, so sure\\nAs I haue vs'd to do: that I haue found\\nThe very cause of Hamlets Lunacie\\n\\n   King. Oh speake of that, that I do long to heare\\n\\n   Pol. Giue first admittance to th' Ambassadors,\\nMy Newes shall be the Newes to that great Feast\\n\\n   King. Thy selfe do grace to them, and bring them in.\\nHe tels me my sweet Queene, that he hath found\\nThe head and sourse of all your Sonnes distemper\\n\\n   Qu. I doubt it is no other, but the maine,\\nHis Fathers death, and our o're-hasty Marriage.\\nEnter Polonius, Voltumand, and Cornelius.\\n\\n  King. Well, we shall sift him. Welcome good Frends:\\nSay Voltumand, what from our Brother Norwey?\\n  Volt. Most faire returne of Greetings, and Desires.\\nVpon our first, he sent out to suppresse\\nHis Nephewes Leuies, which to him appear'd\\nTo be a preparation 'gainst the Poleak:\\nBut better look'd into, he truly found\\nIt was against your Highnesse, whereat greeued,\\nThat so his Sicknesse, Age, and Impotence\\nWas falsely borne in hand, sends out Arrests\\nOn Fortinbras, which he (in breefe) obeyes,\\nReceiues rebuke from Norwey: and in fine,\\nMakes Vow before his Vnkle, neuer more\\nTo giue th' assay of Armes against your Maiestie.\\nWhereon old Norwey, ouercome with ioy,\\nGiues him three thousand Crownes in Annuall Fee,\\nAnd his Commission to imploy those Soldiers\\nSo leuied as before, against the Poleak:\\nWith an intreaty heerein further shewne,\\nThat it might please you to giue quiet passe\\nThrough your Dominions, for his Enterprize,\\nOn such regards of safety and allowance,\\nAs therein are set downe\\n\\n   King. It likes vs well:\\nAnd at our more consider'd time wee'l read,\\nAnswer, and thinke vpon this Businesse.\\nMeane time we thanke you, for your well-tooke Labour.\\nGo to your rest, at night wee'l Feast together.\\nMost welcome home.\\n\\nExit Ambass.\\n\\n  Pol. This businesse is very well ended.\\nMy Liege, and Madam, to expostulate\\nWhat Maiestie should be, what Dutie is,\\nWhy day is day; night, night; and time is time,\\nWere nothing but to waste Night, Day, and Time.\\nTherefore, since Breuitie is the Soule of Wit,\\nAnd tediousnesse, the limbes and outward flourishes,\\nI will be breefe. Your Noble Sonne is mad:\\nMad call I it; for to define true Madnesse,\\nWhat is't, but to be nothing else but mad.\\nBut let that go\\n\\n   Qu. More matter, with lesse Art\\n\\n   Pol. Madam, I sweare I vse no Art at all:\\nThat he is mad, 'tis true: 'Tis true 'tis pittie,\\nAnd pittie it is true: A foolish figure,\\nBut farewell it: for I will vse no Art.\\nMad let vs grant him then: and now remaines\\nThat we finde out the cause of this effect,\\nOr rather say, the cause of this defect;\\nFor this effect defectiue, comes by cause,\\nThus it remaines, and the remainder thus. Perpend,\\nI haue a daughter: haue, whil'st she is mine,\\nWho in her Dutie and Obedience, marke,\\nHath giuen me this: now gather, and surmise.\\n\\nThe Letter.\\n\\nTo the Celestiall, and my Soules Idoll, the most beautifed Ophelia.\\nThat's an ill Phrase, a vilde Phrase, beautified is a vilde\\nPhrase: but you shall heare these in her excellent white\\nbosome, these\\n\\n   Qu. Came this from Hamlet to her\\n\\n   Pol. Good Madam stay awhile, I will be faithfull.\\nDoubt thou, the Starres are fire,\\nDoubt, that the Sunne doth moue:\\nDoubt Truth to be a Lier,\\nBut neuer Doubt, I loue.\\nO deere Ophelia, I am ill at these Numbers: I haue not Art to\\nreckon my grones; but that I loue thee best, oh most Best beleeue\\nit. Adieu.\\nThine euermore most deere Lady, whilst this\\nMachine is to him, Hamlet.\\nThis in Obedience hath my daughter shew'd me:\\nAnd more aboue hath his soliciting,\\nAs they fell out by Time, by Meanes, and Place,\\nAll giuen to mine eare\\n\\n   King. But how hath she receiu'd his Loue?\\n  Pol. What do you thinke of me?\\n  King. As of a man, faithfull and Honourable\\n\\n   Pol. I wold faine proue so. But what might you think?\\nWhen I had seene this hot loue on the wing,\\nAs I perceiued it, I must tell you that\\nBefore my Daughter told me what might you\\nOr my deere Maiestie your Queene heere, think,\\nIf I had playd the Deske or Table-booke,\\nOr giuen my heart a winking, mute and dumbe,\\nOr look'd vpon this Loue, with idle sight,\\nWhat might you thinke? No, I went round to worke,\\nAnd (my yong Mistris) thus I did bespeake\\nLord Hamlet is a Prince out of thy Starre,\\nThis must not be: and then, I Precepts gaue her,\\nThat she should locke her selfe from his Resort,\\nAdmit no Messengers, receiue no Tokens:\\nWhich done, she tooke the Fruites of my Aduice,\\nAnd he repulsed. A short Tale to make,\\nFell into a Sadnesse, then into a Fast,\\nThence to a Watch, thence into a Weaknesse,\\nThence to a Lightnesse, and by this declension\\nInto the Madnesse whereon now he raues,\\nAnd all we waile for\\n\\n   King. Do you thinke 'tis this?\\n  Qu. It may be very likely\\n\\n   Pol. Hath there bene such a time, I'de fain know that,\\nThat I haue possitiuely said, 'tis so,\\nWhen it prou'd otherwise?\\n  King. Not that I know\\n\\n   Pol. Take this from this; if this be otherwise,\\nIf Circumstances leade me, I will finde\\nWhere truth is hid, though it were hid indeede\\nWithin the Center\\n\\n   King. How may we try it further?\\n  Pol. You know sometimes\\nHe walkes foure houres together, heere\\nIn the Lobby\\n\\n   Qu. So he ha's indeed\\n\\n   Pol. At such a time Ile loose my Daughter to him,\\nBe you and I behinde an Arras then,\\nMarke the encounter: If he loue her not,\\nAnd be not from his reason falne thereon;\\nLet me be no Assistant for a State,\\nAnd keepe a Farme and Carters\\n\\n   King. We will try it.\\nEnter Hamlet reading on a Booke.\\n\\n  Qu. But looke where sadly the poore wretch\\nComes reading\\n\\n   Pol. Away I do beseech you, both away,\\nIle boord him presently.\\n\\nExit King & Queen.\\n\\nOh giue me leaue. How does my good Lord Hamlet?\\n  Ham. Well, God-a-mercy\\n\\n   Pol. Do you know me, my Lord?\\n  Ham. Excellent, excellent well: y'are a Fishmonger\\n\\n   Pol. Not I my Lord\\n\\n   Ham. Then I would you were so honest a man\\n\\n   Pol. Honest, my Lord?\\n  Ham. I sir, to be honest as this world goes, is to bee\\none man pick'd out of two thousand\\n\\n   Pol. That's very true, my Lord\\n\\n   Ham. For if the Sun breed Magots in a dead dogge,\\nbeing a good kissing Carrion-\\nHaue you a daughter?\\n  Pol. I haue my Lord\\n\\n   Ham. Let her not walke i'thSunne: Conception is a\\nblessing, but not as your daughter may conceiue. Friend\\nlooke too't\\n\\n   Pol. How say you by that? Still harping on my daughter:\\nyet he knew me not at first; he said I was a Fishmonger:\\nhe is farre gone, farre gone: and truly in my youth,\\nI suffred much extreamity for loue: very neere this. Ile\\nspeake to him againe. What do you read my Lord?\\n  Ham. Words, words, words\\n\\n   Pol. What is the matter, my Lord?\\n  Ham. Betweene who?\\n  Pol. I meane the matter you meane, my Lord\\n\\n   Ham. Slanders Sir: for the Satyricall slaue saies here,\\nthat old men haue gray Beards; that their faces are wrinkled;\\ntheir eyes purging thicke Amber, or Plum-Tree\\nGumme: and that they haue a plentifull locke of Wit,\\ntogether with weake Hammes. All which Sir, though I\\nmost powerfully, and potently beleeue; yet I holde it\\nnot Honestie to haue it thus set downe: For you your\\nselfe Sir, should be old as I am, if like a Crab you could\\ngo backward\\n\\n   Pol. Though this be madnesse,\\nYet there is Method in't: will you walke\\nOut of the ayre my Lord?\\n  Ham. Into my Graue?\\n  Pol. Indeed that is out o'th' Ayre:\\nHow pregnant (sometimes) his Replies are?\\nA happinesse,\\nThat often Madnesse hits on,\\nWhich Reason and Sanitie could not\\nSo prosperously be deliuer'd of.\\nI will leaue him,\\nAnd sodainely contriue the meanes of meeting\\nBetweene him, and my daughter.\\nMy Honourable Lord, I will most humbly\\nTake my leaue of you\\n\\n   Ham. You cannot Sir take from me any thing, that I\\nwill more willingly part withall, except my life, my\\nlife\\n\\n   Polon. Fare you well my Lord\\n\\n   Ham. These tedious old fooles\\n\\n   Polon. You goe to seeke my Lord Hamlet; there\\nhee is.\\nEnter Rosincran and Guildensterne.\\n\\n  Rosin. God saue you Sir\\n\\n   Guild. Mine honour'd Lord?\\n  Rosin. My most deare Lord?\\n  Ham. My excellent good friends? How do'st thou\\nGuildensterne? Oh, Rosincrane; good Lads: How doe ye\\nboth?\\n  Rosin. As the indifferent Children of the earth\\n\\n   Guild. Happy, in that we are not ouer-happy: on Fortunes\\nCap, we are not the very Button\\n\\n   Ham. Nor the Soales of her Shoo?\\n  Rosin. Neither my Lord\\n\\n   Ham. Then you liue about her waste, or in the middle\\nof her fauour?\\n  Guil. Faith, her priuates, we\\n\\n   Ham. In the secret parts of Fortune? Oh, most true:\\nshe is a Strumpet. What's the newes?\\n  Rosin. None my Lord; but that the World's growne\\nhonest\\n\\n   Ham. Then is Doomesday neere: But your newes is\\nnot true. Let me question more in particular: what haue\\nyou my good friends, deserued at the hands of Fortune,\\nthat she sends you to Prison hither?\\n  Guil. Prison, my Lord?\\n  Ham. Denmark's a Prison\\n\\n   Rosin. Then is the World one\\n\\n   Ham. A goodly one, in which there are many Confines,\\nWards, and Dungeons; Denmarke being one o'th'\\nworst\\n\\n   Rosin. We thinke not so my Lord\\n\\n   Ham. Why then 'tis none to you; for there is nothing\\neither good or bad, but thinking makes it so: to me it is\\na prison\\n\\n   Rosin. Why then your Ambition makes it one: 'tis\\ntoo narrow for your minde\\n\\n   Ham. O God, I could be bounded in a nutshell, and\\ncount my selfe a King of infinite space; were it not that\\nI haue bad dreames\\n\\n   Guil. Which dreames indeed are Ambition: for the\\nvery substance of the Ambitious, is meerely the shadow\\nof a Dreame\\n\\n   Ham. A dreame it selfe is but a shadow\\n\\n   Rosin. Truely, and I hold Ambition of so ayry and\\nlight a quality, that it is but a shadowes shadow\\n\\n   Ham. Then are our Beggers bodies; and our Monarchs\\nand out-stretcht Heroes the Beggers Shadowes:\\nshall wee to th' Court: for, by my fey I cannot reason?\\n  Both. Wee'l wait vpon you\\n\\n   Ham. No such matter. I will not sort you with the\\nrest of my seruants: for to speake to you like an honest\\nman: I am most dreadfully attended; but in the beaten\\nway of friendship, What make you at Elsonower?\\n  Rosin. To visit you my Lord, no other occasion\\n\\n   Ham. Begger that I am, I am euen poore in thankes;\\nbut I thanke you: and sure deare friends my thanks\\nare too deare a halfepeny; were you not sent for? Is it\\nyour owne inclining? Is it a free visitation? Come,\\ndeale iustly with me: come, come; nay speake\\n\\n   Guil. What should we say my Lord?\\n  Ham. Why any thing. But to the purpose; you were\\nsent for; and there is a kinde confession in your lookes;\\nwhich your modesties haue not craft enough to color,\\nI know the good King & Queene haue sent for you\\n\\n   Rosin. To what end my Lord?\\n  Ham. That you must teach me: but let mee coniure\\nyou by the rights of our fellowship, by the consonancy of\\nour youth, by the Obligation of our euer-preserued loue,\\nand by what more deare, a better proposer could charge\\nyou withall; be euen and direct with me, whether you\\nwere sent for or no\\n\\n   Rosin. What say you?\\n  Ham. Nay then I haue an eye of you: if you loue me\\nhold not off\\n\\n   Guil. My Lord, we were sent for\\n\\n   Ham. I will tell you why; so shall my anticipation\\npreuent your discouery of your secricie to the King and\\nQueene: moult no feather, I haue of late, but wherefore\\nI know not, lost all my mirth, forgone all custome of exercise;\\nand indeed, it goes so heauenly with my disposition;\\nthat this goodly frame the Earth, seemes to me a sterrill\\nPromontory; this most excellent Canopy the Ayre,\\nlook you, this braue ore-hanging, this Maiesticall Roofe,\\nfretted with golden fire: why, it appeares no other thing\\nto mee, then a foule and pestilent congregation of vapours.\\nWhat a piece of worke is a man! how Noble in\\nReason? how infinite in faculty? in forme and mouing\\nhow expresse and admirable? in Action, how like an Angel?\\nin apprehension, how like a God? the beauty of the\\nworld, the Parragon of Animals; and yet to me, what is\\nthis Quintessence of Dust? Man delights not me; no,\\nnor Woman neither; though by your smiling you seeme\\nto say so\\n\\n   Rosin. My Lord, there was no such stuffe in my\\nthoughts\\n\\n   Ham. Why did you laugh, when I said, Man delights\\nnot me?\\n  Rosin. To thinke, my Lord, if you delight not in Man,\\nwhat Lenton entertainment the Players shall receiue\\nfrom you: wee coated them on the way, and hither are\\nthey comming to offer you Seruice\\n\\n   Ham. He that playes the King shall be welcome; his\\nMaiesty shall haue Tribute of mee: the aduenturous\\nKnight shal vse his Foyle and Target: the Louer shall\\nnot sigh gratis, the humorous man shall end his part in\\npeace: the Clowne shall make those laugh whose lungs\\nare tickled a'th' sere: and the Lady shall say her minde\\nfreely; or the blanke Verse shall halt for't: what Players\\nare they?\\n  Rosin. Euen those you were wont to take delight in\\nthe Tragedians of the City\\n\\n   Ham. How chances it they trauaile? their residence\\nboth in reputation and profit was better both\\nwayes\\n\\n   Rosin. I thinke their Inhibition comes by the meanes\\nof the late Innouation?\\n  Ham. Doe they hold the same estimation they did\\nwhen I was in the City? Are they so follow'd?\\n  Rosin. No indeed, they are not\\n\\n   Ham. How comes it? doe they grow rusty?\\n  Rosin. Nay, their indeauour keepes in the wonted\\npace; But there is Sir an ayrie of Children, little\\nYases, that crye out on the top of question; and\\nare most tyrannically clap't for't: these are now the\\nfashion, and so be-ratled the common Stages (so they\\ncall them) that many wearing Rapiers, are affraide of\\nGoose-quils, and dare scarse come thither\\n\\n   Ham. What are they Children? Who maintains 'em?\\nHow are they escorted? Will they pursue the Quality no\\nlonger then they can sing? Will they not say afterwards\\nif they should grow themselues to common Players (as\\nit is most like if their meanes are not better) their Writers\\ndo them wrong, to make them exclaim against their\\nowne Succession\\n\\n   Rosin. Faith there ha's bene much to do on both sides:\\nand the Nation holds it no sinne, to tarre them to Controuersie.\\nThere was for a while, no mony bid for argument,\\nvnlesse the Poet and the Player went to Cuffes in\\nthe Question\\n\\n   Ham. Is't possible?\\n  Guild. Oh there ha's beene much throwing about of\\nBraines\\n\\n   Ham. Do the Boyes carry it away?\\n  Rosin. I that they do my Lord. Hercules & his load too\\n\\n   Ham. It is not strange: for mine Vnckle is King of\\nDenmarke, and those that would make mowes at him\\nwhile my Father liued; giue twenty, forty, an hundred\\nDucates a peece, for his picture in Little. There is something\\nin this more then Naturall, if Philosophie could\\nfinde it out.\\n\\nFlourish for the Players.\\n\\n  Guil. There are the Players\\n\\n   Ham. Gentlemen, you are welcom to Elsonower: your\\nhands, come: The appurtenance of Welcome, is Fashion\\nand Ceremony. Let me comply with you in the Garbe,\\nlest my extent to the Players (which I tell you must shew\\nfairely outward) should more appeare like entertainment\\nthen yours. You are welcome: but my Vnckle Father,\\nand Aunt Mother are deceiu'd\\n\\n   Guil. In what my deere Lord?\\n  Ham. I am but mad North, North-West: when the\\nWinde is Southerly, I know a Hawke from a Handsaw.\\nEnter Polonius.\\n\\n  Pol. Well be with you Gentlemen\\n\\n   Ham. Hearke you Guildensterne, and you too: at each\\neare a hearer: that great Baby you see there, is not yet\\nout of his swathing clouts\\n\\n   Rosin. Happily he's the second time come to them: for\\nthey say, an old man is twice a childe\\n\\n   Ham. I will Prophesie. Hee comes to tell me of the\\nPlayers. Mark it, you say right Sir: for a Monday morning\\n'twas so indeed\\n\\n   Pol. My Lord, I haue Newes to tell you\\n\\n   Ham. My Lord, I haue Newes to tell you.\\nWhen Rossius an Actor in Rome-\\n  Pol. The Actors are come hither my Lord\\n\\n   Ham. Buzze, buzze\\n\\n   Pol. Vpon mine Honor\\n\\n   Ham. Then can each Actor on his Asse-\\n  Polon. The best Actors in the world, either for Tragedie,\\nComedie, Historie, Pastorall:\\nPastoricall-Comicall-Historicall-Pastorall:\\nTragicall-Historicall: Tragicall-Comicall-Historicall-Pastorall:\\nScene indiuidible: or Poem\\nvnlimited. Seneca cannot be too heauy, nor Plautus\\ntoo light, for the law of Writ, and the Liberty. These are\\nthe onely men\\n\\n   Ham. O Iephta Iudge of Israel, what a Treasure had'st\\nthou?\\n  Pol. What a Treasure had he, my Lord?\\n  Ham. Why one faire Daughter, and no more,\\nThe which he loued passing well\\n\\n   Pol. Still on my Daughter\\n\\n   Ham. Am I not i'th' right old Iephta?\\n  Polon. If you call me Iephta my Lord, I haue a daughter\\nthat I loue passing well\\n\\n   Ham. Nay that followes not\\n\\n   Polon. What followes then, my Lord?\\n  Ha. Why, As by lot, God wot: and then you know, It\\ncame to passe, as most like it was: The first rowe of the\\nPons Chanson will shew you more. For looke where my\\nAbridgements come.\\nEnter foure or fiue Players.\\n\\nY'are welcome Masters, welcome all. I am glad to see\\nthee well: Welcome good Friends. Oh my olde Friend?\\nThy face is valiant since I saw thee last: Com'st thou to\\nbeard me in Denmarke? What, my yong Lady and Mistris?\\nByrlady your Ladiship is neerer Heauen then when\\nI saw you last, by the altitude of a Choppine. Pray God\\nyour voice like a peece of vncurrant Gold be not crack'd\\nwithin the ring. Masters, you are all welcome: wee'l e'ne\\nto't like French Faulconers, flie at any thing we see: wee'l\\nhaue a Speech straight. Come giue vs a tast of your quality:\\ncome, a passionate speech\\n\\n   1.Play. What speech, my Lord?\\n  Ham. I heard thee speak me a speech once, but it was\\nneuer Acted: or if it was, not aboue once, for the Play I\\nremember pleas'd not the Million, 'twas Cauiarie to the\\nGenerall: but it was (as I receiu'd it, and others, whose\\niudgement in such matters, cried in the top of mine) an\\nexcellent Play; well digested in the Scoenes, set downe\\nwith as much modestie, as cunning. I remember one said,\\nthere was no Sallets in the lines, to make the matter sauory;\\nnor no matter in the phrase, that might indite the\\nAuthor of affectation, but cal'd it an honest method. One\\ncheefe Speech in it, I cheefely lou'd, 'twas Aeneas Tale\\nto Dido, and thereabout of it especially, where he speaks\\nof Priams slaughter. If it liue in your memory, begin at\\nthis Line, let me see, let me see: The rugged Pyrrhus like\\nth'Hyrcanian Beast. It is not so: it begins with Pyrrhus\\nThe rugged Pyrrhus, he whose Sable Armes\\nBlacke as his purpose, did the night resemble\\nWhen he lay couched in the Ominous Horse,\\nHath now this dread and blacke Complexion smear'd\\nWith Heraldry more dismall: Head to foote\\nNow is he to take Geulles, horridly Trick'd\\nWith blood of Fathers, Mothers, Daughters, Sonnes,\\nBak'd and impasted with the parching streets,\\nThat lend a tyrannous, and damned light\\nTo their vilde Murthers, roasted in wrath and fire,\\nAnd thus o're-sized with coagulate gore,\\nWith eyes like Carbuncles, the hellish Pyrrhus\\nOlde Grandsire Priam seekes\\n\\n   Pol. Fore God, my Lord, well spoken, with good accent,\\nand good discretion\\n\\n   1.Player. Anon he findes him,\\nStriking too short at Greekes. His anticke Sword,\\nRebellious to his Arme, lyes where it falles\\nRepugnant to command: vnequall match,\\nPyrrhus at Priam driues, in Rage strikes wide:\\nBut with the whiffe and winde of his fell Sword,\\nTh' vnnerued Father fals. Then senselesse Illium,\\nSeeming to feele his blow, with flaming top\\nStoopes to his Bace, and with a hideous crash\\nTakes Prisoner Pyrrhus eare. For loe, his Sword\\nWhich was declining on the Milkie head\\nOf Reuerend Priam, seem'd i'th' Ayre to sticke:\\nSo as a painted Tyrant Pyrrhus stood,\\nAnd like a Newtrall to his will and matter, did nothing.\\nBut as we often see against some storme,\\nA silence in the Heauens, the Racke stand still,\\nThe bold windes speechlesse, and the Orbe below\\nAs hush as death: Anon the dreadfull Thunder\\nDoth rend the Region. So after Pyrrhus pause,\\nA rowsed Vengeance sets him new a-worke,\\nAnd neuer did the Cyclops hammers fall\\nOn Mars his Armours, forg'd for proofe Eterne,\\nWith lesse remorse then Pyrrhus bleeding sword\\nNow falles on Priam.\\nOut, out, thou Strumpet-Fortune, all you Gods,\\nIn generall Synod take away her power:\\nBreake all the Spokes and Fallies from her wheele,\\nAnd boule the round Naue downe the hill of Heauen,\\nAs low as to the Fiends\\n\\n   Pol. This is too long\\n\\n   Ham. It shall to'th Barbars, with your beard. Prythee\\nsay on: He's for a Iigge, or a tale of Baudry, or hee\\nsleepes. Say on; come to Hecuba\\n\\n   1.Play. But who, O who, had seen the inobled Queen\\n\\n   Ham. The inobled Queene?\\n  Pol. That's good: Inobled Queene is good\\n\\n   1.Play. Run bare-foot vp and downe,\\nThreatning the flame\\nWith Bisson Rheume: A clout about that head,\\nWhere late the Diadem stood, and for a Robe\\nAbout her lanke and all ore-teamed Loines,\\nA blanket in th' Alarum of feare caught vp.\\nWho this had seene, with tongue in Venome steep'd,\\n'Gainst Fortunes State, would Treason haue pronounc'd?\\nBut if the Gods themselues did see her then,\\nWhen she saw Pyrrhus make malicious sport\\nIn mincing with his Sword her Husbands limbes,\\nThe instant Burst of Clamour that she made\\n(Vnlesse things mortall moue them not at all)\\nWould haue made milche the Burning eyes of Heauen,\\nAnd passion in the Gods\\n\\n   Pol. Looke where he ha's not turn'd his colour, and\\nha's teares in's eyes. Pray you no more\\n\\n   Ham. 'Tis well, Ile haue thee speake out the rest,\\nsoone. Good my Lord, will you see the Players wel bestow'd.\\nDo ye heare, let them be well vs'd: for they are\\nthe Abstracts and breefe Chronicles of the time. After\\nyour death, you were better haue a bad Epitaph, then\\ntheir ill report while you liued\\n\\n   Pol. My Lord, I will vse them according to their desart\\n\\n   Ham. Gods bodykins man, better. Vse euerie man\\nafter his desart, and who should scape whipping: vse\\nthem after your own Honor and Dignity. The lesse they\\ndeserue, the more merit is in your bountie. Take them\\nin\\n\\n   Pol. Come sirs.\\n\\nExit Polon.\\n\\n  Ham. Follow him Friends: wee'l heare a play to morrow.\\nDost thou heare me old Friend, can you play the\\nmurther of Gonzago?\\n  Play. I my Lord\\n\\n   Ham. Wee'l ha't to morrow night. You could for a\\nneed study a speech of some dosen or sixteene lines, which\\nI would set downe, and insert in't? Could ye not?\\n  Play. I my Lord\\n\\n   Ham. Very well. Follow that Lord, and looke you\\nmock him not. My good Friends, Ile leaue you til night\\nyou are welcome to Elsonower?\\n  Rosin. Good my Lord.\\n\\nExeunt.\\n\\nManet Hamlet.\\n\\n  Ham. I so, God buy'ye: Now I am alone.\\nOh what a Rogue and Pesant slaue am I?\\nIs it not monstrous that this Player heere,\\nBut in a Fixion, in a dreame of Passion,\\nCould force his soule so to his whole conceit,\\nThat from her working, all his visage warm'd;\\nTeares in his eyes, distraction in's Aspect,\\nA broken voyce, and his whole Function suiting\\nWith Formes, to his Conceit? And all for nothing?\\nFor Hecuba?\\nWhat's Hecuba to him, or he to Hecuba,\\nThat he should weepe for her? What would he doe,\\nHad he the Motiue and the Cue for passion\\nThat I haue? He would drowne the Stage with teares,\\nAnd cleaue the generall eare with horrid speech:\\nMake mad the guilty, and apale the free,\\nConfound the ignorant, and amaze indeed,\\nThe very faculty of Eyes and Eares. Yet I,\\nA dull and muddy-metled Rascall, peake\\nLike Iohn a-dreames, vnpregnant of my cause,\\nAnd can say nothing: No, not for a King,\\nVpon whose property, and most deere life,\\nA damn'd defeate was made. Am I a Coward?\\nWho calles me Villaine? breakes my pate a-crosse?\\nPluckes off my Beard, and blowes it in my face?\\nTweakes me by'th' Nose? giues me the Lye i'th' Throate,\\nAs deepe as to the Lungs? Who does me this?\\nHa? Why I should take it: for it cannot be,\\nBut I am Pigeon-Liuer'd, and lacke Gall\\nTo make Oppression bitter, or ere this,\\nI should haue fatted all the Region Kites\\nWith this Slaues Offall, bloudy: a Bawdy villaine,\\nRemorselesse, Treacherous, Letcherous, kindles villaine!\\nOh Vengeance!\\nWho? What an Asse am I? I sure, this is most braue,\\nThat I, the Sonne of the Deere murthered,\\nPrompted to my Reuenge by Heauen, and Hell,\\nMust (like a Whore) vnpacke my heart with words,\\nAnd fall a Cursing like a very Drab.\\nA Scullion? Fye vpon't: Foh. About my Braine.\\nI haue heard, that guilty Creatures sitting at a Play,\\nHaue by the very cunning of the Scoene,\\nBene strooke so to the soule, that presently\\nThey haue proclaim'd their Malefactions.\\nFor Murther, though it haue no tongue, will speake\\nWith most myraculous Organ. Ile haue these Players,\\nPlay something like the murder of my Father,\\nBefore mine Vnkle. Ile obserue his lookes,\\nIle rent him to the quicke: If he but blench\\nI know my course. The Spirit that I haue seene\\nMay be the Diuell, and the Diuel hath power\\nT' assume a pleasing shape, yea and perhaps\\nOut of my Weaknesse, and my Melancholly,\\nAs he is very potent with such Spirits,\\nAbuses me to damne me. Ile haue grounds\\nMore Relatiue then this: The Play's the thing,\\nWherein Ile catch the Conscience of the King.\\n\\nExit\\n\\nEnter King, Queene, Polonius, Ophelia, Rosincrance,\\nGuildenstern, and\\nLords.\\n\\n  King. And can you by no drift of circumstance\\nGet from him why he puts on this Confusion:\\nGrating so harshly all his dayes of quiet\\nWith turbulent and dangerous Lunacy\\n\\n   Rosin. He does confesse he feeles himselfe distracted,\\nBut from what cause he will by no meanes speake\\n\\n   Guil. Nor do we finde him forward to be sounded,\\nBut with a crafty Madnesse keepes aloofe:\\nWhen we would bring him on to some Confession\\nOf his true state\\n\\n   Qu. Did he receiue you well?\\n  Rosin. Most like a Gentleman\\n\\n   Guild. But with much forcing of his disposition\\n\\n   Rosin. Niggard of question, but of our demands\\nMost free in his reply\\n\\n   Qu. Did you assay him to any pastime?\\n  Rosin. Madam, it so fell out, that certaine Players\\nWe ore-wrought on the way: of these we told him,\\nAnd there did seeme in him a kinde of ioy\\nTo heare of it: They are about the Court,\\nAnd (as I thinke) they haue already order\\nThis night to play before him\\n\\n   Pol. 'Tis most true:\\nAnd he beseech'd me to intreate your Maiesties\\nTo heare, and see the matter\\n\\n   King. With all my heart, and it doth much content me\\nTo heare him so inclin'd. Good Gentlemen,\\nGiue him a further edge, and driue his purpose on\\nTo these delights\\n\\n   Rosin. We shall my Lord.\\n\\nExeunt.\\n\\n  King. Sweet Gertrude leaue vs too,\\nFor we haue closely sent for Hamlet hither,\\nThat he, as 'twere by accident, may there\\nAffront Ophelia. Her Father, and my selfe (lawful espials)\\nWill so bestow our selues, that seeing vnseene\\nWe may of their encounter frankely iudge,\\nAnd gather by him, as he is behaued,\\nIf't be th' affliction of his loue, or no.\\nThat thus he suffers for\\n\\n   Qu. I shall obey you,\\nAnd for your part Ophelia, I do wish\\nThat your good Beauties be the happy cause\\nOf Hamlets wildenesse: so shall I hope your Vertues\\nWill bring him to his wonted way againe,\\nTo both your Honors\\n\\n   Ophe. Madam, I wish it may\\n\\n   Pol. Ophelia, walke you heere. Gracious so please ye\\nWe will bestow our selues: Reade on this booke,\\nThat shew of such an exercise may colour\\nYour lonelinesse. We are oft too blame in this,\\n'Tis too much prou'd, that with Deuotions visage,\\nAnd pious Action, we do surge o're\\nThe diuell himselfe\\n\\n   King. Oh 'tis true:\\nHow smart a lash that speech doth giue my Conscience?\\nThe Harlots Cheeke beautied with plaist'ring Art\\nIs not more vgly to the thing that helpes it,\\nThen is my deede, to my most painted word.\\nOh heauie burthen!\\n  Pol. I heare him comming, let's withdraw my Lord.\\n\\nExeunt.\\n\\nEnter Hamlet.\\n\\n  Ham. To be, or not to be, that is the Question:\\nWhether 'tis Nobler in the minde to suffer\\nThe Slings and Arrowes of outragious Fortune,\\nOr to take Armes against a Sea of troubles,\\nAnd by opposing end them: to dye, to sleepe\\nNo more; and by a sleepe, to say we end\\nThe Heart-ake, and the thousand Naturall shockes\\nThat Flesh is heyre too? 'Tis a consummation\\nDeuoutly to be wish'd. To dye to sleepe,\\nTo sleepe, perchance to Dreame; I, there's the rub,\\nFor in that sleepe of death, what dreames may come,\\nWhen we haue shuffel'd off this mortall coile,\\nMust giue vs pawse. There's the respect\\nThat makes Calamity of so long life:\\nFor who would beare the Whips and Scornes of time,\\nThe Oppressors wrong, the poore mans Contumely,\\nThe pangs of dispriz'd Loue, the Lawes delay,\\nThe insolence of Office, and the Spurnes\\nThat patient merit of the vnworthy takes,\\nWhen he himselfe might his Quietus make\\nWith a bare Bodkin? Who would these Fardles beare\\nTo grunt and sweat vnder a weary life,\\nBut that the dread of something after death,\\nThe vndiscouered Countrey, from whose Borne\\nNo Traueller returnes, Puzels the will,\\nAnd makes vs rather beare those illes we haue,\\nThen flye to others that we know not of.\\nThus Conscience does make Cowards of vs all,\\nAnd thus the Natiue hew of Resolution\\nIs sicklied o're, with the pale cast of Thought,\\nAnd enterprizes of great pith and moment,\\nWith this regard their Currants turne away,\\nAnd loose the name of Action. Soft you now,\\nThe faire Ophelia? Nimph, in thy Orizons\\nBe all my sinnes remembred\\n\\n   Ophe. Good my Lord,\\nHow does your Honor for this many a day?\\n  Ham. I humbly thanke you: well, well, well\\n\\n   Ophe. My Lord, I haue Remembrances of yours,\\nThat I haue longed long to re-deliuer.\\nI pray you now, receiue them\\n\\n   Ham. No, no, I neuer gaue you ought\\n\\n   Ophe. My honor'd Lord, I know right well you did,\\nAnd with them words of so sweet breath compos'd,\\nAs made the things more rich, then perfume left:\\nTake these againe, for to the Noble minde\\nRich gifts wax poore, when giuers proue vnkinde.\\nThere my Lord\\n\\n   Ham. Ha, ha: Are you honest?\\n  Ophe. My Lord\\n\\n   Ham. Are you faire?\\n  Ophe. What meanes your Lordship?\\n  Ham. That if you be honest and faire, your Honesty\\nshould admit no discourse to your Beautie\\n\\n   Ophe. Could Beautie my Lord, haue better Comerce\\nthen your Honestie?\\n  Ham. I trulie: for the power of Beautie, will sooner\\ntransforme Honestie from what is, to a Bawd, then the\\nforce of Honestie can translate Beautie into his likenesse.\\nThis was sometime a Paradox, but now the time giues it\\nproofe. I did loue you once\\n\\n   Ophe. Indeed my Lord, you made me beleeue so\\n\\n   Ham. You should not haue beleeued me. For vertue\\ncannot so innocculate our old stocke, but we shall rellish\\nof it. I loued you not\\n\\n   Ophe. I was the more deceiued\\n\\n   Ham. Get thee to a Nunnerie. Why would'st thou\\nbe a breeder of Sinners? I am my selfe indifferent honest,\\nbut yet I could accuse me of such things, that it were better\\nmy Mother had not borne me. I am very prowd, reuengefull,\\nAmbitious, with more offences at my becke,\\nthen I haue thoughts to put them in imagination, to giue\\nthem shape, or time to acte them in. What should such\\nFellowes as I do, crawling betweene Heauen and Earth.\\nWe are arrant Knaues all, beleeue none of vs. Goe thy\\nwayes to a Nunnery. Where's your Father?\\n  Ophe. At home, my Lord\\n\\n   Ham. Let the doores be shut vpon him, that he may\\nplay the Foole no way, but in's owne house. Farewell\\n\\n   Ophe. O helpe him, you sweet Heauens\\n\\n   Ham. If thou doest Marry, Ile giue thee this Plague\\nfor thy Dowrie. Be thou as chast as Ice, as pure as Snow,\\nthou shalt not escape Calumny. Get thee to a Nunnery.\\nGo, Farewell. Or if thou wilt needs Marry, marry a fool:\\nfor Wise men know well enough, what monsters you\\nmake of them. To a Nunnery go, and quickly too. Farwell\\n\\n   Ophe. O heauenly Powers, restore him\\n\\n   Ham. I haue heard of your pratlings too wel enough.\\nGod has giuen you one pace, and you make your selfe another:\\nyou gidge, you amble, and you lispe, and nickname\\nGods creatures, and make your Wantonnesse, your Ignorance.\\nGo too, Ile no more on't, it hath made me mad.\\nI say, we will haue no more Marriages. Those that are\\nmarried already, all but one shall liue, the rest shall keep\\nas they are. To a Nunnery, go.\\n\\nExit Hamlet.\\n\\n  Ophe. O what a Noble minde is heere o're-throwne?\\nThe Courtiers, Soldiers, Schollers: Eye, tongue, sword,\\nTh' expectansie and Rose of the faire State,\\nThe glasse of Fashion, and the mould of Forme,\\nTh' obseru'd of all Obseruers, quite, quite downe.\\nHaue I of Ladies most deiect and wretched,\\nThat suck'd the Honie of his Musicke Vowes:\\nNow see that Noble, and most Soueraigne Reason,\\nLike sweet Bels iangled out of tune, and harsh,\\nThat vnmatch'd Forme and Feature of blowne youth,\\nBlasted with extasie. Oh woe is me,\\nT'haue seene what I haue seene: see what I see.\\nEnter King, and Polonius.\\n\\n  King. Loue? His affections do not that way tend,\\nNor what he spake, though it lack'd Forme a little,\\nWas not like Madnesse. There's something in his soule?\\nO're which his Melancholly sits on brood,\\nAnd I do doubt the hatch, and the disclose\\nWill be some danger, which to preuent\\nI haue in quicke determination\\nThus set it downe. He shall with speed to England\\nFor the demand of our neglected Tribute:\\nHaply the Seas and Countries different\\nWith variable Obiects, shall expell\\nThis something setled matter in his heart:\\nWhereon his Braines still beating, puts him thus\\nFrom fashion of himselfe. What thinke you on't?\\n  Pol. It shall do well. But yet do I beleeue\\nThe Origin and Commencement of this greefe\\nSprung from neglected loue. How now Ophelia?\\nYou neede not tell vs, what Lord Hamlet saide,\\nWe heard it all. My Lord, do as you please,\\nBut if you hold it fit after the Play,\\nLet his Queene Mother all alone intreat him\\nTo shew his Greefes: let her be round with him,\\nAnd Ile be plac'd so, please you in the eare\\nOf all their Conference. If she finde him not,\\nTo England send him: Or confine him where\\nYour wisedome best shall thinke\\n\\n   King. It shall be so:\\nMadnesse in great Ones, must not vnwatch'd go.\\n\\nExeunt.\\n\\nEnter Hamlet, and two or three of the Players.\\n\\n  Ham. Speake the Speech I pray you, as I pronounc'd\\nit to you trippingly on the Tongue: But if you mouth it,\\nas many of your Players do, I had as liue the Town-Cryer\\nhad spoke my Lines: Nor do not saw the Ayre too much\\nyour hand thus, but vse all gently; for in the verie Torrent,\\nTempest, and (as I say) the Whirle-winde of\\nPassion, you must acquire and beget a Temperance that\\nmay giue it Smoothnesse. O it offends mee to the Soule,\\nto see a robustious Pery-wig-pated Fellow, teare a Passion\\nto tatters, to verie ragges, to split the eares of the\\nGroundlings: who (for the most part) are capeable of\\nnothing, but inexplicable dumbe shewes, & noise: I could\\nhaue such a Fellow whipt for o're-doing Termagant: it\\noutHerod's Herod. Pray you auoid it\\n\\n   Player. I warrant your Honor\\n\\n   Ham. Be not too tame neyther: but let your owne\\nDiscretion be your Tutor. Sute the Action to the Word,\\nthe Word to the Action, with this speciall obseruance:\\nThat you ore-stop not the modestie of Nature; for any\\nthing so ouer-done, is fro[m] the purpose of Playing, whose\\nend both at the first and now, was and is, to hold as 'twer\\nthe Mirrour vp to Nature; to shew Vertue her owne\\nFeature, Scorne her owne Image, and the verie Age and\\nBodie of the Time, his forme and pressure. Now, this\\nouer-done, or come tardie off, though it make the vnskilfull\\nlaugh, cannot but make the Iudicious greeue; The\\ncensure of the which One, must in your allowance o'reway\\na whole Theater of Others. Oh, there bee Players\\nthat I haue seene Play, and heard others praise, and that\\nhighly (not to speake it prophanely) that neyther hauing\\nthe accent of Christians, nor the gate of Christian, Pagan,\\nor Norman, haue so strutted and bellowed, that I haue\\nthought some of Natures Iouerney-men had made men,\\nand not made them well, they imitated Humanity so abhominably\\n\\n   Play. I hope we haue reform'd that indifferently with\\nvs, Sir\\n\\n   Ham. O reforme it altogether. And let those that\\nplay your Clownes, speake no more then is set downe for\\nthem. For there be of them, that will themselues laugh,\\nto set on some quantitie of barren Spectators to laugh\\ntoo, though in the meane time, some necessary Question\\nof the Play be then to be considered: that's Villanous, &\\nshewes a most pittifull Ambition in the Foole that vses\\nit. Go make you readie.\\n\\nExit Players.\\n\\nEnter Polonius, Rosincrance, and Guildensterne.\\n\\nHow now my Lord,\\nWill the King heare this peece of Worke?\\n  Pol. And the Queene too, and that presently\\n\\n   Ham. Bid the Players make hast.\\n\\nExit Polonius.\\n\\nWill you two helpe to hasten them?\\n  Both. We will my Lord.\\n\\nExeunt.\\n\\nEnter Horatio.\\n\\n  Ham. What hoa, Horatio?\\n  Hora. Heere sweet Lord, at your Seruice\\n\\n   Ham. Horatio, thou art eene as iust a man\\nAs ere my Conuersation coap'd withall\\n\\n   Hora. O my deere Lord\\n\\n   Ham. Nay, do not thinke I flatter:\\nFor what aduancement may I hope from thee,\\nThat no Reuennew hast, but thy good spirits\\nTo feed & cloath thee. Why shold the poor be flatter'd?\\nNo, let the Candied tongue, like absurd pompe,\\nAnd crooke the pregnant Hindges of the knee,\\nWhere thrift may follow faining? Dost thou heare,\\nSince my deere Soule was Mistris of my choyse,\\nAnd could of men distinguish, her election\\nHath seal'd thee for her selfe. For thou hast bene\\nAs one in suffering all, that suffers nothing.\\nA man that Fortunes buffets, and Rewards\\nHath 'tane with equall Thankes. And blest are those,\\nWhose Blood and Iudgement are so well co-mingled,\\nThat they are not a Pipe for Fortunes finger.\\nTo sound what stop she please. Giue me that man,\\nThat is not Passions Slaue, and I will weare him\\nIn my hearts Core. I, in my Heart of heart,\\nAs I do thee. Something too much of this.\\nThere is a Play to night to before the King.\\nOne Scoene of it comes neere the Circumstance\\nWhich I haue told thee, of my Fathers death.\\nI prythee, when thou see'st that Acte a-foot,\\nEuen with the verie Comment of my Soule\\nObserue mine Vnkle: If his occulted guilt,\\nDo not it selfe vnkennell in one speech,\\nIt is a damned Ghost that we haue seene:\\nAnd my Imaginations are as foule\\nAs Vulcans Stythe. Giue him needfull note,\\nFor I mine eyes will riuet to his Face:\\nAnd after we will both our iudgements ioyne,\\nTo censure of his seeming\\n\\n   Hora. Well my Lord.\\nIf he steale ought the whil'st this Play is Playing,\\nAnd scape detecting, I will pay the Theft.\\nEnter King, Queene, Polonius, Ophelia, Rosincrance,\\nGuildensterne, and\\nother Lords attendant with his Guard carrying Torches. Danish\\nMarch. Sound\\na Flourish.\\n\\n  Ham. They are comming to the Play: I must be idle.\\nGet you a place\\n\\n   King. How fares our Cosin Hamlet?\\n  Ham. Excellent Ifaith, of the Camelions dish: I eate\\nthe Ayre promise-cramm'd, you cannot feed Capons so\\n\\n   King. I haue nothing with this answer Hamlet, these\\nwords are not mine\\n\\n   Ham. No, nor mine. Now my Lord, you plaid once\\ni'th' Vniuersity, you say?\\n  Polon. That I did my Lord, and was accounted a good\\nActor\\n\\n   Ham. And what did you enact?\\n  Pol. I did enact Iulius Caesar, I was kill'd i'th' Capitol:\\nBrutus kill'd me\\n\\n   Ham. It was a bruite part of him, to kill so Capitall a\\nCalfe there. Be the Players ready?\\n  Rosin. I my Lord, they stay vpon your patience\\n\\n   Qu. Come hither my good Hamlet, sit by me\\n\\n   Ha. No good Mother, here's Mettle more attractiue\\n\\n   Pol. Oh ho, do you marke that?\\n  Ham. Ladie, shall I lye in your Lap?\\n  Ophe. No my Lord\\n\\n   Ham. I meane, my Head vpon your Lap?\\n  Ophe. I my Lord\\n\\n   Ham. Do you thinke I meant Country matters?\\n  Ophe. I thinke nothing, my Lord\\n\\n   Ham. That's a faire thought to ly betweene Maids legs\\n  Ophe. What is my Lord?\\n  Ham. Nothing\\n\\n   Ophe. You are merrie, my Lord?\\n  Ham. Who I?\\n  Ophe. I my Lord\\n\\n   Ham. Oh God, your onely Iigge-maker: what should\\na man do, but be merrie. For looke you how cheerefully\\nmy Mother lookes, and my Father dyed within's two\\nHoures\\n\\n   Ophe. Nay, 'tis twice two moneths, my Lord\\n\\n   Ham. So long? Nay then let the Diuel weare blacke,\\nfor Ile haue a suite of Sables. Oh Heauens! dye two moneths\\nago, and not forgotten yet? Then there's hope, a\\ngreat mans Memorie, may out-liue his life halfe a yeare:\\nBut byrlady he must builde Churches then: or else shall\\nhe suffer not thinking on, with the Hoby-horsse, whose\\nEpitaph is, For o, For o, the Hoby-horse is forgot.\\n\\nHoboyes play. The dumbe shew enters.\\n\\nEnter a King and Queene, very louingly; the Queene embracing\\nhim. She\\nkneeles, and makes shew of Protestation vnto him. He takes her\\nvp, and\\ndeclines his head vpon her neck. Layes him downe vpon a Banke\\nof Flowers.\\nShe seeing him a-sleepe, leaues him. Anon comes in a Fellow,\\ntakes off his\\nCrowne, kisses it, and powres poyson in the Kings eares, and\\nExits. The\\nQueene returnes, findes the King dead, and makes passionate\\nAction. The\\nPoysoner, with some two or three Mutes comes in againe, seeming\\nto lament\\nwith her. The dead body is carried away: The Poysoner Wooes the\\nQueene with\\nGifts, she seemes loath and vnwilling awhile, but in the end,\\naccepts his\\nloue.\\n\\nExeunt.\\n\\n  Ophe. What meanes this, my Lord?\\n  Ham. Marry this is Miching Malicho, that meanes\\nMischeefe\\n\\n   Ophe. Belike this shew imports the Argument of the\\nPlay?\\n  Ham. We shall know by these Fellowes: the Players\\ncannot keepe counsell, they'l tell all\\n\\n   Ophe. Will they tell vs what this shew meant?\\n  Ham. I, or any shew that you'l shew him. Bee not\\nyou asham'd to shew, hee'l not shame to tell you what it\\nmeanes\\n\\n   Ophe. You are naught, you are naught, Ile marke the\\nPlay.\\nEnter Prologue.\\n\\nFor vs, and for our Tragedie,\\nHeere stooping to your Clemencie:\\nWe begge your hearing Patientlie\\n\\n   Ham. Is this a Prologue, or the Poesie of a Ring?\\n  Ophe. 'Tis briefe my Lord\\n\\n   Ham. As Womans loue.\\nEnter King and his Queene.\\n\\n  King. Full thirtie times hath Phoebus Cart gon round,\\nNeptunes salt Wash, and Tellus Orbed ground:\\nAnd thirtie dozen Moones with borrowed sheene,\\nAbout the World haue times twelue thirties beene,\\nSince loue our hearts, and Hymen did our hands\\nVnite comutuall, in most sacred Bands\\n\\n   Bap. So many iournies may the Sunne and Moone\\nMake vs againe count o're, ere loue be done.\\nBut woe is me, you are so sicke of late,\\nSo farre from cheere, and from your former state,\\nThat I distrust you: yet though I distrust,\\nDiscomfort you (my Lord) it nothing must:\\nFor womens Feare and Loue, holds quantitie,\\nIn neither ought, or in extremity:\\nNow what my loue is, proofe hath made you know,\\nAnd as my Loue is siz'd, my Feare is so\\n\\n   King. Faith I must leaue thee Loue, and shortly too:\\nMy operant Powers my Functions leaue to do:\\nAnd thou shalt liue in this faire world behinde,\\nHonour'd, belou'd, and haply, one as kinde.\\nFor Husband shalt thou-\\n  Bap. Oh confound the rest:\\nSuch Loue, must needs be Treason in my brest:\\nIn second Husband, let me be accurst,\\nNone wed the second, but who kill'd the first\\n\\n   Ham. Wormwood, Wormwood\\n\\n   Bapt. The instances that second Marriage moue,\\nAre base respects of Thrift, but none of Loue.\\nA second time, I kill my Husband dead,\\nWhen second Husband kisses me in Bed\\n\\n   King. I do beleeue you. Think what now you speak:\\nBut what we do determine, oft we breake:\\nPurpose is but the slaue to Memorie,\\nOf violent Birth, but poore validitie:\\nWhich now like Fruite vnripe stickes on the Tree,\\nBut fall vnshaken, when they mellow bee.\\nMost necessary 'tis, that we forget\\nTo pay our selues, what to our selues is debt:\\nWhat to our selues in passion we propose,\\nThe passion ending, doth the purpose lose.\\nThe violence of other Greefe or Ioy,\\nTheir owne ennactors with themselues destroy:\\nWhere Ioy most Reuels, Greefe doth most lament;\\nGreefe ioyes, Ioy greeues on slender accident.\\nThis world is not for aye, nor 'tis not strange\\nThat euen our Loues should with our Fortunes change.\\nFor 'tis a question left vs yet to proue,\\nWhether Loue lead Fortune, or else Fortune Loue.\\nThe great man downe, you marke his fauourites flies,\\nThe poore aduanc'd, makes Friends of Enemies:\\nAnd hitherto doth Loue on Fortune tend,\\nFor who not needs, shall neuer lacke a Frend:\\nAnd who in want a hollow Friend doth try,\\nDirectly seasons him his Enemie.\\nBut orderly to end, where I begun,\\nOur Willes and Fates do so contrary run,\\nThat our Deuices still are ouerthrowne,\\nOur thoughts are ours, their ends none of our owne.\\nSo thinke thou wilt no second Husband wed.\\nBut die thy thoughts, when thy first Lord is dead\\n\\n   Bap. Nor Earth to giue me food, nor Heauen light,\\nSport and repose locke from me day and night:\\nEach opposite that blankes the face of ioy,\\nMeet what I would haue well, and it destroy:\\nBoth heere, and hence, pursue me lasting strife,\\nIf once a Widdow, euer I be Wife\\n\\n   Ham. If she should breake it now\\n\\n   King. 'Tis deepely sworne:\\nSweet, leaue me heere a while,\\nMy spirits grow dull, and faine I would beguile\\nThe tedious day with sleepe\\n\\n   Qu. Sleepe rocke thy Braine,\\n\\nSleepes\\n\\nAnd neuer come mischance betweene vs twaine.\\n\\nExit\\n\\n  Ham. Madam, how like you this Play?\\n  Qu. The Lady protests to much me thinkes\\n\\n   Ham. Oh but shee'l keepe her word\\n\\n   King. Haue you heard the Argument, is there no Offence\\nin't?\\n  Ham. No, no, they do but iest, poyson in iest, no Offence\\ni'th' world\\n\\n   King. What do you call the Play?\\n  Ham. The Mouse-trap: Marry how? Tropically:\\nThis Play is the Image of a murder done in Vienna: Gonzago\\nis the Dukes name, his wife Baptista: you shall see\\nanon: 'tis a knauish peece of worke: But what o'that?\\nYour Maiestie, and wee that haue free soules, it touches\\nvs not: let the gall'd iade winch: our withers are vnrung.\\nEnter Lucianus.\\n\\nThis is one Lucianus nephew to the King\\n\\n   Ophe. You are a good Chorus, my Lord\\n\\n   Ham. I could interpret betweene you and your loue:\\nif I could see the Puppets dallying\\n\\n   Ophe. You are keene my Lord, you are keene\\n\\n   Ham. It would cost you a groaning, to take off my\\nedge\\n\\n   Ophe. Still better and worse\\n\\n   Ham. So you mistake Husbands.\\nBegin Murderer. Pox, leaue thy damnable Faces, and\\nbegin. Come, the croaking Rauen doth bellow for Reuenge\\n\\n   Lucian. Thoughts blacke, hands apt,\\nDrugges fit, and Time agreeing:\\nConfederate season, else, no Creature seeing:\\nThou mixture ranke, of Midnight Weeds collected,\\nWith Hecats Ban, thrice blasted, thrice infected,\\nThy naturall Magicke, and dire propertie,\\nOn wholsome life, vsurpe immediately.\\n\\nPowres the poyson in his eares.\\n\\n  Ham. He poysons him i'th' Garden for's estate: His\\nname's Gonzago: the Story is extant and writ in choyce\\nItalian. You shall see anon how the Murtherer gets the\\nloue of Gonzago's wife\\n\\n   Ophe. The King rises\\n\\n   Ham. What, frighted with false fire\\n\\n   Qu. How fares my Lord?\\n  Pol. Giue o're the Play\\n\\n   King. Giue me some Light. Away\\n\\n   All. Lights, Lights, Lights.\\n\\nExeunt.\\n\\nManet Hamlet & Horatio.\\n\\n  Ham. Why let the strucken Deere go weepe,\\nThe Hart vngalled play:\\nFor some must watch, while some must sleepe;\\nSo runnes the world away.\\nWould not this Sir, and a Forrest of Feathers, if the rest of\\nmy Fortunes turne Turke with me; with two Prouinciall\\nRoses on my rac'd Shooes, get me a Fellowship in a crie\\nof Players sir\\n\\n   Hor. Halfe a share\\n\\n   Ham. A whole one I,\\nFor thou dost know: Oh Damon deere,\\nThis Realme dismantled was of Ioue himselfe,\\nAnd now reignes heere.\\nA verie verie Paiocke\\n\\n   Hora. You might haue Rim'd\\n\\n   Ham. Oh good Horatio, Ile take the Ghosts word for\\na thousand pound. Did'st perceiue?\\n  Hora. Verie well my Lord\\n\\n   Ham. Vpon the talke of the poysoning?\\n  Hora. I did verie well note him.\\nEnter Rosincrance and Guildensterne.\\n\\n  Ham. Oh, ha? Come some Musick. Come y Recorders:\\nFor if the King like not the Comedie,\\nWhy then belike he likes it not perdie.\\nCome some Musicke\\n\\n   Guild. Good my Lord, vouchsafe me a word with you\\n\\n   Ham. Sir, a whole History\\n\\n   Guild. The King, sir\\n\\n   Ham. I sir, what of him?\\n  Guild. Is in his retyrement, maruellous distemper'd\\n\\n   Ham. With drinke Sir?\\n  Guild. No my Lord, rather with choller\\n\\n   Ham. Your wisedome should shew it selfe more richer,\\nto signifie this to his Doctor: for for me to put him\\nto his Purgation, would perhaps plundge him into farre\\nmore Choller\\n\\n   Guild. Good my Lord put your discourse into some\\nframe, and start not so wildely from my affayre\\n\\n   Ham. I am tame Sir, pronounce\\n\\n   Guild. The Queene your Mother, in most great affliction\\nof spirit, hath sent me to you\\n\\n   Ham. You are welcome\\n\\n   Guild. Nay, good my Lord, this courtesie is not of\\nthe right breed. If it shall please you to make me a wholsome\\nanswer, I will doe your Mothers command'ment:\\nif not, your pardon, and my returne shall bee the end of\\nmy Businesse\\n\\n   Ham. Sir, I cannot\\n\\n   Guild. What, my Lord?\\n  Ham. Make you a wholsome answere: my wits diseas'd.\\nBut sir, such answers as I can make, you shal command:\\nor rather you say, my Mother: therfore no more\\nbut to the matter. My Mother you say\\n\\n   Rosin. Then thus she sayes: your behauior hath stroke\\nher into amazement, and admiration\\n\\n   Ham. Oh wonderfull Sonne, that can so astonish a\\nMother. But is there no sequell at the heeles of this Mothers\\nadmiration?\\n  Rosin. She desires to speake with you in her Closset,\\nere you go to bed\\n\\n   Ham. We shall obey, were she ten times our Mother.\\nHaue you any further Trade with vs?\\n  Rosin. My Lord, you once did loue me\\n\\n   Ham. So I do still, by these pickers and stealers\\n\\n   Rosin. Good my Lord, what is your cause of distemper?\\nYou do freely barre the doore of your owne Libertie,\\nif you deny your greefes to your Friend\\n\\n   Ham. Sir I lacke Aduancement\\n\\n   Rosin. How can that be, when you haue the voyce of\\nthe King himselfe, for your Succession in Denmarke?\\n  Ham. I, but while the grasse growes, the Prouerbe is\\nsomething musty.\\nEnter one with a Recorder.\\n\\nO the Recorder. Let me see, to withdraw with you, why\\ndo you go about to recouer the winde of mee, as if you\\nwould driue me into a toyle?\\n  Guild. O my Lord, if my Dutie be too bold, my loue\\nis too vnmannerly\\n\\n   Ham. I do not well vnderstand that. Will you play\\nvpon this Pipe?\\n  Guild. My Lord, I cannot\\n\\n   Ham. I pray you\\n\\n   Guild. Beleeue me, I cannot\\n\\n   Ham. I do beseech you\\n\\n   Guild. I know no touch of it, my Lord\\n\\n   Ham. 'Tis as easie as lying: gouerne these Ventiges\\nwith your finger and thumbe, giue it breath with your\\nmouth, and it will discourse most excellent Musicke.\\nLooke you, these are the stoppes\\n\\n   Guild. But these cannot I command to any vtterance\\nof hermony, I haue not the skill\\n\\n   Ham. Why looke you now, how vnworthy a thing\\nyou make of me: you would play vpon mee; you would\\nseeme to know my stops: you would pluck out the heart\\nof my Mysterie; you would sound mee from my lowest\\nNote, to the top of my Compasse: and there is much Musicke,\\nexcellent Voice, in this little Organe, yet cannot\\nyou make it. Why do you thinke, that I am easier to bee\\nplaid on, then a Pipe? Call me what Instrument you will,\\nthough you can fret me, you cannot play vpon me. God\\nblesse you Sir.\\nEnter Polonius.\\n\\n  Polon. My Lord; the Queene would speak with you,\\nand presently\\n\\n   Ham. Do you see that Clowd? that's almost in shape\\nlike a Camell\\n\\n   Polon. By'th' Masse, and it's like a Camell indeed\\n\\n   Ham. Me thinkes it is like a Weazell\\n\\n   Polon. It is back'd like a Weazell\\n\\n   Ham. Or like a Whale?\\n  Polon. Verie like a Whale\\n\\n   Ham. Then will I come to my Mother, by and by:\\nThey foole me to the top of my bent.\\nI will come by and by\\n\\n   Polon. I will say so.\\nEnter.\\n\\n  Ham. By and by, is easily said. Leaue me Friends:\\n'Tis now the verie witching time of night,\\nWhen Churchyards yawne, and Hell it selfe breaths out\\nContagion to this world. Now could I drink hot blood,\\nAnd do such bitter businesse as the day\\nWould quake to looke on. Soft now, to my Mother:\\nOh Heart, loose not thy Nature; let not euer\\nThe Soule of Nero, enter this firme bosome:\\nLet me be cruell, not vnnaturall,\\nI will speake Daggers to her, but vse none:\\nMy Tongue and Soule in this be Hypocrites.\\nHow in my words someuer she be shent,\\nTo giue them Seales, neuer my Soule consent.\\nEnter King, Rosincrance, and Guildensterne.\\n\\n  King. I like him not, nor stands it safe with vs,\\nTo let his madnesse range. Therefore prepare you,\\nI your Commission will forthwith dispatch,\\nAnd he to England shall along with you:\\nThe termes of our estate, may not endure\\nHazard so dangerous as doth hourely grow\\nOut of his Lunacies\\n\\n   Guild. We will our selues prouide:\\nMost holie and Religious feare it is\\nTo keepe those many many bodies safe\\nThat liue and feede vpon your Maiestie\\n\\n   Rosin. The single\\nAnd peculiar life is bound\\nWith all the strength and Armour of the minde,\\nTo keepe it selfe from noyance: but much more,\\nThat Spirit, vpon whose spirit depends and rests\\nThe liues of many, the cease of Maiestie\\nDies not alone; but like a Gulfe doth draw\\nWhat's neere it, with it. It is a massie wheele\\nFixt on the Somnet of the highest Mount.\\nTo whose huge Spoakes, ten thousand lesser things\\nAre mortiz'd and adioyn'd: which when it falles,\\nEach small annexment, pettie consequence\\nAttends the boystrous Ruine. Neuer alone\\nDid the King sighe, but with a generall grone\\n\\n   King. Arme you, I pray you to this speedie Voyage;\\nFor we will Fetters put vpon this feare,\\nWhich now goes too free-footed\\n\\n   Both. We will haste vs.\\n\\nExeunt. Gent.\\n\\nEnter Polonius.\\n\\n  Pol. My Lord, he's going to his Mothers Closset:\\nBehinde the Arras Ile conuey my selfe\\nTo heare the Processe. Ile warrant shee'l tax him home,\\nAnd as you said, and wisely was it said,\\n'Tis meete that some more audience then a Mother,\\nSince Nature makes them partiall, should o're-heare\\nThe speech of vantage. Fare you well my Liege,\\nIle call vpon you ere you go to bed,\\nAnd tell you what I know\\n\\n   King. Thankes deere my Lord.\\nOh my offence is ranke, it smels to heauen,\\nIt hath the primall eldest curse vpon't,\\nA Brothers murther. Pray can I not,\\nThough inclination be as sharpe as will:\\nMy stronger guilt, defeats my strong intent,\\nAnd like a man to double businesse bound,\\nI stand in pause where I shall first begin,\\nAnd both neglect; what if this cursed hand\\nWere thicker then it selfe with Brothers blood,\\nIs there not Raine enough in the sweet Heauens\\nTo wash it white as Snow? Whereto serues mercy,\\nBut to confront the visage of Offence?\\nAnd what's in Prayer, but this two-fold force,\\nTo be fore-stalled ere we come to fall,\\nOr pardon'd being downe? Then Ile looke vp,\\nMy fault is past. But oh, what forme of Prayer\\nCan serue my turne? Forgiue me my foule Murther:\\nThat cannot be, since I am still possest\\nOf those effects for which I did the Murther.\\nMy Crowne, mine owne Ambition, and my Queene:\\nMay one be pardon'd, and retaine th' offence?\\nIn the corrupted currants of this world,\\nOffences gilded hand may shoue by Iustice,\\nAnd oft 'tis seene, the wicked prize it selfe\\nBuyes out the Law; but 'tis not so aboue,\\nThere is no shuffling, there the Action lyes\\nIn his true Nature, and we our selues compell'd\\nEuen to the teeth and forehead of our faults,\\nTo giue in euidence. What then? What rests?\\nTry what Repentance can. What can it not?\\nYet what can it, when one cannot repent?\\nOh wretched state! Oh bosome, blacke as death!\\nOh limed soule, that strugling to be free,\\nArt more ingag'd: Helpe Angels, make assay:\\nBow stubborne knees, and heart with strings of Steele,\\nBe soft as sinewes of the new-borne Babe,\\nAll may be well.\\nEnter Hamlet.\\n\\n  Ham. Now might I do it pat, now he is praying,\\nAnd now Ile doo't, and so he goes to Heauen,\\nAnd so am I reueng'd: that would be scann'd,\\nA Villaine killes my Father, and for that\\nI his foule Sonne, do this same Villaine send\\nTo heauen. Oh this is hyre and Sallery, not Reuenge.\\nHe tooke my Father grossely, full of bread,\\nWith all his Crimes broad blowne, as fresh as May,\\nAnd how his Audit stands, who knowes, saue Heauen:\\nBut in our circumstance and course of thought\\n'Tis heauie with him: and am I then reueng'd,\\nTo take him in the purging of his Soule,\\nWhen he is fit and season'd for his passage? No.\\nVp Sword, and know thou a more horrid hent\\nWhen he is drunke asleepe: or in his Rage,\\nOr in th' incestuous pleasure of his bed,\\nAt gaming, swearing, or about some acte\\nThat ha's no rellish of Saluation in't,\\nThen trip him, that his heeles may kicke at Heauen,\\nAnd that his Soule may be as damn'd and blacke\\nAs Hell, whereto it goes. My Mother stayes,\\nThis Physicke but prolongs thy sickly dayes.\\nEnter.\\n\\n  King. My words flye vp, my thoughts remain below,\\nWords without thoughts, neuer to Heauen go.\\nEnter.\\n\\nEnter Queene and Polonius.\\n\\n  Pol. He will come straight:\\nLooke you lay home to him,\\nTell him his prankes haue been too broad to beare with,\\nAnd that your Grace hath screen'd, and stoode betweene\\nMuch heate, and him. Ile silence me e'ene heere:\\nPray you be round with him\\n\\n   Ham. within. Mother, mother, mother\\n\\n   Qu. Ile warrant you, feare me not.\\nWithdraw, I heare him coming.\\nEnter Hamlet.\\n\\n  Ham. Now Mother, what's the matter?\\n  Qu. Hamlet, thou hast thy Father much offended\\n\\n\\n   Ham. Mother, you haue my Father much offended\\n\\n   Qu. Come, come, you answer with an idle tongue\\n\\n   Ham. Go, go, you question with an idle tongue\\n\\n   Qu. Why how now Hamlet?\\n  Ham. Whats the matter now?\\n  Qu. Haue you forgot me?\\n  Ham. No by the Rood, not so:\\nYou are the Queene, your Husbands Brothers wife,\\nBut would you were not so. You are my Mother\\n\\n   Qu. Nay, then Ile set those to you that can speake\\n\\n   Ham. Come, come, and sit you downe, you shall not\\nboudge:\\nYou go not till I set you vp a glasse,\\nWhere you may see the inmost part of you?\\n  Qu. What wilt thou do? thou wilt not murther me?\\nHelpe, helpe, hoa\\n\\n   Pol. What hoa, helpe, helpe, helpe\\n\\n   Ham. How now, a Rat? dead for a Ducate, dead\\n\\n   Pol. Oh I am slaine.\\n\\nKilles Polonius\\n\\n   Qu. Oh me, what hast thou done?\\n  Ham. Nay I know not, is it the King?\\n  Qu. Oh what a rash, and bloody deed is this?\\n  Ham. A bloody deed, almost as bad good Mother,\\nAs kill a King, and marrie with his Brother\\n\\n   Qu. As kill a King?\\n  Ham. I Lady, 'twas my word.\\nThou wretched, rash, intruding foole farewell,\\nI tooke thee for thy Betters, take thy Fortune,\\nThou find'st to be too busie, is some danger.\\nLeaue wringing of your hands, peace, sit you downe,\\nAnd let me wring your heart, for so I shall\\nIf it be made of penetrable stuffe;\\nIf damned Custome haue not braz'd it so,\\nThat it is proofe and bulwarke against Sense\\n\\n   Qu. What haue I done, that thou dar'st wag thy tong,\\nIn noise so rude against me?\\n  Ham. Such an Act\\nThat blurres the grace and blush of Modestie,\\nCals Vertue Hypocrite, takes off the Rose\\nFrom the faire forehead of an innocent loue,\\nAnd makes a blister there. Makes marriage vowes\\nAs false as Dicers Oathes. Oh such a deed,\\nAs from the body of Contraction pluckes\\nThe very soule, and sweete Religion makes\\nA rapsidie of words. Heauens face doth glow,\\nYea this solidity and compound masse,\\nWith tristfull visage as against the doome,\\nIs thought-sicke at the act\\n\\n   Qu. Aye me; what act, that roares so lowd, & thunders\\nin the Index\\n\\n   Ham. Looke heere vpon this Picture, and on this,\\nThe counterfet presentment of two Brothers:\\nSee what a grace was seated on his Brow,\\nHyperions curles, the front of Ioue himselfe,\\nAn eye like Mars, to threaten or command\\nA Station, like the Herald Mercurie\\nNew lighted on a heauen-kissing hill:\\nA Combination, and a forme indeed,\\nWhere euery God did seeme to set his Seale,\\nTo giue the world assurance of a man.\\nThis was your Husband. Looke you now what followes.\\nHeere is your Husband, like a Mildew'd eare\\nBlasting his wholsom breath. Haue you eyes?\\nCould you on this faire Mountaine leaue to feed,\\nAnd batten on this Moore? Ha? Haue you eyes?\\nYou cannot call it Loue: For at your age,\\nThe hey-day in the blood is tame, it's humble,\\nAnd waites vpon the Iudgement: and what Iudgement\\nWould step from this, to this? What diuell was't,\\nThat thus hath cousend you at hoodman-blinde?\\nO Shame! where is thy Blush? Rebellious Hell,\\nIf thou canst mutine in a Matrons bones,\\nTo flaming youth, let Vertue be as waxe.\\nAnd melt in her owne fire. Proclaime no shame,\\nWhen the compulsiue Ardure giues the charge,\\nSince Frost it selfe, as actiuely doth burne,\\nAs Reason panders Will\\n\\n   Qu. O Hamlet, speake no more.\\nThou turn'st mine eyes into my very soule,\\nAnd there I see such blacke and grained spots,\\nAs will not leaue their Tinct\\n\\n   Ham. Nay, but to liue\\nIn the ranke sweat of an enseamed bed,\\nStew'd in Corruption; honying and making loue\\nOuer the nasty Stye\\n\\n   Qu. Oh speake to me, no more,\\nThese words like Daggers enter in mine eares.\\nNo more sweet Hamlet\\n\\n   Ham. A Murderer, and a Villaine:\\nA Slaue, that is not twentieth part the tythe\\nOf your precedent Lord. A vice of Kings,\\nA Cutpurse of the Empire and the Rule.\\nThat from a shelfe, the precious Diadem stole,\\nAnd put it in his Pocket\\n\\n   Qu. No more.\\nEnter Ghost.\\n\\n  Ham. A King of shreds and patches.\\nSaue me; and houer o're me with your wings\\nYou heauenly Guards. What would your gracious figure?\\n  Qu. Alas he's mad\\n\\n   Ham. Do you not come your tardy Sonne to chide,\\nThat laps't in Time and Passion, lets go by\\nTh' important acting of your dread command? Oh say\\n\\n   Ghost. Do not forget: this Visitation\\nIs but to whet thy almost blunted purpose.\\nBut looke, Amazement on thy Mother sits;\\nO step betweene her, and her fighting Soule,\\nConceit in weakest bodies, strongest workes.\\nSpeake to her Hamlet\\n\\n   Ham. How is it with you Lady?\\n  Qu. Alas, how is't with you?\\nThat you bend your eye on vacancie,\\nAnd with their corporall ayre do hold discourse.\\nForth at your eyes, your spirits wildely peepe,\\nAnd as the sleeping Soldiours in th' Alarme,\\nYour bedded haire, like life in excrements,\\nStart vp, and stand an end. Oh gentle Sonne,\\nVpon the heate and flame of thy distemper\\nSprinkle coole patience. Whereon do you looke?\\n  Ham. On him, on him: look you how pale he glares,\\nHis forme and cause conioyn'd, preaching to stones,\\nWould make them capeable. Do not looke vpon me,\\nLeast with this pitteous action you conuert\\nMy sterne effects: then what I haue to do,\\nWill want true colour; teares perchance for blood\\n\\n   Qu. To who do you speake this?\\n  Ham. Do you see nothing there?\\n  Qu. Nothing at all, yet all that is I see\\n\\n   Ham. Nor did you nothing heare?\\n  Qu. No, nothing but our selues\\n\\n   Ham. Why look you there: looke how it steals away:\\nMy Father in his habite, as he liued,\\nLooke where he goes euen now out at the Portall.\\nEnter.\\n\\n  Qu. This is the very coynage of your Braine,\\nThis bodilesse Creation extasie is very cunning in\\n\\n   Ham. Extasie?\\nMy Pulse as yours doth temperately keepe time,\\nAnd makes as healthfull Musicke. It is not madnesse\\nThat I haue vttered; bring me to the Test\\nAnd I the matter will re-word: which madnesse\\nWould gamboll from. Mother, for loue of Grace,\\nLay not a flattering Vnction to your soule,\\nThat not your trespasse, but my madnesse speakes:\\nIt will but skin and filme the Vlcerous place,\\nWhil'st ranke Corruption mining all within,\\nInfects vnseene. Confesse your selfe to Heauen,\\nRepent what's past, auoyd what is to come,\\nAnd do not spred the Compost on the Weedes,\\nTo make them ranke. Forgiue me this my Vertue,\\nFor in the fatnesse of this pursie times,\\nVertue it selfe, of Vice must pardon begge,\\nYea courb, and woe, for leaue to do him good\\n\\n   Qu. Oh Hamlet,\\nThou hast cleft my heart in twaine\\n\\n   Ham. O throw away the worser part of it,\\nAnd liue the purer with the other halfe.\\nGood night, but go not to mine Vnkles bed,\\nAssume a Vertue, if you haue it not, refraine to night,\\nAnd that shall lend a kinde of easinesse\\nTo the next abstinence. Once more goodnight,\\nAnd when you are desirous to be blest,\\nIle blessing begge of you. For this same Lord,\\nI do repent: but heauen hath pleas'd it so,\\nTo punish me with this, and this with me,\\nThat I must be their Scourge and Minister.\\nI will bestow him, and will answer well\\nThe death I gaue him: so againe, good night.\\nI must be cruell, onely to be kinde;\\nThus bad begins and worse remaines behinde\\n\\n   Qu. What shall I do?\\n  Ham. Not this by no meanes that I bid you do:\\nLet the blunt King tempt you againe to bed,\\nPinch Wanton on your cheeke, call you his Mouse,\\nAnd let him for a paire of reechie kisses,\\nOr padling in your necke with his damn'd Fingers,\\nMake you to rauell all this matter out,\\nThat I essentially am not in madnesse,\\nBut made in craft. 'Twere good you let him know,\\nFor who that's but a Queene, faire, sober, wise,\\nWould from a Paddocke, from a Bat, a Gibbe,\\nSuch deere concernings hide, Who would do so,\\nNo in despight of Sense and Secrecie,\\nVnpegge the Basket on the houses top:\\nLet the Birds flye, and like the famous Ape\\nTo try Conclusions in the Basket, creepe\\nAnd breake your owne necke downe\\n\\n   Qu. Be thou assur'd, if words be made of breath,\\nAnd breath of life: I haue no life to breath\\nWhat thou hast saide to me\\n\\n   Ham. I must to England, you know that?\\n  Qu. Alacke I had forgot: 'Tis so concluded on\\n\\n   Ham. This man shall set me packing:\\nIle lugge the Guts into the Neighbor roome,\\nMother goodnight. Indeede this Counsellor\\nIs now most still, most secret, and most graue,\\nWho was in life, a foolish prating Knaue.\\nCome sir, to draw toward an end with you.\\nGood night Mother.\\nExit Hamlet tugging in Polonius.\\n\\nEnter King.\\n\\n  King. There's matters in these sighes.\\nThese profound heaues\\nYou must translate; Tis fit we vnderstand them.\\nWhere is your Sonne?\\n  Qu. Ah my good Lord, what haue I seene to night?\\n  King. What Gertrude? How do's Hamlet?\\n  Qu. Mad as the Seas, and winde, when both contend\\nWhich is the Mightier, in his lawlesse fit\\nBehinde the Arras, hearing something stirre,\\nHe whips his Rapier out, and cries a Rat, a Rat,\\nAnd in his brainish apprehension killes\\nThe vnseene good old man\\n\\n   King. Oh heauy deed:\\nIt had bin so with vs had we beene there:\\nHis Liberty is full of threats to all,\\nTo you your selfe, to vs, to euery one.\\nAlas, how shall this bloody deede be answered?\\nIt will be laide to vs, whose prouidence\\nShould haue kept short, restrain'd, and out of haunt,\\nThis mad yong man. But so much was our loue,\\nWe would not vnderstand what was most fit,\\nBut like the Owner of a foule disease,\\nTo keepe it from divulging, let's it feede\\nEuen on the pith of life. Where is he gone?\\n  Qu. To draw apart the body he hath kild,\\nO're whom his very madnesse like some Oare\\nAmong a Minerall of Mettels base\\nShewes it selfe pure. He weepes for what is done\\n\\n   King. Oh Gertrude, come away:\\nThe Sun no sooner shall the Mountaines touch,\\nBut we will ship him hence, and this vilde deed,\\nWe must with all our Maiesty and Skill\\nBoth countenance, and excuse.\\nEnter Ros. & Guild.\\n\\nHo Guildenstern:\\nFriends both go ioyne you with some further ayde:\\nHamlet in madnesse hath Polonius slaine,\\nAnd from his Mother Clossets hath he drag'd him.\\nGo seeke him out, speake faire, and bring the body\\nInto the Chappell. I pray you hast in this.\\nExit Gent.\\n\\nCome Gertrude, wee'l call vp our wisest friends,\\nTo let them know both what we meane to do,\\nAnd what's vntimely done. Oh come away,\\nMy soule is full of discord and dismay.\\n\\nExeunt.\\n\\nEnter Hamlet.\\n\\n  Ham. Safely stowed\\n\\n   Gentlemen within. Hamlet, Lord Hamlet\\n\\n   Ham. What noise? Who cals on Hamlet?\\nOh heere they come.\\nEnter Ros. and Guildensterne.\\n\\n  Ro. What haue you done my Lord with the dead body?\\n  Ham. Compounded it with dust, whereto 'tis Kinne\\n\\n   Rosin. Tell vs where 'tis, that we may take it thence,\\nAnd beare it to the Chappell\\n\\n   Ham. Do not beleeue it\\n\\n   Rosin. Beleeue what?\\n  Ham. That I can keepe your counsell, and not mine\\nowne. Besides, to be demanded of a Spundge, what replication\\nshould be made by the Sonne of a King\\n\\n   Rosin. Take you me for a Spundge, my Lord?\\n  Ham. I sir, that sokes vp the Kings Countenance, his\\nRewards, his Authorities (but such Officers do the King\\nbest seruice in the end. He keepes them like an Ape in\\nthe corner of his iaw, first mouth'd to be last swallowed,\\nwhen he needes what you haue glean'd, it is but squeezing\\nyou, and Spundge you shall be dry againe\\n\\n   Rosin. I vnderstand you not my Lord\\n\\n   Ham. I am glad of it: a knauish speech sleepes in a\\nfoolish eare\\n\\n   Rosin. My Lord, you must tell vs where the body is,\\nand go with vs to the King\\n\\n   Ham. The body is with the King, but the King is not\\nwith the body. The King, is a thing-\\n  Guild. A thing my Lord?\\n  Ham. Of nothing: bring me to him, hide Fox, and all\\nafter.\\n\\nExeunt.\\n\\nEnter King.\\n\\n  King. I haue sent to seeke him, and to find the bodie:\\nHow dangerous is it that this man goes loose:\\nYet must not we put the strong Law on him:\\nHee's loued of the distracted multitude,\\nWho like not in their iudgement, but their eyes:\\nAnd where 'tis so, th' Offenders scourge is weigh'd\\nBut neerer the offence: to beare all smooth, and euen,\\nThis sodaine sending him away, must seeme\\nDeliberate pause, diseases desperate growne,\\nBy desperate appliance are releeued,\\nOr not at all.\\nEnter Rosincrane.\\n\\nHow now? What hath befalne?\\n  Rosin. Where the dead body is bestow'd my Lord,\\nWe cannot get from him\\n\\n   King. But where is he?\\n  Rosin. Without my Lord, guarded to know your\\npleasure\\n\\n   King. Bring him before vs\\n\\n   Rosin. Hoa, Guildensterne? Bring in my Lord.\\nEnter Hamlet and Guildensterne.\\n\\n  King. Now Hamlet, where's Polonius?\\n  Ham. At Supper\\n\\n   King. At Supper? Where?\\n  Ham. Not where he eats, but where he is eaten, a certaine\\nconuocation of wormes are e'ne at him. Your worm\\nis your onely Emperor for diet. We fat all creatures else\\nto fat vs, and we fat our selfe for Magots. Your fat King,\\nand your leane Begger is but variable seruice to dishes,\\nbut to one Table that's the end\\n\\n   King. What dost thou meane by this?\\n  Ham. Nothing but to shew you how a King may go\\na Progresse through the guts of a Begger\\n\\n   King. Where is Polonius\\n\\n   Ham. In heauen, send thither to see. If your Messenger\\nfinde him not there, seeke him i'th other place your\\nselfe: but indeed, if you finde him not this moneth, you\\nshall nose him as you go vp the staires into the Lobby\\n\\n   King. Go seeke him there\\n\\n   Ham. He will stay till ye come\\n\\n   K. Hamlet, this deed of thine, for thine especial safety\\nWhich we do tender, as we deerely greeue\\nFor that which thou hast done, must send thee hence\\nWith fierie Quicknesse. Therefore prepare thy selfe,\\nThe Barke is readie, and the winde at helpe,\\nTh' Associates tend, and euery thing at bent\\nFor England\\n\\n   Ham. For England?\\n  King. I Hamlet\\n\\n   Ham. Good\\n\\n   King. So is it, if thou knew'st our purposes\\n\\n   Ham. I see a Cherube that see's him: but come, for\\nEngland. Farewell deere Mother\\n\\n   King. Thy louing Father Hamlet\\n\\n   Hamlet. My Mother: Father and Mother is man and\\nwife: man & wife is one flesh, and so my mother. Come,\\nfor England.\\n\\nExit\\n\\n  King. Follow him at foote,\\nTempt him with speed aboord:\\nDelay it not, Ile haue him hence to night.\\nAway, for euery thing is Seal'd and done\\nThat else leanes on th' Affaire, pray you make hast.\\nAnd England, if my loue thou holdst at ought,\\nAs my great power thereof may giue thee sense,\\nSince yet thy Cicatrice lookes raw and red\\nAfter the Danish Sword, and thy free awe\\nPayes homage to vs; thou maist not coldly set\\nOur Soueraigne Processe, which imports at full\\nBy Letters coniuring to that effect\\nThe present death of Hamlet. Do it England,\\nFor like the Hecticke in my blood he rages,\\nAnd thou must cure me: Till I know 'tis done,\\nHow ere my happes, my ioyes were ne're begun.\\n\\nExit\\n\\nEnter Fortinbras with an Armie.\\n\\n  For. Go Captaine, from me greet the Danish King,\\nTell him that by his license, Fortinbras\\nClaimes the conueyance of a promis'd March\\nOuer his Kingdome. You know the Rendeuous:\\nIf that his Maiesty would ought with vs,\\nWe shall expresse our dutie in his eye,\\nAnd let him know so\\n\\n   Cap. I will doo't, my Lord\\n\\n   For. Go safely on.\\nEnter.\\n\\nEnter Queene and Horatio.\\n\\n  Qu. I will not speake with her\\n\\n   Hor. She is importunate, indeed distract, her moode\\nwill needs be pittied\\n\\n   Qu. What would she haue?\\n  Hor. She speakes much of her Father; saies she heares\\nThere's trickes i'th' world, and hems, and beats her heart,\\nSpurnes enuiously at Strawes, speakes things in doubt,\\nThat carry but halfe sense: Her speech is nothing,\\nYet the vnshaped vse of it doth moue\\nThe hearers to Collection; they ayme at it,\\nAnd botch the words vp fit to their owne thoughts,\\nWhich as her winkes, and nods, and gestures yeeld them,\\nIndeed would make one thinke there would be thought,\\nThough nothing sure, yet much vnhappily\\n\\n   Qu. 'Twere good she were spoken with,\\nFor she may strew dangerous coniectures\\nIn ill breeding minds. Let her come in.\\nTo my sicke soule (as sinnes true Nature is)\\nEach toy seemes Prologue, to some great amisse,\\nSo full of Artlesse iealousie is guilt,\\nIt spill's it selfe, in fearing to be spilt.\\nEnter Ophelia distracted.\\n\\n  Ophe. Where is the beauteous Maiesty of Denmark\\n\\n   Qu. How now Ophelia?\\n  Ophe. How should I your true loue know from another one?\\nBy his Cockle hat and staffe, and his Sandal shoone\\n\\n   Qu. Alas sweet Lady: what imports this Song?\\n  Ophe. Say you? Nay pray you marke.\\nHe is dead and gone Lady, he is dead and gone,\\nAt his head a grasse-greene Turfe, at his heeles a stone.\\nEnter King.\\n\\n  Qu. Nay but Ophelia\\n\\n   Ophe. Pray you marke.\\nWhite his Shrow'd as the Mountaine Snow\\n\\n   Qu. Alas, looke heere my Lord\\n\\n   Ophe. Larded with sweet Flowers:\\nWhich bewept to the graue did not go,\\nWith true-loue showres\\n\\n   King. How do ye, pretty Lady?\\n  Ophe. Well, God dil'd you. They say the Owle was\\na Bakers daughter. Lord, wee know what we are, but\\nknow not what we may be. God be at your Table\\n\\n   King. Conceit vpon her Father\\n\\n   Ophe. Pray you let's haue no words of this: but when\\nthey aske you what it meanes, say you this:\\nTo morrow is S[aint]. Valentines day, all in the morning betime,\\nAnd I a Maid at your Window, to be your Valentine.\\nThen vp he rose, & don'd his clothes, & dupt the chamber dore,\\nLet in the Maid, that out a Maid, neuer departed more\\n\\n   King. Pretty Ophelia\\n\\n   Ophe. Indeed la? without an oath Ile make an end ont.\\nBy gis, and by S[aint]. Charity,\\nAlacke, and fie for shame:\\nYong men wil doo't, if they come too't,\\nBy Cocke they are too blame.\\nQuoth she before you tumbled me,\\nYou promis'd me to Wed:\\nSo would I ha done by yonder Sunne,\\nAnd thou hadst not come to my bed\\n\\n   King. How long hath she bin thus?\\n  Ophe. I hope all will be well. We must bee patient,\\nbut I cannot choose but weepe, to thinke they should\\nlay him i'th' cold ground: My brother shall knowe of it,\\nand so I thanke you for your good counsell. Come, my\\nCoach: Goodnight Ladies: Goodnight sweet Ladies:\\nGoodnight, goodnight.\\nEnter.\\n\\n  King. Follow her close,\\nGiue her good watch I pray you:\\nOh this is the poyson of deepe greefe, it springs\\nAll from her Fathers death. Oh Gertrude, Gertrude,\\nWhen sorrowes comes, they come not single spies,\\nBut in Battalians. First, her Father slaine,\\nNext your Sonne gone, and he most violent Author\\nOf his owne iust remoue: the people muddied,\\nThicke and vnwholsome in their thoughts, and whispers\\nFor good Polonius death; and we haue done but greenly\\nIn hugger mugger to interre him. Poore Ophelia\\nDiuided from her selfe, and her faire Iudgement,\\nWithout the which we are Pictures, or meere Beasts.\\nLast, and as much containing as all these,\\nHer Brother is in secret come from France,\\nKeepes on his wonder, keepes himselfe in clouds,\\nAnd wants not Buzzers to infect his eare\\nWith pestilent Speeches of his Fathers death,\\nWhere in necessitie of matter Beggard,\\nWill nothing sticke our persons to Arraigne\\nIn eare and eare. O my deere Gertrude, this,\\nLike to a murdering Peece in many places,\\nGiues me superfluous death.\\n\\nA Noise within.\\n\\nEnter a Messenger.\\n\\n  Qu. Alacke, what noyse is this?\\n  King. Where are my Switzers?\\nLet them guard the doore. What is the matter?\\n  Mes. Saue your selfe, my Lord.\\nThe Ocean (ouer-peering of his List)\\nEates not the Flats with more impittious haste\\nThen young Laertes, in a Riotous head,\\nOre-beares your Officers, the rabble call him Lord,\\nAnd as the world were now but to begin,\\nAntiquity forgot, Custome not knowne,\\nThe Ratifiers and props of euery word,\\nThey cry choose we? Laertes shall be King,\\nCaps, hands, and tongues, applaud it to the clouds,\\nLaertes shall be King, Laertes King\\n\\n   Qu. How cheerefully on the false Traile they cry,\\nOh this is Counter you false Danish Dogges.\\n\\nNoise within. Enter Laertes.\\n\\n  King. The doores are broke\\n\\n   Laer. Where is the King, sirs? Stand you all without\\n\\n   All. No, let's come in\\n\\n   Laer. I pray you giue me leaue\\n\\n   Al. We will, we will\\n\\n   Laer. I thanke you: Keepe the doore.\\nOh thou vilde King, giue me my Father\\n\\n   Qu. Calmely good Laertes\\n\\n   Laer. That drop of blood, that calmes\\nProclaimes me Bastard:\\nCries Cuckold to my Father, brands the Harlot\\nEuen heere betweene the chaste vnsmirched brow\\nOf my true Mother\\n\\n   King. What is the cause Laertes,\\nThat thy Rebellion lookes so Gyant-like?\\nLet him go Gertrude: Do not feare our person:\\nThere's such Diuinity doth hedge a King,\\nThat Treason can but peepe to what it would,\\nActs little of his will. Tell me Laertes,\\nWhy thou art thus Incenst? Let him go Gertrude.\\nSpeake man\\n\\n   Laer. Where's my Father?\\n  King. Dead\\n\\n   Qu. But not by him\\n\\n   King. Let him demand his fill\\n\\n   Laer. How came he dead? Ile not be Iuggel'd with.\\nTo hell Allegeance: Vowes, to the blackest diuell.\\nConscience and Grace, to the profoundest Pit.\\nI dare Damnation: to this point I stand,\\nThat both the worlds I giue to negligence,\\nLet come what comes: onely Ile be reueng'd\\nMost throughly for my Father\\n\\n   King. Who shall stay you?\\n  Laer. My Will, not all the world,\\nAnd for my meanes, Ile husband them so well,\\nThey shall go farre with little\\n\\n   King. Good Laertes:\\nIf you desire to know the certaintie\\nOf your deere Fathers death, if writ in your reuenge,\\nThat Soop-stake you will draw both Friend and Foe,\\nWinner and Looser\\n\\n   Laer. None but his Enemies\\n\\n   King. Will you know them then\\n\\n   La. To his good Friends, thus wide Ile ope my Armes:\\nAnd like the kinde Life-rend'ring Politician,\\nRepast them with my blood\\n\\n   King. Why now you speake\\nLike a good Childe, and a true Gentleman.\\nThat I am guiltlesse of your Fathers death,\\nAnd am most sensible in greefe for it,\\nIt shall as leuell to your Iudgement pierce\\nAs day do's to your eye.\\n\\nA noise within. Let her come in.\\n\\nEnter Ophelia.\\n\\n  Laer. How now? what noise is that?\\nOh heate drie vp my Braines, teares seuen times salt,\\nBurne out the Sence and Vertue of mine eye.\\nBy Heauen, thy madnesse shall be payed by waight,\\nTill our Scale turnes the beame. Oh Rose of May,\\nDeere Maid, kinde Sister, sweet Ophelia:\\nOh Heauens, is't possible, a yong Maids wits,\\nShould be as mortall as an old mans life?\\nNature is fine in Loue, and where 'tis fine,\\nIt sends some precious instance of it selfe\\nAfter the thing it loues\\n\\n   Ophe. They bore him bare fac'd on the Beer,\\nHey non nony, nony, hey nony:\\nAnd on his graue raines many a teare,\\nFare you well my Doue\\n\\n   Laer. Had'st thou thy wits, and did'st perswade Reuenge,\\nit could not moue thus\\n\\n   Ophe. You must sing downe a-downe, and you call\\nhim a-downe-a. Oh, how the wheele becomes it? It is\\nthe false Steward that stole his masters daughter\\n\\n   Laer. This nothings more then matter\\n\\n   Ophe. There's Rosemary, that's for Remembraunce.\\nPray loue remember: and there is Paconcies, that's for\\nThoughts\\n\\n   Laer. A document in madnesse, thoughts & remembrance\\nfitted\\n\\n   Ophe. There's Fennell for you, and Columbines: ther's\\nRew for you, and heere's some for me. Wee may call it\\nHerbe-Grace a Sundaies: Oh you must weare your Rew\\nwith a difference. There's a Daysie, I would giue you\\nsome Violets, but they wither'd all when my Father dyed:\\nThey say, he made a good end;\\nFor bonny sweet Robin is all my ioy\\n\\n   Laer. Thought, and Affliction, Passion, Hell it selfe:\\nShe turnes to Fauour, and to prettinesse\\n\\n   Ophe. And will he not come againe,\\nAnd will he not come againe:\\nNo, no, he is dead, go to thy Death-bed,\\nHe neuer wil come againe.\\nHis Beard as white as Snow,\\nAll Flaxen was his Pole:\\nHe is gone, he is gone, and we cast away mone,\\nGramercy on his Soule.\\nAnd of all Christian Soules, I pray God.\\nGod buy ye.\\n\\nExeunt. Ophelia\\n\\n  Laer. Do you see this, you Gods?\\n  King. Laertes, I must common with your greefe,\\nOr you deny me right: go but apart,\\nMake choice of whom your wisest Friends you will,\\nAnd they shall heare and iudge 'twixt you and me;\\nIf by direct or by Colaterall hand\\nThey finde vs touch'd, we will our Kingdome giue,\\nOur Crowne, our Life, and all that we call Ours\\nTo you in satisfaction. But if not,\\nBe you content to lend your patience to vs,\\nAnd we shall ioyntly labour with your soule\\nTo giue it due content\\n\\n   Laer. Let this be so:\\nHis meanes of death, his obscure buriall;\\nNo Trophee, Sword, nor Hatchment o're his bones,\\nNo Noble rite, nor formall ostentation,\\nCry to be heard, as 'twere from Heauen to Earth,\\nThat I must call in question\\n\\n   King. So you shall:\\nAnd where th' offence is, let the great Axe fall.\\nI pray you go with me.\\n\\nExeunt.\\n\\nEnter Horatio, with an Attendant.\\n\\n  Hora. What are they that would speake with me?\\n  Ser. Saylors sir, they say they haue Letters for you\\n\\n   Hor. Let them come in,\\nI do not know from what part of the world\\nI should be greeted, if not from Lord Hamlet.\\nEnter Saylor.\\n\\n  Say. God blesse you Sir\\n\\n   Hor. Let him blesse thee too\\n\\n   Say. Hee shall Sir, and't please him. There's a Letter\\nfor you Sir: It comes from th' Ambassadours that was\\nbound for England, if your name be Horatio, as I am let\\nto know it is.\\n\\nReads the Letter.\\n\\nHoratio, When thou shalt haue ouerlook'd this, giue these\\nFellowes some meanes to the King: They haue Letters\\nfor him. Ere we were two dayes old at Sea, a Pyrate of very\\nWarlicke appointment gaue vs Chace. Finding our selues too\\nslow of Saile, we put on a compelled Valour. In the Grapple, I\\nboorded them: On the instant they got cleare of our Shippe, so\\nI alone became their Prisoner. They haue dealt with mee, like\\nTheeues of Mercy, but they knew what they did. I am to doe\\na good turne for them. Let the King haue the Letters I haue\\nsent, and repaire thou to me with as much hast as thou wouldest\\nflye death. I haue words to speake in your eare, will make thee\\ndumbe, yet are they much too light for the bore of the Matter.\\nThese good Fellowes will bring thee where I am. Rosincrance\\nand Guildensterne, hold their course for England. Of them\\nI haue much to tell thee, Farewell.\\nHe that thou knowest thine,\\nHamlet.\\nCome, I will giue you way for these your Letters,\\nAnd do't the speedier, that you may direct me\\nTo him from whom you brought them.\\nEnter.\\n\\nEnter King and Laertes.\\n\\n  King. Now must your conscience my acquittance seal,\\nAnd you must put me in your heart for Friend,\\nSith you haue heard, and with a knowing eare,\\nThat he which hath your Noble Father slaine,\\nPursued my life\\n\\n   Laer. It well appeares. But tell me,\\nWhy you proceeded not against these feates,\\nSo crimefull, and so Capitall in Nature,\\nAs by your Safety, Wisedome, all things else,\\nYou mainly were stirr'd vp?\\n  King. O for two speciall Reasons,\\nWhich may to you (perhaps) seeme much vnsinnowed,\\nAnd yet to me they are strong. The Queen his Mother,\\nLiues almost by his lookes: and for my selfe,\\nMy Vertue or my Plague, be it either which,\\nShe's so coniunctiue to my life, and soule;\\nThat as the Starre moues not but in his Sphere,\\nI could not but by her. The other Motiue,\\nWhy to a publike count I might not go,\\nIs the great loue the generall gender beare him,\\nWho dipping all his Faults in their affection,\\nWould like the Spring that turneth Wood to Stone,\\nConuert his Gyues to Graces. So that my Arrowes\\nToo slightly timbred for so loud a Winde,\\nWould haue reuerted to my Bow againe,\\nAnd not where I had arm'd them\\n\\n   Laer. And so haue I a Noble Father lost,\\nA Sister driuen into desperate tearmes,\\nWho was (if praises may go backe againe)\\nStood Challenger on mount of all the Age\\nFor her perfections. But my reuenge will come\\n\\n   King. Breake not your sleepes for that,\\nYou must not thinke\\nThat we are made of stuffe, so flat, and dull,\\nThat we can let our Beard be shooke with danger,\\nAnd thinke it pastime. You shortly shall heare more,\\nI lou'd your Father, and we loue our Selfe,\\nAnd that I hope will teach you to imagine-\\nEnter a Messenger.\\n\\nHow now? What Newes?\\n  Mes. Letters my Lord from Hamlet, This to your\\nMaiesty: this to the Queene\\n\\n   King. From Hamlet? Who brought them?\\n  Mes. Saylors my Lord they say, I saw them not:\\nThey were giuen me by Claudio, he receiu'd them\\n\\n   King. Laertes you shall heare them:\\nLeaue vs.\\n\\nExit Messenger\\n\\nHigh and Mighty, you shall know I am set naked on your\\nKingdome. To morrow shall I begge leaue to see your Kingly\\nEyes. When I shall (first asking your Pardon thereunto) recount\\nth' Occasions of my sodaine, and more strange returne.\\nHamlet.\\nWhat should this meane? Are all the rest come backe?\\nOr is it some abuse? Or no such thing?\\n  Laer. Know you the hand?\\n  Kin. 'Tis Hamlets Character, naked and in a Postscript\\nhere he sayes alone: Can you aduise me?\\n  Laer. I'm lost in it my Lord; but let him come,\\nIt warmes the very sicknesse in my heart,\\nThat I shall liue and tell him to his teeth;\\nThus diddest thou\\n\\n   Kin. If it be so Laertes, as how should it be so:\\nHow otherwise will you be rul'd by me?\\n  Laer. If so you'l not o'rerule me to a peace\\n\\n   Kin. To thine owne peace: if he be now return'd,\\nAs checking at his Voyage, and that he meanes\\nNo more to vndertake it; I will worke him\\nTo an exployt now ripe in my Deuice,\\nVnder the which he shall not choose but fall;\\nAnd for his death no winde of blame shall breath,\\nBut euen his Mother shall vncharge the practice,\\nAnd call it accident: Some two Monthes hence\\nHere was a Gentleman of Normandy,\\nI'ue seene my selfe, and seru'd against the French,\\nAnd they ran well on Horsebacke; but this Gallant\\nHad witchcraft in't; he grew into his Seat,\\nAnd to such wondrous doing brought his Horse,\\nAs had he beene encorps't and demy-Natur'd\\nWith the braue Beast, so farre he past my thought,\\nThat I in forgery of shapes and trickes,\\nCome short of what he did\\n\\n   Laer. A Norman was't?\\n  Kin. A Norman\\n\\n   Laer. Vpon my life Lamound\\n\\n   Kin. The very same\\n\\n   Laer. I know him well, he is the Brooch indeed,\\nAnd Iemme of all our Nation\\n\\n   Kin. Hee mad confession of you,\\nAnd gaue you such a Masterly report,\\nFor Art and exercise in your defence;\\nAnd for your Rapier most especiall,\\nThat he cryed out, t'would be a sight indeed,\\nIf one could match you Sir. This report of his\\nDid Hamlet so envenom with his Enuy,\\nThat he could nothing doe but wish and begge,\\nYour sodaine comming ore to play with him;\\nNow out of this\\n\\n   Laer. Why out of this, my Lord?\\n  Kin. Laertes was your Father deare to you?\\nOr are you like the painting of a sorrow,\\nA face without a heart?\\n  Laer. Why aske you this?\\n  Kin. Not that I thinke you did not loue your Father,\\nBut that I know Loue is begun by Time:\\nAnd that I see in passages of proofe,\\nTime qualifies the sparke and fire of it:\\nHamlet comes backe: what would you vndertake,\\nTo show your selfe your Fathers sonne indeed,\\nMore then in words?\\n  Laer. To cut his throat i'th' Church\\n\\n   Kin. No place indeed should murder Sancturize;\\nReuenge should haue no bounds: but good Laertes\\nWill you doe this, keepe close within your Chamber,\\nHamlet return'd, shall know you are come home:\\nWee'l put on those shall praise your excellence,\\nAnd set a double varnish on the fame\\nThe Frenchman gaue you, bring you in fine together,\\nAnd wager on your heads, he being remisse,\\nMost generous, and free from all contriuing,\\nWill not peruse the Foiles? So that with ease,\\nOr with a little shuffling, you may choose\\nA Sword vnbaited, and in a passe of practice,\\nRequit him for your Father\\n\\n   Laer. I will doo't.\\nAnd for that purpose Ile annoint my Sword:\\nI bought an Vnction of a Mountebanke\\nSo mortall, I but dipt a knife in it,\\nWhere it drawes blood, no Cataplasme so rare,\\nCollected from all Simples that haue Vertue\\nVnder the Moone, can saue the thing from death,\\nThat is but scratcht withall: Ile touch my point,\\nWith this contagion, that if I gall him slightly,\\nIt may be death\\n\\n   Kin. Let's further thinke of this,\\nWeigh what conuenience both of time and meanes\\nMay fit vs to our shape, if this should faile;\\nAnd that our drift looke through our bad performance,\\n'Twere better not assaid; therefore this Proiect\\nShould haue a backe or second, that might hold,\\nIf this should blast in proofe: Soft, let me see\\nWee'l make a solemne wager on your commings,\\nI ha't: when in your motion you are hot and dry,\\nAs make your bowts more violent to the end,\\nAnd that he cals for drinke; Ile haue prepar'd him\\nA Challice for the nonce; whereon but sipping,\\nIf he by chance escape your venom'd stuck,\\nOur purpose may hold there; how sweet Queene.\\nEnter Queene.\\n\\n  Queen. One woe doth tread vpon anothers heele,\\nSo fast they'l follow: your Sister's drown'd Laertes\\n\\n   Laer. Drown'd! O where?\\n  Queen. There is a Willow growes aslant a Brooke,\\nThat shewes his hore leaues in the glassie streame:\\nThere with fantasticke Garlands did she come,\\nOf Crow-flowers, Nettles, Daysies, and long Purples,\\nThat liberall Shepheards giue a grosser name;\\nBut our cold Maids doe Dead Mens Fingers call them:\\nThere on the pendant boughes, her Coronet weeds\\nClambring to hang; an enuious sliuer broke,\\nWhen downe the weedy Trophies, and her selfe,\\nFell in the weeping Brooke, her cloathes spred wide,\\nAnd Mermaid-like, a while they bore her vp,\\nWhich time she chaunted snatches of old tunes,\\nAs one incapable of her owne distresse,\\nOr like a creature Natiue, and indued\\nVnto that Element: but long it could not be,\\nTill that her garments, heauy with her drinke,\\nPul'd the poore wretch from her melodious buy,\\nTo muddy death\\n\\n   Laer. Alas then, is she drown'd?\\n  Queen. Drown'd, drown'd\\n\\n   Laer. Too much of water hast thou poore Ophelia,\\nAnd therefore I forbid my teares: but yet\\nIt is our tricke, Nature her custome holds,\\nLet shame say what it will; when these are gone\\nThe woman will be out: Adue my Lord,\\nI haue a speech of fire, that faine would blaze,\\nBut that this folly doubts it.\\nEnter.\\n\\n  Kin. Let's follow, Gertrude:\\nHow much I had to doe to calme his rage?\\nNow feare I this will giue it start againe;\\nTherefore let's follow.\\n\\nExeunt.\\n\\nEnter two Clownes.\\n\\n  Clown. Is she to bee buried in Christian buriall, that\\nwilfully seekes her owne saluation?\\n  Other. I tell thee she is, and therefore make her Graue\\nstraight, the Crowner hath sate on her, and finds it Christian\\nburiall\\n\\n   Clo. How can that be, vnlesse she drowned her selfe in\\nher owne defence?\\n  Other. Why 'tis found so\\n\\n   Clo. It must be Se offendendo, it cannot bee else: for\\nheere lies the point; If I drowne my selfe wittingly, it argues\\nan Act: and an Act hath three branches. It is an\\nAct to doe and to performe; argall she drown'd her selfe\\nwittingly\\n\\n   Other. Nay but heare you Goodman Deluer\\n\\n   Clown. Giue me leaue; heere lies the water; good:\\nheere stands the man; good: If the man goe to this water\\nand drowne himselfe; it is will he nill he, he goes;\\nmarke you that? But if the water come to him & drowne\\nhim; hee drownes not himselfe. Argall, hee that is not\\nguilty of his owne death, shortens not his owne life\\n\\n   Other. But is this law?\\n  Clo. I marry is't, Crowners Quest Law\\n\\n   Other. Will you ha the truth on't: if this had not\\nbeene a Gentlewoman, shee should haue beene buried\\nout of Christian Buriall\\n\\n   Clo. Why there thou say'st. And the more pitty that\\ngreat folke should haue countenance in this world to\\ndrowne or hang themselues, more then their euen Christian.\\nCome, my Spade; there is no ancient Gentlemen,\\nbut Gardiners, Ditchers and Graue-makers; they hold vp\\nAdams Profession\\n\\n   Other. Was he a Gentleman?\\n  Clo. He was the first that euer bore Armes\\n\\n   Other. Why he had none\\n\\n   Clo. What, ar't a Heathen? how doth thou vnderstand\\nthe Scripture? the Scripture sayes Adam dig'd;\\ncould hee digge without Armes? Ile put another question\\nto thee; if thou answerest me not to the purpose, confesse\\nthy selfe-\\n  Other. Go too\\n\\n   Clo. What is he that builds stronger then either the\\nMason, the Shipwright, or the Carpenter?\\n  Other. The Gallowes maker; for that Frame outliues a\\nthousand Tenants\\n\\n   Clo. I like thy wit well in good faith, the Gallowes\\ndoes well; but how does it well? it does well to those\\nthat doe ill: now, thou dost ill to say the Gallowes is\\nbuilt stronger then the Church: Argall, the Gallowes\\nmay doe well to thee. Too't againe, Come\\n\\n   Other. Who builds stronger then a Mason, a Shipwright,\\nor a Carpenter?\\n  Clo. I, tell me that, and vnyoake\\n\\n   Other. Marry, now I can tell\\n\\n   Clo. Too't\\n\\n   Other. Masse, I cannot tell.\\nEnter Hamlet and Horatio a farre off.\\n\\n  Clo. Cudgell thy braines no more about it; for your\\ndull Asse will not mend his pace with beating; and when\\nyou are ask't this question next, say a Graue-maker: the\\nHouses that he makes, lasts till Doomesday: go, get thee\\nto Yaughan, fetch me a stoupe of Liquor.\\n\\nSings.\\n\\nIn youth when I did loue, did loue,\\nme thought it was very sweete:\\nTo contract O the time for a my behoue,\\nO me thought there was nothing meete\\n\\n   Ham. Ha's this fellow no feeling of his businesse, that\\nhe sings at Graue-making?\\n  Hor. Custome hath made it in him a property of easinesse\\n\\n   Ham. 'Tis ee'n so; the hand of little Imployment hath\\nthe daintier sense\\n\\n   Clowne sings. But Age with his stealing steps\\nhath caught me in his clutch:\\nAnd hath shipped me intill the Land,\\nas if I had neuer beene such\\n\\n   Ham. That Scull had a tongue in it, and could sing\\nonce: how the knaue iowles it to th' grownd, as if it\\nwere Caines Iaw-bone, that did the first murther: It\\nmight be the Pate of a Polititian which this Asse o're Offices:\\none that could circumuent God, might it not?\\n  Hor. It might, my Lord\\n\\n   Ham. Or of a Courtier, which could say, Good Morrow\\nsweet Lord: how dost thou, good Lord? this\\nmight be my Lord such a one, that prais'd my Lord such\\na ones Horse, when he meant to begge it; might it not?\\n  Hor. I, my Lord\\n\\n   Ham. Why ee'n so: and now my Lady Wormes,\\nChaplesse, and knockt about the Mazard with a Sextons\\nSpade; heere's fine Reuolution, if wee had the tricke to\\nsee't. Did these bones cost no more the breeding, but\\nto play at Loggets with 'em? mine ake to thinke\\non't\\n\\n   Clowne sings. A Pickhaxe and a Spade, a Spade,\\nfor and a shrowding-Sheete:\\nO a Pit of Clay for to be made,\\nfor such a Guest is meete\\n\\n   Ham. There's another: why might not that bee the\\nScull of a Lawyer? where be his Quiddits now? his\\nQuillets? his Cases? his Tenures, and his Tricks? why\\ndoe's he suffer this rude knaue now to knocke him about\\nthe Sconce with a dirty Shouell, and will not tell him of\\nhis Action of Battery? hum. This fellow might be in's\\ntime a great buyer of Land, with his Statutes, his Recognizances,\\nhis Fines, his double Vouchers, his Recoueries:\\nIs this the fine of his Fines, and the recouery of his Recoueries,\\nto haue his fine Pate full of fine Dirt? will his\\nVouchers vouch him no more of his Purchases, and double\\nones too, then the length and breadth of a paire of\\nIndentures? the very Conueyances of his Lands will\\nhardly lye in this Boxe; and must the Inheritor himselfe\\nhaue no more? ha?\\n  Hor. Not a iot more, my Lord\\n\\n   Ham. Is not Parchment made of Sheep-skinnes?\\n  Hor. I my Lord, and of Calue-skinnes too\\n\\n   Ham. They are Sheepe and Calues that seek out assurance\\nin that. I will speake to this fellow: whose Graue's\\nthis Sir?\\n  Clo. Mine Sir:\\nO a Pit of Clay for to be made,\\nfor such a Guest is meete\\n\\n   Ham. I thinke it be thine indeed: for thou liest in't\\n\\n   Clo. You lye out on't Sir, and therefore it is not yours:\\nfor my part, I doe not lye in't; and yet it is mine\\n\\n   Ham. Thou dost lye in't, to be in't and say 'tis thine:\\n'tis for the dead, not for the quicke, therefore thou\\nlyest\\n\\n   Clo. 'Tis a quicke lye Sir, 'twill away againe from me\\nto you\\n\\n   Ham. What man dost thou digge it for?\\n  Clo. For no man Sir\\n\\n   Ham. What woman then?\\n  Clo. For none neither\\n\\n   Ham. Who is to be buried in't?\\n  Clo. One that was a woman Sir; but rest her Soule,\\nshee's dead\\n\\n   Ham. How absolute the knaue is? wee must speake\\nby the Carde, or equiuocation will vndoe vs: by the\\nLord Horatio, these three yeares I haue taken note of it,\\nthe Age is growne so picked, that the toe of the Pesant\\ncomes so neere the heeles of our Courtier, hee galls his\\nKibe. How long hast thou been a Graue-maker?\\n  Clo. Of all the dayes i'th' yeare, I came too't that day\\nthat our last King Hamlet o'recame Fortinbras\\n\\n   Ham. How long is that since?\\n  Clo. Cannot you tell that? euery foole can tell that:\\nIt was the very day, that young Hamlet was borne, hee\\nthat was mad, and sent into England\\n\\n   Ham. I marry, why was he sent into England?\\n  Clo. Why, because he was mad; hee shall recouer his\\nwits there; or if he do not, it's no great matter there\\n\\n   Ham. Why?\\n  Clo. 'Twill not be seene in him, there the men are as\\nmad as he\\n\\n   Ham. How came he mad?\\n  Clo. Very strangely they say\\n\\n   Ham. How strangely?\\n  Clo. Faith e'ene with loosing his wits\\n\\n   Ham. Vpon what ground?\\n  Clo. Why heere in Denmarke: I haue bin sixeteene\\nheere, man and Boy thirty yeares\\n\\n   Ham. How long will a man lie i'th' earth ere he rot?\\n  Clo. Ifaith, if he be not rotten before he die (as we haue\\nmany pocky Coarses now adaies, that will scarce hold\\nthe laying in) he will last you some eight yeare, or nine\\nyeare. A Tanner will last you nine yeare\\n\\n   Ham. Why he, more then another?\\n  Clo. Why sir, his hide is so tan'd with his Trade, that\\nhe will keepe out water a great while. And your water,\\nis a sore Decayer of your horson dead body. Heres a Scull\\nnow: this Scul, has laine in the earth three & twenty years\\n\\n   Ham. Whose was it?\\n  Clo. A whoreson mad Fellowes it was;\\nWhose doe you thinke it was?\\n  Ham. Nay, I know not\\n\\n   Clo. A pestilence on him for a mad Rogue, a pour'd a\\nFlaggon of Renish on my head once. This same Scull\\nSir, this same Scull sir, was Yoricks Scull, the Kings Iester\\n\\n   Ham. This?\\n  Clo. E'ene that\\n\\n   Ham. Let me see. Alas poore Yorick, I knew him Horatio,\\na fellow of infinite Iest; of most excellent fancy, he\\nhath borne me on his backe a thousand times: And how\\nabhorred my Imagination is, my gorge rises at it. Heere\\nhung those lipps, that I haue kist I know not how oft.\\nWhere be your Iibes now? Your Gambals? Your\\nSongs? Your flashes of Merriment that were wont to\\nset the Table on a Rore? No one now to mock your own\\nIeering? Quite chopfalne? Now get you to my Ladies\\nChamber, and tell her, let her paint an inch thicke, to this\\nfauour she must come. Make her laugh at that: prythee\\nHoratio tell me one thing\\n\\n   Hor. What's that my Lord?\\n  Ham. Dost thou thinke Alexander lookt o'this fashion\\ni'th' earth?\\n  Hor. E'ene so\\n\\n   Ham. And smelt so? Puh\\n\\n   Hor. E'ene so, my Lord\\n\\n   Ham. To what base vses we may returne Horatio.\\nWhy may not Imagination trace the Noble dust of Alexander,\\ntill he find it stopping a bunghole\\n\\n   Hor. 'Twere to consider: to curiously to consider so\\n\\n   Ham. No faith, not a iot. But to follow him thether\\nwith modestie enough, & likeliehood to lead it; as thus.\\nAlexander died: Alexander was buried: Alexander returneth\\ninto dust; the dust is earth; of earth we make\\nLome, and why of that Lome (whereto he was conuerted)\\nmight they not stopp a Beere-barrell?\\nImperiall Caesar, dead and turn'd to clay,\\nMight stop a hole to keepe the winde away.\\nOh, that that earth, which kept the world in awe,\\nShould patch a Wall, t' expell the winters flaw.\\nBut soft, but soft, aside; heere comes the King.\\nEnter King, Queene, Laertes, and a Coffin, with Lords attendant.\\n\\nThe Queene, the Courtiers. Who is that they follow,\\nAnd with such maimed rites? This doth betoken,\\nThe Coarse they follow, did with disperate hand,\\nFore do it owne life; 'twas some Estate.\\nCouch we a while, and mark\\n\\n   Laer. What Cerimony else?\\n  Ham. That is Laertes, a very Noble youth: Marke\\n\\n   Laer. What Cerimony else?\\n  Priest. Her Obsequies haue bin as farre inlarg'd.\\nAs we haue warrantie, her death was doubtfull,\\nAnd but that great Command, o're-swaies the order,\\nShe should in ground vnsanctified haue lodg'd,\\nTill the last Trumpet. For charitable praier,\\nShardes, Flints, and Peebles, should be throwne on her:\\nYet heere she is allowed her Virgin Rites,\\nHer Maiden strewments, and the bringing home\\nOf Bell and Buriall\\n\\n   Laer. Must there no more be done ?\\n  Priest. No more be done:\\nWe should prophane the seruice of the dead,\\nTo sing sage Requiem, and such rest to her\\nAs to peace-parted Soules\\n\\n   Laer. Lay her i'th' earth,\\nAnd from her faire and vnpolluted flesh,\\nMay Violets spring. I tell thee (churlish Priest)\\nA Ministring Angell shall my Sister be,\\nWhen thou liest howling?\\n  Ham. What, the faire Ophelia?\\n  Queene. Sweets, to the sweet farewell.\\nI hop'd thou should'st haue bin my Hamlets wife:\\nI thought thy Bride-bed to haue deckt (sweet Maid)\\nAnd not t'haue strew'd thy Graue\\n\\n   Laer. Oh terrible woer,\\nFall ten times trebble, on that cursed head\\nWhose wicked deed, thy most Ingenious sence\\nDepriu'd thee of. Hold off the earth a while,\\nTill I haue caught her once more in mine armes:\\n\\nLeaps in the graue.\\n\\nNow pile your dust, vpon the quicke, and dead,\\nTill of this flat a Mountaine you haue made,\\nTo o're top old Pelion, or the skyish head\\nOf blew Olympus\\n\\n   Ham. What is he, whose griefes\\nBeares such an Emphasis? whose phrase of Sorrow\\nConiure the wandring Starres, and makes them stand\\nLike wonder-wounded hearers? This is I,\\nHamlet the Dane\\n\\n   Laer. The deuill take thy soule\\n\\n   Ham. Thou prai'st not well,\\nI prythee take thy fingers from my throat;\\nSir though I am not Spleenatiue, and rash,\\nYet haue I something in me dangerous,\\nWhich let thy wisenesse feare. Away thy hand\\n\\n   King. Pluck them asunder\\n\\n   Qu. Hamlet, Hamlet\\n\\n   Gen. Good my Lord be quiet\\n\\n   Ham. Why I will fight with him vppon this Theme.\\nVntill my eielids will no longer wag\\n\\n   Qu. Oh my Sonne, what Theame?\\n  Ham. I lou'd Ophelia; fortie thousand Brothers\\nCould not (with all there quantitie of Loue)\\nMake vp my summe. What wilt thou do for her?\\n  King. Oh he is mad Laertes,\\n  Qu. For loue of God forbeare him\\n\\n   Ham. Come show me what thou'lt doe.\\nWoo't weepe? Woo't fight? Woo't teare thy selfe?\\nWoo't drinke vp Esile, eate a Crocodile?\\nIle doo't. Dost thou come heere to whine;\\nTo outface me with leaping in her Graue?\\nBe buried quicke with her, and so will I.\\nAnd if thou prate of Mountaines; let them throw\\nMillions of Akers on vs; till our ground\\nSindging his pate against the burning Zone,\\nMake Ossa like a wart. Nay, and thou'lt mouth,\\nIle rant as well as thou\\n\\n   Kin. This is meere Madnesse:\\nAnd thus awhile the fit will worke on him:\\nAnon as patient as the female Doue,\\nWhen that her Golden Cuplet are disclos'd;\\nHis silence will sit drooping\\n\\n   Ham. Heare you Sir:\\nWhat is the reason that you vse me thus?\\nI lou'd you euer; but it is no matter:\\nLet Hercules himselfe doe what he may,\\nThe Cat will Mew, and Dogge will haue his day.\\nEnter.\\n\\n  Kin. I pray you good Horatio wait vpon him,\\nStrengthen your patience in our last nights speech,\\nWee'l put the matter to the present push:\\nGood Gertrude set some watch ouer your Sonne,\\nThis Graue shall haue a liuing Monument:\\nAn houre of quiet shortly shall we see;\\nTill then, in patience our proceeding be.\\n\\nExeunt.\\n\\nEnter Hamlet and Horatio\\n\\n   Ham. So much for this Sir; now let me see the other,\\nYou doe remember all the Circumstance\\n\\n   Hor. Remember it my Lord?\\n  Ham. Sir, in my heart there was a kinde of fighting,\\nThat would not let me sleepe; me thought I lay\\nWorse then the mutines in the Bilboes, rashly,\\n(And praise be rashnesse for it) let vs know,\\nOur indiscretion sometimes serues vs well,\\nWhen our deare plots do paule, and that should teach vs,\\nThere's a Diuinity that shapes our ends,\\nRough-hew them how we will\\n\\n   Hor. That is most certaine\\n\\n   Ham. Vp from my Cabin\\nMy sea-gowne scarft about me in the darke,\\nGrop'd I to finde out them; had my desire,\\nFinger'd their Packet, and in fine, withdrew\\nTo mine owne roome againe, making so bold,\\n(My feares forgetting manners) to vnseale\\nTheir grand Commission, where I found Horatio,\\nOh royall knauery: An exact command,\\nLarded with many seuerall sorts of reason;\\nImporting Denmarks health, and Englands too,\\nWith hoo, such Bugges and Goblins in my life,\\nThat on the superuize no leasure bated,\\nNo not to stay the grinding of the Axe,\\nMy head should be struck off\\n\\n   Hor. Ist possible?\\n  Ham. Here's the Commission, read it at more leysure:\\nBut wilt thou heare me how I did proceed?\\n  Hor. I beseech you\\n\\n   Ham. Being thus benetted round with Villaines,\\nEre I could make a Prologue to my braines,\\nThey had begun the Play. I sate me downe,\\nDeuis'd a new Commission, wrote it faire,\\nI once did hold it as our Statists doe,\\nA basenesse to write faire; and laboured much\\nHow to forget that learning: but Sir now,\\nIt did me Yeomans seriuce: wilt thou know\\nThe effects of what I wrote?\\n  Hor. I, good my Lord\\n\\n   Ham. An earnest Coniuration from the King,\\nAs England was his faithfull Tributary,\\nAs loue betweene them, as the Palme should flourish,\\nAs Peace should still her wheaten Garland weare,\\nAnd stand a Comma 'tweene their amities,\\nAnd many such like Assis of great charge,\\nThat on the view and know of these Contents,\\nWithout debatement further, more or lesse,\\nHe should the bearers put to sodaine death,\\nNot shriuing time allowed\\n\\n   Hor. How was this seal'd?\\n  Ham. Why, euen in that was Heauen ordinate;\\nI had my fathers Signet in my Purse,\\nWhich was the Modell of that Danish Seale:\\nFolded the Writ vp in forme of the other,\\nSubscrib'd it, gau't th' impression, plac't it safely,\\nThe changeling neuer knowne: Now, the next day\\nWas our Sea Fight, and what to this was sement,\\nThou know'st already\\n\\n   Hor. So Guildensterne and Rosincrance, go too't\\n\\n   Ham. Why man, they did make loue to this imployment\\nThey are not neere my Conscience; their debate\\nDoth by their owne insinuation grow:\\n'Tis dangerous, when the baser nature comes\\nBetweene the passe, and fell incensed points\\nOf mighty opposites\\n\\n   Hor. Why, what a King is this?\\n  Ham. Does it not, thinkst thee, stand me now vpon\\nHe that hath kil'd my King, and whor'd my Mother,\\nPopt in betweene th' election and my hopes,\\nThrowne out his Angle for my proper life,\\nAnd with such coozenage; is't not perfect conscience,\\nTo quit him with this arme? And is't not to be damn'd\\nTo let this Canker of our nature come\\nIn further euill\\n\\n   Hor. It must be shortly knowne to him from England\\nWhat is the issue of the businesse there\\n\\n   Ham. It will be short,\\nThe interim's mine, and a mans life's no more\\nThen to say one: but I am very sorry good Horatio,\\nThat to Laertes I forgot my selfe;\\nFor by the image of my Cause, I see\\nThe Portraiture of his; Ile count his fauours:\\nBut sure the brauery of his griefe did put me\\nInto a Towring passion\\n\\n   Hor. Peace, who comes heere?\\nEnter young Osricke.\\n\\n  Osr. Your Lordship is right welcome back to Denmarke\\n\\n   Ham. I humbly thank you Sir, dost know this waterflie?\\n  Hor. No my good Lord\\n\\n   Ham. Thy state is the more gracious; for 'tis a vice to\\nknow him: he hath much Land, and fertile; let a Beast\\nbe Lord of Beasts, and his Crib shall stand at the Kings\\nMesse; 'tis a Chowgh; but as I saw spacious in the possession\\nof dirt\\n\\n   Osr. Sweet Lord, if your friendship were at leysure,\\nI should impart a thing to you from his Maiesty\\n\\n   Ham. I will receiue it with all diligence of spirit; put\\nyour Bonet to his right vse, 'tis for the head\\n\\n   Osr. I thanke your Lordship, 'tis very hot\\n\\n   Ham. No, beleeue mee 'tis very cold, the winde is\\nNortherly\\n\\n   Osr. It is indifferent cold my Lord indeed\\n\\n   Ham. Mee thinkes it is very soultry, and hot for my\\nComplexion\\n\\n   Osr. Exceedingly, my Lord, it is very soultry, as 'twere\\nI cannot tell how: but my Lord, his Maiesty bad me signifie\\nto you, that he ha's laid a great wager on your head:\\nSir, this is the matter\\n\\n   Ham. I beseech you remember\\n\\n   Osr. Nay, in good faith, for mine ease in good faith:\\nSir, you are not ignorant of what excellence Laertes is at\\nhis weapon\\n\\n   Ham. What's his weapon?\\n  Osr. Rapier and dagger\\n\\n   Ham. That's two of his weapons; but well\\n\\n   Osr. The sir King ha's wag'd with him six Barbary horses,\\nagainst the which he impon'd as I take it, sixe French\\nRapiers and Poniards, with their assignes, as Girdle,\\nHangers or so: three of the Carriages infaith are very\\ndeare to fancy, very responsiue to the hilts, most delicate\\ncarriages, and of very liberall conceit\\n\\n   Ham. What call you the Carriages?\\n  Osr. The Carriages Sir, are the hangers\\n\\n   Ham. The phrase would bee more Germaine to the\\nmatter: If we could carry Cannon by our sides; I would\\nit might be Hangers till then; but on sixe Barbary Horses\\nagainst sixe French Swords: their Assignes, and three\\nliberall conceited Carriages, that's the French but against\\nthe Danish; why is this impon'd as you call it?\\n  Osr. The King Sir, hath laid that in a dozen passes betweene\\nyou and him, hee shall not exceed you three hits;\\nHe hath one twelue for mine, and that would come to\\nimediate tryall, if your Lordship would vouchsafe the\\nAnswere\\n\\n   Ham. How if I answere no?\\n  Osr. I meane my Lord, the opposition of your person\\nin tryall\\n\\n   Ham. Sir, I will walke heere in the Hall; if it please\\nhis Maiestie, 'tis the breathing time of day with me; let\\nthe Foyles bee brought, the Gentleman willing, and the\\nKing hold his purpose; I will win for him if I can: if\\nnot, Ile gaine nothing but my shame, and the odde hits\\n\\n   Osr. Shall I redeliuer you ee'n so?\\n  Ham. To this effect Sir, after what flourish your nature\\nwill\\n\\n   Osr. I commend my duty to your Lordship\\n\\n   Ham. Yours, yours; hee does well to commend it\\nhimselfe, there are no tongues else for's tongue\\n\\n   Hor. This Lapwing runs away with the shell on his\\nhead\\n\\n   Ham. He did Complie with his Dugge before hee\\nsuck't it: thus had he and mine more of the same Beauty\\nthat I know the drossie age dotes on; only got the tune of\\nthe time, and outward habite of encounter, a kinde of\\nyesty collection, which carries them through & through\\nthe most fond and winnowed opinions; and doe but blow\\nthem to their tryalls: the Bubbles are out\\n\\n   Hor. You will lose this wager, my Lord\\n\\n   Ham. I doe not thinke so, since he went into France,\\nI haue beene in continuall practice; I shall winne at the\\noddes: but thou wouldest not thinke how all heere about\\nmy heart: but it is no matter\\n\\n   Hor. Nay, good my Lord\\n\\n   Ham. It is but foolery; but it is such a kinde of\\ngain-giuing as would perhaps trouble a woman\\n\\n   Hor. If your minde dislike any thing, obey. I will forestall\\ntheir repaire hither, and say you are not fit\\n\\n   Ham. Not a whit, we defie Augury; there's a speciall\\nProuidence in the fall of a sparrow. If it be now, 'tis not\\nto come: if it bee not to come, it will bee now: if it\\nbe not now; yet it will come; the readinesse is all, since no\\nman ha's ought of what he leaues. What is't to leaue betimes?\\nEnter King, Queene, Laertes and Lords, with other Attendants with\\nFoyles,\\nand Gauntlets, a Table and Flagons of Wine on it.\\n\\n  Kin. Come Hamlet, come, and take this hand from me\\n\\n   Ham. Giue me your pardon Sir, I'ue done you wrong,\\nBut pardon't as you are a Gentleman.\\nThis presence knowes,\\nAnd you must needs haue heard how I am punisht\\nWith sore distraction? What I haue done\\nThat might your nature honour, and exception\\nRoughly awake, I heere proclaime was madnesse:\\nWas't Hamlet wrong'd Laertes? Neuer Hamlet.\\nIf Hamlet from himselfe be tane away:\\nAnd when he's not himselfe, do's wrong Laertes,\\nThen Hamlet does it not, Hamlet denies it:\\nWho does it then? His Madnesse? If't be so,\\nHamlet is of the Faction that is wrong'd,\\nHis madnesse is poore Hamlets Enemy.\\nSir, in this Audience,\\nLet my disclaiming from a purpos'd euill,\\nFree me so farre in your most generous thoughts,\\nThat I haue shot mine Arrow o're the house,\\nAnd hurt my Mother\\n\\n   Laer. I am satisfied in Nature,\\nWhose motiue in this case should stirre me most\\nTo my Reuenge. But in my termes of Honor\\nI stand aloofe, and will no reconcilement,\\nTill by some elder Masters of knowne Honor,\\nI haue a voyce, and president of peace\\nTo keepe my name vngorg'd. But till that time,\\nI do receiue your offer'd loue like loue,\\nAnd wil not wrong it\\n\\n   Ham. I do embrace it freely,\\nAnd will this Brothers wager frankely play.\\nGiue vs the Foyles: Come on\\n\\n   Laer. Come one for me\\n\\n   Ham. Ile be your foile Laertes, in mine ignorance,\\nYour Skill shall like a Starre i'th' darkest night,\\nSticke fiery off indeede\\n\\n   Laer. You mocke me Sir\\n\\n   Ham. No by this hand\\n\\n   King. Giue them the Foyles yong Osricke,\\nCousen Hamlet, you know the wager\\n\\n   Ham. Verie well my Lord,\\nYour Grace hath laide the oddes a'th' weaker side\\n\\n   King. I do not feare it,\\nI haue seene you both:\\nBut since he is better'd, we haue therefore oddes\\n\\n   Laer. This is too heauy,\\nLet me see another\\n\\n   Ham. This likes me well,\\nThese Foyles haue all a length.\\n\\nPrepare to play.\\n\\n  Osricke. I my good Lord\\n\\n   King. Set me the Stopes of wine vpon that Table:\\nIf Hamlet giue the first, or second hit,\\nOr quit in answer of the third exchange,\\nLet all the Battlements their Ordinance fire,\\nThe King shal drinke to Hamlets better breath,\\nAnd in the Cup an vnion shal he throw\\nRicher then that, which foure successiue Kings\\nIn Denmarkes Crowne haue worne.\\nGiue me the Cups,\\nAnd let the Kettle to the Trumpets speake,\\nThe Trumpet to the Cannoneer without,\\nThe Cannons to the Heauens, the Heauen to Earth,\\nNow the King drinkes to Hamlet. Come, begin,\\nAnd you the Iudges beare a wary eye\\n\\n   Ham. Come on sir\\n\\n   Laer. Come on sir.\\n\\nThey play.\\n\\n  Ham. One\\n\\n   Laer. No\\n\\n   Ham. Iudgement\\n\\n   Osr. A hit, a very palpable hit\\n\\n   Laer. Well: againe\\n\\n   King. Stay, giue me drinke.\\nHamlet, this Pearle is thine,\\nHere's to thy health. Giue him the cup,\\n\\nTrumpets sound, and shot goes off.\\n\\n  Ham. Ile play this bout first, set by a-while.\\nCome: Another hit; what say you?\\n  Laer. A touch, a touch, I do confesse\\n\\n   King. Our Sonne shall win\\n\\n   Qu. He's fat, and scant of breath.\\nHeere's a Napkin, rub thy browes,\\nThe Queene Carowses to thy fortune, Hamlet\\n\\n   Ham. Good Madam\\n\\n   King. Gertrude, do not drinke\\n\\n   Qu. I will my Lord;\\nI pray you pardon me\\n\\n   King. It is the poyson'd Cup, it is too late\\n\\n   Ham. I dare not drinke yet Madam,\\nBy and by\\n\\n   Qu. Come, let me wipe thy face\\n\\n   Laer. My Lord, Ile hit him now\\n\\n   King. I do not thinke't\\n\\n   Laer. And yet 'tis almost 'gainst my conscience\\n\\n   Ham. Come for the third.\\nLaertes, you but dally,\\nI pray you passe with your best violence,\\nI am affear'd you make a wanton of me\\n\\n   Laer. Say you so? Come on.\\n\\nPlay.\\n\\n  Osr. Nothing neither way\\n\\n   Laer. Haue at you now.\\n\\nIn scuffling they change Rapiers.\\n\\n  King. Part them, they are incens'd\\n\\n   Ham. Nay come, againe\\n\\n   Osr. Looke to the Queene there hoa\\n\\n   Hor. They bleed on both sides. How is't my Lord?\\n  Osr. How is't Laertes?\\n  Laer. Why as a Woodcocke\\nTo mine Sprindge, Osricke,\\nI am iustly kill'd with mine owne Treacherie\\n\\n   Ham. How does the Queene?\\n  King. She sounds to see them bleede\\n\\n   Qu. No, no, the drinke, the drinke.\\nOh my deere Hamlet, the drinke, the drinke,\\nI am poyson'd\\n\\n   Ham. Oh Villany! How? Let the doore be lock'd.\\nTreacherie, seeke it out\\n\\n   Laer. It is heere Hamlet.\\nHamlet, thou art slaine,\\nNo Medicine in the world can do thee good.\\nIn thee, there is not halfe an houre of life;\\nThe Treacherous Instrument is in thy hand,\\nVnbated and envenom'd: the foule practise\\nHath turn'd it selfe on me. Loe, heere I lye,\\nNeuer to rise againe: Thy Mothers poyson'd:\\nI can no more, the King, the King's too blame\\n\\n   Ham. The point envenom'd too,\\nThen venome to thy worke.\\n\\nHurts the King.\\n\\n  All. Treason, Treason\\n\\n   King. O yet defend me Friends, I am but hurt\\n\\n   Ham. Heere thou incestuous, murdrous,\\nDamned Dane,\\nDrinke off this Potion: Is thy Vnion heere?\\nFollow my Mother.\\n\\nKing Dyes.\\n\\n  Laer. He is iustly seru'd.\\nIt is a poyson temp'red by himselfe:\\nExchange forgiuenesse with me, Noble Hamlet;\\nMine and my Fathers death come not vpon thee,\\nNor thine on me.\\n\\nDyes.\\n\\n  Ham. Heauen make thee free of it, I follow thee.\\nI am dead Horatio, wretched Queene adiew,\\nYou that looke pale, and tremble at this chance,\\nThat are but Mutes or audience to this acte:\\nHad I but time (as this fell Sergeant death\\nIs strick'd in his Arrest) oh I could tell you.\\nBut let it be: Horatio, I am dead,\\nThou liu'st, report me and my causes right\\nTo the vnsatisfied\\n\\n   Hor. Neuer beleeue it.\\nI am more an Antike Roman then a Dane:\\nHeere's yet some Liquor left\\n\\n   Ham. As th'art a man, giue me the Cup.\\nLet go, by Heauen Ile haue't.\\nOh good Horatio, what a wounded name,\\n(Things standing thus vnknowne) shall liue behind me.\\nIf thou did'st euer hold me in thy heart,\\nAbsent thee from felicitie awhile,\\nAnd in this harsh world draw thy breath in paine,\\nTo tell my Storie.\\n\\nMarch afarre off, and shout within.\\n\\nWhat warlike noyse is this?\\nEnter Osricke.\\n\\n  Osr. Yong Fortinbras, with conquest come fro[m] Poland\\nTo th' Ambassadors of England giues this warlike volly\\n\\n   Ham. O I dye Horatio:\\nThe potent poyson quite ore-crowes my spirit,\\nI cannot liue to heare the Newes from England,\\nBut I do prophesie th' election lights\\nOn Fortinbras, he ha's my dying voyce,\\nSo tell him with the occurrents more and lesse,\\nWhich haue solicited. The rest is silence. O, o, o, o.\\n\\nDyes\\n\\n  Hora. Now cracke a Noble heart:\\nGoodnight sweet Prince,\\nAnd flights of Angels sing thee to thy rest,\\nWhy do's the Drumme come hither?\\nEnter Fortinbras and English Ambassador, with Drumme, Colours,\\nand\\nAttendants.\\n\\n  Fortin. Where is this sight?\\n  Hor. What is it ye would see;\\nIf ought of woe, or wonder, cease your search\\n\\n   For. His quarry cries on hauocke. Oh proud death,\\nWhat feast is toward in thine eternall Cell.\\nThat thou so many Princes, at a shoote,\\nSo bloodily hast strooke\\n\\n   Amb. The sight is dismall,\\nAnd our affaires from England come too late,\\nThe eares are senselesse that should giue vs hearing,\\nTo tell him his command'ment is fulfill'd,\\nThat Rosincrance and Guildensterne are dead:\\nWhere should we haue our thankes?\\n  Hor. Not from his mouth,\\nHad it th' abilitie of life to thanke you:\\nHe neuer gaue command'ment for their death.\\nBut since so iumpe vpon this bloodie question,\\nYou from the Polake warres, and you from England\\nAre heere arriued. Giue order that these bodies\\nHigh on a stage be placed to the view,\\nAnd let me speake to th' yet vnknowing world,\\nHow these things came about. So shall you heare\\nOf carnall, bloudie, and vnnaturall acts,\\nOf accidentall iudgements, casuall slaughters\\nOf death's put on by cunning, and forc'd cause,\\nAnd in this vpshot, purposes mistooke,\\nFalne on the Inuentors head. All this can I\\nTruly deliuer\\n\\n   For. Let vs hast to heare it,\\nAnd call the Noblest to the Audience.\\nFor me, with sorrow, I embrace my Fortune,\\nI haue some Rites of memory in this Kingdome,\\nWhich are to claime, my vantage doth\\nInuite me,\\n  Hor. Of that I shall haue alwayes cause to speake,\\nAnd from his mouth\\nWhose voyce will draw on more:\\nBut let this same be presently perform'd,\\nEuen whiles mens mindes are wilde,\\nLest more mischance\\nOn plots, and errors happen\\n\\n   For. Let foure Captaines\\nBeare Hamlet like a Soldier to the Stage,\\nFor he was likely, had he beene put on\\nTo haue prou'd most royally:\\nAnd for his passage,\\nThe Souldiours Musicke, and the rites of Warre\\nSpeake lowdly for him.\\nTake vp the body; Such a sight as this\\nBecomes the Field, but heere shewes much amis.\\nGo, bid the Souldiers shoote.\\n\\nExeunt. Marching: after the which, a Peale of Ordenance are shot\\noff.\\n\\n\\nFINIS. The tragedie of HAMLET, Prince of Denmarke.\\n\""
      ]
     },
     "execution_count": 3,
     "metadata": {},
     "output_type": "execute_result"
    }
   ],
   "source": [
    "sample"
   ]
  },
  {
   "cell_type": "code",
   "execution_count": 4,
   "metadata": {},
   "outputs": [],
   "source": [
    "# #words[:50]\n",
    "# #len(words)\n",
    "# sentences[:10]\n",
    "# sentences[15]"
   ]
  },
  {
   "cell_type": "code",
   "execution_count": 5,
   "metadata": {},
   "outputs": [
    {
     "data": {
      "text/plain": [
       "['[The Tragedie of Hamlet by William Shakespeare 1599]\\n\\n\\nActus Primus.',\n",
       " 'Scoena Prima.',\n",
       " 'Enter Barnardo and Francisco two Centinels.',\n",
       " 'Barnardo.',\n",
       " \"Who's there?\"]"
      ]
     },
     "execution_count": 5,
     "metadata": {},
     "output_type": "execute_result"
    }
   ],
   "source": [
    "from nltk.tokenize import sent_tokenize\n",
    "tokenize = sent_tokenize (sample)\n",
    "tokenize[:5]"
   ]
  },
  {
   "cell_type": "code",
   "execution_count": 6,
   "metadata": {},
   "outputs": [],
   "source": [
    "#Lets now check the number of paragraphs\n",
    "\n",
    "#len(gutenberg.paras('shakespeare-hamlet.txt'))\n",
    "\n",
    "# for para in range(10):\n",
    "#     print(tokenize[para])"
   ]
  },
  {
   "cell_type": "markdown",
   "metadata": {},
   "source": [
    "In next warmup exercise, we will use Lambda expression for processing text which is very powerful and easy way to do a lot of stuffs in one go. Here we do it in detail"
   ]
  },
  {
   "cell_type": "code",
   "execution_count": 7,
   "metadata": {},
   "outputs": [
    {
     "data": {
      "text/plain": [
       "'[The'"
      ]
     },
     "execution_count": 7,
     "metadata": {},
     "output_type": "execute_result"
    }
   ],
   "source": [
    "sample.split(' ')[0]"
   ]
  },
  {
   "cell_type": "code",
   "execution_count": 8,
   "metadata": {},
   "outputs": [
    {
     "data": {
      "text/plain": [
       "['the',\n",
       " 'tragedie',\n",
       " 'of',\n",
       " 'hamlet',\n",
       " 'by',\n",
       " 'william',\n",
       " 'shakespeare',\n",
       " '1599actus',\n",
       " 'primus',\n",
       " 'scoena',\n",
       " 'primaenter',\n",
       " 'barnardo',\n",
       " 'and',\n",
       " 'francisco',\n",
       " 'two',\n",
       " 'centinels',\n",
       " 'barnardo',\n",
       " 'whos',\n",
       " 'there',\n",
       " 'fran',\n",
       " 'nay',\n",
       " 'answer',\n",
       " 'me',\n",
       " 'stand',\n",
       " 'vnfoldyour',\n",
       " 'selfe',\n",
       " 'bar',\n",
       " 'long',\n",
       " 'liue',\n",
       " 'the',\n",
       " 'king',\n",
       " 'fran',\n",
       " 'barnardo',\n",
       " 'bar',\n",
       " 'he',\n",
       " 'fran',\n",
       " 'you',\n",
       " 'come',\n",
       " 'most',\n",
       " 'carefully',\n",
       " 'vpon',\n",
       " 'your',\n",
       " 'houre',\n",
       " 'bar',\n",
       " 'tis',\n",
       " 'now',\n",
       " 'strook',\n",
       " 'twelue',\n",
       " 'get',\n",
       " 'thee',\n",
       " 'to',\n",
       " 'bed',\n",
       " 'francisco',\n",
       " 'fran',\n",
       " 'for',\n",
       " 'this',\n",
       " 'releefe',\n",
       " 'much',\n",
       " 'thankes',\n",
       " 'tis',\n",
       " 'bitter',\n",
       " 'coldand',\n",
       " 'i',\n",
       " 'am',\n",
       " 'sicke',\n",
       " 'at',\n",
       " 'heart',\n",
       " 'barn',\n",
       " 'haue',\n",
       " 'you',\n",
       " 'had',\n",
       " 'quiet',\n",
       " 'guard',\n",
       " 'fran',\n",
       " 'not',\n",
       " 'a',\n",
       " 'mouse',\n",
       " 'stirring',\n",
       " 'barn',\n",
       " 'well',\n",
       " 'goodnight',\n",
       " 'if',\n",
       " 'you',\n",
       " 'do',\n",
       " 'meet',\n",
       " 'horatio',\n",
       " 'andmarcellus',\n",
       " 'the',\n",
       " 'riuals',\n",
       " 'of',\n",
       " 'my',\n",
       " 'watch',\n",
       " 'bid',\n",
       " 'them',\n",
       " 'make',\n",
       " 'hastenter',\n",
       " 'horatio',\n",
       " 'and',\n",
       " 'marcellus',\n",
       " 'fran',\n",
       " 'i',\n",
       " 'thinke',\n",
       " 'i',\n",
       " 'heare',\n",
       " 'them',\n",
       " 'stand',\n",
       " 'whos',\n",
       " 'there',\n",
       " 'hor',\n",
       " 'friends',\n",
       " 'to',\n",
       " 'this',\n",
       " 'ground',\n",
       " 'mar',\n",
       " 'and',\n",
       " 'leigemen',\n",
       " 'to',\n",
       " 'the',\n",
       " 'dane',\n",
       " 'fran',\n",
       " 'giue',\n",
       " 'you',\n",
       " 'good',\n",
       " 'night',\n",
       " 'mar',\n",
       " 'o',\n",
       " 'farwel',\n",
       " 'honest',\n",
       " 'soldier',\n",
       " 'who',\n",
       " 'hath',\n",
       " 'relieud',\n",
       " 'you',\n",
       " 'fra',\n",
       " 'barnardo',\n",
       " 'has',\n",
       " 'my',\n",
       " 'place',\n",
       " 'giue',\n",
       " 'you',\n",
       " 'goodnightexit',\n",
       " 'fran',\n",
       " 'mar',\n",
       " 'holla',\n",
       " 'barnardo',\n",
       " 'bar',\n",
       " 'say',\n",
       " 'what',\n",
       " 'is',\n",
       " 'horatio',\n",
       " 'there',\n",
       " 'hor',\n",
       " 'a',\n",
       " 'peece',\n",
       " 'of',\n",
       " 'him',\n",
       " 'bar',\n",
       " 'welcome',\n",
       " 'horatio',\n",
       " 'welcome',\n",
       " 'good',\n",
       " 'marcellus',\n",
       " 'mar',\n",
       " 'what',\n",
       " 'has',\n",
       " 'this',\n",
       " 'thing',\n",
       " 'appeard',\n",
       " 'againe',\n",
       " 'to',\n",
       " 'night',\n",
       " 'bar',\n",
       " 'i',\n",
       " 'haue',\n",
       " 'seene',\n",
       " 'nothing',\n",
       " 'mar',\n",
       " 'horatio',\n",
       " 'saies',\n",
       " 'tis',\n",
       " 'but',\n",
       " 'our',\n",
       " 'fantasieand',\n",
       " 'will',\n",
       " 'not',\n",
       " 'let',\n",
       " 'beleefe',\n",
       " 'take',\n",
       " 'hold',\n",
       " 'of',\n",
       " 'himtouching',\n",
       " 'this',\n",
       " 'dreaded',\n",
       " 'sight',\n",
       " 'twice',\n",
       " 'seene',\n",
       " 'of',\n",
       " 'vstherefore',\n",
       " 'i',\n",
       " 'haue',\n",
       " 'intreated',\n",
       " 'him',\n",
       " 'alongwith',\n",
       " 'vs',\n",
       " 'to',\n",
       " 'watch',\n",
       " 'the',\n",
       " 'minutes',\n",
       " 'of',\n",
       " 'this',\n",
       " 'nightthat',\n",
       " 'if',\n",
       " 'againe',\n",
       " 'this',\n",
       " 'apparition',\n",
       " 'comehe',\n",
       " 'may',\n",
       " 'approue',\n",
       " 'our',\n",
       " 'eyes',\n",
       " 'and',\n",
       " 'speake',\n",
       " 'to',\n",
       " 'it',\n",
       " 'hor',\n",
       " 'tush',\n",
       " 'tush',\n",
       " 'twill',\n",
       " 'not',\n",
       " 'appeare',\n",
       " 'bar',\n",
       " 'sit',\n",
       " 'downe',\n",
       " 'awhileand',\n",
       " 'let',\n",
       " 'vs',\n",
       " 'once',\n",
       " 'againe',\n",
       " 'assaile',\n",
       " 'your',\n",
       " 'earesthat',\n",
       " 'are',\n",
       " 'so',\n",
       " 'fortified',\n",
       " 'against',\n",
       " 'our',\n",
       " 'storywhat',\n",
       " 'we',\n",
       " 'two',\n",
       " 'nights',\n",
       " 'haue',\n",
       " 'seene',\n",
       " 'hor',\n",
       " 'well',\n",
       " 'sit',\n",
       " 'we',\n",
       " 'downeand',\n",
       " 'let',\n",
       " 'vs',\n",
       " 'heare',\n",
       " 'barnardo',\n",
       " 'speake',\n",
       " 'of',\n",
       " 'this',\n",
       " 'barn',\n",
       " 'last',\n",
       " 'night',\n",
       " 'of',\n",
       " 'allwhen',\n",
       " 'yond',\n",
       " 'same',\n",
       " 'starre',\n",
       " 'thats',\n",
       " 'westward',\n",
       " 'from',\n",
       " 'the',\n",
       " 'polehad',\n",
       " 'made',\n",
       " 'his',\n",
       " 'course',\n",
       " 't',\n",
       " 'illume',\n",
       " 'that',\n",
       " 'part',\n",
       " 'of',\n",
       " 'heauenwhere',\n",
       " 'now',\n",
       " 'it',\n",
       " 'burnes',\n",
       " 'marcellus',\n",
       " 'and',\n",
       " 'my',\n",
       " 'selfethe',\n",
       " 'bell',\n",
       " 'then',\n",
       " 'beating',\n",
       " 'one',\n",
       " 'mar',\n",
       " 'peace',\n",
       " 'breake',\n",
       " 'thee',\n",
       " 'ofenter',\n",
       " 'the',\n",
       " 'ghostlooke',\n",
       " 'where',\n",
       " 'it',\n",
       " 'comes',\n",
       " 'againe',\n",
       " 'barn',\n",
       " 'in',\n",
       " 'the',\n",
       " 'same',\n",
       " 'figure',\n",
       " 'like',\n",
       " 'the',\n",
       " 'king',\n",
       " 'thats',\n",
       " 'dead',\n",
       " 'mar',\n",
       " 'thou',\n",
       " 'art',\n",
       " 'a',\n",
       " 'scholler',\n",
       " 'speake',\n",
       " 'to',\n",
       " 'it',\n",
       " 'horatio',\n",
       " 'barn',\n",
       " 'lookes',\n",
       " 'it',\n",
       " 'not',\n",
       " 'like',\n",
       " 'the',\n",
       " 'king',\n",
       " 'marke',\n",
       " 'it',\n",
       " 'horatio',\n",
       " 'hora',\n",
       " 'most',\n",
       " 'like',\n",
       " 'it',\n",
       " 'harrowes',\n",
       " 'me',\n",
       " 'with',\n",
       " 'fear',\n",
       " 'wonder',\n",
       " 'barn',\n",
       " 'it',\n",
       " 'would',\n",
       " 'be',\n",
       " 'spoke',\n",
       " 'too',\n",
       " 'mar',\n",
       " 'question',\n",
       " 'it',\n",
       " 'horatio',\n",
       " 'hor',\n",
       " 'what',\n",
       " 'art',\n",
       " 'thou',\n",
       " 'that',\n",
       " 'vsurpst',\n",
       " 'this',\n",
       " 'time',\n",
       " 'of',\n",
       " 'nighttogether',\n",
       " 'with',\n",
       " 'that',\n",
       " 'faire',\n",
       " 'and',\n",
       " 'warlike',\n",
       " 'formein',\n",
       " 'which',\n",
       " 'the',\n",
       " 'maiesty',\n",
       " 'of',\n",
       " 'buried',\n",
       " 'denmarkedid',\n",
       " 'sometimes',\n",
       " 'march',\n",
       " 'by',\n",
       " 'heauen',\n",
       " 'i',\n",
       " 'charge',\n",
       " 'thee',\n",
       " 'speake',\n",
       " 'mar',\n",
       " 'it',\n",
       " 'is',\n",
       " 'offended',\n",
       " 'barn',\n",
       " 'see',\n",
       " 'it',\n",
       " 'stalkes',\n",
       " 'away',\n",
       " 'hor',\n",
       " 'stay',\n",
       " 'speake',\n",
       " 'speake',\n",
       " 'i',\n",
       " 'charge',\n",
       " 'thee',\n",
       " 'speakeexit',\n",
       " 'the',\n",
       " 'ghost',\n",
       " 'mar',\n",
       " 'tis',\n",
       " 'gone',\n",
       " 'and',\n",
       " 'will',\n",
       " 'not',\n",
       " 'answer',\n",
       " 'barn',\n",
       " 'how',\n",
       " 'now',\n",
       " 'horatio',\n",
       " 'you',\n",
       " 'tremble',\n",
       " 'look',\n",
       " 'paleis',\n",
       " 'not',\n",
       " 'this',\n",
       " 'something',\n",
       " 'more',\n",
       " 'then',\n",
       " 'fantasiewhat',\n",
       " 'thinke',\n",
       " 'you',\n",
       " 'ont',\n",
       " 'hor',\n",
       " 'before',\n",
       " 'my',\n",
       " 'god',\n",
       " 'i',\n",
       " 'might',\n",
       " 'not',\n",
       " 'this',\n",
       " 'beleeuewithout',\n",
       " 'the',\n",
       " 'sensible',\n",
       " 'and',\n",
       " 'true',\n",
       " 'auouchof',\n",
       " 'mine',\n",
       " 'owne',\n",
       " 'eyes',\n",
       " 'mar',\n",
       " 'is',\n",
       " 'it',\n",
       " 'not',\n",
       " 'like',\n",
       " 'the',\n",
       " 'king',\n",
       " 'hor',\n",
       " 'as',\n",
       " 'thou',\n",
       " 'art',\n",
       " 'to',\n",
       " 'thy',\n",
       " 'selfesuch',\n",
       " 'was',\n",
       " 'the',\n",
       " 'very',\n",
       " 'armour',\n",
       " 'he',\n",
       " 'had',\n",
       " 'onwhen',\n",
       " 'th',\n",
       " 'ambitious',\n",
       " 'norwey',\n",
       " 'combattedso',\n",
       " 'frownd',\n",
       " 'he',\n",
       " 'once',\n",
       " 'when',\n",
       " 'in',\n",
       " 'an',\n",
       " 'angry',\n",
       " 'parlehe',\n",
       " 'smot',\n",
       " 'the',\n",
       " 'sledded',\n",
       " 'pollax',\n",
       " 'on',\n",
       " 'the',\n",
       " 'icetis',\n",
       " 'strange',\n",
       " 'mar',\n",
       " 'thus',\n",
       " 'twice',\n",
       " 'before',\n",
       " 'and',\n",
       " 'iust',\n",
       " 'at',\n",
       " 'this',\n",
       " 'dead',\n",
       " 'hourewith',\n",
       " 'martiall',\n",
       " 'stalke',\n",
       " 'hath',\n",
       " 'he',\n",
       " 'gone',\n",
       " 'by',\n",
       " 'our',\n",
       " 'watch',\n",
       " 'hor',\n",
       " 'in',\n",
       " 'what',\n",
       " 'particular',\n",
       " 'thought',\n",
       " 'to',\n",
       " 'work',\n",
       " 'i',\n",
       " 'know',\n",
       " 'notbut',\n",
       " 'in',\n",
       " 'the',\n",
       " 'grosse',\n",
       " 'and',\n",
       " 'scope',\n",
       " 'of',\n",
       " 'my',\n",
       " 'opinionthis',\n",
       " 'boades',\n",
       " 'some',\n",
       " 'strange',\n",
       " 'erruption',\n",
       " 'to',\n",
       " 'our',\n",
       " 'state',\n",
       " 'mar',\n",
       " 'good',\n",
       " 'now',\n",
       " 'sit',\n",
       " 'downe',\n",
       " 'tell',\n",
       " 'me',\n",
       " 'he',\n",
       " 'that',\n",
       " 'knoweswhy',\n",
       " 'this',\n",
       " 'same',\n",
       " 'strict',\n",
       " 'and',\n",
       " 'most',\n",
       " 'obseruant',\n",
       " 'watchso',\n",
       " 'nightly',\n",
       " 'toyles',\n",
       " 'the',\n",
       " 'subiect',\n",
       " 'of',\n",
       " 'the',\n",
       " 'landand',\n",
       " 'why',\n",
       " 'such',\n",
       " 'dayly',\n",
       " 'cast',\n",
       " 'of',\n",
       " 'brazon',\n",
       " 'cannonand',\n",
       " 'forraigne',\n",
       " 'mart',\n",
       " 'for',\n",
       " 'implements',\n",
       " 'of',\n",
       " 'warrewhy',\n",
       " 'such',\n",
       " 'impresse',\n",
       " 'of',\n",
       " 'shipwrights',\n",
       " 'whose',\n",
       " 'sore',\n",
       " 'taskedos',\n",
       " 'not',\n",
       " 'diuide',\n",
       " 'the',\n",
       " 'sunday',\n",
       " 'from',\n",
       " 'the',\n",
       " 'weekewhat',\n",
       " 'might',\n",
       " 'be',\n",
       " 'toward',\n",
       " 'that',\n",
       " 'this',\n",
       " 'sweaty',\n",
       " 'hastdoth',\n",
       " 'make',\n",
       " 'the',\n",
       " 'night',\n",
       " 'ioyntlabourer',\n",
       " 'with',\n",
       " 'the',\n",
       " 'daywho',\n",
       " 'ist',\n",
       " 'that',\n",
       " 'can',\n",
       " 'informe',\n",
       " 'me',\n",
       " 'hor',\n",
       " 'that',\n",
       " 'can',\n",
       " 'iat',\n",
       " 'least',\n",
       " 'the',\n",
       " 'whisper',\n",
       " 'goes',\n",
       " 'so',\n",
       " 'our',\n",
       " 'last',\n",
       " 'kingwhose',\n",
       " 'image',\n",
       " 'euen',\n",
       " 'but',\n",
       " 'now',\n",
       " 'appeard',\n",
       " 'to',\n",
       " 'vswas',\n",
       " 'as',\n",
       " 'you',\n",
       " 'know',\n",
       " 'by',\n",
       " 'fortinbras',\n",
       " 'of',\n",
       " 'norwaythereto',\n",
       " 'prickd',\n",
       " 'on',\n",
       " 'by',\n",
       " 'a',\n",
       " 'most',\n",
       " 'emulate',\n",
       " 'pridedard',\n",
       " 'to',\n",
       " 'the',\n",
       " 'combate',\n",
       " 'in',\n",
       " 'which',\n",
       " 'our',\n",
       " 'valiant',\n",
       " 'hamletfor',\n",
       " 'so',\n",
       " 'this',\n",
       " 'side',\n",
       " 'of',\n",
       " 'our',\n",
       " 'knowne',\n",
       " 'world',\n",
       " 'esteemd',\n",
       " 'himdid',\n",
       " 'slay',\n",
       " 'this',\n",
       " 'fortinbras',\n",
       " 'who',\n",
       " 'by',\n",
       " 'a',\n",
       " 'seald',\n",
       " 'compactwell',\n",
       " 'ratified',\n",
       " 'by',\n",
       " 'law',\n",
       " 'and',\n",
       " 'heraldriedid',\n",
       " 'forfeite',\n",
       " 'with',\n",
       " 'his',\n",
       " 'life',\n",
       " 'all',\n",
       " 'those',\n",
       " 'his',\n",
       " 'landswhich',\n",
       " 'he',\n",
       " 'stood',\n",
       " 'seizd',\n",
       " 'on',\n",
       " 'to',\n",
       " 'the',\n",
       " 'conqueroragainst',\n",
       " 'the',\n",
       " 'which',\n",
       " 'a',\n",
       " 'moity',\n",
       " 'competentwas',\n",
       " 'gaged',\n",
       " 'by',\n",
       " 'our',\n",
       " 'king',\n",
       " 'which',\n",
       " 'had',\n",
       " 'returndto',\n",
       " 'the',\n",
       " 'inheritance',\n",
       " 'of',\n",
       " 'fortinbrashad',\n",
       " 'he',\n",
       " 'bin',\n",
       " 'vanquisher',\n",
       " 'as',\n",
       " 'by',\n",
       " 'the',\n",
       " 'same',\n",
       " 'counantand',\n",
       " 'carriage',\n",
       " 'of',\n",
       " 'the',\n",
       " 'article',\n",
       " 'designehis',\n",
       " 'fell',\n",
       " 'to',\n",
       " 'hamlet',\n",
       " 'now',\n",
       " 'sir',\n",
       " 'young',\n",
       " 'fortinbrasof',\n",
       " 'vnimproued',\n",
       " 'mettle',\n",
       " 'hot',\n",
       " 'and',\n",
       " 'fullhath',\n",
       " 'in',\n",
       " 'the',\n",
       " 'skirts',\n",
       " 'of',\n",
       " 'norway',\n",
       " 'heere',\n",
       " 'and',\n",
       " 'theresharkd',\n",
       " 'vp',\n",
       " 'a',\n",
       " 'list',\n",
       " 'of',\n",
       " 'landlesse',\n",
       " 'resolutesfor',\n",
       " 'foode',\n",
       " 'and',\n",
       " 'diet',\n",
       " 'to',\n",
       " 'some',\n",
       " 'enterprizethat',\n",
       " 'hath',\n",
       " 'a',\n",
       " 'stomacke',\n",
       " 'int',\n",
       " 'which',\n",
       " 'is',\n",
       " 'no',\n",
       " 'otherand',\n",
       " 'it',\n",
       " 'doth',\n",
       " 'well',\n",
       " 'appeare',\n",
       " 'vnto',\n",
       " 'our',\n",
       " 'statebut',\n",
       " 'to',\n",
       " 'recouer',\n",
       " 'of',\n",
       " 'vs',\n",
       " 'by',\n",
       " 'strong',\n",
       " 'handand',\n",
       " 'termes',\n",
       " 'compulsatiue',\n",
       " 'those',\n",
       " 'foresaid',\n",
       " 'landsso',\n",
       " 'by',\n",
       " 'his',\n",
       " 'father',\n",
       " 'lost',\n",
       " 'and',\n",
       " 'this',\n",
       " 'i',\n",
       " 'take',\n",
       " 'itis',\n",
       " 'the',\n",
       " 'maine',\n",
       " 'motiue',\n",
       " 'of',\n",
       " 'our',\n",
       " 'preparationsthe',\n",
       " 'sourse',\n",
       " 'of',\n",
       " 'this',\n",
       " 'our',\n",
       " 'watch',\n",
       " 'and',\n",
       " 'the',\n",
       " 'cheefe',\n",
       " 'headof',\n",
       " 'this',\n",
       " 'posthast',\n",
       " 'and',\n",
       " 'romage',\n",
       " 'in',\n",
       " 'the',\n",
       " 'landenter',\n",
       " 'ghost',\n",
       " 'againebut',\n",
       " 'soft',\n",
       " 'behold',\n",
       " 'loe',\n",
       " 'where',\n",
       " 'it',\n",
       " 'comes',\n",
       " 'againeile',\n",
       " 'crosse',\n",
       " 'it',\n",
       " 'though',\n",
       " 'it',\n",
       " 'blast',\n",
       " 'me',\n",
       " 'stay',\n",
       " 'illusionif',\n",
       " 'thou',\n",
       " 'hast',\n",
       " 'any',\n",
       " 'sound',\n",
       " 'or',\n",
       " 'vse',\n",
       " 'of',\n",
       " 'voycespeake',\n",
       " 'to',\n",
       " 'me',\n",
       " 'if',\n",
       " 'there',\n",
       " 'be',\n",
       " 'any',\n",
       " 'good',\n",
       " 'thing',\n",
       " 'to',\n",
       " 'be',\n",
       " 'donethat',\n",
       " 'may',\n",
       " 'to',\n",
       " 'thee',\n",
       " 'do',\n",
       " 'ease',\n",
       " 'and',\n",
       " 'grace',\n",
       " 'to',\n",
       " 'me',\n",
       " 'speak',\n",
       " 'to',\n",
       " 'meif',\n",
       " 'thou',\n",
       " 'art',\n",
       " 'priuy',\n",
       " 'to',\n",
       " 'thy',\n",
       " 'countries',\n",
       " 'fatewhich',\n",
       " 'happily',\n",
       " 'foreknowing',\n",
       " 'may',\n",
       " 'auoyd',\n",
       " 'oh',\n",
       " 'speakeor',\n",
       " 'if',\n",
       " 'thou',\n",
       " 'hast',\n",
       " 'vphoorded',\n",
       " 'in',\n",
       " 'thy',\n",
       " 'lifeextorted',\n",
       " 'treasure',\n",
       " 'in',\n",
       " 'the',\n",
       " 'wombe',\n",
       " 'of',\n",
       " 'earthfor',\n",
       " 'which',\n",
       " 'they',\n",
       " 'say',\n",
       " 'you',\n",
       " 'spirits',\n",
       " 'oft',\n",
       " 'walke',\n",
       " 'in',\n",
       " 'deathspeake',\n",
       " 'of',\n",
       " 'it',\n",
       " 'stay',\n",
       " 'and',\n",
       " 'speake',\n",
       " 'stop',\n",
       " 'it',\n",
       " 'marcellus',\n",
       " 'mar',\n",
       " 'shall',\n",
       " 'i',\n",
       " 'strike',\n",
       " 'at',\n",
       " 'it',\n",
       " 'with',\n",
       " 'my',\n",
       " 'partizan',\n",
       " 'hor',\n",
       " 'do',\n",
       " 'if',\n",
       " 'it',\n",
       " 'will',\n",
       " 'not',\n",
       " 'stand',\n",
       " 'barn',\n",
       " 'tis',\n",
       " 'heere',\n",
       " 'hor',\n",
       " 'tis',\n",
       " 'heere',\n",
       " 'mar',\n",
       " 'tis',\n",
       " 'goneexit',\n",
       " 'ghostwe',\n",
       " 'do',\n",
       " 'it',\n",
       " 'wrong',\n",
       " 'being',\n",
       " 'so',\n",
       " 'maiesticallto',\n",
       " 'offer',\n",
       " 'it',\n",
       " 'the',\n",
       " 'shew',\n",
       " 'of',\n",
       " 'violencefor',\n",
       " 'it',\n",
       " 'is',\n",
       " 'as',\n",
       " 'the',\n",
       " 'ayre',\n",
       " 'invulnerableand',\n",
       " 'our',\n",
       " 'vaine',\n",
       " 'blowes',\n",
       " 'malicious',\n",
       " 'mockery',\n",
       " 'barn',\n",
       " 'it',\n",
       " 'was',\n",
       " 'about',\n",
       " 'to',\n",
       " 'speake',\n",
       " 'when',\n",
       " 'the',\n",
       " 'cocke',\n",
       " 'crew',\n",
       " 'hor',\n",
       " 'and',\n",
       " 'then',\n",
       " 'it',\n",
       " 'started',\n",
       " 'like',\n",
       " 'a',\n",
       " 'guilty',\n",
       " 'thingvpon',\n",
       " 'a',\n",
       " 'fearfull',\n",
       " 'summons',\n",
       " 'i',\n",
       " 'haue',\n",
       " 'heardthe',\n",
       " 'cocke',\n",
       " 'that',\n",
       " 'is',\n",
       " 'the',\n",
       " 'trumpet',\n",
       " 'to',\n",
       " 'the',\n",
       " 'daydoth',\n",
       " 'with',\n",
       " 'his',\n",
       " 'lofty',\n",
       " 'and',\n",
       " 'shrillsounding',\n",
       " 'throateawake',\n",
       " 'the',\n",
       " 'god',\n",
       " 'of',\n",
       " 'day',\n",
       " 'and',\n",
       " 'at',\n",
       " 'his',\n",
       " 'warningwhether',\n",
       " 'in',\n",
       " 'sea',\n",
       " 'or',\n",
       " 'fire',\n",
       " 'in',\n",
       " 'earth',\n",
       " 'or',\n",
       " 'ayreth',\n",
       " 'extrauagant',\n",
       " 'and',\n",
       " 'erring',\n",
       " 'spirit',\n",
       " 'hyesto',\n",
       " 'his',\n",
       " 'confine',\n",
       " 'and',\n",
       " ...]"
      ]
     },
     "execution_count": 8,
     "metadata": {},
     "output_type": "execute_result"
    }
   ],
   "source": [
    "#Clean the text. Tokenize it. Remove unnecessary ....\n",
    "import re\n",
    "sample_split = []\n",
    "for st in sample.strip().lower().split(' '):  ##?? why so much in one line ? What's going on ?\n",
    "    st = re.sub(r\"[^a-zA-Z0-9]+\", '', st)  #What will this regex do ? Feel free to do extra cleaning and play with regex\n",
    "        \n",
    "    sample_split.append(st)\n",
    "    #print(st)\n",
    "sample_split\n",
    "\n",
    "while '' in sample_split:   #The extra '\\n' will be '' so we need to remove it now\n",
    "    sample_split.remove('')\n",
    "    \n",
    "sample_split"
   ]
  },
  {
   "cell_type": "raw",
   "metadata": {},
   "source": [
    "Tokenization can be done this way also. (Wait! There's a reason I am doing this. I will need it somewhere)"
   ]
  },
  {
   "cell_type": "code",
   "execution_count": 9,
   "metadata": {},
   "outputs": [
    {
     "data": {
      "text/plain": [
       "nltk.text.Text"
      ]
     },
     "execution_count": 9,
     "metadata": {},
     "output_type": "execute_result"
    }
   ],
   "source": [
    "from nltk.tokenize import word_tokenize\n",
    "tokens = nltk.word_tokenize(sample)   # tokenize it\n",
    "mytext = nltk.Text(tokens)         # turn text into a NLTK Text object\n",
    "#mytext[:5]\n",
    "type(mytext)"
   ]
  },
  {
   "cell_type": "code",
   "execution_count": 10,
   "metadata": {},
   "outputs": [],
   "source": [
    "# for word in range(10):\n",
    "#     print(mytext[word])"
   ]
  },
  {
   "cell_type": "code",
   "execution_count": 11,
   "metadata": {},
   "outputs": [],
   "source": [
    "#Remove stopwords now\n",
    "new_sample = []\n",
    "import nltk\n",
    "from nltk.corpus import stopwords\n",
    "\n",
    "stop_words = stopwords.words('english')\n",
    "\n",
    "for word in sample_split:\n",
    "    if word not in stop_words:\n",
    "        new_sample.append(word)\n",
    "\n",
    "#new_sample\n"
   ]
  },
  {
   "cell_type": "code",
   "execution_count": 12,
   "metadata": {},
   "outputs": [],
   "source": [
    "#Now let's do Lemmatization\n",
    "new_sample1 = []\n",
    "from nltk.stem import WordNetLemmatizer\n",
    "wnl = WordNetLemmatizer()\n",
    "\n",
    "for word in new_sample:\n",
    "    new_sample1.append(wnl.lemmatize(word))\n",
    "    \n",
    "#new_sample1"
   ]
  },
  {
   "cell_type": "markdown",
   "metadata": {},
   "source": [
    "Let's see the count of words and see the ones that occur more frequently. For that we use FreqDist"
   ]
  },
  {
   "cell_type": "code",
   "execution_count": 13,
   "metadata": {},
   "outputs": [
    {
     "name": "stdout",
     "output_type": "stream",
     "text": [
      "<FreqDist with 6460 samples and 15280 outcomes>\n"
     ]
    },
    {
     "data": {
      "text/plain": [
       "[('ham', 337),\n",
       " ('lord', 188),\n",
       " ('king', 160),\n",
       " ('haue', 159),\n",
       " ('shall', 99),\n",
       " ('come', 98),\n",
       " ('hor', 95),\n",
       " ('thou', 90),\n",
       " ('good', 89),\n",
       " ('let', 85),\n",
       " ('thy', 85),\n",
       " ('hamlet', 83),\n",
       " ('like', 70),\n",
       " ('qu', 62),\n",
       " ('know', 61),\n",
       " ('father', 61),\n",
       " ('laer', 60),\n",
       " ('ti', 59),\n",
       " ('oh', 58),\n",
       " ('well', 57)]"
      ]
     },
     "execution_count": 13,
     "metadata": {},
     "output_type": "execute_result"
    }
   ],
   "source": [
    "from nltk.probability import FreqDist\n",
    "\n",
    "freq_dist = FreqDist(new_sample1)\n",
    "print(freq_dist)\n",
    "\n",
    "freq_dist.most_common(20)  # Understanding Shakespeare's Vocabulary set ;)"
   ]
  },
  {
   "cell_type": "code",
   "execution_count": 14,
   "metadata": {},
   "outputs": [
    {
     "data": {
      "image/png": "[encoded data removed]",
      "text/plain": [
       "<Figure size 432x288 with 1 Axes>"
      ]
     },
     "metadata": {
      "needs_background": "light"
     },
     "output_type": "display_data"
    }
   ],
   "source": [
    "%matplotlib inline\n",
    "\n",
    "# Frequency Distribution Plot\n",
    "import matplotlib.pyplot as plt\n",
    "freq_dist.plot(20,cumulative=False)\n",
    "plt.show()\n"
   ]
  },
  {
   "cell_type": "raw",
   "metadata": {},
   "source": [
    "Now lets try dispersion plot (For this we will need special object of NLTK nltk.text.Text, which we have already done)"
   ]
  },
  {
   "cell_type": "code",
   "execution_count": 15,
   "metadata": {},
   "outputs": [
    {
     "data": {
      "image/png": "[encoded data removed]",
      "text/plain": [
       "<Figure size 432x288 with 1 Axes>"
      ]
     },
     "metadata": {
      "needs_background": "light"
     },
     "output_type": "display_data"
    }
   ],
   "source": [
    "#Let me test my favorite words in Shakespeare's play\n",
    "\n",
    "mytext.dispersion_plot(['hello','good','No','fine','ok','yes'])  ##Recalling mytext .... where did we assign it ?"
   ]
  },
  {
   "cell_type": "markdown",
   "metadata": {},
   "source": [
    "#### POS Tagging "
   ]
  },
  {
   "cell_type": "markdown",
   "metadata": {},
   "source": [
    "In corpus linguistics, part-of-speech tagging (POS tagging or PoS tagging or POST), also called grammatical tagging or word-category disambiguation, is the process of marking up a word in a text (corpus) as corresponding to a particular part of speech,based on both its definition and its context—i.e., its relationship with adjacent and related words in a phrase, sentence, or paragraph. A simplified form of this is commonly taught to school-age children, in the identification of words as nouns, verbs, adjectives, adverbs, etc.\n",
    "[Wikipedia]"
   ]
  },
  {
   "cell_type": "code",
   "execution_count": 16,
   "metadata": {},
   "outputs": [
    {
     "data": {
      "text/plain": [
       "[('[', 'ADP'),\n",
       " ('The', 'DET'),\n",
       " ('Tragedie', 'NOUN'),\n",
       " ('of', 'ADP'),\n",
       " ('Hamlet', 'NOUN'),\n",
       " ('by', 'ADP'),\n",
       " ('William', 'NOUN'),\n",
       " ('Shakespeare', 'NOUN'),\n",
       " ('1599', 'NUM'),\n",
       " (']', 'NOUN')]"
      ]
     },
     "execution_count": 16,
     "metadata": {},
     "output_type": "execute_result"
    }
   ],
   "source": [
    "#nltk.download('universal_tagset')\n",
    "#Feel free to slice the mytext object. \n",
    "lst = mytext[:10]\n",
    "pos_tag = nltk.pos_tag(lst,tagset = 'universal')  #Try without parameter tagset\n",
    "pos_tag"
   ]
  },
  {
   "cell_type": "markdown",
   "metadata": {},
   "source": [
    "#### Named Entity Recognition"
   ]
  },
  {
   "cell_type": "markdown",
   "metadata": {},
   "source": [
    "Named-entity recognition is a subtask of information extraction that seeks to locate and classify named entity mentioned in unstructured text into pre-defined categories such as person names, organizations, locations, medical codes, time expressions, quantities, monetary values, percentages, etc. [Wikipedia]"
   ]
  },
  {
   "cell_type": "code",
   "execution_count": 17,
   "metadata": {},
   "outputs": [],
   "source": [
    "from nltk import ne_chunk #Chunking adds more structure \n",
    "\n",
    "named_entity = nltk.ne_chunk(pos_tag)\n",
    "named_entity.draw() #Magic! Something like below should appear\n",
    "\n",
    "#Close the image that appears if you want to proceed to next cells"
   ]
  },
  {
   "attachments": {
    "image.png": {
     "image/png": "[encoded data removed]"
    }
   },
   "cell_type": "markdown",
   "metadata": {},
   "source": [
    "![image.png](attachment:image.png)"
   ]
  },
  {
   "cell_type": "code",
   "execution_count": 18,
   "metadata": {},
   "outputs": [],
   "source": [
    "#Lets try to print only the names\n",
    "for x in str(named_entity).split('\\n'):\n",
    "    if '/NN' in x:\n",
    "        print(x)"
   ]
  },
  {
   "cell_type": "markdown",
   "metadata": {},
   "source": [
    "We see the ] and [ also being tagged as Nouns. So Let's try with our cleaned tokenized text. GPE here stands for Geo-Political Entity"
   ]
  },
  {
   "cell_type": "code",
   "execution_count": 19,
   "metadata": {},
   "outputs": [
    {
     "data": {
      "text/plain": [
       "[('tragedie', 'ADJ'),\n",
       " ('hamlet', 'NOUN'),\n",
       " ('william', 'NOUN'),\n",
       " ('shakespeare', 'NOUN'),\n",
       " ('1599actus', 'NUM'),\n",
       " ('primus', 'NOUN'),\n",
       " ('scoena', 'NOUN'),\n",
       " ('primaenter', 'NOUN'),\n",
       " ('barnardo', 'NOUN'),\n",
       " ('francisco', 'NOUN')]"
      ]
     },
     "execution_count": 19,
     "metadata": {},
     "output_type": "execute_result"
    }
   ],
   "source": [
    "nltk.pos_tag(new_sample1[:10],tagset = 'universal')"
   ]
  },
  {
   "cell_type": "code",
   "execution_count": 20,
   "metadata": {},
   "outputs": [],
   "source": [
    "#Feel free to add cells (Click the '+' sign) and do the stuffs "
   ]
  },
  {
   "cell_type": "markdown",
   "metadata": {},
   "source": [
    "#### Word2Vec"
   ]
  },
  {
   "cell_type": "markdown",
   "metadata": {},
   "source": [
    "[Word2Vec](http://radimrehurek.com/gensim/models/word2vec.html) uses neural networks to analyze words in a corpus by using the contexts of words. It takes as its input a large corpus of text, and maps unique words to a vector space, such that words that share common contexts in the corpus are located in close proximity to one another in the space.\n",
    "Word2Vec finds words that are used in combination with other words. So orange and juice may have a high similarity.\n",
    "You can see here the context of one word (pain) for two different corpora.\n",
    "This uses the popular gensim library."
   ]
  },
  {
   "cell_type": "code",
   "execution_count": 21,
   "metadata": {},
   "outputs": [
    {
     "name": "stderr",
     "output_type": "stream",
     "text": [
      "unable to import 'smart_open.gcs', disabling that module\n"
     ]
    },
    {
     "name": "stdout",
     "output_type": "stream",
     "text": [
      "[('it', 0.9998935461044312), ('was', 0.9998890161514282), ('well', 0.9998881816864014), ('you', 0.999886155128479), ('him', 0.9998831748962402), ('selfe', 0.9998830556869507)]\n",
      "\n",
      "\n",
      "[(',', 0.9995841979980469), ('the', 0.9995209574699402), ('a', 0.9995146989822388), ('and', 0.999514102935791), ('s', 0.9995118975639343), (\"'\", 0.9995089173316956)]\n"
     ]
    }
   ],
   "source": [
    "from gensim.models import Word2Vec\n",
    "hamlet_vect = Word2Vec(sentences)\n",
    "blake_sentence = gutenberg.sents('blake-poems.txt')\n",
    "blakes_vect = Word2Vec(blake_sentence)  #We pass corpus as input\n",
    "print(hamlet_vect.wv.most_similar('thee', topn=6))\n",
    "print('\\n')\n",
    "print(blakes_vect.wv.most_similar('thee', topn=6))"
   ]
  },
  {
   "cell_type": "code",
   "execution_count": 22,
   "metadata": {},
   "outputs": [],
   "source": [
    "#So why do we need to vectorize the words then ?"
   ]
  },
  {
   "cell_type": "raw",
   "metadata": {},
   "source": [
    "Lets try preprocessing the corpus and then see the result. Below with Topic modeling, this has been done. But before going there give it a try by yourself ;)"
   ]
  },
  {
   "cell_type": "markdown",
   "metadata": {},
   "source": [
    "#### Topic Modeling"
   ]
  },
  {
   "cell_type": "markdown",
   "metadata": {},
   "source": [
    "Latent Dirichlet Allocation (LDA) is unsupervised learning method that uses probabilistic model to identify group of topics. IT discovers abstract topics that occur in a collection of documents. (We can explore its inner workings in our project word)"
   ]
  },
  {
   "cell_type": "code",
   "execution_count": 23,
   "metadata": {},
   "outputs": [
    {
     "data": {
      "text/plain": [
       "[['\"', 'Pipe', 'a', 'song', 'about', 'a', 'Lamb', '!\"'],\n",
       " ['So', 'I', 'piped', 'with', 'merry', 'cheer', '.'],\n",
       " ['\"',\n",
       "  'Piper',\n",
       "  ',',\n",
       "  'pipe',\n",
       "  'that',\n",
       "  'song',\n",
       "  'again',\n",
       "  ';\"',\n",
       "  'So',\n",
       "  'I',\n",
       "  'piped',\n",
       "  ':',\n",
       "  'he',\n",
       "  'wept',\n",
       "  'to',\n",
       "  'hear',\n",
       "  '.'],\n",
       " ['\"',\n",
       "  'Drop',\n",
       "  'thy',\n",
       "  'pipe',\n",
       "  ',',\n",
       "  'thy',\n",
       "  'happy',\n",
       "  'pipe',\n",
       "  ';',\n",
       "  'Sing',\n",
       "  'thy',\n",
       "  'songs',\n",
       "  'of',\n",
       "  'happy',\n",
       "  'cheer',\n",
       "  ':!\"'],\n",
       " ['So',\n",
       "  'I',\n",
       "  'sang',\n",
       "  'the',\n",
       "  'same',\n",
       "  'again',\n",
       "  ',',\n",
       "  'While',\n",
       "  'he',\n",
       "  'wept',\n",
       "  'with',\n",
       "  'joy',\n",
       "  'to',\n",
       "  'hear',\n",
       "  '.'],\n",
       " ['\"',\n",
       "  'Piper',\n",
       "  ',',\n",
       "  'sit',\n",
       "  'thee',\n",
       "  'down',\n",
       "  'and',\n",
       "  'write',\n",
       "  'In',\n",
       "  'a',\n",
       "  'book',\n",
       "  ',',\n",
       "  'that',\n",
       "  'all',\n",
       "  'may',\n",
       "  'read',\n",
       "  '.\"'],\n",
       " ['So',\n",
       "  'he',\n",
       "  'vanish',\n",
       "  \"'\",\n",
       "  'd',\n",
       "  'from',\n",
       "  'my',\n",
       "  'sight',\n",
       "  ';',\n",
       "  'And',\n",
       "  'I',\n",
       "  'pluck',\n",
       "  \"'\",\n",
       "  'd',\n",
       "  'a',\n",
       "  'hollow',\n",
       "  'reed',\n",
       "  ','],\n",
       " ['And',\n",
       "  'I',\n",
       "  'made',\n",
       "  'a',\n",
       "  'rural',\n",
       "  'pen',\n",
       "  ',',\n",
       "  'And',\n",
       "  'I',\n",
       "  'stain',\n",
       "  \"'\",\n",
       "  'd',\n",
       "  'the',\n",
       "  'water',\n",
       "  'clear',\n",
       "  ',',\n",
       "  'And',\n",
       "  'I',\n",
       "  'wrote',\n",
       "  'my',\n",
       "  'happy',\n",
       "  'songs',\n",
       "  'Every',\n",
       "  'child',\n",
       "  'may',\n",
       "  'joy',\n",
       "  'to',\n",
       "  'hear',\n",
       "  '.'],\n",
       " ['THE', 'SHEPHERD'],\n",
       " ['How', 'sweet', 'is', 'the', 'Shepherd', \"'\", 's', 'sweet', 'lot', '!']]"
      ]
     },
     "execution_count": 23,
     "metadata": {},
     "output_type": "execute_result"
    }
   ],
   "source": [
    "#Corpus is simply collection of documents and each document is a collection of words\n",
    "corpus = blake_sentence[5:15] #Feel free to slice the tokenized sentences\n",
    "corpus"
   ]
  },
  {
   "cell_type": "markdown",
   "metadata": {},
   "source": [
    "Let's convert the corpus into a matrix representation. \n",
    "First of all we have to create term dictionary of the corpus. Then we convert the dictionary into document-term matrix.  "
   ]
  },
  {
   "cell_type": "code",
   "execution_count": 24,
   "metadata": {},
   "outputs": [],
   "source": [
    "import gensim\n",
    "from gensim import corpora # Corpora is plural of corpus\n",
    "\n",
    "\n",
    "dictionary = corpora.Dictionary(corpus)\n",
    "#print(dictionary)\n",
    "\n",
    "# Bag-of-words or bow tells you what words occur in the document\n",
    "DocTerm_matrix = [dictionary.doc2bow(doc) for doc in corpus]\n",
    "\n",
    "Lda_object = gensim.models.ldamodel.LdaModel"
   ]
  },
  {
   "cell_type": "code",
   "execution_count": 25,
   "metadata": {},
   "outputs": [],
   "source": [
    "lda_model_1 = Lda_object(DocTerm_matrix, num_topics=2, id2word = dictionary)\n"
   ]
  },
  {
   "cell_type": "code",
   "execution_count": 26,
   "metadata": {},
   "outputs": [
    {
     "name": "stdout",
     "output_type": "stream",
     "text": [
      "[(0, '0.038*\",\" + 0.037*\"I\" + 0.036*\"And\" + 0.036*\"a\" + 0.028*\"happy\"'), (1, '0.044*\",\" + 0.037*\"I\" + 0.034*\"So\" + 0.028*\".\" + 0.027*\"\\'\"')]\n"
     ]
    }
   ],
   "source": [
    "print(lda_model_1.print_topics(num_topics=2, num_words=5))\n"
   ]
  },
  {
   "cell_type": "markdown",
   "metadata": {},
   "source": [
    "Lets convert list into string so that we can do preprocessing with it"
   ]
  },
  {
   "cell_type": "code",
   "execution_count": 27,
   "metadata": {},
   "outputs": [],
   "source": [
    "#Takes a list s and keeps joining every word in them\n",
    "def listToString(s):  \n",
    "    \n",
    "    # initialize an empty string \n",
    "    str1 = \" \"  \n",
    "\n",
    "    # return string   \n",
    "    return str1.join(s)  "
   ]
  },
  {
   "cell_type": "code",
   "execution_count": 28,
   "metadata": {},
   "outputs": [
    {
     "data": {
      "text/plain": [
       "'\" Pipe a song about a Lamb !\"'"
      ]
     },
     "execution_count": 28,
     "metadata": {},
     "output_type": "execute_result"
    }
   ],
   "source": [
    "listToString(corpus[0])"
   ]
  },
  {
   "cell_type": "markdown",
   "metadata": {},
   "source": [
    "Looks stupid. Lets try after preprocessing the corpus"
   ]
  },
  {
   "cell_type": "code",
   "execution_count": 29,
   "metadata": {},
   "outputs": [],
   "source": [
    "import string\n",
    "from nltk.corpus import stopwords\n",
    "\n",
    "stopwords = set(stopwords.words('english'))\n",
    "no_punct = set(string.punctuation)\n",
    "lemma_obj = WordNetLemmatizer()\n",
    "\n",
    "def preprocess(document):\n",
    "    #Each document is a list. We need to convert it to string before we can run any string functions on them.\n",
    "    no_stopwords = \" \".join([i for i in listToString(document).lower().split() if i not in stopwords])\n",
    "    no_punctuation = ''.join(ch for ch in no_stopwords if ch not in no_punct)\n",
    "    lemmatized = \" \".join(lemma_obj.lemmatize(word) for word in no_punctuation.split())\n",
    "    return lemmatized\n",
    "\n",
    "final_corpus = [preprocess(document).split() for document in corpus]"
   ]
  },
  {
   "cell_type": "code",
   "execution_count": 30,
   "metadata": {},
   "outputs": [],
   "source": [
    "dictionary = corpora.Dictionary(final_corpus)\n",
    "\n",
    "DocTerm_matrix = [dictionary.doc2bow(doc) for doc in corpus]\n",
    "\n",
    "Lda_object = gensim.models.ldamodel.LdaModel\n",
    "\n",
    "lda_model_2 = Lda_object(DocTerm_matrix, num_topics=2, id2word = dictionary)"
   ]
  },
  {
   "cell_type": "code",
   "execution_count": 31,
   "metadata": {},
   "outputs": [
    {
     "name": "stdout",
     "output_type": "stream",
     "text": [
      "[(0, '0.062*\"hear\" + 0.046*\"song\" + 0.045*\"may\" + 0.044*\"wept\" + 0.043*\"joy\"'), (1, '0.080*\"thy\" + 0.068*\"happy\" + 0.065*\"pipe\" + 0.056*\"sweet\" + 0.051*\"cheer\"')]\n"
     ]
    }
   ],
   "source": [
    "print(lda_model_2.print_topics(num_topics=2, num_words=5))\n"
   ]
  },
  {
   "cell_type": "markdown",
   "metadata": {},
   "source": [
    "Very poetic! As an assignment let's try with some other text books in gutenberg"
   ]
  },
  {
   "cell_type": "markdown",
   "metadata": {},
   "source": [
    "#### K-Means Clustering "
   ]
  },
  {
   "cell_type": "markdown",
   "metadata": {},
   "source": [
    "In our final project, we are going project related to clustering. So lets know the basics of k-means clustering.\n",
    "\n",
    "Following article explains very well the concept behind K-means clustering:\n",
    "\n",
    "https://medium.com/@april.griffin091/a-beginners-overview-of-the-k-means-clustering-algorithm-382b1efd11c3"
   ]
  },
  {
   "cell_type": "raw",
   "metadata": {},
   "source": [
    "Lets also try a small demo "
   ]
  },
  {
   "cell_type": "markdown",
   "metadata": {},
   "source": [
    "Lets not bother about scaling our data. We try with a small sample "
   ]
  },
  {
   "cell_type": "code",
   "execution_count": 32,
   "metadata": {},
   "outputs": [
    {
     "name": "stdout",
     "output_type": "stream",
     "text": [
      "k-means trial 0\n",
      "iteration\n",
      "iteration\n",
      "Cluster Points: [array([1, 1]), array([0, 1]), array([1, 3]), array([0, 4]), array([2, 4]), array([0, 3])]\n",
      "In Clusters: [0, 0, 0, 0, 1, 0]\n",
      "Means: [array([0.4, 2.4]), array([2., 4.])]\n"
     ]
    }
   ],
   "source": [
    "import numpy as np\n",
    "from nltk.cluster import KMeansClusterer, euclidean_distance \n",
    "''' see the documentation of euclidean_distance: https://scikit-learn.org/stable/modules/generated/sklearn.metrics.pairwise.euclidean_distances.html'''\n",
    "\n",
    "'''Also see this page how they have done the clustering: https://scikit-learn.org/stable/modules/generated/sklearn.cluster.KMeans.html''' \n",
    "#But we continue with nltk.cluster's KMeansClusterer (You might google it and see the documentation)\n",
    "\n",
    "#Suppose we have 6 different points and we want to cluster it to two groups. For that we assign two centroids\n",
    "\n",
    "#We can make a numpy array to represent the points. It is easy to iterate through numpy arrays\n",
    "\n",
    "np_arr = [np.array(points) for points in [[1,1],[0,1],[1,3],[0,4],[2,4],[0,3]]]\n",
    "#We assign the center of first cluster to be (1,2) and that of second to be (3,3)\n",
    "#Next, each point is compared with both the centroid and is assigned to the closest center\n",
    "centroid = [[1,2],[3,3]] \n",
    "#lets cluster to 2 clusters with centroid defined above using euclidean distance as a metric\n",
    "cluster_obj = KMeansClusterer(2, euclidean_distance, initial_means = centroid) #Initial means is a set of k initial means which is sequence of vectors\n",
    "\n",
    "clusters = cluster_obj.cluster(np_arr, assign_clusters = True, trace=True) #Assigns the vectors to clusters, learning the clustering parameters from the data. Returns a cluster identifier for each vector.\n",
    "\n",
    "print('Cluster Points:',np_arr)\n",
    "print('In Clusters:',clusters)\n",
    "print('Means:',cluster_obj.means())\n",
    "          "
   ]
  },
  {
   "cell_type": "markdown",
   "metadata": {},
   "source": [
    "Except point (2,4), all other points in 0 cluster. The center of cluster0 is (0.4, 2.4) and that of second cluster is the point itself ( why ?)"
   ]
  },
  {
   "cell_type": "markdown",
   "metadata": {},
   "source": [
    "Lets see it in plot to see how it has done clustering"
   ]
  },
  {
   "cell_type": "code",
   "execution_count": 33,
   "metadata": {},
   "outputs": [
    {
     "data": {
      "image/png": "[encoded data removed]",
      "text/plain": [
       "<Figure size 432x288 with 1 Axes>"
      ]
     },
     "metadata": {
      "needs_background": "light"
     },
     "output_type": "display_data"
    }
   ],
   "source": [
    "import matplotlib.pyplot as plt\n",
    "\n",
    "# Detailed instructions on plots can be found of pythonbasics notebook\n",
    "x0 = np.array([item[0] for index, item in enumerate (np_arr) if clusters[index]==0])\n",
    "y0 = np.array([item[1] for index, item in enumerate (np_arr) if clusters[index]==0])\n",
    "plt.scatter(x0,y0,color = 'green')\n",
    "\n",
    "x1 = np.array([item[0] for index, item in enumerate (np_arr) if clusters[index]==1])\n",
    "y1 = np.array([item[1] for index, item in enumerate (np_arr) if clusters[index]==1])\n",
    "plt.scatter(x1,y1, color='red')\n",
    "\n",
    "xc = np.array([x[0] for x in centroid])\n",
    "yc = np.array([x[1] for x in centroid])\n",
    "plt.scatter(xc,yc, color='black')   #Does it give you the points (1,2) and (3,3) ?\n",
    "plt.show()\n",
    "\n"
   ]
  },
  {
   "cell_type": "raw",
   "metadata": {},
   "source": [
    "Quite ambigious! Let's try with some more iterations"
   ]
  },
  {
   "cell_type": "markdown",
   "metadata": {},
   "source": [
    "So lets try it with 5 repetetions.\n",
    "\n",
    "We try with random seeds above and get different results in each run."
   ]
  },
  {
   "cell_type": "code",
   "execution_count": 34,
   "metadata": {},
   "outputs": [
    {
     "name": "stdout",
     "output_type": "stream",
     "text": [
      "Clustered Objects: [array([1, 1]), array([0, 1]), array([1, 3]), array([0, 4]), array([2, 4]), array([0, 3])]\n",
      "In Clusters: [0, 0, 0, 0, 1, 0]\n",
      "Means: [array([0.4, 2.4]), array([2., 4.])]\n",
      "classify([2 2]): 0\n"
     ]
    }
   ],
   "source": [
    "# test k-means using 2 means, euclidean distance, and 5 repetitions \n",
    "# np.random.seed(123)  #See what happens when we set this seed (Now what is this seed which does not germinate ? )\n",
    "cluster_obj = KMeansClusterer(2, euclidean_distance, repeats=5 ) # Make repead = 10 and see what happens\n",
    "clusters = cluster_obj.cluster(np_arr, True)\n",
    "#The cluster center keeps moving in each iteration . (But why ?)\n",
    "centroids = cluster_obj.means()  #Calculated means which is [0.5, 1] and [0.75, 3.5 ]\n",
    "#print(centroids)\n",
    "print('Clustered Objects:', np_arr)\n",
    "print('In Clusters:', clusters)\n",
    "print('Means:', centroids)\n",
    "\n",
    "# classify a new vector\n",
    "vector = np.array([2,2])\n",
    "print('classify(%s):' % vector, end=' ')\n",
    "print(cluster_obj.classify(vector)) # Lets see the result of which cluster does this belong to"
   ]
  },
  {
   "cell_type": "code",
   "execution_count": 36,
   "metadata": {},
   "outputs": [
    {
     "data": {
      "image/png": "[encoded data removed]",
      "text/plain": [
       "<Figure size 432x288 with 1 Axes>"
      ]
     },
     "metadata": {
      "needs_background": "light"
     },
     "output_type": "display_data"
    }
   ],
   "source": [
    "import matplotlib.pyplot as plt\n",
    "\n",
    "x0 = np.array([item[0] for index, item in enumerate (np_arr) if clusters[index]==0])\n",
    "y0 = np.array([item[1] for index, item in enumerate (np_arr) if clusters[index]==0])\n",
    "plt.scatter(x0,y0,color = 'green')\n",
    "\n",
    "x1 = np.array([item[0] for index, item in enumerate (np_arr) if clusters[index]==1])\n",
    "y1 = np.array([item[1] for index, item in enumerate (np_arr) if clusters[index]==1])\n",
    "plt.scatter(x1,y1, color='red')\n",
    "\n",
    "xc = np.array([x[0] for x in centroids])\n",
    "yc = np.array([x[1] for x in centroids])\n",
    "plt.scatter(xc,yc, color='black')\n",
    "plt.show()\n",
    "#Note, if you find that there is only one point in one of the clusters then it would be the centroid itself and might be overlapped with black dot"
   ]
  },
  {
   "cell_type": "markdown",
   "metadata": {},
   "source": [
    "If it still does not satisfy you try adding two more points to np_arr, change some of the points and see how it goes"
   ]
  },
  {
   "cell_type": "code",
   "execution_count": null,
   "metadata": {},
   "outputs": [],
   "source": []
  }
 ],
 "metadata": {
  "kernelspec": {
   "display_name": "Python 3",
   "language": "python",
   "name": "python3"
  },
  "language_info": {
   "codemirror_mode": {
    "name": "ipython",
    "version": 3
   },
   "file_extension": ".py",
   "mimetype": "text/x-python",
   "name": "python",
   "nbconvert_exporter": "python",
   "pygments_lexer": "ipython3",
   "version": "3.7.3"
  }
 },
 "nbformat": 4,
 "nbformat_minor": 2
}
