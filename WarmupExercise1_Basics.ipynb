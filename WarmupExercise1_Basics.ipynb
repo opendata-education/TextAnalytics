{
 "cells": [
  {
   "cell_type": "markdown",
   "metadata": {},
   "source": [
    "In our next exercise we are going to extract our own data and make our own corpus (Collection of texts). For this exercise, let's get it from Project Gutenberg (https://www.gutenberg.org/). The Natural Language Toolkit (NLTK) suite has a lots of libraries that makes learning Natural Language Processing easy and fun. It also has small section of texts from the project gutenberg we are going to use for our purpose"
   ]
  },
  {
   "cell_type": "code",
   "execution_count": 1,
   "metadata": {},
   "outputs": [
    {
     "name": "stderr",
     "output_type": "stream",
     "text": [
      "[nltk_data] Downloading package gutenberg to\n",
      "[nltk_data]     C:\\Users\\tranq\\AppData\\Roaming\\nltk_data...\n",
      "[nltk_data]   Package gutenberg is already up-to-date!\n",
      "[nltk_data] Downloading package genesis to\n",
      "[nltk_data]     C:\\Users\\tranq\\AppData\\Roaming\\nltk_data...\n",
      "[nltk_data]   Package genesis is already up-to-date!\n",
      "[nltk_data] Downloading package inaugural to\n",
      "[nltk_data]     C:\\Users\\tranq\\AppData\\Roaming\\nltk_data...\n",
      "[nltk_data]   Package inaugural is already up-to-date!\n",
      "[nltk_data] Downloading package nps_chat to\n",
      "[nltk_data]     C:\\Users\\tranq\\AppData\\Roaming\\nltk_data...\n",
      "[nltk_data]   Package nps_chat is already up-to-date!\n",
      "[nltk_data] Downloading package webtext to\n",
      "[nltk_data]     C:\\Users\\tranq\\AppData\\Roaming\\nltk_data...\n",
      "[nltk_data]   Package webtext is already up-to-date!\n",
      "[nltk_data] Downloading package treebank to\n",
      "[nltk_data]     C:\\Users\\tranq\\AppData\\Roaming\\nltk_data...\n",
      "[nltk_data]   Package treebank is already up-to-date!\n",
      "[nltk_data] Downloading package punkt to\n",
      "[nltk_data]     C:\\Users\\tranq\\AppData\\Roaming\\nltk_data...\n",
      "[nltk_data]   Package punkt is already up-to-date!\n",
      "[nltk_data] Downloading package stopwords to\n",
      "[nltk_data]     C:\\Users\\tranq\\AppData\\Roaming\\nltk_data...\n",
      "[nltk_data]   Package stopwords is already up-to-date!\n",
      "[nltk_data] Downloading package wordnet to\n",
      "[nltk_data]     C:\\Users\\tranq\\AppData\\Roaming\\nltk_data...\n",
      "[nltk_data]   Package wordnet is already up-to-date!\n",
      "[nltk_data] Downloading package averaged_perceptron_tagger to\n",
      "[nltk_data]     C:\\Users\\tranq\\AppData\\Roaming\\nltk_data...\n",
      "[nltk_data]   Package averaged_perceptron_tagger is already up-to-\n",
      "[nltk_data]       date!\n",
      "[nltk_data] Downloading package universal_tagset to\n",
      "[nltk_data]     C:\\Users\\tranq\\AppData\\Roaming\\nltk_data...\n",
      "[nltk_data]   Package universal_tagset is already up-to-date!\n",
      "[nltk_data] Downloading package maxent_ne_chunker to\n",
      "[nltk_data]     C:\\Users\\tranq\\AppData\\Roaming\\nltk_data...\n",
      "[nltk_data]   Package maxent_ne_chunker is already up-to-date!\n",
      "[nltk_data] Downloading package words to\n",
      "[nltk_data]     C:\\Users\\tranq\\AppData\\Roaming\\nltk_data...\n",
      "[nltk_data]   Package words is already up-to-date!\n"
     ]
    },
    {
     "data": {
      "text/plain": [
       "True"
      ]
     },
     "execution_count": 1,
     "metadata": {},
     "output_type": "execute_result"
    }
   ],
   "source": [
    "#See the amount of libraries we are using from the toolkit!\n",
    "import nltk\n",
    "nltk.download('gutenberg')\n",
    "nltk.download('genesis')\n",
    "nltk.download('inaugural')\n",
    "nltk.download('nps_chat')\n",
    "nltk.download('webtext')\n",
    "nltk.download('treebank')\n",
    "nltk.download('punkt')\n",
    "nltk.download('stopwords')\n",
    "nltk.download('wordnet')\n",
    "nltk.download('averaged_perceptron_tagger')\n",
    "nltk.download('universal_tagset')\n",
    "nltk.download('maxent_ne_chunker')\n",
    "nltk.download('words')"
   ]
  },
  {
   "cell_type": "markdown",
   "metadata": {},
   "source": [
    "This documentation can be checked (1.1 only):\n",
    "https://www.nltk.org/book/ch02.html. "
   ]
  },
  {
   "cell_type": "code",
   "execution_count": 2,
   "metadata": {},
   "outputs": [],
   "source": [
    "import nltk\n",
    "#from nltk.book import *\n",
    "from nltk.corpus import gutenberg\n",
    "words = gutenberg.words('shakespeare-hamlet.txt')  #To get the words \n",
    "sentences = gutenberg.sents('shakespeare-hamlet.txt') # Get the sentences\n",
    "sample = gutenberg.raw('shakespeare-hamlet.txt')  #To get the raw text from the read file"
   ]
  },
  {
   "cell_type": "markdown",
   "metadata": {},
   "source": [
    "Now you should be able to answer what raw() method does, if you have followed the nltk reference above. It is quite obvious what .words() and .sents() do. "
   ]
  },
  {
   "cell_type": "code",
   "execution_count": 3,
   "metadata": {},
   "outputs": [
    {
     "data": {
      "text/plain": [
       "['austen-emma.txt',\n",
       " 'austen-persuasion.txt',\n",
       " 'austen-sense.txt',\n",
       " 'bible-kjv.txt',\n",
       " 'blake-poems.txt',\n",
       " 'bryant-stories.txt',\n",
       " 'burgess-busterbrown.txt',\n",
       " 'carroll-alice.txt',\n",
       " 'chesterton-ball.txt',\n",
       " 'chesterton-brown.txt',\n",
       " 'chesterton-thursday.txt',\n",
       " 'edgeworth-parents.txt',\n",
       " 'melville-moby_dick.txt',\n",
       " 'milton-paradise.txt',\n",
       " 'shakespeare-caesar.txt',\n",
       " 'shakespeare-hamlet.txt',\n",
       " 'shakespeare-macbeth.txt',\n",
       " 'whitman-leaves.txt']"
      ]
     },
     "execution_count": 3,
     "metadata": {},
     "output_type": "execute_result"
    }
   ],
   "source": [
    "#Lets see how many books are there. For this we call the fileids() identifier in the corpus.\n",
    "gutenberg.fileids()\n",
    "# gutenberg.fileids()[-3] #We just took one of the 18 books. counting 3 from the last gives us shakespeare-hamlet.txt"
   ]
  },
  {
   "cell_type": "raw",
   "metadata": {},
   "source": [
    "Note that only one command can be executed in a cell. If you want to run a command, just comment out (delete the hash and indent correctly)"
   ]
  },
  {
   "cell_type": "markdown",
   "metadata": {},
   "source": [
    "Try playing around with each variables we defined so far."
   ]
  },
  {
   "cell_type": "code",
   "execution_count": 4,
   "metadata": {},
   "outputs": [],
   "source": [
    "# Let's check what's in the sample. Remember to comment out the required code/variable/keywords/variables in the cell .\n",
    "\n",
    "#sample"
   ]
  },
  {
   "cell_type": "code",
   "execution_count": 5,
   "metadata": {},
   "outputs": [],
   "source": [
    "#Let's check the final 50 words\n",
    "\n",
    "#words[:50]"
   ]
  },
  {
   "cell_type": "code",
   "execution_count": 6,
   "metadata": {},
   "outputs": [],
   "source": [
    "# How many words do we have ?\n",
    "\n",
    "#len(words)"
   ]
  },
  {
   "cell_type": "code",
   "execution_count": 7,
   "metadata": {},
   "outputs": [],
   "source": [
    "#Just see the final 10 sentences\n",
    "\n",
    "#sentences[:10]"
   ]
  },
  {
   "cell_type": "code",
   "execution_count": 8,
   "metadata": {},
   "outputs": [
    {
     "data": {
      "text/plain": [
       "['You', 'come', 'most', 'carefully', 'vpon', 'your', 'houre']"
      ]
     },
     "execution_count": 8,
     "metadata": {},
     "output_type": "execute_result"
    }
   ],
   "source": [
    "#Let's check the 16th sentence (remember count starts from 0). Feel free to check any sentence. You can check multiple sentences as well if you specify start and end sentence.\n",
    "\n",
    "sentences[15]"
   ]
  },
  {
   "cell_type": "markdown",
   "metadata": {},
   "source": [
    "Now lets perform sentence tokenization. Tokenization is essentially splitting a phrase, sentence, paragraph, or an entire text document into smaller units, such as individual words or terms, sentences, etc. Each of these smaller units are called tokens."
   ]
  },
  {
   "cell_type": "code",
   "execution_count": 9,
   "metadata": {},
   "outputs": [
    {
     "data": {
      "text/plain": [
       "['[The Tragedie of Hamlet by William Shakespeare 1599]\\n\\n\\nActus Primus.',\n",
       " 'Scoena Prima.',\n",
       " 'Enter Barnardo and Francisco two Centinels.',\n",
       " 'Barnardo.',\n",
       " \"Who's there?\"]"
      ]
     },
     "execution_count": 9,
     "metadata": {},
     "output_type": "execute_result"
    }
   ],
   "source": [
    "from nltk.tokenize import sent_tokenize\n",
    "tokenize = sent_tokenize (sample)\n",
    "#Lets check first 5 sentences separately in one output\n",
    "tokenize[:5]"
   ]
  },
  {
   "cell_type": "code",
   "execution_count": 10,
   "metadata": {},
   "outputs": [],
   "source": [
    "#Lets now check the number of paragraphs (Here we check first 10 only). As we have described above, paragraph can also be tokenized. \n",
    "#Uncomment all the following code lines in one go by selecting all and press ctrl+/. You can comment back in the same way.\n",
    "\n",
    "# len(gutenberg.paras('shakespeare-hamlet.txt'))\n",
    "\n",
    "# for para in range(10):\n",
    "#     print(tokenize[para])"
   ]
  },
  {
   "cell_type": "markdown",
   "metadata": {},
   "source": [
    "In coming project (Sentiment Analysis), we will use Lambda expression for processing text which is very powerful and easy way to do a lot of stuffs in one go. \n",
    "\n",
    "https://www.w3schools.com/python/python_lambda.asp\n",
    "\n",
    "Here we do it in detail instead of lambda."
   ]
  },
  {
   "cell_type": "code",
   "execution_count": 11,
   "metadata": {},
   "outputs": [],
   "source": [
    "#Observe the output\n",
    "\n",
    "#sample.split(' ') "
   ]
  },
  {
   "cell_type": "markdown",
   "metadata": {},
   "source": [
    "Now lets explore regular expression. Specially look at how we do substitution. \n",
    "\n",
    "https://www.w3schools.com/python/python_regex.asp"
   ]
  },
  {
   "cell_type": "code",
   "execution_count": 12,
   "metadata": {},
   "outputs": [
    {
     "data": {
      "text/plain": [
       "['the',\n",
       " 'tragedie',\n",
       " 'of',\n",
       " 'hamlet',\n",
       " 'by',\n",
       " 'william',\n",
       " 'shakespeare',\n",
       " '1599actus',\n",
       " 'primus',\n",
       " 'scoena',\n",
       " 'primaenter',\n",
       " 'barnardo',\n",
       " 'and',\n",
       " 'francisco',\n",
       " 'two',\n",
       " 'centinels',\n",
       " 'barnardo',\n",
       " 'whos',\n",
       " 'there',\n",
       " 'fran',\n",
       " 'nay',\n",
       " 'answer',\n",
       " 'me',\n",
       " 'stand',\n",
       " 'vnfoldyour',\n",
       " 'selfe',\n",
       " 'bar',\n",
       " 'long',\n",
       " 'liue',\n",
       " 'the',\n",
       " 'king',\n",
       " 'fran',\n",
       " 'barnardo',\n",
       " 'bar',\n",
       " 'he',\n",
       " 'fran',\n",
       " 'you',\n",
       " 'come',\n",
       " 'most',\n",
       " 'carefully',\n",
       " 'vpon',\n",
       " 'your',\n",
       " 'houre',\n",
       " 'bar',\n",
       " 'tis',\n",
       " 'now',\n",
       " 'strook',\n",
       " 'twelue',\n",
       " 'get',\n",
       " 'thee']"
      ]
     },
     "execution_count": 12,
     "metadata": {},
     "output_type": "execute_result"
    }
   ],
   "source": [
    "#Clean the text. Tokenize it, lower-case it, remove unnecessary ....\n",
    "import re\n",
    "sample_split = []\n",
    "for st in sample.strip().lower().split(' '):  ##?? why so much in one line ? What's going on ?\n",
    "    st = re.sub(r\"[^a-zA-Z0-9]+\", '', st)  #What will this regex do ? Feel free to do extra cleaning and play with regex. But first lets proceed with this much\n",
    "        \n",
    "    sample_split.append(st)\n",
    "    #print(st)\n",
    "sample_split\n",
    "\n",
    "while '' in sample_split:   #The extra '\\n' will be '' so we need to remove it now\n",
    "    sample_split.remove('')\n",
    "    \n",
    "sample_split[:50] #Just first 50"
   ]
  },
  {
   "cell_type": "code",
   "execution_count": 13,
   "metadata": {},
   "outputs": [
    {
     "data": {
      "text/plain": [
       "['tragedie',\n",
       " 'hamlet',\n",
       " 'william',\n",
       " 'shakespeare',\n",
       " '1599actus',\n",
       " 'primus',\n",
       " 'scoena',\n",
       " 'primaenter',\n",
       " 'barnardo',\n",
       " 'francisco',\n",
       " 'two',\n",
       " 'centinels',\n",
       " 'barnardo',\n",
       " 'whos',\n",
       " 'fran',\n",
       " 'nay',\n",
       " 'answer',\n",
       " 'stand',\n",
       " 'vnfoldyour',\n",
       " 'selfe',\n",
       " 'bar',\n",
       " 'long',\n",
       " 'liue',\n",
       " 'king',\n",
       " 'fran',\n",
       " 'barnardo',\n",
       " 'bar',\n",
       " 'fran',\n",
       " 'come',\n",
       " 'carefully',\n",
       " 'vpon',\n",
       " 'houre',\n",
       " 'bar',\n",
       " 'tis',\n",
       " 'strook',\n",
       " 'twelue',\n",
       " 'get',\n",
       " 'thee',\n",
       " 'bed',\n",
       " 'francisco',\n",
       " 'fran',\n",
       " 'releefe',\n",
       " 'much',\n",
       " 'thankes',\n",
       " 'tis',\n",
       " 'bitter',\n",
       " 'coldand',\n",
       " 'sicke',\n",
       " 'heart',\n",
       " 'barn',\n",
       " 'haue',\n",
       " 'quiet',\n",
       " 'guard',\n",
       " 'fran',\n",
       " 'mouse',\n",
       " 'stirring',\n",
       " 'barn',\n",
       " 'well',\n",
       " 'goodnight',\n",
       " 'meet',\n",
       " 'horatio',\n",
       " 'andmarcellus',\n",
       " 'riuals',\n",
       " 'watch',\n",
       " 'bid',\n",
       " 'make',\n",
       " 'hastenter',\n",
       " 'horatio',\n",
       " 'marcellus',\n",
       " 'fran',\n",
       " 'thinke',\n",
       " 'heare',\n",
       " 'stand',\n",
       " 'whos',\n",
       " 'hor',\n",
       " 'friends',\n",
       " 'ground',\n",
       " 'mar',\n",
       " 'leigemen',\n",
       " 'dane',\n",
       " 'fran',\n",
       " 'giue',\n",
       " 'good',\n",
       " 'night',\n",
       " 'mar',\n",
       " 'farwel',\n",
       " 'honest',\n",
       " 'soldier',\n",
       " 'hath',\n",
       " 'relieud',\n",
       " 'fra',\n",
       " 'barnardo',\n",
       " 'place',\n",
       " 'giue',\n",
       " 'goodnightexit',\n",
       " 'fran',\n",
       " 'mar',\n",
       " 'holla',\n",
       " 'barnardo',\n",
       " 'bar',\n",
       " 'say',\n",
       " 'horatio',\n",
       " 'hor',\n",
       " 'peece',\n",
       " 'bar',\n",
       " 'welcome',\n",
       " 'horatio',\n",
       " 'welcome',\n",
       " 'good',\n",
       " 'marcellus',\n",
       " 'mar',\n",
       " 'thing',\n",
       " 'appeard',\n",
       " 'againe',\n",
       " 'night',\n",
       " 'bar',\n",
       " 'haue',\n",
       " 'seene',\n",
       " 'nothing',\n",
       " 'mar',\n",
       " 'horatio',\n",
       " 'saies',\n",
       " 'tis',\n",
       " 'fantasieand',\n",
       " 'let',\n",
       " 'beleefe',\n",
       " 'take',\n",
       " 'hold',\n",
       " 'himtouching',\n",
       " 'dreaded',\n",
       " 'sight',\n",
       " 'twice',\n",
       " 'seene',\n",
       " 'vstherefore',\n",
       " 'haue',\n",
       " 'intreated',\n",
       " 'alongwith',\n",
       " 'vs',\n",
       " 'watch',\n",
       " 'minutes',\n",
       " 'nightthat',\n",
       " 'againe',\n",
       " 'apparition',\n",
       " 'comehe',\n",
       " 'may',\n",
       " 'approue',\n",
       " 'eyes',\n",
       " 'speake',\n",
       " 'hor',\n",
       " 'tush']"
      ]
     },
     "execution_count": 13,
     "metadata": {},
     "output_type": "execute_result"
    }
   ],
   "source": [
    "#Remove stopwords now\n",
    "words_nostopwords = []\n",
    "import nltk\n",
    "from nltk.corpus import stopwords\n",
    "\n",
    "#What is stop words and corpus, just search in wikipedia\n",
    "stop_words = stopwords.words('english')\n",
    "\n",
    "for word in sample_split:\n",
    "    if word not in stop_words:\n",
    "        words_nostopwords.append(word)\n",
    "\n",
    "words_nostopwords[:150]\n"
   ]
  },
  {
   "cell_type": "markdown",
   "metadata": {},
   "source": [
    "#### Lemmatization:\n",
    "According to Wikipedia:\n",
    "\n",
    "Lemmatisation in linguistics is the process of grouping together the inflected forms of a word so they can be analysed as a single item, identified by the word's lemma, or dictionary form."
   ]
  },
  {
   "cell_type": "code",
   "execution_count": 14,
   "metadata": {},
   "outputs": [],
   "source": [
    "#Now let's do Lemmatization. \n",
    "words_lemmatized = []\n",
    "from nltk.stem import WordNetLemmatizer\n",
    "wnl = WordNetLemmatizer()\n",
    "\n",
    "for word in words_nostopwords:\n",
    "    words_lemmatized.append(wnl.lemmatize(word))\n",
    "    \n",
    "#words_lemmatized"
   ]
  },
  {
   "cell_type": "markdown",
   "metadata": {},
   "source": [
    "Lots of preparations to get sample in desired state so that now we are ready to show some magics and tricks are ready to be displayed. "
   ]
  },
  {
   "cell_type": "markdown",
   "metadata": {},
   "source": [
    "Let's see the count of words and see the ones that occur more frequently. For that we use FreqDist"
   ]
  },
  {
   "cell_type": "code",
   "execution_count": 15,
   "metadata": {},
   "outputs": [
    {
     "name": "stdout",
     "output_type": "stream",
     "text": [
      "<FreqDist with 6460 samples and 15280 outcomes>\n"
     ]
    },
    {
     "data": {
      "text/plain": [
       "[('ham', 337),\n",
       " ('lord', 188),\n",
       " ('king', 160),\n",
       " ('haue', 159),\n",
       " ('shall', 99),\n",
       " ('come', 98),\n",
       " ('hor', 95),\n",
       " ('thou', 90),\n",
       " ('good', 89),\n",
       " ('let', 85),\n",
       " ('thy', 85),\n",
       " ('hamlet', 83),\n",
       " ('like', 70),\n",
       " ('qu', 62),\n",
       " ('know', 61),\n",
       " ('father', 61),\n",
       " ('laer', 60),\n",
       " ('ti', 59),\n",
       " ('oh', 58),\n",
       " ('well', 57)]"
      ]
     },
     "execution_count": 15,
     "metadata": {},
     "output_type": "execute_result"
    }
   ],
   "source": [
    "from nltk.probability import FreqDist\n",
    "\n",
    "freq_dist = FreqDist(words_lemmatized)\n",
    "print(freq_dist)\n",
    "\n",
    "freq_dist.most_common(20)  # Understanding Shakespeare's Vocabulary set ;)"
   ]
  },
  {
   "cell_type": "code",
   "execution_count": 16,
   "metadata": {},
   "outputs": [
    {
     "data": {
      "image/png": "[encoded data removed]",
      "text/plain": [
       "<Figure size 432x288 with 1 Axes>"
      ]
     },
     "metadata": {
      "needs_background": "light"
     },
     "output_type": "display_data"
    }
   ],
   "source": [
    "%matplotlib inline\n",
    "\n",
    "# Frequency Distribution Plot\n",
    "import matplotlib.pyplot as plt\n",
    "freq_dist.plot(20,cumulative=False)\n",
    "plt.show()\n"
   ]
  },
  {
   "cell_type": "code",
   "execution_count": 17,
   "metadata": {},
   "outputs": [
    {
     "data": {
      "text/plain": [
       "['[', 'The', 'Tragedie', 'of', 'Hamlet']"
      ]
     },
     "execution_count": 17,
     "metadata": {},
     "output_type": "execute_result"
    }
   ],
   "source": [
    "from nltk.tokenize import word_tokenize\n",
    "tokens = nltk.word_tokenize(sample)   # tokenize it\n",
    "mytext = nltk.Text(tokens)         # turn text into a NLTK Text object\n",
    "mytext[:5]\n",
    "#type(mytext)"
   ]
  },
  {
   "cell_type": "code",
   "execution_count": 18,
   "metadata": {},
   "outputs": [
    {
     "name": "stdout",
     "output_type": "stream",
     "text": [
      "[\n",
      "The\n",
      "Tragedie\n",
      "of\n",
      "Hamlet\n"
     ]
    }
   ],
   "source": [
    "#Using for loop instead of list slicing, as used above. \n",
    "\n",
    "for word in range(5):\n",
    "    print(mytext[word])\n",
    "    "
   ]
  },
  {
   "cell_type": "raw",
   "metadata": {},
   "source": [
    "Now lets try dispersion plot (For this we will need special object of NLTK nltk.text.Text, which we have already done)"
   ]
  },
  {
   "cell_type": "code",
   "execution_count": 19,
   "metadata": {},
   "outputs": [
    {
     "data": {
      "image/png": "[encoded data removed]",
      "text/plain": [
       "<Figure size 432x288 with 1 Axes>"
      ]
     },
     "metadata": {
      "needs_background": "light"
     },
     "output_type": "display_data"
    }
   ],
   "source": [
    "#Let me test my favorite words in Shakespeare's play\n",
    "\n",
    "mytext.dispersion_plot(['hello','good','No','fine','ok','yes'])  ##Recalling mytext .... where did we assign it ?"
   ]
  },
  {
   "cell_type": "code",
   "execution_count": 20,
   "metadata": {},
   "outputs": [
    {
     "data": {
      "text/plain": [
       "36382"
      ]
     },
     "execution_count": 20,
     "metadata": {},
     "output_type": "execute_result"
    }
   ],
   "source": [
    "len(mytext) #Why am i checking it here ?"
   ]
  },
  {
   "cell_type": "markdown",
   "metadata": {},
   "source": [
    "#### POS Tagging "
   ]
  },
  {
   "cell_type": "markdown",
   "metadata": {},
   "source": [
    "In corpus linguistics, part-of-speech tagging (POS tagging or PoS tagging or POST), also called grammatical tagging or word-category disambiguation, is the process of marking up a word in a text (corpus) as corresponding to a particular part of speech,based on both its definition and its context—i.e., its relationship with adjacent and related words in a phrase, sentence, or paragraph. A simplified form of this is commonly taught to school-age children, in the identification of words as nouns, verbs, adjectives, adverbs, etc.\n",
    "[Wikipedia]\n",
    "\n",
    "Check out the first example in this: \n",
    "\n",
    "https://www.nltk.org/book/ch05.html"
   ]
  },
  {
   "cell_type": "code",
   "execution_count": 21,
   "metadata": {},
   "outputs": [],
   "source": [
    "#Feel free to try pos tagging following the example in the link above. \n",
    "\n",
    "#Code goes here"
   ]
  },
  {
   "cell_type": "code",
   "execution_count": 22,
   "metadata": {},
   "outputs": [
    {
     "data": {
      "text/plain": [
       "[('[', 'ADP'),\n",
       " ('The', 'DET'),\n",
       " ('Tragedie', 'NOUN'),\n",
       " ('of', 'ADP'),\n",
       " ('Hamlet', 'NOUN'),\n",
       " ('by', 'ADP'),\n",
       " ('William', 'NOUN'),\n",
       " ('Shakespeare', 'NOUN'),\n",
       " ('1599', 'NUM'),\n",
       " (']', 'NOUN')]"
      ]
     },
     "execution_count": 22,
     "metadata": {},
     "output_type": "execute_result"
    }
   ],
   "source": [
    "#nltk.download('universal_tagset')\n",
    "#Feel free to slice the mytext object. \n",
    "lst = mytext[:10]\n",
    "pos_tag = nltk.pos_tag(lst,tagset = 'universal')  #Try without parameter tagset\n",
    "pos_tag"
   ]
  },
  {
   "cell_type": "markdown",
   "metadata": {},
   "source": [
    "#### Named Entity Recognition"
   ]
  },
  {
   "cell_type": "markdown",
   "metadata": {},
   "source": [
    "Named-entity recognition is a subtask of information extraction that seeks to locate and classify named entity mentioned in unstructured text into pre-defined categories such as person names, organizations, locations, medical codes, time expressions, quantities, monetary values, percentages, etc. [Wikipedia]"
   ]
  },
  {
   "cell_type": "code",
   "execution_count": 23,
   "metadata": {},
   "outputs": [],
   "source": [
    "# Right now there is an error due to GUI. Will be fixed soon\n",
    "\n",
    "from nltk import ne_chunk #Chunking adds more structure \n",
    "\n",
    "named_entity = nltk.ne_chunk(pos_tag)\n",
    "named_entity.draw() #Magic! Something like below should appear\n",
    "\n",
    "#Close the image that appears if you want to proceed to next cells"
   ]
  },
  {
   "attachments": {
    "image.png": {
     "image/png": "[encoded data removed]"
    }
   },
   "cell_type": "markdown",
   "metadata": {},
   "source": [
    "![image.png](attachment:image.png)"
   ]
  },
  {
   "cell_type": "code",
   "execution_count": 24,
   "metadata": {},
   "outputs": [],
   "source": [
    "#Lets try to print only the names\n",
    "for x in str(named_entity).split('\\n'):\n",
    "    if '/NN' in x:\n",
    "        print(x)"
   ]
  },
  {
   "cell_type": "markdown",
   "metadata": {},
   "source": [
    "We see the ] and [ also being tagged as Nouns. So Let's try with our cleaned tokenized text. GPE here stands for Geo-Political Entity"
   ]
  },
  {
   "cell_type": "code",
   "execution_count": 25,
   "metadata": {},
   "outputs": [
    {
     "data": {
      "text/plain": [
       "[('tragedie', 'ADJ'),\n",
       " ('hamlet', 'NOUN'),\n",
       " ('william', 'NOUN'),\n",
       " ('shakespeare', 'NOUN'),\n",
       " ('1599actus', 'NUM'),\n",
       " ('primus', 'NOUN'),\n",
       " ('scoena', 'NOUN'),\n",
       " ('primaenter', 'NOUN'),\n",
       " ('barnardo', 'NOUN'),\n",
       " ('francisco', 'NOUN')]"
      ]
     },
     "execution_count": 25,
     "metadata": {},
     "output_type": "execute_result"
    }
   ],
   "source": [
    "nltk.pos_tag(words_lemmatized[:10],tagset = 'universal')"
   ]
  },
  {
   "cell_type": "code",
   "execution_count": 26,
   "metadata": {},
   "outputs": [],
   "source": [
    "#Feel free to add cells (Click the '+' sign) and do the stuffs "
   ]
  },
  {
   "cell_type": "markdown",
   "metadata": {},
   "source": [
    "#### Word2Vec"
   ]
  },
  {
   "cell_type": "markdown",
   "metadata": {},
   "source": [
    "[Word2Vec](http://radimrehurek.com/gensim/models/word2vec.html) uses neural networks to analyze words in a corpus by using the contexts of words. It takes as its input a large corpus of text, and maps unique words to a vector space, such that words that share common contexts in the corpus are located in close proximity to one another in the space.\n",
    "Word2Vec finds words that are used in combination with other words. So orange and juice may have a high similarity.\n",
    "You can see here the context of one word (pain) for two different corpora.\n",
    "This uses the popular gensim library."
   ]
  },
  {
   "cell_type": "code",
   "execution_count": 27,
   "metadata": {},
   "outputs": [
    {
     "name": "stderr",
     "output_type": "stream",
     "text": [
      "unable to import 'smart_open.gcs', disabling that module\n"
     ]
    },
    {
     "name": "stdout",
     "output_type": "stream",
     "text": [
      "[('this', 0.9998935461044312), ('thou', 0.9998911619186401), ('thy', 0.9998906254768372), ('our', 0.999882161617279), (';', 0.9998805522918701), ('that', 0.9998781681060791)]\n",
      "\n",
      "\n",
      "[(',', 0.9995903372764587), ('the', 0.9995543956756592), ('and', 0.9995469450950623), ('a', 0.9995372295379639), (';', 0.9995312690734863), ('my', 0.9995259642601013)]\n"
     ]
    }
   ],
   "source": [
    "from gensim.models import Word2Vec\n",
    "hamlet_vect = Word2Vec(sentences)\n",
    "blake_sentence = gutenberg.sents('blake-poems.txt')\n",
    "blakes_vect = Word2Vec(blake_sentence)  #We pass corpus as input\n",
    "print(hamlet_vect.wv.most_similar('thee', topn=6))\n",
    "print('\\n')\n",
    "print(blakes_vect.wv.most_similar('thee', topn=6))"
   ]
  },
  {
   "cell_type": "code",
   "execution_count": 28,
   "metadata": {},
   "outputs": [],
   "source": [
    "#So why do we need to vectorize the words then ?"
   ]
  },
  {
   "cell_type": "raw",
   "metadata": {},
   "source": [
    "Lets try preprocessing the corpus and then see the result. Below with Topic modeling, this has been done. But before going there give it a try by yourself ;)"
   ]
  },
  {
   "cell_type": "markdown",
   "metadata": {},
   "source": [
    "#### Topic Modeling"
   ]
  },
  {
   "cell_type": "markdown",
   "metadata": {},
   "source": [
    "Latent Dirichlet Allocation (LDA) is unsupervised learning method that uses probabilistic model to identify group of topics. It discovers abstract topics that occur in a collection of documents. (We can explore its inner workings in our project word)"
   ]
  },
  {
   "cell_type": "code",
   "execution_count": 29,
   "metadata": {},
   "outputs": [
    {
     "data": {
      "text/plain": [
       "[['\"', 'Pipe', 'a', 'song', 'about', 'a', 'Lamb', '!\"'],\n",
       " ['So', 'I', 'piped', 'with', 'merry', 'cheer', '.'],\n",
       " ['\"',\n",
       "  'Piper',\n",
       "  ',',\n",
       "  'pipe',\n",
       "  'that',\n",
       "  'song',\n",
       "  'again',\n",
       "  ';\"',\n",
       "  'So',\n",
       "  'I',\n",
       "  'piped',\n",
       "  ':',\n",
       "  'he',\n",
       "  'wept',\n",
       "  'to',\n",
       "  'hear',\n",
       "  '.'],\n",
       " ['\"',\n",
       "  'Drop',\n",
       "  'thy',\n",
       "  'pipe',\n",
       "  ',',\n",
       "  'thy',\n",
       "  'happy',\n",
       "  'pipe',\n",
       "  ';',\n",
       "  'Sing',\n",
       "  'thy',\n",
       "  'songs',\n",
       "  'of',\n",
       "  'happy',\n",
       "  'cheer',\n",
       "  ':!\"'],\n",
       " ['So',\n",
       "  'I',\n",
       "  'sang',\n",
       "  'the',\n",
       "  'same',\n",
       "  'again',\n",
       "  ',',\n",
       "  'While',\n",
       "  'he',\n",
       "  'wept',\n",
       "  'with',\n",
       "  'joy',\n",
       "  'to',\n",
       "  'hear',\n",
       "  '.'],\n",
       " ['\"',\n",
       "  'Piper',\n",
       "  ',',\n",
       "  'sit',\n",
       "  'thee',\n",
       "  'down',\n",
       "  'and',\n",
       "  'write',\n",
       "  'In',\n",
       "  'a',\n",
       "  'book',\n",
       "  ',',\n",
       "  'that',\n",
       "  'all',\n",
       "  'may',\n",
       "  'read',\n",
       "  '.\"'],\n",
       " ['So',\n",
       "  'he',\n",
       "  'vanish',\n",
       "  \"'\",\n",
       "  'd',\n",
       "  'from',\n",
       "  'my',\n",
       "  'sight',\n",
       "  ';',\n",
       "  'And',\n",
       "  'I',\n",
       "  'pluck',\n",
       "  \"'\",\n",
       "  'd',\n",
       "  'a',\n",
       "  'hollow',\n",
       "  'reed',\n",
       "  ','],\n",
       " ['And',\n",
       "  'I',\n",
       "  'made',\n",
       "  'a',\n",
       "  'rural',\n",
       "  'pen',\n",
       "  ',',\n",
       "  'And',\n",
       "  'I',\n",
       "  'stain',\n",
       "  \"'\",\n",
       "  'd',\n",
       "  'the',\n",
       "  'water',\n",
       "  'clear',\n",
       "  ',',\n",
       "  'And',\n",
       "  'I',\n",
       "  'wrote',\n",
       "  'my',\n",
       "  'happy',\n",
       "  'songs',\n",
       "  'Every',\n",
       "  'child',\n",
       "  'may',\n",
       "  'joy',\n",
       "  'to',\n",
       "  'hear',\n",
       "  '.'],\n",
       " ['THE', 'SHEPHERD'],\n",
       " ['How', 'sweet', 'is', 'the', 'Shepherd', \"'\", 's', 'sweet', 'lot', '!']]"
      ]
     },
     "execution_count": 29,
     "metadata": {},
     "output_type": "execute_result"
    }
   ],
   "source": [
    "#Corpus is simply collection of documents and each document is a collection of words\n",
    "corpus = blake_sentence[5:15] #Feel free to slice the tokenized sentences\n",
    "corpus"
   ]
  },
  {
   "cell_type": "markdown",
   "metadata": {},
   "source": [
    "Let's convert the corpus into a matrix representation. \n",
    "First of all we have to create term dictionary of the corpus. Then we convert the dictionary into document-term matrix.  "
   ]
  },
  {
   "cell_type": "code",
   "execution_count": 30,
   "metadata": {},
   "outputs": [],
   "source": [
    "import gensim\n",
    "from gensim import corpora # Corpora is plural of corpus\n",
    "\n",
    "\n",
    "dictionary = corpora.Dictionary(corpus)\n",
    "#print(dictionary)\n",
    "\n",
    "# Bag-of-words or bow tells you what words occur in the document\n",
    "DocTerm_matrix = [dictionary.doc2bow(doc) for doc in corpus]\n",
    "\n",
    "Lda_object = gensim.models.ldamodel.LdaModel"
   ]
  },
  {
   "cell_type": "code",
   "execution_count": 31,
   "metadata": {},
   "outputs": [],
   "source": [
    "lda_model_1 = Lda_object(DocTerm_matrix, num_topics=2, id2word = dictionary)\n"
   ]
  },
  {
   "cell_type": "code",
   "execution_count": 32,
   "metadata": {},
   "outputs": [
    {
     "name": "stdout",
     "output_type": "stream",
     "text": [
      "[(0, '0.048*\",\" + 0.042*\"I\" + 0.032*\"a\" + 0.031*\"And\" + 0.024*\"the\"'), (1, '0.035*\"thy\" + 0.034*\",\" + 0.033*\"pipe\" + 0.032*\"So\" + 0.031*\"I\"')]\n"
     ]
    }
   ],
   "source": [
    "print(lda_model_1.print_topics(num_topics=2, num_words=5))\n"
   ]
  },
  {
   "cell_type": "markdown",
   "metadata": {},
   "source": [
    "Looks stupid. Lets try after preprocessing the corpus"
   ]
  },
  {
   "cell_type": "markdown",
   "metadata": {},
   "source": [
    "Lets convert list into string so that we can do preprocessing with it"
   ]
  },
  {
   "cell_type": "code",
   "execution_count": 33,
   "metadata": {},
   "outputs": [],
   "source": [
    "#Takes a list s and keeps joining every word in them\n",
    "def listToString(s):  \n",
    "    \n",
    "    # initialize an empty string \n",
    "    str1 = \" \"  \n",
    "\n",
    "    # return string   \n",
    "    return str1.join(s)  "
   ]
  },
  {
   "cell_type": "code",
   "execution_count": 34,
   "metadata": {},
   "outputs": [],
   "source": [
    "#listToString(corpus[0])"
   ]
  },
  {
   "cell_type": "code",
   "execution_count": 35,
   "metadata": {},
   "outputs": [],
   "source": [
    "import string\n",
    "from nltk.corpus import stopwords\n",
    "\n",
    "stopwords = set(stopwords.words('english'))\n",
    "no_punct = set(string.punctuation)\n",
    "lemma_obj = WordNetLemmatizer()\n",
    "\n",
    "def preprocess(document):\n",
    "    #Each document is a list. We need to convert it to string before we can run any string functions on them.\n",
    "    no_stopwords = \" \".join([i for i in listToString(document).lower().split() if i not in stopwords])\n",
    "    no_punctuation = ''.join(ch for ch in no_stopwords if ch not in no_punct)\n",
    "    lemmatized = \" \".join(lemma_obj.lemmatize(word) for word in no_punctuation.split())\n",
    "    return lemmatized\n",
    "\n",
    "final_corpus = [preprocess(document).split() for document in corpus]"
   ]
  },
  {
   "cell_type": "code",
   "execution_count": 36,
   "metadata": {},
   "outputs": [],
   "source": [
    "dictionary = corpora.Dictionary(final_corpus)\n",
    "\n",
    "DocTerm_matrix = [dictionary.doc2bow(doc) for doc in corpus]\n",
    "\n",
    "Lda_object = gensim.models.ldamodel.LdaModel\n",
    "\n",
    "lda_model_2 = Lda_object(DocTerm_matrix, num_topics=2, id2word = dictionary)"
   ]
  },
  {
   "cell_type": "code",
   "execution_count": 37,
   "metadata": {},
   "outputs": [
    {
     "name": "stdout",
     "output_type": "stream",
     "text": [
      "[(0, '0.068*\"thy\" + 0.061*\"pipe\" + 0.054*\"happy\" + 0.051*\"hear\" + 0.044*\"wept\"'), (1, '0.044*\"piped\" + 0.043*\"hear\" + 0.039*\"happy\" + 0.036*\"cheer\" + 0.035*\"may\"')]\n"
     ]
    }
   ],
   "source": [
    "print(lda_model_2.print_topics(num_topics=2, num_words=5))\n"
   ]
  },
  {
   "cell_type": "markdown",
   "metadata": {},
   "source": [
    "Very poetic! Of course it would be if Shakespeare is the writer. As an assignment let's try with some other text books in gutenberg"
   ]
  },
  {
   "cell_type": "markdown",
   "metadata": {},
   "source": [
    "So here is what we learnt in this notebook:"
   ]
  },
  {
   "cell_type": "code",
   "execution_count": 38,
   "metadata": {},
   "outputs": [],
   "source": [
    "#Lets try some other corpus. Feel free to add cells"
   ]
  },
  {
   "cell_type": "code",
   "execution_count": null,
   "metadata": {},
   "outputs": [],
   "source": []
  },
  {
   "cell_type": "code",
   "execution_count": null,
   "metadata": {},
   "outputs": [],
   "source": []
  },
  {
   "cell_type": "markdown",
   "metadata": {},
   "source": [
    "- Text Pre-processing\n",
    "- Frequency Distribution Plot\n",
    "- Lexical Dispersion Plot\n",
    "- POS Tagging and NER\n"
   ]
  },
  {
   "cell_type": "code",
   "execution_count": null,
   "metadata": {},
   "outputs": [],
   "source": []
  }
 ],
 "metadata": {
  "kernelspec": {
   "display_name": "Python 3",
   "language": "python",
   "name": "python3"
  },
  "language_info": {
   "codemirror_mode": {
    "name": "ipython",
    "version": 3
   },
   "file_extension": ".py",
   "mimetype": "text/x-python",
   "name": "python",
   "nbconvert_exporter": "python",
   "pygments_lexer": "ipython3",
   "version": "3.7.3"
  }
 },
 "nbformat": 4,
 "nbformat_minor": 2
}
