{
 "cells": [
  {
   "cell_type": "markdown",
   "metadata": {},
   "source": [
    "In this project, we recall our web scraping and perform clustering. We are testing if clustering have a good grouping power. We try to get data of few cuisines. \n",
    "\n",
    "PS: Follow this project with the corresponding appendix "
   ]
  },
  {
   "cell_type": "code",
   "execution_count": 1,
   "metadata": {},
   "outputs": [],
   "source": [
    "#First, import libraries as needed\n",
    "import string\n",
    "from lxml import html\n",
    "import requests"
   ]
  },
  {
   "cell_type": "markdown",
   "metadata": {},
   "source": [
    "Altogether we have 4 different type of groups. Here we are trying to cluster south-east asian (the first four) and asian lunch/buffet (the next four after that), scandinavian buffet(next four after asian) and cafe (Final four).  Lets see what result we get.\n",
    "\n",
    "We are this time scraping review data from Yelp site. "
   ]
  },
  {
   "cell_type": "code",
   "execution_count": 2,
   "metadata": {},
   "outputs": [],
   "source": [
    "cuisines = ['mountain-helsinki-2',\n",
    "'mount-everest-helsinki-2',\n",
    "'india-house-helsinki',\n",
    "'samrat-helsinki-2',\n",
    "\n",
    "'lemon-grass-helsinki',\n",
    "'korea-house-helsinki',\n",
    "'hoku-helsinki',\n",
    "'new-bamboo-center-helsinki',\n",
    "\n",
    "'konstan-möljä-helsinki',\n",
    "'ravintola-kuukuu-helsinki-2',\n",
    "'sea-horse-helsinki',\n",
    "'pompier-helsinki',\n",
    "\n",
    "'karl-fazer-café-helsinki-2',\n",
    "'johan-ja-nyström-helsinki-2',\n",
    "'sävy-helsinki-2',\n",
    "'good-life-coffee-helsinki']\n",
    "\n",
    "#create a base url that will iterate later with the unique url segments we have in our CUISINES list\n",
    "base_urls = [ 'http://www.yelp.com/biz/%s' % s for s in cuisines]\n",
    "reviews_per_page = 20 # Number of reviews we want for each page\n",
    "order_sequence = range(0, (reviews_per_page+1), 40) #range to grab reviews from each page"
   ]
  },
  {
   "cell_type": "code",
   "execution_count": 3,
   "metadata": {},
   "outputs": [],
   "source": [
    "import string\n",
    "i=0 \n",
    "#start iteration of urls using the base_url and unique segments\n",
    "for url in base_urls:\n",
    "    for os in order_sequence:\n",
    "        page = requests.get(url + (\"?start=%s\" % os))\n",
    "        tree = html.fromstring(page.text)\n",
    "        \n",
    "        # this will make a list of all the reviews\n",
    "        reviews = tree.xpath('//p[@itemprop=\"description\"]/text()')\n",
    "        review_list = []\n",
    "        for review in reviews:\n",
    "            rev_list = \"\".join(filter(lambda x: x in string.printable, review)) # type is str\n",
    "            rev_list = rev_list.replace(\",\",\":\")\n",
    "            rev_list = rev_list.replace(\"\\'\",\"\")\n",
    "            review_list.append(rev_list) \n",
    "        \n",
    "    # this will make one text file for each restaurant with their reviews\n",
    "    with open(str(cuisines[i])+\".txt\", 'w') as f:\n",
    "        f.write(\"\\n\".join(map(lambda x: str(x), review_list)))\n",
    "        i+=1\n",
    "        f.close()"
   ]
  },
  {
   "cell_type": "code",
   "execution_count": 16,
   "metadata": {},
   "outputs": [],
   "source": [
    "with open('../restaurant_cuisines.txt', 'w', encoding='ISO 8859-1') as restaurant_file:\n",
    "    for item in cuisines:\n",
    "        restaurant_file.writelines(\"%s\\n\" % item)\n",
    "    "
   ]
  },
  {
   "cell_type": "code",
   "execution_count": 17,
   "metadata": {},
   "outputs": [],
   "source": [
    "\n",
    "#Start making a dendrogram that will show similarities of the restaurants\n",
    "import numpy as np\n",
    "import pandas as pd\n",
    "import nltk\n",
    "from bs4 import BeautifulSoup\n",
    "import re\n",
    "import os\n",
    "import codecs\n",
    "from sklearn import feature_extraction\n",
    "import mpld3\n",
    "import glob"
   ]
  },
  {
   "cell_type": "code",
   "execution_count": 18,
   "metadata": {},
   "outputs": [],
   "source": [
    "# read file (reading with \"With\" closes the file automatically)\n",
    "with open('../restaurant_cuisines.txt', encoding='ISO 8859-1') as res:\n",
    "\n",
    "    # read the file and then splitlines removes \\n and then converts to list\n",
    "    hel_restaurants = res.read().splitlines()\n",
    "    #print(hel_restaurants)\n",
    "\n",
    "# add suffix .txt so that it can be compared with valid text files (using glob)\n",
    "pre_hel_restaurants = [x+'.txt' for x in hel_restaurants]\n",
    "#print(pre_hel_restaurants)\n",
    "\n",
    "# list for storing all files review data \n",
    "all_restaurants_reviews = []\n",
    "\n",
    "\n",
    "# use the glob for reading each files in the directory with a file pattern of .txt\n",
    "for file in glob.glob('*.txt'):      \n",
    "    with open(file, encoding='ISO 8859-1') as readFile:\n",
    "        all_restaurants_reviews.append(readFile.read().replace(\"\\n\", \" \"))\n",
    "#print(all_files_reviews)"
   ]
  },
  {
   "cell_type": "code",
   "execution_count": 19,
   "metadata": {},
   "outputs": [],
   "source": [
    "cleaned_rev = []\n",
    "for text in all_restaurants_reviews:\n",
    "    text = BeautifulSoup(text, 'html.parser').getText()\n",
    "    #strips html formatting and converts to unicode\n",
    "    cleaned_rev.append(text)\n",
    "    # Check the result"
   ]
  },
  {
   "cell_type": "code",
   "execution_count": 20,
   "metadata": {},
   "outputs": [],
   "source": [
    "stopwords = nltk.corpus.stopwords.words('english')\n",
    "\n",
    "# I will stem the words to reduce the feature set\n",
    "\n",
    "from nltk.stem import WordNetLemmatizer\n",
    "wnl = WordNetLemmatizer()\n",
    "\n",
    "# Define a function that will tokenize and stem text\n",
    "\n",
    "def tokenize_and_lemmatize(text):\n",
    "    # first tokenize by sentence, then by word to ensure that punctuation is caught as it's own token\n",
    "    tokens = [word for sent in nltk.sent_tokenize(text) for word in nltk.word_tokenize(sent)]\n",
    "    filtered_tokens = []\n",
    "    # filter out any tokens not containing letters (e.g., numeric tokens, raw punctuation)\n",
    "    for token in tokens:\n",
    "        if re.search('[a-zA-Z]', token):\n",
    "            filtered_tokens.append(token)\n",
    "    lemms = [wnl.lemmatize(t) for t in filtered_tokens]\n",
    "    return lemms\n",
    "\n",
    "totalvocab_lemmatized = []\n",
    "\n",
    "for s in cleaned_rev:\n",
    "    allwords_lemmatize = tokenize_and_lemmatize(s)\n",
    "    totalvocab_lemmatized.extend(allwords_lemmatize)"
   ]
  },
  {
   "cell_type": "markdown",
   "metadata": {},
   "source": [
    "#### N-Gram (Also see the appendix section to understand it properly)\n",
    "\n",
    "N-Gram in NLP refers to a sequence of words (or letters) in a sentence. It is used in NLP to identify letters or words that frequently appear adjacent to one another. N-Gram can be used for predictive text input (in your mobile keypad,do u observe some magical word predictions ?) and in Speech-to-Text generation as well (try converting your speech into text using google assistant).\n",
    "\n",
    "Try this fun game:\n",
    "\n",
    "- Try typing any word like this/that/his/her/I etc on your mobile/tablet device and then just follow the suggestion. See if you end up with a meaningful sentence finally. "
   ]
  },
  {
   "cell_type": "markdown",
   "metadata": {},
   "source": [
    "Now time to think:\n",
    "\n",
    "- Do you think n-grams could be used for sentiment analysis ? Here we are going to use it in case of clustering (Why would it improve our results ?). "
   ]
  },
  {
   "cell_type": "code",
   "execution_count": 21,
   "metadata": {},
   "outputs": [
    {
     "name": "stderr",
     "output_type": "stream",
     "text": [
      "C:\\Users\\tranq\\Anaconda3\\lib\\site-packages\\sklearn\\feature_extraction\\text.py:300: UserWarning: Your stop_words may be inconsistent with your preprocessing. Tokenizing the stop words generated tokens ['ha', 'le', 'u', 'wa'] not in stop_words.\n",
      "  'stop_words.' % sorted(inconsistent))\n"
     ]
    },
    {
     "name": "stdout",
     "output_type": "stream",
     "text": [
      "Wall time: 306 ms\n",
      "(16, 372)\n"
     ]
    }
   ],
   "source": [
    "#define vectorizer parameters\n",
    "from sklearn.feature_extraction.text import TfidfVectorizer\n",
    "\n",
    "#https://scikit-learn.org/stable/modules/generated/sklearn.feature_extraction.text.TfidfVectorizer.html\n",
    "tfidf_vectorizer = TfidfVectorizer(max_df=0.8, max_features=200000,\n",
    "                                 min_df=0.2, stop_words='english',\n",
    "                                 use_idf=True, tokenizer=tokenize_and_lemmatize, ngram_range=(1,3))\n",
    "\n",
    "%time tfidf_matrix = tfidf_vectorizer.fit_transform(cleaned_rev) #fit the vectorizer to clean reviews\n",
    "\n",
    "print(tfidf_matrix.shape)"
   ]
  },
  {
   "cell_type": "code",
   "execution_count": 22,
   "metadata": {},
   "outputs": [
    {
     "data": {
      "text/plain": [
       "['absolutely',\n",
       " 'actually',\n",
       " 'add',\n",
       " 'almond',\n",
       " 'amazing',\n",
       " 'ambiance',\n",
       " 'appetizer',\n",
       " 'area',\n",
       " 'ask',\n",
       " 'asked']"
      ]
     },
     "execution_count": 22,
     "metadata": {},
     "output_type": "execute_result"
    }
   ],
   "source": [
    "terms = tfidf_vectorizer.get_feature_names()\n",
    "terms[:10]"
   ]
  },
  {
   "cell_type": "code",
   "execution_count": 23,
   "metadata": {},
   "outputs": [
    {
     "name": "stdout",
     "output_type": "stream",
     "text": [
      "Total vocabulary:  17886 Terms used in the TF-IDF matrix:  372\n"
     ]
    }
   ],
   "source": [
    "print(\"Total vocabulary: \", len(totalvocab_lemmatized), \"Terms used in the TF-IDF matrix: \", len(terms))\n"
   ]
  },
  {
   "cell_type": "code",
   "execution_count": 24,
   "metadata": {},
   "outputs": [],
   "source": [
    "from sklearn.metrics.pairwise import cosine_similarity\n",
    "dist = 1 - cosine_similarity(tfidf_matrix)"
   ]
  },
  {
   "cell_type": "code",
   "execution_count": 25,
   "metadata": {},
   "outputs": [],
   "source": [
    "restnames = np.array(hel_restaurants)\n",
    "#len(restnames)"
   ]
  },
  {
   "cell_type": "code",
   "execution_count": 26,
   "metadata": {},
   "outputs": [
    {
     "data": {
      "image/png": "[encoded data removed]",
      "text/plain": [
       "<Figure size 1080x1440 with 1 Axes>"
      ]
     },
     "metadata": {
      "needs_background": "light"
     },
     "output_type": "display_data"
    },
    {
     "data": {
      "text/plain": [
       "<Figure size 432x288 with 0 Axes>"
      ]
     },
     "metadata": {},
     "output_type": "display_data"
    }
   ],
   "source": [
    "%matplotlib inline\n",
    "\n",
    "import matplotlib.pyplot as plt\n",
    "from scipy.cluster.hierarchy import ward, dendrogram\n",
    "\n",
    "linkage_matrix = ward(dist) #define the linkage_matrix using ward clustering pre-computed distances\n",
    "\n",
    "fig, ax = plt.subplots(figsize=(15, 20)) # set size\n",
    "ax = dendrogram(linkage_matrix, orientation=\"right\", labels=restnames);\n",
    "\n",
    "#Check out the documentation and the parameters used. Feel free to play with them\n",
    "#https://matplotlib.org/api/_as_gen/matplotlib.pyplot.tick_params.html\n",
    "plt.tick_params(\\\n",
    "    axis= 'x',          # changes apply to the x-axis\n",
    "    which='both',      # both major and minor ticks are affected\n",
    "    bottom='off',      # ticks along the bottom edge are off\n",
    "    top='off',         # ticks along the top edge are off\n",
    "    labelbottom='off')\n",
    "\n",
    "plt.tight_layout() #show plot with tight layout\n",
    "\n",
    "plt.show()\n",
    "#uncomment below to save figure\n",
    "plt.savefig('ward_clusters.png', dpi=200) \n",
    "#save figure as ward_clusters\n"
   ]
  },
  {
   "cell_type": "markdown",
   "metadata": {},
   "source": [
    "#### Do restaurantas offering the same cuisine cluster together? \n",
    "\n",
    "Based on our dendogram, it appears that restaurants offering the same cuisine for the most part cluster together. However, there is one exception. A dendogram looks at distances between data points on the y axis, which is based upon height and proximity. It first looks at one point closer to another, and then determines the distance between other seperate clusters. Here, we can scroll down to the pakastani/indian restaurants in green, and see that Nordic Preserves Fish and Wildlife Company cluster together in the same group, over being grouped with the other scandinavian restaurants. This is very interesting because these cuisines would probably be considered very different from each other. In addition, the clustering with the korean restaurants also appears to have some form of proximity/similarities, with the scandinavian restaurants. This is depicted in the bigger blue cluster connecting the two clusters together (macro-cluster). Overall, however, the sames cuisines cluster together."
   ]
  },
  {
   "cell_type": "markdown",
   "metadata": {},
   "source": [
    "Task: Try also scraping restaurants from four countries (four in total, one from each unique country) from this list:\n",
    "- Turkey, Iraq, Iran, Georgia, Syria, Egypt, Greece\n",
    "\n",
    "You can use London or New York as city. Thus you can have more text data that the algorithm can work on and we may have better result. Observe the result. After that answer: Why did I select the above countries only.         \n",
    "        "
   ]
  },
  {
   "cell_type": "markdown",
   "metadata": {},
   "source": [
    "Reference:\n",
    "\n",
    "https://github.com/chantelmariediaz/Scraping-Yelp-with-Python/blob/master/Clustering%2BCuisines%2BYelp%2BScrape%2BReviews%2B-%2BChantel%2BDiaz.ipynb    "
   ]
  },
  {
   "cell_type": "markdown",
   "metadata": {},
   "source": [
    "Further, You might also try following the article on how to implement recommendation system:\n",
    "\n",
    "https://towardsdatascience.com/build-your-own-clustering-based-recommendation-engine-in-15-minutes-bdddd591d394 \n",
    "\n",
    "We have already implemented a recommender system in preceeding exercise, which performs better recommendation than clustering algorithms. But you may try implementing a recommender system of your own using clustering and figure out which performs better. "
   ]
  },
  {
   "cell_type": "markdown",
   "metadata": {},
   "source": [
    "#### Where to go from Here ? \n"
   ]
  },
  {
   "cell_type": "markdown",
   "metadata": {},
   "source": [
    "Now I am sure that you must have reached a level that you can follow this article and try something meaningful project like this by yourself :\n",
    "\n",
    "http://brandonrose.org/clustering"
   ]
  },
  {
   "cell_type": "markdown",
   "metadata": {},
   "source": [
    "Go through this article as well. Dont bother about its implementation and some extra data analysis they are doing using SAS. Just go through the article quickly and see what interesting things can be done using text mining. \n",
    "\n",
    "https://www.researchgate.net/publication/279530493_Alien_Nation_Text_Analysis_of_UFO_Sightings_in_the_US_Using_SASR_Enterprise_Miner_131_by_Pradeep_Reddy_Kalakota_Naresh_Abburi_Zabiulla_Mohammed_and_Goutam_Chakraborty"
   ]
  },
  {
   "cell_type": "code",
   "execution_count": null,
   "metadata": {},
   "outputs": [],
   "source": []
  }
 ],
 "metadata": {
  "kernelspec": {
   "display_name": "Python 3",
   "language": "python",
   "name": "python3"
  },
  "language_info": {
   "codemirror_mode": {
    "name": "ipython",
    "version": 3
   },
   "file_extension": ".py",
   "mimetype": "text/x-python",
   "name": "python",
   "nbconvert_exporter": "python",
   "pygments_lexer": "ipython3",
   "version": "3.7.3"
  }
 },
 "nbformat": 4,
 "nbformat_minor": 2
}
